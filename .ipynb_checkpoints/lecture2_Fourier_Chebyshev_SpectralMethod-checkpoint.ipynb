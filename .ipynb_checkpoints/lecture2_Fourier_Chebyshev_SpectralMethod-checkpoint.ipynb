{
 "cells": [
  {
   "cell_type": "markdown",
   "id": "taken-listening",
   "metadata": {},
   "source": [
    "# 第2回のコード\n",
    "\n",
    "資料はMATLABコードだが、ここではJuliaでの実装をする。\n",
    "\n",
    "Chebyshev(-Lobatto) pointsは次のように複素平面上の単位円の上半分を$n$等分した点の実部で得られる。なおこのコードの実行の前に以下のパッケージをインストールする必要がある。\n",
    "\n",
    "```\n",
    "using Pkg\n",
    "Pkg.add(\"IJulia\")\n",
    "Pkg.add(\"Plots\")\n",
    "Pkg.add(\"ApproxFun\")\n",
    "Pkg.add(\"SpecialFunctions\")\n",
    "Pkg.add(\"LaTexStrings\")\n",
    "Pkg.add(\"FFTW\")\n",
    "\n",
    "```"
   ]
  },
  {
   "cell_type": "code",
   "execution_count": null,
   "id": "therapeutic-controversy",
   "metadata": {},
   "outputs": [],
   "source": [
    "using Plots\n",
    "n = 10\n",
    "tt = range(0, stop=π, length=n+1)\n",
    "zz = exp.(im * tt)\n",
    "plot(zz,\n",
    "    xlabel     = \"real part\",                            # X軸のラベル\n",
    "    ylabel     = \"imaginary part\",                       # Y軸のラベル\n",
    "    ylims      = (-0.05,1.05),                           # Y軸の範囲\n",
    "    line       = 3,                                      # 線幅\n",
    "    title      = \"Equispaced points on the unit circle\", # タイトル\n",
    "    size       = (720,400),                              # プロットのサイズ\n",
    "    legend     = false,                                  # 凡例は今回は消す\n",
    ")\n",
    "scatter!(zz)"
   ]
  },
  {
   "cell_type": "code",
   "execution_count": null,
   "id": "binding-istanbul",
   "metadata": {},
   "outputs": [],
   "source": [
    "xx = real(zz)\n",
    "# j = 2\n",
    "for j = 2:n\n",
    "    plot!([xx[j];zz[j]],\n",
    "        line = 2,\n",
    "        color = 1,\n",
    "        title      = \"Chebyshev points\",\n",
    "    )\n",
    "end\n",
    "scatter!(xx.+0im)"
   ]
  },
  {
   "cell_type": "markdown",
   "id": "certain-lawrence",
   "metadata": {},
   "source": [
    "Chebyshev点上と$n$次Chebyshev多項式を重ねてみると、Chebyshev点上でChebyshev多項式は極値をとる。"
   ]
  },
  {
   "cell_type": "code",
   "execution_count": null,
   "id": "coupled-yield",
   "metadata": {},
   "outputs": [],
   "source": [
    "using ApproxFun\n",
    "a = Fun(Chebyshev(),[zeros(n);1.])\n",
    "plot!(a,-1,1,\n",
    "    line = 2,\n",
    "    color = 2,\n",
    "    title      = \"Chebyshev points vs Chebyshev polynomials\",\n",
    "    ylims      = (-1.05,1.05),                           # Y軸の範囲\n",
    ")"
   ]
  },
  {
   "cell_type": "markdown",
   "id": "circular-associate",
   "metadata": {},
   "source": [
    "次のコードはChebyshev級数の計算方法の一例になる。\n",
    "\n",
    "$$\n",
    "    f(x) = \\exp(\\mathrm{erf}(x^2)+x^5)\\sin(5\\pi x) + x\n",
    "$$\n",
    "\n",
    "として"
   ]
  },
  {
   "cell_type": "code",
   "execution_count": null,
   "id": "registered-curtis",
   "metadata": {},
   "outputs": [],
   "source": [
    "using SpecialFunctions, LaTeXStrings\n",
    "# x = Fun(identity,Chebyshev(0..1))\n",
    "fc = Fun(x->exp(erf(x^2)+x.^5).*sin(5*pi*x) + x,Chebyshev(0..1))\n",
    "n = ncoefficients(fc) - 1\n",
    "# \n",
    "plot(fc,\n",
    "    xlabel     = \"\\$x\\$\",\n",
    "    ylabel     = \"\\$f(x)\\$\",\n",
    "    line       = 3,\n",
    "    title      = \"\\$f(x) = \\\\exp(\\\\mathrm{erf}(x^2)+x^5)\\\\sin(5\\\\pi x) + x\\$\", # タイトル\n",
    "    size       = (720,400),\n",
    "    legend     = false,\n",
    ")\n",
    "# cpts = points(Chebyshev(0..1),n)\n",
    "# cpts = points(fc)\n",
    "function chebpts(n, t1, t2)\n",
    "    tt = range(0, stop=π, length=n+1)\n",
    "    zz = exp.(im * tt)\n",
    "    xx = real(zz)\n",
    "    return (1. .- xx).*t1./2 + (1. .- xx).*t2./2\n",
    "end\n",
    "cpts = chebpts(n,0,1)\n",
    "fvals = fc.(cpts)\n",
    "scatter!(cpts,fvals)"
   ]
  },
  {
   "cell_type": "markdown",
   "id": "organic-summer",
   "metadata": {},
   "source": [
    "Chebyshev点における関数値からChebyshev級数の係数を計算する。"
   ]
  },
  {
   "cell_type": "code",
   "execution_count": null,
   "id": "stylish-halifax",
   "metadata": {},
   "outputs": [],
   "source": [
    "using FFTW\n",
    "# \n",
    "valsUnitDisc = [fvals; reverse(fvals[2:end-1])]\n",
    "FourierCoeffs = real(fft(valsUnitDisc))\n",
    "ChebCoeffs = FourierCoeffs[1:n+1]/n\n",
    "ChebCoeffs[1] = ChebCoeffs[1]/2\n",
    "ChebCoeffs[end] = ChebCoeffs[end]/2\n",
    "# \n",
    "reshape([ChebCoeffs; coefficients(fc)],n+1,2)"
   ]
  },
  {
   "cell_type": "code",
   "execution_count": null,
   "id": "herbal-assault",
   "metadata": {},
   "outputs": [],
   "source": [
    "S = Chebyshev(0..1)\n",
    "p = points(S,n+1)\n",
    "v = exp.(erf.(p.^2) .+ p.^5) .* sin.( 5π.*p) .+ p\n",
    "f = Fun(S,ApproxFun.transform(S,v))\n",
    "reshape([ChebCoeffs; coefficients(fc); coefficients(f)],n+1,3)"
   ]
  }
 ],
 "metadata": {
  "kernelspec": {
   "display_name": "Julia 1.6.0",
   "language": "julia",
   "name": "julia-1.6"
  },
  "language_info": {
   "file_extension": ".jl",
   "mimetype": "application/julia",
   "name": "julia",
   "version": "1.6.0"
  }
 },
 "nbformat": 4,
 "nbformat_minor": 5
}
