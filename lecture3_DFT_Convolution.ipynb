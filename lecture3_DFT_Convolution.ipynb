{
 "cells": [
  {
   "cell_type": "markdown",
   "id": "becoming-abortion",
   "metadata": {},
   "source": [
    "# 第3回のコード\n",
    "\n",
    "資料はMATLABコードだが、ここではJuliaでの実装をする。\n",
    "\n",
    "なおこのコードの実行の前に以下のパッケージをインストールする必要がある。\n",
    "\n",
    "```\n",
    "using Pkg\n",
    "Pkg.add(\"IJulia\")\n",
    "Pkg.add(\"Plots\")\n",
    "Pkg.add(\"ApproxFun\")\n",
    "Pkg.add(\"SpecialFunctions\")\n",
    "Pkg.add(\"LaTeXStrings\")\n",
    "Pkg.add(\"FFTW\")\n",
    "\n",
    "```"
   ]
  },
  {
   "cell_type": "markdown",
   "id": "fitting-infrared",
   "metadata": {},
   "source": [
    "## Aliasing errors"
   ]
  },
  {
   "cell_type": "code",
   "execution_count": null,
   "id": "involved-credits",
   "metadata": {
    "scrolled": false
   },
   "outputs": [],
   "source": [
    "using Plots\n",
    "\n",
    "f₁ = x->sin(π*x)\n",
    "f₂ = x->sin(9π*x)\n",
    "\n",
    "plot(f₁,-1,1,\n",
    "    line       = 2,\n",
    "    size       = (720,400),\n",
    "    legend     = false,\n",
    ")\n",
    "\n",
    "plot!(f₂,-1,1,line=2)"
   ]
  },
  {
   "cell_type": "code",
   "execution_count": null,
   "id": "removed-terror",
   "metadata": {
    "scrolled": false
   },
   "outputs": [],
   "source": [
    "x = -1:0.25:1\n",
    "scatter!(x,f₁.(x))"
   ]
  },
  {
   "cell_type": "markdown",
   "id": "tested-appliance",
   "metadata": {},
   "source": [
    "## Compute the convolution by FFT algorithm"
   ]
  },
  {
   "cell_type": "code",
   "execution_count": null,
   "id": "hollywood-capitol",
   "metadata": {
    "scrolled": false
   },
   "outputs": [],
   "source": [
    "# using SpecialFunctions\n",
    "# f = t -> exp(-erf(t^2)+(t-1)^3)\n",
    "using Plots\n",
    "f = x -> exp(-(100*(x-0.5)^2))\n",
    "plot(f,-1,1,\n",
    "    line       = 2,\n",
    "    size       = (720,400),\n",
    "    legend     = false,\n",
    ")"
   ]
  },
  {
   "cell_type": "code",
   "execution_count": null,
   "id": "super-masters",
   "metadata": {},
   "outputs": [],
   "source": [
    "using ApproxFun, FFTW\n",
    "fc = Fun(f)\n",
    "M = ncoefficients(fc)\n",
    "c = coefficients(fc) # Chebyshev coefficient\n",
    "a = [reverse(0.5*c[2:end]); c[1]; 0.5*c[2:end]]# Fourier coefficient\n",
    "\n",
    "p = 19\n",
    "N = (p-1)*M\n",
    "ta = [zeros(N,1);a;zeros(N,1)] # 1. Padding zeros\n",
    "tb = ifft(ifftshift(ta)) # 2. IFFT of ta\n",
    "tbᵖ = tb.^p # 3. tb*^tb\n",
    "cᵖ = real(fftshift(fft(tbᵖ))*(2.0*p*M-1)^(p-1)) # 4. FFT of tb2\n",
    "cᵖ_c = [cᵖ[N+M]; 2*cᵖ[N+M+1:N+M+p*(M-1)]]# Take Chebyshev coefficient\n",
    "\n",
    "ff = Fun(Chebyshev(),cᵖ_c)\n",
    "plot!(ff,line=2)"
   ]
  },
  {
   "cell_type": "code",
   "execution_count": null,
   "id": "postal-camping",
   "metadata": {},
   "outputs": [],
   "source": [
    "using LinearAlgebra\n",
    "fᵖ = fc^p\n",
    "norm(cᵖ_c[1:ncoefficients(fᵖ)]-coefficients(fᵖ),1)"
   ]
  },
  {
   "cell_type": "code",
   "execution_count": null,
   "id": "corporate-herald",
   "metadata": {},
   "outputs": [],
   "source": [
    "function plotcoeffs(f)\n",
    "    plot(0:ncoefficients(f)-1, abs.(coefficients(f)),\n",
    "        yscale=:log10,\n",
    "        title=\"Chebyshev coefficients\",\n",
    "        xlabel=\"Degree of Chebyshev polynomial\",\n",
    "        ylabel=\"Magnitude of coefficient\",\n",
    "        size       = (720,400),\n",
    "        legend     = false,\n",
    "    )\n",
    "end\n",
    "plotcoeffs(fᵖ)"
   ]
  },
  {
   "cell_type": "code",
   "execution_count": null,
   "id": "different-chart",
   "metadata": {},
   "outputs": [],
   "source": [
    "zero_ind = findall(x->x==0, cᵖ_c)\n",
    "cᵖ_c[zero_ind] .= cᵖ_c[zero_ind.+1]\n",
    "plot!(0:length(cᵖ_c)-1, abs.(cᵖ_c),\n",
    "    yscale=:log10,\n",
    "    xlims=(-0.5,ncoefficients(fᵖ)+5),\n",
    ")"
   ]
  },
  {
   "cell_type": "markdown",
   "id": "critical-standard",
   "metadata": {},
   "source": [
    "## Application: residual of an approximate solution by ApproxFun"
   ]
  },
  {
   "cell_type": "code",
   "execution_count": null,
   "id": "advance-maryland",
   "metadata": {},
   "outputs": [],
   "source": [
    "using ApproxFun\n",
    "tmax = 10\n",
    "p = 5\n",
    "r = 3\n",
    "x  = Fun(identity, 0..tmax)\n",
    "u₀ = 0.5x # initial guess\n",
    "N = u -> [u(0)-0.5, u' - u + u^p - u^r]\n",
    "u = newton(N, u₀) # perform Newton iteration in function space\n",
    "plot(u,\n",
    "    title=\"Approximate solution by ApproxFun.jl\",\n",
    "    xlabel=\"\\$t\\$\",\n",
    "    ylabel=\"\\$u(t)\\$\",\n",
    "    size       = (720,400),\n",
    "    legend     = false,\n",
    ")"
   ]
  },
  {
   "cell_type": "code",
   "execution_count": null,
   "id": "killing-allen",
   "metadata": {},
   "outputs": [],
   "source": [
    "function convp(c,p)\n",
    "    M = length(c)\n",
    "    a = [reverse(0.5*c[2:end]); c[1]; 0.5*c[2:end]]# Fourier coefficient\n",
    "    N = (p-1)*M\n",
    "    ta = [zeros(N,1);a;zeros(N,1)] # 1. Padding zeros\n",
    "    tb = ifft(ifftshift(ta)) # 2. IFFT of ta\n",
    "    tbᵖ = tb.^p # 3. tb*^tb\n",
    "    cᵖ = real(fftshift(fft(tbᵖ))*(2.0*p*M-1)^(p-1)) # 4. FFT of tb2\n",
    "    return [cᵖ[N+M]; 2*cᵖ[N+M+1:N+M+p*(M-1)]]# return Chebyshev coefficient\n",
    "end\n",
    "\n",
    "function ChebDerCoeffs(c)\n",
    "# NOTE: remind dividing by the rescaling factor (tmax/2)!\n",
    "    size_of_c = size(c)\n",
    "    if length(size_of_c) > 1\n",
    "        n, m = size_of_c\n",
    "    else\n",
    "        n = size_of_c[1]; m=1\n",
    "    end\n",
    "    cout = zeros(n-1, m)\n",
    "    w = repeat(2.0*(1:n-1), 1, m)\n",
    "    v = w.*c[2:end,:]\n",
    "    cout[n-1:-2:1,:] = cumsum(v[n-1:-2:1,:],dims=1)\n",
    "    cout[n-2:-2:1,:] = cumsum(v[n-2:-2:1,:],dims=1)\n",
    "    cout[1,:] = .5*cout[1,:]\n",
    "    return cout\n",
    "end"
   ]
  },
  {
   "cell_type": "code",
   "execution_count": null,
   "id": "handled-rally",
   "metadata": {},
   "outputs": [],
   "source": [
    "uc = coefficients(u)\n",
    "M = ncoefficients(u)\n",
    "N = (p-1)*M\n",
    "\n",
    "ucᵖ = convp(uc,p)\n",
    "ucʳ = convp(uc,r)\n",
    "\n",
    "if p >= r\n",
    "    L = length(ucᵖ)-length(ucʳ)\n",
    "    ucʳ = [ucʳ; zeros(L)]\n",
    "else\n",
    "    L = length(ucʳ)-length(ucᵖ)\n",
    "    ucᵖ = [ucᵖ; zeros(L)]    \n",
    "end\n"
   ]
  },
  {
   "cell_type": "code",
   "execution_count": null,
   "id": "earned-argument",
   "metadata": {},
   "outputs": [],
   "source": [
    "#### \n",
    "# Differentiate the Chebyshev series by Chebfun\n",
    "du = differentiate(u)\n",
    "duc = coefficients(du)\n",
    "duc = [duc; zeros((p-1)*(M-1)+1,1)]\n",
    "# Differentiate the Chebyshev series by coefficients\n",
    "rescaleFactork = tmax/2.0\n",
    "duc2 = ChebDerCoeffs(uc)/rescaleFactork\n",
    "duc2 = [duc2; zeros((p-1)*(M-1)+1)]\n",
    "norm(duc-duc2,1)\n",
    "# reshape([duc;duc2],length(duc),2)"
   ]
  },
  {
   "cell_type": "code",
   "execution_count": null,
   "id": "infinite-collector",
   "metadata": {},
   "outputs": [],
   "source": [
    "uc = [uc;zeros((p-1)*(M-1))]\n",
    "res = duc2 - uc + ucᵖ - ucʳ\n",
    "norm(res,1)"
   ]
  }
 ],
 "metadata": {
  "kernelspec": {
   "display_name": "Julia 1.6.0",
   "language": "julia",
   "name": "julia-1.6"
  },
  "language_info": {
   "file_extension": ".jl",
   "mimetype": "application/julia",
   "name": "julia",
   "version": "1.6.0"
  }
 },
 "nbformat": 4,
 "nbformat_minor": 5
}
