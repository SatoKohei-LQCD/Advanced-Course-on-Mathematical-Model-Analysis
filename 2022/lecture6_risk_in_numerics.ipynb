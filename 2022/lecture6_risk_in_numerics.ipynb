{
 "cells": [
  {
   "cell_type": "markdown",
   "metadata": {},
   "source": [
    "# 数理モデル解析特論 第6回\n",
    "\n",
    "このコードの実行の前に以下のパッケージをインストールする必要がある。\n",
    "\n",
    "```\n",
    "using Pkg\n",
    "Pkg.add(\"IJulia\")\n",
    "Pkg.add(\"Plots\")\n",
    "Pkg.add(\"IntervalArithmetic\")\n",
    "\n",
    "```\n",
    "\n",
    "## 数値計算に潜むリスク\n",
    "\n",
    "- 整数、浮動小数点数\n",
    "- 数値計算に生じる誤差\n",
    "- 区間演算\n",
    "\n",
    "\n",
    "## そもそも数値計算とは？\n",
    "* 数値計算（数値解析）とは…数学の問題を有限桁の浮動小数点数を使って「数値的」に解く．数式処理とは違う\n",
    "* 数値計算でできること，できないこと\n",
    "* 数値計算は誤差との戦い\n",
    "* 整数（integer）と浮動小数点数（binary32/binary64）\n",
    "\n",
    "## 整数型\n",
    "Juliaで整数は\n",
    "\n",
    "|型| 機械内表現 |\n",
    "|:-----------|:----------|\n",
    "| Int8    | 8bit整数  |\n",
    "| Int16    | 16bit整数  |\n",
    "| Int32    | 32bit整数  |\n",
    "| Int64   | 64bit整数 |\n",
    "| Int128   | 128bit整数 |\n",
    "| BigInt   | 任意精度 |\n",
    "\n",
    "\n",
    "のような数値がある．"
   ]
  },
  {
   "cell_type": "code",
   "execution_count": 1,
   "metadata": {},
   "outputs": [
    {
     "data": {
      "text/plain": [
       "10"
      ]
     },
     "execution_count": 1,
     "metadata": {},
     "output_type": "execute_result"
    }
   ],
   "source": [
    "a = Int32(10)"
   ]
  },
  {
   "cell_type": "code",
   "execution_count": 2,
   "metadata": {},
   "outputs": [
    {
     "data": {
      "text/plain": [
       "-2147483648"
      ]
     },
     "execution_count": 2,
     "metadata": {},
     "output_type": "execute_result"
    }
   ],
   "source": [
    "b = Int32(2147483647) + Int32(1)"
   ]
  },
  {
   "cell_type": "code",
   "execution_count": 3,
   "metadata": {},
   "outputs": [
    {
     "data": {
      "text/plain": [
       "2147483647"
      ]
     },
     "execution_count": 3,
     "metadata": {},
     "output_type": "execute_result"
    }
   ],
   "source": [
    "c = typemax(Int32)"
   ]
  },
  {
   "cell_type": "markdown",
   "metadata": {},
   "source": [
    "これからInt32の最大値が2147483647であることがわかり\n",
    "$2^{31}-1=2147483647$\n",
    "である．\n",
    "\n",
    "説明のために32bit整数（Int32）を考えると\n",
    "\n",
    "|ビットパターン | 数値 |\n",
    "|:-----------:|:----------:|\n",
    "|01111111111111111111111111111111 | 2147483647|\n",
    "|00000000000000000000000000000010 | 2|\n",
    "|00000000000000000000000000000001 | 1|\n",
    "|00000000000000000000000000000000 | 0|\n",
    "|11111111111111111111111111111111 | -1|\n",
    "|11111111111111111111111111111110 |-2|\n",
    "|10000000000000000000000000000000 |-2147483648|\n",
    "\n",
    "このような負の数の表現形式を「**2の補数形式**」と呼ぶ．\n",
    "32個の各bitが次のような重みをもっていると考えられる．\n",
    "\n",
    "$$\\fbox{$-2^{31}$}\\fbox{$2^{30}$}\\fbox{$2^{29}$}\\,\\cdots\\fbox{$2^{1}$}\\fbox{$2^{0}$}$$\n",
    "\n",
    "2の補数形式の場合，$n$ビットで $-2^{n-1}$〜$2^{n-1}-1$の範囲の数を表現できる．つまり\n",
    "\n",
    "|型|表現範囲|\n",
    "|:-|:-:|\n",
    "|Int8|-128〜127|\n",
    "|Int16|-32768〜32767|\n",
    "|Int32|-2147483648〜2147483647|\n",
    "|Int64|-9223372036854775808〜9223372036854775807|\n",
    "|Int128|-170141183460469231731687303715884105728〜170141183460469231731687303715884105727|\n",
    "\n",
    "の範囲の整数が表せる．\n"
   ]
  },
  {
   "cell_type": "code",
   "execution_count": 4,
   "metadata": {},
   "outputs": [
    {
     "data": {
      "text/plain": [
       "2147483648"
      ]
     },
     "execution_count": 4,
     "metadata": {},
     "output_type": "execute_result"
    }
   ],
   "source": [
    "2147483647+1"
   ]
  },
  {
   "cell_type": "code",
   "execution_count": 5,
   "metadata": {},
   "outputs": [
    {
     "data": {
      "text/plain": [
       "-9223372036854775808"
      ]
     },
     "execution_count": 5,
     "metadata": {},
     "output_type": "execute_result"
    }
   ],
   "source": [
    "9223372036854775807+1"
   ]
  },
  {
   "cell_type": "markdown",
   "metadata": {},
   "source": [
    "## 浮動小数点数\n",
    "\n",
    "**浮動小数点数**（Float64/double, Float32/float）は，「浮動小数点形式」と呼ばれる形式で表現できる．\n",
    "\n",
    "例えば，「$1234.5$」を「$1.2345\\times 10^3$」のように， 小数点の位置を1番左の数値と左から2番目の数値の間に移動（「正規化」と呼ぶ）し，それに指数を掛けた形式で数を表現する．\n",
    "この「$1.2345$」の部分を「仮数部」，「$10^3$」の部分（厳密には$~^3$）を「指数部」という．\n",
    "\n",
    "浮動小数点数は仮数部の長さ，指数部の長さ，基数が2，10，16など，多様な規格が考えられる．\n",
    "そこで1985年にWilliam Kahanが中心となって\n",
    "\n",
    "[IEEE 754: Standard for Binary Floating-Point Arithmetic](https://ja.wikipedia.org/wiki/IEEE_754)\n",
    "\n",
    "という標準規格が制定された．最近では世に出るハードウェアのほぼ全てがこの規格に従っている．\n",
    "\n",
    "### 倍精度 (Float64/double, binary64)\n",
    "倍精度は，符号（$\\pm$）に1ビット．指数部に11ビット，仮数部に 52ビットを使う．\n",
    "全部で64ビット=8バイトである．\n",
    "\n",
    "$\\fbox{1（符号）}\\fbox{11（指数部）}\\fbox{52（仮数部）}$\n",
    "\n",
    "* 符号は，0なら正，1なら負\n",
    "* 指数部は「$\\times 2^{\\mbox{指数}}$」の指数の部分に$1023$を加えたものが11ビット符号無しの整数の形で格納されている\n",
    "* 仮数部は，実際の仮数部の先頭の「1」を取り除いた残りが格納されている．仮数部の先頭は必ず1にしてメモリに格納しないことで1ビット分精度を稼いでいる\n",
    "\n",
    "数値$x$は\n",
    "\n",
    "$$x=\\pm\\; 1.d_1d_2\\cdots d_{52}\\times 2^{m}=\\pm\\left(\\frac{1}{2^0}+\\frac{d_1}{2^1}+\\frac{d_2}{2^2}+\\cdots+\\frac{d_{52}}{2^{52}}\\right)2^{e}_{(10)}$$\n",
    "\n",
    "と書ける（$-1022\\le e\\le 1023$，$m$：$e+1023$の2進表現）．\n",
    "\n",
    "例えば，5.25は2進数で書くと\n",
    "$$\n",
    "\t101.01_{(2)} = \\left(\\frac{1}{2^0}+\\frac{0}{2^1}+\\frac{1}{2^2}+\\frac{0}{2^{3}}+\\frac{1}{2^4}\\right)\\times 2^2_{(10)}\n",
    "$$\n",
    "であるから，計算機内では\n",
    "\n",
    "$\\fbox{0}\\fbox{10000000001}\\fbox{0101000000000000000000000000000000000000000000000000}$\n",
    "\n",
    "のように格納されている。指数部の「1000000001」は、「2+1023=1025」 を2進数にしたもの．\n",
    "\n",
    "これは**正規化数**と呼ばれる数の範囲．\n",
    "\n",
    "実際にJuliaのbitstring関数を使って浮動小数点数を見てみよう．"
   ]
  },
  {
   "cell_type": "code",
   "execution_count": 6,
   "metadata": {},
   "outputs": [
    {
     "name": "stdout",
     "output_type": "stream",
     "text": [
      "0100000000010101000000000000000000000000000000000000000000000000\n",
      "0100000000010100111101011100001010001111010111000010100011110110\n"
     ]
    }
   ],
   "source": [
    "x = 5.25\n",
    "println(bitstring(x))\n",
    "println(bitstring(5.24))"
   ]
  },
  {
   "cell_type": "code",
   "execution_count": 7,
   "metadata": {},
   "outputs": [
    {
     "name": "stdout",
     "output_type": "stream",
     "text": [
      "0\n",
      "10000000001\n",
      "0101000000000000000000000000000000000000000000000000\n"
     ]
    }
   ],
   "source": [
    "binx = bitstring(x) \n",
    "sign = binx[1]; println(sign)\n",
    "expo = binx[2:12]; println(expo)\n",
    "frac = binx[13:end]; println(frac)"
   ]
  },
  {
   "cell_type": "markdown",
   "metadata": {},
   "source": [
    "符号はsign = 0で正の数, 指数部はexp-1023=1025-1023=**2**，  \n",
    "仮数部はfrac=(101000000000000000000000000000000000000000000000000)$_2$で2進数表示され，実際の値は**1.3125**，  \n",
    "元の浮動小数点数に戻すと\n",
    "\n",
    "$$(-1)^{\\mathrm{sign}}*\\mathrm{frac}*2^{\\mathrm{expo}-1023}=5.25$$\n",
    "\n",
    "で次のように確かに元の数に戻ることがわかる．"
   ]
  },
  {
   "cell_type": "code",
   "execution_count": 8,
   "metadata": {},
   "outputs": [
    {
     "name": "stdout",
     "output_type": "stream",
     "text": [
      "1.3125\n",
      "2\n",
      "5.25\n"
     ]
    }
   ],
   "source": [
    "aa = [parse(Int, f) for f in frac]\n",
    "bb = 2. .^(1:52)\n",
    "dfrac = 1 + sum(aa ./ bb); println(dfrac)\n",
    "cc = [parse(Int, f) for f in expo]\n",
    "dexp = sum(cc .* (2 .^(10:-1:0))) - 1023; println(dexp)\n",
    "x = (-1)^(parse(Int,sign))*dfrac*2^(dexp); println(x)"
   ]
  },
  {
   "cell_type": "markdown",
   "metadata": {},
   "source": [
    "次に$e$の範囲$-1022\\le e\\le 1023$に注目する．\n",
    "\n",
    "$e+1023$が11ビット符号無しの整数なら範囲は$0$〜$2047$であるが，$e$範囲から\n",
    "$e+1023=0$のときと$e+1023=2047$のときが使われていない．\n",
    "\n",
    "これらは**特殊な数を表す**のに使われる．それらは\n",
    "\n",
    "* 零\n",
    "* 無限大 (Inf)\n",
    "* NaN (Not a Number)\n",
    "* 非正規化数\n",
    "\n",
    "と呼ばれる．\n",
    "\n",
    "#### 零\n",
    "指数部が$e+1023=0$かつ仮数部が0のとき.\n",
    "\n",
    "$$\\pm\\; 0.00\\cdots 0\\times 2^{0}={\\pm\\left(\\frac{0}{2^0}+\\frac{0}{2^1}+\\frac{0}{2^2}+\\cdots+\\frac{0}{2^{52}}\\right)2^{-1023}}_{(10)}.$$\n",
    "\n",
    "\n"
   ]
  },
  {
   "cell_type": "code",
   "execution_count": 9,
   "metadata": {},
   "outputs": [
    {
     "name": "stdout",
     "output_type": "stream",
     "text": [
      "0.0\n",
      "0000000000000000000000000000000000000000000000000000000000000000\n",
      "-0.0\n",
      "1000000000000000000000000000000000000000000000000000000000000000\n"
     ]
    }
   ],
   "source": [
    "x = 0.0; println(x); println(bitstring(x))\n",
    "x = -0.0; println(x); println(bitstring(x))"
   ]
  },
  {
   "cell_type": "markdown",
   "metadata": {},
   "source": [
    "#### 無限大\n",
    "$e+1023=2047$かつ仮数部が0のとき，$\\pm\\infty$を表す．\n",
    "\n",
    "$$\\pm\\; 1.00\\cdots 0\\times 2^{m}={\\pm\\left(\\frac{1}{2^0}+\\frac{0}{2^1}+\\frac{0}{2^2}+\\cdots+\\frac{0}{2^{52}}\\right)2^{1024}}_{(10)},$$\n",
    "\n",
    "$m$: 2047の2進表現. このとき**オーバーフロー**が起こるという."
   ]
  },
  {
   "cell_type": "code",
   "execution_count": 10,
   "metadata": {},
   "outputs": [
    {
     "name": "stdout",
     "output_type": "stream",
     "text": [
      "Inf\n",
      "0111111111110000000000000000000000000000000000000000000000000000\n",
      "-Inf\n",
      "1111111111110000000000000000000000000000000000000000000000000000\n",
      "Inf\n"
     ]
    }
   ],
   "source": [
    "x = Inf; println(x); println(bitstring(x))\n",
    "println(-x); println(bitstring(-x))\n",
    "println(2.0^(1024))"
   ]
  },
  {
   "cell_type": "markdown",
   "metadata": {},
   "source": [
    "#### NaN (Not a Number)\n",
    "$e+1023=2047$かつ仮数部が0でないとき．\n",
    "\n",
    "負数の平方根など，不可能な演算の結果を表すのに使われる．"
   ]
  },
  {
   "cell_type": "code",
   "execution_count": 11,
   "metadata": {},
   "outputs": [
    {
     "name": "stdout",
     "output_type": "stream",
     "text": [
      "0111111111110000000000000000000000000000000000000000000000000000\n",
      "NaN\n",
      "0111111111111000000000000000000000000000000000000000000000000000\n",
      "NaN\n",
      "0111111111111000000000000000000000000000000000000000000000000000\n",
      "NaN\n",
      "0111111111111000000000000000000000000000000000000000000000000000\n"
     ]
    }
   ],
   "source": [
    "x = Inf; println(bitstring(x))\n",
    "x = NaN; println(x); println(bitstring(x))\n",
    "x = Inf - Inf; println(x); println(bitstring(x))\n",
    "x = Inf / Inf; println(x); println(bitstring(x))"
   ]
  },
  {
   "cell_type": "markdown",
   "metadata": {},
   "source": [
    "\n",
    "#### 正規化数の最大最小\n",
    "正の正規化数の最大の数は，$e+1023=2046$, かつ仮数部のビットが全て1のとき．\n",
    "\n",
    "$${\\left(\\frac{{1}}{2^0}+\\frac{1}{2^1}+\\frac{1}{2^2}+\\cdots+\\frac{1}{2^{52}}\\right)2^{{1023}}}_{(10)}= 2^{1024}-2^{971}\\approx10^{308.25}$$\n",
    "\n",
    "であり，これを1ビットでも超えたら無限大になる．これを**オーバーフロー**という．\n",
    "\n"
   ]
  },
  {
   "cell_type": "code",
   "execution_count": 12,
   "metadata": {},
   "outputs": [
    {
     "name": "stdout",
     "output_type": "stream",
     "text": [
      "1.7976931348623157e308\n",
      "0111111111101111111111111111111111111111111111111111111111111111\n",
      "Inf\n",
      "0111111111110000000000000000000000000000000000000000000000000000\n"
     ]
    }
   ],
   "source": [
    "x = (2. ^ 53 - 1) * 2. ^ 971\n",
    "println(x)\n",
    "println(bitstring(x))\n",
    "x = (2. ^ 53) * 2. ^ 971\n",
    "println(x)\n",
    "println(bitstring(x))"
   ]
  },
  {
   "cell_type": "markdown",
   "metadata": {},
   "source": [
    "正の正規化数の最小の数は，$e+1023=1$, かつ仮数部のビットが全て0のとき．\n",
    "\n",
    "$${\\left(\\frac{{1}}{2^0}+\\frac{0}{2^1}+\\frac{0}{2^2}+\\cdots+\\frac{0}{2^{52}}\\right)2^{-1022}}_{(10)}= 2^{-1022}\\approx10^{-307.65}$$\n",
    "\n",
    "であり，これを下回ると**アンダーフロー**というが，IEEE 754 では，ここでアンダーフローさせないで仮数部を使った「悪あがき」をする．次の例を見てみよう."
   ]
  },
  {
   "cell_type": "code",
   "execution_count": 13,
   "metadata": {},
   "outputs": [
    {
     "name": "stdout",
     "output_type": "stream",
     "text": [
      "2.2250738585072014e-308\n",
      "0000000000010000000000000000000000000000000000000000000000000000\n",
      "2.225073858507201e-308\n",
      "0000000000001111111111111111111111111111111111111111111111111111\n"
     ]
    }
   ],
   "source": [
    "x = 2. ^ (-1022)\n",
    "println(x)\n",
    "println(bitstring(x))\n",
    "y = x-2^(-1074);\n",
    "println(y)\n",
    "println(bitstring(y))"
   ]
  },
  {
   "cell_type": "markdown",
   "metadata": {},
   "source": [
    "#### 非正規化数\n",
    "指数部が$e+1023=0$かつ仮数部が0でないとき，\n",
    "\n",
    "仮数部の最初の桁を$0$にして\n",
    "\n",
    "$$\\pm\\; 0.d_1d_2\\cdots d_{52}\\times 2^{0}={\\pm\\left(\\frac{\\color{red}0}{2^0}+\\frac{d_1}{2^1}+\\frac{d_2}{2^2}+\\cdots+\\frac{d_{52}}{2^{52}}\\right)2^{{\\color{red}{-1022}}}}_{(10)}.$$\n",
    "\n",
    "という数の表現をする．つまり指数部が$e+1023=1$よりも小さくなったら、正規化しないで指数部は$e+1023=1$のままにする. 代わりに仮数部の最初の桁を$0$にする.\n",
    "このような決まりによって, 非正規化数は文字通り「正規化していない」数となる．\n",
    "\n",
    "#### 漸近アンダーフロー\n",
    "上の例のように正規化数の最小数の最終bitを1だけ減らすと\n",
    "\n",
    "$${\\left(\\frac{{0}}{2^0}+\\frac{1}{2^1}+\\frac{1}{2^2}+\\cdots+\\frac{1}{2^{52}}\\right)2^{-1022}}_{(10)}$$\n",
    "\n",
    "となり，これを正規化すると\n",
    "\n",
    "$${\\left(\\frac{{1}}{2^0}+\\frac{1}{2^1}+\\frac{1}{2^2}+\\cdots+\\frac{0}{2^{52}}\\right)2^{-1023}}_{(10)}$$\n",
    "\n",
    "となって，指数部の下限$-1022\\le e$を超えてしまう．\n",
    "そこで，「$2^{-1022}$を下回ったら正規化をやめて指数部を$2^{-1022}$に固定して仮数部の最初の桁を0としてみて格納する」ルールが発動し, 非正規化数での数の表現が始まる.\n",
    "以下, 1ビットずつ減らしていくと\n",
    "\n",
    "$${\\left(\\frac{{0}}{2^0}+\\frac{1}{2^1}+\\frac{1}{2^2}+\\cdots+\\frac{1}{2^{52}}\\right)2^{-1022}}_{(10)}$$\n",
    "$${\\left(\\frac{{0}}{2^0}+\\frac{1}{2^1}+\\frac{1}{2^2}+\\cdots+\\frac{0}{2^{52}}\\right)2^{-1022}}_{(10)}$$\n",
    "$$\\vdots$$\n",
    "$$\\left(\\frac{{0}}{2^0}+\\frac{1}{2^1}+\\frac{0}{2^2}+\\cdots+\\frac{0}{2^{52}}\\right)2^{-1022}$$\n",
    "$${\\left(\\frac{{0}}{2^0}+\\frac{0}{2^1}+\\frac{1}{2^2}+\\cdots+\\frac{1}{2^{52}}\\right)2^{-1022}}_{(10)}$$\n",
    "$$\\vdots$$\n",
    "$${\\left(\\frac{{0}}{2^0}+\\frac{0}{2^1}+\\frac{0}{2^2}+\\cdots+\\frac{1}{2^{52}}\\right)2^{-1022}}_{(10)}=2^{-1074}\\approx10^{-323.31}$$\n",
    "\n",
    "のような数が表現できる．ただし，$2^{-1022}$と$2^{-1074}$の間の数は，本来53ビットあるべき仮数部の長さが52ビット〜1ビットまで減ってしまっており，精度が低下していることに注意が必要である．"
   ]
  },
  {
   "cell_type": "code",
   "execution_count": 14,
   "metadata": {},
   "outputs": [
    {
     "name": "stdout",
     "output_type": "stream",
     "text": [
      "5.0e-324\n",
      "0000000000000000000000000000000000000000000000000000000000000001\n",
      "0.0\n",
      "0000000000000000000000000000000000000000000000000000000000000000\n"
     ]
    }
   ],
   "source": [
    "x = 2. ^ (-1074)\n",
    "println(x)\n",
    "println(bitstring(x))\n",
    "\n",
    "x = (2. ^ (-1074)) / 2\n",
    "println(x)\n",
    "println(bitstring(x))"
   ]
  },
  {
   "cell_type": "markdown",
   "metadata": {},
   "source": [
    "### 浮動小数点数まとめ\n",
    "\n",
    "倍精度(binary64, Float64/double)は\n",
    "\n",
    "||仮数部が0|仮数部が0でない|\n",
    "|:-:|:-:|:-:|\n",
    "|$e+1023=0$            | $\\pm0$      | 非正規化数|\n",
    "|$1\\le e+1023\\le 2046$ | 正規化数     | 正規化数 |\n",
    "|$e+1023=2047$         | $\\pm\\infty$ | NaN|\n",
    "\n",
    "\n",
    "単精度 (binary32, Float32/float) は\n",
    "\n",
    "\n",
    "||仮数部が0|仮数部が0でない|\n",
    "|:-:|:-:|:-:|\n",
    "|$e+127=0$            | $\\pm0$      | 非正規化数|\n",
    "|$1\\le e+127\\le 254$ | 正規化数     | 正規化数 |\n",
    "|$e+127=255$         | $\\pm\\infty$ | NaN|\n",
    "\n",
    "今後，浮動小数点数全体の集合を$\\mathbb{F}$と表すことにする．特に断りがなければ，浮動小数点数は倍精度浮動小数点数（64bit）とする．IEEE754では**binary64**とも呼ばれている．\n",
    "\n"
   ]
  },
  {
   "cell_type": "markdown",
   "metadata": {},
   "source": [
    "## 丸め誤差\n",
    "浮動小数点数を使用した演算に混入する誤差について述べる\n",
    "\n",
    "浮動小数点数同士の演算（加減乗除など）の結果は，浮動小数点数で表せるとは限らない．\n",
    "例えば，10進数で仮数部3桁の浮動小数点演算を考え，2/3を計算すると，\n",
    "\n",
    "$$\n",
    "\t2.00\\times 10^0/3.00\\times 10^0=0.66666666...\\times 10^0\n",
    "$$\n",
    "\n",
    "となり，仮数部3桁に収まらない．仮数部の4桁目で四捨五入を行うと\n",
    "\n",
    "$$\n",
    "\t6.67\\times10^{-1}\n",
    "$$\n",
    "\n",
    "となる．このときの計算値と真値との差\n",
    "\n",
    "$$\n",
    "\t6.67\\times10^{-1}-6.6666666...\\times10^{-1}=3.3333333...\\times10^{-4}\n",
    "$$\n",
    "\n",
    "が丸め誤差である．\n",
    "\n",
    "IEEE 754は2進数浮動小数点数なので，基本的には0捨1入で丸められる．\n",
    "例えば，10進数の「0.1」をIEEE 754のbinary64に変換してみると\n",
    "\n",
    "\\begin{align*}\n",
    "\t0.1_{(10)} &= 0.000110011001100110011..._{(2)}\\\\\n",
    "\t& = 1.10011001100110011...\\times 2^{m},\n",
    "\\end{align*}\n",
    "\n",
    "$m$は$-4+1023=1019$の2進表現，つまり$m=01111111011$.\n",
    "仮数部は無限小数になっているのでそのまま格納出来ない．\n",
    "小数点以下を 52bit以内とそれ以降で区切って表示すると\n",
    "\n",
    "$\\fbox{1001100110011001100110011001100110011001100110011001}\\fbox{10011001100....}$\n",
    "\n",
    "となり，はみ出た部分の先頭が「1」なので、0捨1入で繰り上げる．\n",
    "最終的には， 10進数の「0.1」は\n",
    "\n",
    "$\\fbox{0}\\fbox{01111111011}\\fbox{1001100110011001100110011001100110011001100110011010}$\n",
    "\n",
    "のように格納されている．"
   ]
  },
  {
   "cell_type": "code",
   "execution_count": 15,
   "metadata": {},
   "outputs": [
    {
     "name": "stdout",
     "output_type": "stream",
     "text": [
      "0011111110111001100110011001100110011001100110011001100110011010\n"
     ]
    }
   ],
   "source": [
    "x = 0.1\n",
    "println(bitstring(x))"
   ]
  },
  {
   "cell_type": "markdown",
   "metadata": {},
   "source": [
    "10進数の0.1は計算機には正確に格納できず，少しだけ0.1より大きい値で格納されており，\n",
    "**丸め誤差**が含まれている\n",
    "\n",
    "$$\n",
    "    \\displaystyle\\frac{1}{10}\\approx{\\color{red}{0.1000000000000000}}055511151231257827021181583404541015625\n",
    "$$"
   ]
  },
  {
   "cell_type": "code",
   "execution_count": 16,
   "metadata": {},
   "outputs": [
    {
     "name": "stdout",
     "output_type": "stream",
     "text": [
      "0.1000000000000000055511151231257827021181583404541015625"
     ]
    }
   ],
   "source": [
    "using Printf\n",
    "@printf(\"%.55f\", x)"
   ]
  },
  {
   "cell_type": "markdown",
   "metadata": {},
   "source": [
    "さらに, 0.1を逐次的に加えていくと計算結果は丸め誤差の影響により, 不可解な計算結果を返す事がある."
   ]
  },
  {
   "cell_type": "code",
   "execution_count": 17,
   "metadata": {},
   "outputs": [
    {
     "name": "stdout",
     "output_type": "stream",
     "text": [
      "9.9999999999999804600747665972448885440826416015625000000\n"
     ]
    }
   ],
   "source": [
    "x = 0.0\n",
    "for i = 1:100\n",
    "    x += 0.1\n",
    "end\n",
    "@printf(\"%.55f\\n\", x)"
   ]
  },
  {
   "cell_type": "markdown",
   "metadata": {},
   "source": [
    "## 丸めの制御\n",
    "\n",
    "IEEE754では，4つの丸めモードを用意している．$\\tilde{x}$を実数（$\\tilde{x}\\in\\mathbb{R}$）とする．いま実数 $\\tilde x$ が\n",
    "\n",
    "$$\\tilde x=\\pm\\left(\\frac{1}{2^0}+\\frac{d_1}{2^1}+\\frac{d_2}{2^2}+\\dots\\right)2^{e}_{(10)}$$\n",
    "\n",
    "であるときに，その近似\n",
    "\n",
    "$$x=\\pm\\left(\\frac{1}{2^0}+\\frac{d_1}{2^1}+\\frac{d_2}{2^2}+\\cdots+\\frac{d_{52}}{2^{52}}\\right)2^{e}_{(10)}\\in\\mathbb{F}$$\n",
    "\n",
    "を採用する丸めは**原点方向への丸め**（切り捨て）と呼ばれている．\n",
    "\n",
    "また $\\tilde x$ の近似として誤差$|x-\\tilde{x}|$の値が最小になる$x\\in\\mathbb{F}$，すなわち\n",
    "\n",
    "$$\n",
    "    |x-\\tilde{x}|=\\min_{y\\in\\mathbb{F}}|y-\\tilde{x}|\n",
    "$$\n",
    "\n",
    "をみたす$x\\in\\mathbb{F}$を採用する方法を**最近点への丸め**という．しかし $\\tilde x$ が2つの浮動小数点数\n",
    "\n",
    "$$\n",
    "    x_1=\\left(\\frac{1}{2^0}+\\frac{d_1}{2^1}+\\frac{d_2}{2^2}+\\cdots+\\frac{d_{52}}{2^{52}}\\right)2^{e}_{(10)},~~~x_2=\\left(\\frac{1}{2^0}+\\frac{d_1}{2^1}+\\frac{d_2}{2^2}+\\cdots+\\frac{d_{52}+1}{2^{52}}\\right)2^{e}_{(10)}\n",
    "$$\n",
    "\n",
    "の中点となると$|x_1-\\tilde{x}|=|x_2-\\tilde{x}|$が成り立ち，$x$は一つに決まらない．このときは**仮数部の最後のビットが0**になる方に丸めが実行される．これを**最近偶数への丸め**という．\n"
   ]
  },
  {
   "cell_type": "code",
   "execution_count": 18,
   "metadata": {},
   "outputs": [
    {
     "name": "stdout",
     "output_type": "stream",
     "text": [
      "1.00000000000000000000000000000000000000000000000000\n",
      "0011111111110000000000000000000000000000000000000000000000000000\n",
      "1.00000000000000022204460492503130808472633361816406\n",
      "0011111111110000000000000000000000000000000000000000000000000001\n",
      "1.00000000000000000000000000000000000000000000000000\n",
      "0011111111110000000000000000000000000000000000000000000000000000\n"
     ]
    }
   ],
   "source": [
    "eps = 2. ^ (-52) # unit round off\n",
    "x = 1. + eps/4.\n",
    "@printf(\"%.50f\\n\", x)\n",
    "println(bitstring(x))\n",
    "\n",
    "y = 1. + 3*(eps/4.)\n",
    "@printf(\"%.50f\\n\", y)\n",
    "println(bitstring(y))\n",
    "\n",
    "z = 1. + (eps/2.)\n",
    "@printf(\"%.50f\\n\", z)\n",
    "println(bitstring(z))"
   ]
  },
  {
   "cell_type": "code",
   "execution_count": 19,
   "metadata": {},
   "outputs": [
    {
     "name": "stdout",
     "output_type": "stream",
     "text": [
      "2.00000000000000000000000000000000000000000000000000\n",
      "0100000000000000000000000000000000000000000000000000000000000000\n",
      "1.99999999999999977795539507496869191527366638183594\n",
      "0011111111111111111111111111111111111111111111111111111111111111\n",
      "2.00000000000000000000000000000000000000000000000000\n",
      "0100000000000000000000000000000000000000000000000000000000000000\n"
     ]
    }
   ],
   "source": [
    "x = 2.\n",
    "@printf(\"%.50f\\n\", x)\n",
    "println(bitstring(x))\n",
    "\n",
    "y = 2. - eps\n",
    "@printf(\"%.50f\\n\", y)\n",
    "println(bitstring(y))\n",
    "\n",
    "z = 2. - eps/2.\n",
    "@printf(\"%.50f\\n\", z)\n",
    "println(bitstring(z))"
   ]
  },
  {
   "cell_type": "markdown",
   "metadata": {},
   "source": [
    "次は$\\tilde{x}$よりも必ず大きな$a\\in\\mathbb{F}$，すなわち\n",
    "\n",
    "$$\n",
    "    a=\\min\\left\\{x\\in\\mathbb{F}:x\\ge\\tilde{x}\\right\\}\n",
    "$$\n",
    "\n",
    "をみたす$a\\in\\mathbb{F}$を採用する方法を$+\\infty$**方向への丸め**（上向き丸め）という．逆に$\\tilde{x}$よりも必ず小さな$b\\in\\mathbb{F}$，すなわち\n",
    "\n",
    "$$\n",
    "    b=\\max\\left\\{x\\in\\mathbb{F}:x\\le\\tilde{x}\\right\\}\n",
    "$$\n",
    "\n",
    "をみたす$b\\in\\mathbb{F}$を採用する方法を$-\\infty$**方向への丸め**（下向き丸め）という．これらより\n",
    "\n",
    "$$ b\\le\\tilde{x}\\le a $$\n",
    "\n",
    "が常に成立する．特に精度保証付き数値計算ではこの2つの丸めモードを利用することで，*厳密な包含*を得ることができるようになる．まとめると\n",
    "\n",
    "* 最近点への丸め（デフォルト）：$\\tilde{x}$ に最も近い浮動小数点数に丸める．もし2点あるならば仮数部の最後のビットが0である浮動小数点数に丸める．\n",
    "* $+\\infty$方向への丸め：$\\tilde{x}$ 以上の浮動小数点数の中で最も小さい浮動小数点数に丸める．\n",
    "* $-\\infty$方向への丸め：$\\tilde{x}$ 以下の浮動小数点数の中で最も大きい浮動小数点数に丸める．\n",
    "* 原点方向への丸め：絶対値が $\\tilde{x}$ 以下の浮動小数点数の中で，$\\tilde{x}$ に最も近いものに丸める．\n",
    "\n",
    "## その他の誤差いろいろ\n",
    "\n",
    "丸め誤差は実数を浮動小数点数で近似する際の誤差であった．ここでは浮動小数点数を用いた演算のその他の問題点を紹介する．\n",
    "\n",
    "### 桁落ち\n",
    "極めて近い数どうしの減算によって，誤差が著しく大きくなってしまう現象．\n",
    "2つの浮動小数点数\n",
    "\n",
    "$$\n",
    "    x=\\left(\\frac{1}{2^0}+\\frac{d_1}{2^1}+\\dots+\\frac{d_p}{2^p}+\\frac{1}{2^{p+1}}+\\cdots+\\frac{b_{p+2}}{2^{p+2}}+\\dots+\\frac{b_{52}}{2^{52}}\\right)2^{e}_{(10)},\n",
    "$$\n",
    "$$\n",
    "    y=\\left(\\frac{1}{2^0}+\\frac{d_1}{2^1}+\\dots+\\frac{d_p}{2^p}+\\frac{0}{2^{p+1}}+\\cdots+\\frac{c_{p+2}}{2^{p+2}}+\\dots+\\frac{c_{52}}{2^{52}}\\right)2^{e}_{(10)}\n",
    "$$\n",
    "\n",
    "が$x>y$とし，仮数部の最初から $p$ ビットが等しいとする．このとき\n",
    "\n",
    "$$\n",
    "    x-y=\\left(\\frac{1}{2^0}+\\frac{b_{p+2}-c_{p+2}}{2^1}+\\dots+\\frac{b_{52}-c_{52}}{2^{52-p-1}}\\right)2^{e-p-1}_{(10)}\n",
    "$$\n",
    "\n",
    "これよりもともと $52$ 個あった仮数部の情報が，$52-p$ 個に減っている．例を挙げよう．\n",
    "\n",
    "$b>0$とし，2次方程式 $x^2+bx+c=0$の解の公式\n",
    "\n",
    "$$\n",
    "    x_1=\\frac{-b+\\sqrt{b^2-4c}}{2},\\quad x_2=\\frac{-b-\\sqrt{b^2-4c}}{2}\n",
    "$$\n",
    "\n",
    "を考える．いまもしも$b^2\\gg c$となるならば，$b$ と $\\sqrt{b^2-4c}$が近い数になるので，$x_1$の分子の計算で，桁落ちが起こる．"
   ]
  },
  {
   "cell_type": "code",
   "execution_count": 20,
   "metadata": {},
   "outputs": [
    {
     "name": "stdout",
     "output_type": "stream",
     "text": [
      "-0.125\n",
      "-2.4999999999999984e13\n",
      "-0.10000000000000002\n",
      "0.0\n"
     ]
    }
   ],
   "source": [
    "b = 1e+15\n",
    "c = 1e+14\n",
    "\n",
    "x1 = (-b + sqrt(b^2 - 4c)) / 2\n",
    "println(x1)\n",
    "println(x1^2 + b*x1 + c)\n",
    "\n",
    "x2 = 2c / (-b - sqrt(b^2 - 4*c))\n",
    "println(x2)\n",
    "println(x2^2 + b*x2 + c)"
   ]
  },
  {
   "cell_type": "markdown",
   "metadata": {},
   "source": [
    "### 情報落ち\n",
    "絶対値の大きさが極端に違う2 数の加減算を行った時，小さいほうの数値の下位の桁が失われてしまう現象．"
   ]
  },
  {
   "cell_type": "code",
   "execution_count": 21,
   "metadata": {},
   "outputs": [
    {
     "name": "stdout",
     "output_type": "stream",
     "text": [
      "3.141592025756836\n",
      "3.14159265358979\n"
     ]
    }
   ],
   "source": [
    "println((3.14159265358979+1e10)-1e10)\n",
    "println(3.14159265358979 + (1e10-1e10))"
   ]
  },
  {
   "cell_type": "code",
   "execution_count": 22,
   "metadata": {},
   "outputs": [
    {
     "name": "stdout",
     "output_type": "stream",
     "text": [
      "0.0\n",
      "666.6\n",
      "-3.9230984419161617e30\n"
     ]
    }
   ],
   "source": [
    "println(1e48+543.2-1e48-1e36+123.4+1e36)\n",
    "println(1e48-1e48-1e36+1e36+543.2+123.4)\n",
    "println(1e48-1e36-1e48+1e36+543.2+123.4)"
   ]
  },
  {
   "cell_type": "markdown",
   "metadata": {},
   "source": [
    "## 打ち切り誤差\n",
    "無限回行うべき計算を有限回の計算で置き換えることにより生じる誤差．計算機は有限回の四則演算しかできない．そのため，無限級数や収束列のような値を求めるためには，有限項で打ち切った近似値を用いる．その際に誤差が生じる．\n",
    "\n",
    "（例）Taylor展開の打ち切り誤差，Newton法の打ち切り誤差，数値積分の打ち切り誤差"
   ]
  },
  {
   "cell_type": "code",
   "execution_count": 23,
   "metadata": {},
   "outputs": [
    {
     "name": "stdout",
     "output_type": "stream",
     "text": [
      "4.851651954097903e8\n",
      "4.851651954097903e8\n",
      "6.147561828914626e-9\n",
      "2.061153622438558e-9\n"
     ]
    }
   ],
   "source": [
    "function exp_taylor(x) # naive implementation of \"exp\" function\n",
    "    s = 0.0\n",
    "    t = 1.0\n",
    "    i = 1\n",
    "    while true\n",
    "        s += t\n",
    "        if abs(t) < abs(s) * 1e-15\n",
    "            break\n",
    "        end\n",
    "        t *= x / i\n",
    "        i += 1\n",
    "    end\n",
    "    return s\n",
    "end\n",
    "println(exp_taylor(20.))\n",
    "println(exp(20.))\n",
    "println(exp_taylor(-20.))\n",
    "println(exp(-20.))"
   ]
  },
  {
   "cell_type": "markdown",
   "metadata": {},
   "source": [
    "# 区間演算\n",
    "\n",
    "区間の表現，区間演算について述べる．精度保証付き数値計算の基本的な原理は，実数値で与えられる真の値の上限と下限を浮動小数点数により浮動小数点演算を用いて包み込むことである．\n",
    "\n",
    "$\\mathbb{R}$上の区間を\n",
    "$$\n",
    "\t\\boldsymbol{a}:=\\{x\\in\\mathbb{R}:\\underline{a}\\le x\\le\\overline{a},~\\underline{a}, \\overline{a}\\in\\mathbb{R}\\}=[\\underline{a}, \\overline{a}]\n",
    "$$\n",
    "\n",
    "と表し，区間の全体を$\\mathbb{IR}$とする．\n",
    "この時 $\\underline{a}$ を区間の下端，$\\overline{a}$ を区間の上端という．\n",
    "さらに区間の\n",
    "\n",
    "$$\n",
    "\\begin{array}{ll}\n",
    "\\mbox{直径（diameter）:}&\\mathrm{d}(\\boldsymbol{a})=\\overline{a}-\\underline{a}\\in\\mathbb{R}\\\\\n",
    "\\mbox{半径（radious）:}&\\mathrm{rad}(\\boldsymbol{a})=\\frac{\\overline{a}-\\underline{a}}{2}\\in\\mathbb{R}\\\\\n",
    "\\mbox{中点（center）:}&\\mathrm{mid}(\\boldsymbol{a})=\\frac{\\overline{a}+\\underline{a}}{2}\\in\\mathbb{R}\\\\\n",
    "\\mbox{最小絶対値:}&\\mathrm{mig}(\\boldsymbol{a})=\\min\\{|a|:a\\in\\boldsymbol{a}\\}\\in\\mathbb{R}\\\\\n",
    "\\mbox{最大絶対値:}&\\mathrm{mag}(\\boldsymbol{a})=\\max\\{|a|:a\\in\\boldsymbol{a}\\}\\in\\mathbb{R}\\\\\n",
    "\\end{array}\n",
    "$$\n",
    "\n",
    "をそれぞれ表すとする．\n",
    "\n",
    "Juliaで区間を扱うために[IntervalArithmetic.jl](https://github.com/JuliaIntervals/IntervalArithmetic.jl)パッケージを使う."
   ]
  },
  {
   "cell_type": "code",
   "execution_count": 24,
   "metadata": {},
   "outputs": [
    {
     "name": "stdout",
     "output_type": "stream",
     "text": [
      "[-2, 1]\n",
      "d(a)   = 3.0\n",
      "rad(a) = 1.5\n",
      "mid(a) = -0.5\n",
      "mig(a) = 0.0\n",
      "mag(a) = 2.0\n"
     ]
    },
    {
     "name": "stderr",
     "output_type": "stream",
     "text": [
      "WARNING: using IntervalArithmetic.eps in module Main conflicts with an existing identifier.\n"
     ]
    }
   ],
   "source": [
    "using IntervalArithmetic\n",
    "\n",
    "a = interval(-2, 1)\n",
    "# a = -2. .. 1.    # .. operator\n",
    "println(a)\n",
    "\n",
    "print(\"d(a)   = \")\n",
    "println(diam(a))\n",
    "\n",
    "print(\"rad(a) = \")\n",
    "println(radius(a))\n",
    "\n",
    "print(\"mid(a) = \")\n",
    "println(mid(a))\n",
    "\n",
    "print(\"mig(a) = \")\n",
    "println(mig(a))\n",
    "\n",
    "print(\"mag(a) = \")\n",
    "println(mag(a))\n",
    "\n",
    "# @format midpoint 3\n",
    "# @format full\n",
    "# @format standard 10"
   ]
  },
  {
   "cell_type": "markdown",
   "metadata": {},
   "source": [
    "## 区間演算（上端下端型）\n",
    "\n",
    "区間$\\boldsymbol{X}=[a,b]$, $\\boldsymbol{Y}=[c,d]$に対して，四則演算を定義する：\n",
    "\n",
    "\\begin{align*}\n",
    "\t\\boldsymbol{X}+\\boldsymbol{Y}&=[a+c,b+d]\\\\\n",
    "\t\\boldsymbol{X}-\\boldsymbol{Y}&=[a-d,b-c]\\\\\n",
    "\t\\boldsymbol{X}\\times\\boldsymbol{Y}&=[\\min\\{ac,ad,bc,bd\\},\\max\\{ac,ad,bc,bd\\}]\\\\\n",
    "\t\\boldsymbol{X}\\div\\boldsymbol{Y}&=[\\min\\{a/c,a/d,b/c,b/d\\},\\max\\{a/c,a/d,b/c,b/d\\}]\n",
    "\\end{align*}\n",
    "\n",
    "$\\times,~\\div$は場合分けをする．\n",
    "\n",
    "||$c>0$|$0\\in\\boldsymbol{Y}$|$d<0$|\n",
    "|:-------------:|:-------------:|:---------------:|:-------------:|\n",
    "|$a>0$|$[ac,bd]$|$[bc,bd]$|$[bc,ad]$|\n",
    "|$0\\in\\boldsymbol{X}$|$[ad,bd]$|$A$|$[bc,ac]$|\n",
    "|$b<0$|$[ad,bc]$|$[ad,ad]$|$[bd,ac]$|\n",
    "\n",
    "ただし $A=[\\min\\{ad,bc\\},\\max\\{ad,bc\\}].$\n",
    "\n",
    "注：区間内全ての要素について演算を行うため無限回の計算が必要のように思えるが，これをまとめて実現するのが区間演算．さらに除算で割る区間$\\boldsymbol{Y}$に0が含まれる（$0\\in\\boldsymbol{Y}$）と演算結果は無限大を含むことになる．\n"
   ]
  },
  {
   "cell_type": "code",
   "execution_count": 25,
   "metadata": {},
   "outputs": [
    {
     "name": "stdout",
     "output_type": "stream",
     "text": [
      "[-1, 4]\n",
      "[-5, 0]\n",
      "[-6, 3]\n",
      "[-2, 1]\n",
      "[-∞, ∞]\n"
     ]
    }
   ],
   "source": [
    "X = interval(-2, 1)\n",
    "Y = interval(1, 3)\n",
    "\n",
    "println(X + Y)\n",
    "println(X - Y)\n",
    "println(X * Y)\n",
    "println(X / Y)\n",
    "println(Y / X)"
   ]
  },
  {
   "cell_type": "markdown",
   "metadata": {},
   "source": [
    "包含関係の単調性が成立する．すなわち $\\boldsymbol{X}_1\\subseteq \\boldsymbol{X}_2$ かつ $\\boldsymbol{Y}_1\\subseteq \\boldsymbol{Y}_2$ ならば $\\boldsymbol{X}_1\\circ\\boldsymbol{Y}_1\\subseteq \\boldsymbol{X}_2\\circ\\boldsymbol{Y}_2$ が成立する．ここで，$\\circ\\in\\{+,-,\\times,\\div\\}$とする．\n",
    "\n",
    "さらに $+$, $\\times$ に関しては，交換則と結合則が成立する．\n",
    "\n",
    "$$\n",
    "    \\boldsymbol{X}\\circ\\boldsymbol{Y}=\\boldsymbol{Y}\\circ\\boldsymbol{X},~\\boldsymbol{X}\\circ(\\boldsymbol{Y}\\circ\\boldsymbol{Z})=(\\boldsymbol{X}\\circ\\boldsymbol{Y})\\circ\\boldsymbol{Z},\\quad\\circ\\in\\{+,\\times\\}.\n",
    "$$\n",
    "\n",
    "しかし，加法と乗法の逆元は存在しない．すなわち分配則が成立しない．劣分配則のみ成立する．\n",
    "\n",
    "$$\n",
    "    \\boldsymbol{X}(\\boldsymbol{Y}+\\boldsymbol{Z})\\subseteq\\boldsymbol{X}\\boldsymbol{Y}+\\boldsymbol{X}\\boldsymbol{Z}.\n",
    "$$"
   ]
  },
  {
   "cell_type": "code",
   "execution_count": 26,
   "metadata": {},
   "outputs": [
    {
     "name": "stdout",
     "output_type": "stream",
     "text": [
      "[-3, 3]\n",
      "[-4, 4]\n",
      "true\n"
     ]
    }
   ],
   "source": [
    "X = interval(-1, 1)\n",
    "Y = interval(1, 2)\n",
    "Z = interval(-2, 1)\n",
    "\n",
    "println(X * (Y + Z))\n",
    "println(X * Y + X * Z)\n",
    "println((X * (Y + Z) ⊂ X * Y + X * Z))"
   ]
  },
  {
   "cell_type": "markdown",
   "metadata": {},
   "source": [
    "## 中心半径型区間演算\n",
    "\n",
    "上端下端型区間の他に区間を中心と半径で表す型もある．それを**中心半径型区間**という．中心半径型（mid-rad 型）区間は実数 $x\\in\\mathbb{R}$ に対して，区間の中心を $x_c$，半径を $x_r$ としたとき\n",
    "\n",
    "$$\n",
    "    \\boldsymbol{x}=\\langle x_c,x_r\\rangle=\\left\\{x:x_c-x_r\\le x\\le x_c+x_r\\right\\}\n",
    "$$\n",
    "\n",
    "と表される．中心半径型区間と上端下端型区間の間には次のような関係が成り立つ：\n",
    "\n",
    "$$\n",
    "    \\boldsymbol{x}=[\\underline{x},\\overline{x}]=[x_c-x_r,x_c+x_r]=\\left\\langle\\frac{\\underline{x}+\\overline{x}}{2},\\frac{\\underline{x}-\\overline{x}}{2}\\right\\rangle=\\langle x_c,x_r\\rangle=\\boldsymbol{x}\n",
    "$$\n",
    "\n",
    "中心半径型区間 $\\boldsymbol{x}=\\langle x_c,x_r\\rangle$, $\\boldsymbol{y}=\\langle y_c,y_r\\rangle$ に対して，四則演算を定義する．\n",
    "\n",
    "\\begin{align*}\n",
    "    \\boldsymbol{x}+\\boldsymbol{y}&=\\langle x_c+y_c,x_r+y_r\\rangle\\\\\n",
    "    \\boldsymbol{x}-\\boldsymbol{y}&=\\langle x_c-y_c,x_r+y_r\\rangle\\\\\n",
    "    \\boldsymbol{x}\\times\\boldsymbol{y}&\\subseteq\\langle x_cy_c,|x_c|y_r+|y_c|x_r+x_ry_r\\rangle\\\\\n",
    "    \\boldsymbol{x}\\div\\boldsymbol{y}&=\\frac{\\boldsymbol{x}\\times\\boldsymbol{y}}{\\underline{y}\\overline{y}}=\\frac{\\boldsymbol{x}\\times\\boldsymbol{y}}{y_c^2-y_r^2}\n",
    "\\end{align*}\n",
    "\n",
    "ちなみに乗算は$\\mathop{sgn}(\\cdot)$を括弧内の符号を返す関数とすると\n",
    "\n",
    "$$\n",
    "    \\boldsymbol{x}\\times\\boldsymbol{y}=\\langle x_cy_c+\\delta_1,\\delta_2\\rangle\n",
    "$$\n",
    "\n",
    "と書ける．ここで\n",
    "\n",
    "$$\n",
    "    \\delta_1=\\mathop{sgn}(x_cy_c)\\min\\left\\{x_r|y_c|,|x_c|y_r,x_ry_r\\right\\}\n",
    "$$\n",
    "$$\n",
    "\\delta_2=\\max\\left\\{x_r(|y_c|+y_r),(|x_c|+x_r)y_r,x_r|y_c|+|x_c|y_r\\right\\}\n",
    "$$\n",
    "\n",
    "である．"
   ]
  },
  {
   "cell_type": "code",
   "execution_count": 27,
   "metadata": {},
   "outputs": [
    {
     "name": "stdout",
     "output_type": "stream",
     "text": [
      "1.5 ± 1.5\n",
      "-1.5 ± 1.5\n",
      "0 ± 2\n",
      "0 ± 1\n"
     ]
    }
   ],
   "source": [
    "X = 0 ± 1\n",
    "Y = 1.5 ± 0.5\n",
    "Z = -0.5 ± 1.5\n",
    "\n",
    "@format midpoint 3\n",
    "println(X + Y)\n",
    "println(X - Y)\n",
    "println(X * Y)\n",
    "println(X / Y)"
   ]
  },
  {
   "cell_type": "markdown",
   "metadata": {},
   "source": [
    "## 関数の値域評価\n",
    "\n",
    "$ \\boldsymbol{I}\\in\\mathbb{IR}$をある区間とし，$f:D\\subset\\mathbb{R}\\to\\mathbb{R}$を領域 $D$ で連続な関数とする．\n",
    "このとき関数 $f$ は $\\mathbb{IR}$ 上の関数として拡張できる．\n",
    "\n",
    "$$\n",
    "\tf(\\boldsymbol{I})=\\{f(x):x\\in\\boldsymbol{I}\\}\n",
    "$$\n",
    "\n",
    "この $f(\\boldsymbol{I})$ は関数の値域で，これを厳密に計算することは非線形関数の場合不可能である．よって\n",
    "\n",
    "$$\n",
    "\tf(\\boldsymbol{I})\\subseteq [a,b]\n",
    "$$\n",
    "\n",
    "となる区間 $[a,b]$ で関数の値域を包含する．これを $f$ の区間 $\\boldsymbol{I}$ における**区間拡張**（区間拡張は一意的でないことに注意！）といい，$f_{[\\,]}(\\boldsymbol{I})=[a,b]$ と表す．\n",
    "\n",
    "**注意**　IEEE 754 標準規格における丸めに従っているのは「**四則演算・平方根**」だけ．それ以外の関数（例えば，$\\sin$，$\\cos$ などは）丸めの向きの\n",
    "変更が不可能（**自作するか，丸めに対応し作成されたものを使う**こと）．ただし，デフォルトの関数も精度が十分に高く作られているため，精度保証などを考えない場合はそれで十分．\n",
    "\n",
    "### 例\n",
    "\n",
    "例えば，関数 $f(x)=x^2+2x$ を考える．関数に区間を単純に代入すると\n",
    "\\begin{align*}\n",
    "\tx&\\in[0.9,1.1]\\\\\n",
    "\tx^2&\\in[0.81,1.21]\\\\\n",
    "\t2x&\\in[1.8,2.2]\\\\\n",
    "\tx^2+2x&\\in[2.61,3.41]\\\\\n",
    "\\end{align*}"
   ]
  },
  {
   "cell_type": "code",
   "execution_count": 28,
   "metadata": {},
   "outputs": [
    {
     "name": "stdout",
     "output_type": "stream",
     "text": [
      "[2.6099, 3.4101]\n"
     ]
    },
    {
     "data": {
      "image/svg+xml": [
       "<?xml version=\"1.0\" encoding=\"utf-8\"?>\n",
       "<svg xmlns=\"http://www.w3.org/2000/svg\" xmlns:xlink=\"http://www.w3.org/1999/xlink\" width=\"600\" height=\"400\" viewBox=\"0 0 2400 1600\">\n",
       "<defs>\n",
       "  <clipPath id=\"clip720\">\n",
       "    <rect x=\"0\" y=\"0\" width=\"2400\" height=\"1600\"/>\n",
       "  </clipPath>\n",
       "</defs>\n",
       "<path clip-path=\"url(#clip720)\" d=\"\n",
       "M0 1600 L2400 1600 L2400 0 L0 0  Z\n",
       "  \" fill=\"#ffffff\" fill-rule=\"evenodd\" fill-opacity=\"1\"/>\n",
       "<defs>\n",
       "  <clipPath id=\"clip721\">\n",
       "    <rect x=\"480\" y=\"0\" width=\"1681\" height=\"1600\"/>\n",
       "  </clipPath>\n",
       "</defs>\n",
       "<path clip-path=\"url(#clip720)\" d=\"\n",
       "M202.227 1423.18 L2352.76 1423.18 L2352.76 47.2441 L202.227 47.2441  Z\n",
       "  \" fill=\"#ffffff\" fill-rule=\"evenodd\" fill-opacity=\"1\"/>\n",
       "<defs>\n",
       "  <clipPath id=\"clip722\">\n",
       "    <rect x=\"202\" y=\"47\" width=\"2152\" height=\"1377\"/>\n",
       "  </clipPath>\n",
       "</defs>\n",
       "<polyline clip-path=\"url(#clip722)\" style=\"stroke:#000000; stroke-linecap:butt; stroke-linejoin:round; stroke-width:2; stroke-opacity:0.1; fill:none\" points=\"\n",
       "  263.091,1423.18 263.091,47.2441 \n",
       "  \"/>\n",
       "<polyline clip-path=\"url(#clip722)\" style=\"stroke:#000000; stroke-linecap:butt; stroke-linejoin:round; stroke-width:2; stroke-opacity:0.1; fill:none\" points=\"\n",
       "  601.225,1423.18 601.225,47.2441 \n",
       "  \"/>\n",
       "<polyline clip-path=\"url(#clip722)\" style=\"stroke:#000000; stroke-linecap:butt; stroke-linejoin:round; stroke-width:2; stroke-opacity:0.1; fill:none\" points=\"\n",
       "  939.358,1423.18 939.358,47.2441 \n",
       "  \"/>\n",
       "<polyline clip-path=\"url(#clip722)\" style=\"stroke:#000000; stroke-linecap:butt; stroke-linejoin:round; stroke-width:2; stroke-opacity:0.1; fill:none\" points=\"\n",
       "  1277.49,1423.18 1277.49,47.2441 \n",
       "  \"/>\n",
       "<polyline clip-path=\"url(#clip722)\" style=\"stroke:#000000; stroke-linecap:butt; stroke-linejoin:round; stroke-width:2; stroke-opacity:0.1; fill:none\" points=\"\n",
       "  1615.63,1423.18 1615.63,47.2441 \n",
       "  \"/>\n",
       "<polyline clip-path=\"url(#clip722)\" style=\"stroke:#000000; stroke-linecap:butt; stroke-linejoin:round; stroke-width:2; stroke-opacity:0.1; fill:none\" points=\"\n",
       "  1953.76,1423.18 1953.76,47.2441 \n",
       "  \"/>\n",
       "<polyline clip-path=\"url(#clip722)\" style=\"stroke:#000000; stroke-linecap:butt; stroke-linejoin:round; stroke-width:2; stroke-opacity:0.1; fill:none\" points=\"\n",
       "  2291.89,1423.18 2291.89,47.2441 \n",
       "  \"/>\n",
       "<polyline clip-path=\"url(#clip720)\" style=\"stroke:#000000; stroke-linecap:butt; stroke-linejoin:round; stroke-width:4; stroke-opacity:1; fill:none\" points=\"\n",
       "  202.227,1423.18 2352.76,1423.18 \n",
       "  \"/>\n",
       "<polyline clip-path=\"url(#clip720)\" style=\"stroke:#000000; stroke-linecap:butt; stroke-linejoin:round; stroke-width:4; stroke-opacity:1; fill:none\" points=\"\n",
       "  263.091,1423.18 263.091,1404.28 \n",
       "  \"/>\n",
       "<polyline clip-path=\"url(#clip720)\" style=\"stroke:#000000; stroke-linecap:butt; stroke-linejoin:round; stroke-width:4; stroke-opacity:1; fill:none\" points=\"\n",
       "  601.225,1423.18 601.225,1404.28 \n",
       "  \"/>\n",
       "<polyline clip-path=\"url(#clip720)\" style=\"stroke:#000000; stroke-linecap:butt; stroke-linejoin:round; stroke-width:4; stroke-opacity:1; fill:none\" points=\"\n",
       "  939.358,1423.18 939.358,1404.28 \n",
       "  \"/>\n",
       "<polyline clip-path=\"url(#clip720)\" style=\"stroke:#000000; stroke-linecap:butt; stroke-linejoin:round; stroke-width:4; stroke-opacity:1; fill:none\" points=\"\n",
       "  1277.49,1423.18 1277.49,1404.28 \n",
       "  \"/>\n",
       "<polyline clip-path=\"url(#clip720)\" style=\"stroke:#000000; stroke-linecap:butt; stroke-linejoin:round; stroke-width:4; stroke-opacity:1; fill:none\" points=\"\n",
       "  1615.63,1423.18 1615.63,1404.28 \n",
       "  \"/>\n",
       "<polyline clip-path=\"url(#clip720)\" style=\"stroke:#000000; stroke-linecap:butt; stroke-linejoin:round; stroke-width:4; stroke-opacity:1; fill:none\" points=\"\n",
       "  1953.76,1423.18 1953.76,1404.28 \n",
       "  \"/>\n",
       "<polyline clip-path=\"url(#clip720)\" style=\"stroke:#000000; stroke-linecap:butt; stroke-linejoin:round; stroke-width:4; stroke-opacity:1; fill:none\" points=\"\n",
       "  2291.89,1423.18 2291.89,1404.28 \n",
       "  \"/>\n",
       "<path clip-path=\"url(#clip720)\" d=\"M232.559 1468.75 L262.235 1468.75 L262.235 1472.69 L232.559 1472.69 L232.559 1468.75 Z\" fill=\"#000000\" fill-rule=\"evenodd\" fill-opacity=\"1\" /><path clip-path=\"url(#clip720)\" d=\"M286.494 1466.95 Q289.851 1467.66 291.726 1469.93 Q293.624 1472.2 293.624 1475.53 Q293.624 1480.65 290.105 1483.45 Q286.587 1486.25 280.105 1486.25 Q277.929 1486.25 275.615 1485.81 Q273.323 1485.39 270.869 1484.54 L270.869 1480.02 Q272.814 1481.16 275.128 1481.74 Q277.443 1482.32 279.966 1482.32 Q284.365 1482.32 286.656 1480.58 Q288.971 1478.84 288.971 1475.53 Q288.971 1472.48 286.818 1470.77 Q284.689 1469.03 280.869 1469.03 L276.841 1469.03 L276.841 1465.19 L281.054 1465.19 Q284.503 1465.19 286.332 1463.82 Q288.161 1462.43 288.161 1459.84 Q288.161 1457.18 286.263 1455.77 Q284.388 1454.33 280.869 1454.33 Q278.948 1454.33 276.749 1454.75 Q274.55 1455.16 271.911 1456.04 L271.911 1451.88 Q274.573 1451.14 276.888 1450.77 Q279.226 1450.39 281.286 1450.39 Q286.61 1450.39 289.712 1452.83 Q292.814 1455.23 292.814 1459.35 Q292.814 1462.22 291.17 1464.21 Q289.527 1466.18 286.494 1466.95 Z\" fill=\"#000000\" fill-rule=\"evenodd\" fill-opacity=\"1\" /><path clip-path=\"url(#clip720)\" d=\"M571.167 1468.75 L600.843 1468.75 L600.843 1472.69 L571.167 1472.69 L571.167 1468.75 Z\" fill=\"#000000\" fill-rule=\"evenodd\" fill-opacity=\"1\" /><path clip-path=\"url(#clip720)\" d=\"M614.963 1481.64 L631.283 1481.64 L631.283 1485.58 L609.338 1485.58 L609.338 1481.64 Q612 1478.89 616.584 1474.26 Q621.19 1469.61 622.371 1468.27 Q624.616 1465.74 625.496 1464.01 Q626.398 1462.25 626.398 1460.56 Q626.398 1457.8 624.454 1456.07 Q622.533 1454.33 619.431 1454.33 Q617.232 1454.33 614.778 1455.09 Q612.348 1455.86 609.57 1457.41 L609.57 1452.69 Q612.394 1451.55 614.847 1450.97 Q617.301 1450.39 619.338 1450.39 Q624.709 1450.39 627.903 1453.08 Q631.097 1455.77 631.097 1460.26 Q631.097 1462.39 630.287 1464.31 Q629.5 1466.2 627.394 1468.8 Q626.815 1469.47 623.713 1472.69 Q620.611 1475.88 614.963 1481.64 Z\" fill=\"#000000\" fill-rule=\"evenodd\" fill-opacity=\"1\" /><path clip-path=\"url(#clip720)\" d=\"M909.115 1468.75 L938.791 1468.75 L938.791 1472.69 L909.115 1472.69 L909.115 1468.75 Z\" fill=\"#000000\" fill-rule=\"evenodd\" fill-opacity=\"1\" /><path clip-path=\"url(#clip720)\" d=\"M949.694 1481.64 L957.333 1481.64 L957.333 1455.28 L949.023 1456.95 L949.023 1452.69 L957.286 1451.02 L961.962 1451.02 L961.962 1481.64 L969.601 1481.64 L969.601 1485.58 L949.694 1485.58 L949.694 1481.64 Z\" fill=\"#000000\" fill-rule=\"evenodd\" fill-opacity=\"1\" /><path clip-path=\"url(#clip720)\" d=\"M1277.49 1454.1 Q1273.88 1454.1 1272.05 1457.66 Q1270.25 1461.2 1270.25 1468.33 Q1270.25 1475.44 1272.05 1479.01 Q1273.88 1482.55 1277.49 1482.55 Q1281.13 1482.55 1282.93 1479.01 Q1284.76 1475.44 1284.76 1468.33 Q1284.76 1461.2 1282.93 1457.66 Q1281.13 1454.1 1277.49 1454.1 M1277.49 1450.39 Q1283.3 1450.39 1286.36 1455 Q1289.44 1459.58 1289.44 1468.33 Q1289.44 1477.06 1286.36 1481.67 Q1283.3 1486.25 1277.49 1486.25 Q1271.68 1486.25 1268.6 1481.67 Q1265.55 1477.06 1265.55 1468.33 Q1265.55 1459.58 1268.6 1455 Q1271.68 1450.39 1277.49 1450.39 Z\" fill=\"#000000\" fill-rule=\"evenodd\" fill-opacity=\"1\" /><path clip-path=\"url(#clip720)\" d=\"M1606.01 1481.64 L1613.65 1481.64 L1613.65 1455.28 L1605.34 1456.95 L1605.34 1452.69 L1613.6 1451.02 L1618.28 1451.02 L1618.28 1481.64 L1625.91 1481.64 L1625.91 1485.58 L1606.01 1485.58 L1606.01 1481.64 Z\" fill=\"#000000\" fill-rule=\"evenodd\" fill-opacity=\"1\" /><path clip-path=\"url(#clip720)\" d=\"M1948.41 1481.64 L1964.73 1481.64 L1964.73 1485.58 L1942.79 1485.58 L1942.79 1481.64 Q1945.45 1478.89 1950.03 1474.26 Q1954.64 1469.61 1955.82 1468.27 Q1958.06 1465.74 1958.94 1464.01 Q1959.85 1462.25 1959.85 1460.56 Q1959.85 1457.8 1957.9 1456.07 Q1955.98 1454.33 1952.88 1454.33 Q1950.68 1454.33 1948.23 1455.09 Q1945.8 1455.86 1943.02 1457.41 L1943.02 1452.69 Q1945.84 1451.55 1948.3 1450.97 Q1950.75 1450.39 1952.79 1450.39 Q1958.16 1450.39 1961.35 1453.08 Q1964.55 1455.77 1964.55 1460.26 Q1964.55 1462.39 1963.74 1464.31 Q1962.95 1466.2 1960.84 1468.8 Q1960.26 1469.47 1957.16 1472.69 Q1954.06 1475.88 1948.41 1481.64 Z\" fill=\"#000000\" fill-rule=\"evenodd\" fill-opacity=\"1\" /><path clip-path=\"url(#clip720)\" d=\"M2296.14 1466.95 Q2299.5 1467.66 2301.37 1469.93 Q2303.27 1472.2 2303.27 1475.53 Q2303.27 1480.65 2299.75 1483.45 Q2296.23 1486.25 2289.75 1486.25 Q2287.57 1486.25 2285.26 1485.81 Q2282.97 1485.39 2280.51 1484.54 L2280.51 1480.02 Q2282.46 1481.16 2284.77 1481.74 Q2287.09 1482.32 2289.61 1482.32 Q2294.01 1482.32 2296.3 1480.58 Q2298.62 1478.84 2298.62 1475.53 Q2298.62 1472.48 2296.46 1470.77 Q2294.33 1469.03 2290.51 1469.03 L2286.49 1469.03 L2286.49 1465.19 L2290.7 1465.19 Q2294.15 1465.19 2295.98 1463.82 Q2297.81 1462.43 2297.81 1459.84 Q2297.81 1457.18 2295.91 1455.77 Q2294.03 1454.33 2290.51 1454.33 Q2288.59 1454.33 2286.39 1454.75 Q2284.2 1455.16 2281.56 1456.04 L2281.56 1451.88 Q2284.22 1451.14 2286.53 1450.77 Q2288.87 1450.39 2290.93 1450.39 Q2296.26 1450.39 2299.36 1452.83 Q2302.46 1455.23 2302.46 1459.35 Q2302.46 1462.22 2300.82 1464.21 Q2299.17 1466.18 2296.14 1466.95 Z\" fill=\"#000000\" fill-rule=\"evenodd\" fill-opacity=\"1\" /><path clip-path=\"url(#clip720)\" d=\"M1291.67 1545.44 Q1291.67 1547.24 1290.54 1548.27 Q1289.41 1549.27 1288.12 1549.27 Q1286.9 1549.27 1286.25 1548.56 Q1285.61 1547.85 1285.61 1546.95 Q1285.61 1545.73 1286.51 1544.66 Q1287.41 1543.6 1288.77 1543.37 Q1287.45 1542.54 1285.48 1542.54 Q1284.19 1542.54 1283.07 1543.21 Q1281.97 1543.89 1281.29 1544.76 Q1280.65 1545.63 1280.07 1546.88 Q1279.52 1548.11 1279.3 1548.85 Q1279.1 1549.56 1278.94 1550.33 L1276.69 1559.35 Q1275.59 1563.63 1275.59 1565.15 Q1275.59 1567.01 1276.5 1568.27 Q1277.4 1569.49 1279.2 1569.49 Q1279.91 1569.49 1280.72 1569.3 Q1281.52 1569.07 1282.55 1568.5 Q1283.61 1567.88 1284.55 1566.98 Q1285.51 1566.05 1286.45 1564.47 Q1287.38 1562.89 1287.99 1560.86 Q1288.19 1560.15 1288.83 1560.15 Q1289.64 1560.15 1289.64 1560.8 Q1289.64 1561.35 1289.19 1562.5 Q1288.77 1563.63 1287.83 1565.11 Q1286.93 1566.56 1285.74 1567.88 Q1284.55 1569.17 1282.78 1570.07 Q1281 1570.97 1279.07 1570.97 Q1276.3 1570.97 1274.47 1569.49 Q1272.63 1568.01 1271.96 1565.95 Q1271.79 1566.24 1271.57 1566.63 Q1271.34 1567.01 1270.67 1567.88 Q1270.02 1568.72 1269.28 1569.36 Q1268.54 1569.98 1267.38 1570.46 Q1266.25 1570.97 1265.03 1570.97 Q1263.48 1570.97 1262.1 1570.52 Q1260.75 1570.07 1259.78 1569.04 Q1258.82 1568.01 1258.82 1566.59 Q1258.82 1565.02 1259.88 1563.92 Q1260.97 1562.79 1262.45 1562.79 Q1263.39 1562.79 1264.13 1563.34 Q1264.9 1563.89 1264.9 1565.08 Q1264.9 1566.4 1264 1567.4 Q1263.1 1568.4 1261.81 1568.66 Q1263.13 1569.49 1265.1 1569.49 Q1267.22 1569.49 1268.9 1567.63 Q1270.57 1565.76 1271.38 1562.63 Q1273.37 1555.13 1274.15 1551.78 Q1274.92 1548.4 1274.92 1546.95 Q1274.92 1545.6 1274.56 1544.66 Q1274.21 1543.73 1273.6 1543.31 Q1273.02 1542.86 1272.47 1542.7 Q1271.96 1542.54 1271.38 1542.54 Q1270.41 1542.54 1269.31 1542.92 Q1268.25 1543.31 1266.96 1544.21 Q1265.71 1545.08 1264.52 1546.88 Q1263.32 1548.69 1262.52 1551.17 Q1262.36 1551.91 1261.65 1551.91 Q1260.88 1551.88 1260.88 1551.23 Q1260.88 1550.69 1261.29 1549.56 Q1261.75 1548.4 1262.65 1546.95 Q1263.58 1545.5 1264.77 1544.21 Q1266 1542.89 1267.77 1541.99 Q1269.57 1541.09 1271.5 1541.09 Q1272.37 1541.09 1273.21 1541.28 Q1274.08 1541.44 1275.11 1541.93 Q1276.17 1542.41 1277.11 1543.47 Q1278.04 1544.53 1278.62 1546.08 Q1279.01 1545.34 1279.52 1544.63 Q1280.07 1543.92 1280.91 1543.05 Q1281.78 1542.15 1282.97 1541.64 Q1284.19 1541.09 1285.55 1541.09 Q1286.87 1541.09 1288.15 1541.44 Q1289.44 1541.76 1290.54 1542.83 Q1291.67 1543.86 1291.67 1545.44 Z\" fill=\"#000000\" fill-rule=\"evenodd\" fill-opacity=\"1\" /><polyline clip-path=\"url(#clip722)\" style=\"stroke:#000000; stroke-linecap:butt; stroke-linejoin:round; stroke-width:2; stroke-opacity:0.1; fill:none\" points=\"\n",
       "  202.227,1303.11 2352.76,1303.11 \n",
       "  \"/>\n",
       "<polyline clip-path=\"url(#clip722)\" style=\"stroke:#000000; stroke-linecap:butt; stroke-linejoin:round; stroke-width:2; stroke-opacity:0.1; fill:none\" points=\"\n",
       "  202.227,897.469 2352.76,897.469 \n",
       "  \"/>\n",
       "<polyline clip-path=\"url(#clip722)\" style=\"stroke:#000000; stroke-linecap:butt; stroke-linejoin:round; stroke-width:2; stroke-opacity:0.1; fill:none\" points=\"\n",
       "  202.227,491.827 2352.76,491.827 \n",
       "  \"/>\n",
       "<polyline clip-path=\"url(#clip722)\" style=\"stroke:#000000; stroke-linecap:butt; stroke-linejoin:round; stroke-width:2; stroke-opacity:0.1; fill:none\" points=\"\n",
       "  202.227,86.1857 2352.76,86.1857 \n",
       "  \"/>\n",
       "<polyline clip-path=\"url(#clip720)\" style=\"stroke:#000000; stroke-linecap:butt; stroke-linejoin:round; stroke-width:4; stroke-opacity:1; fill:none\" points=\"\n",
       "  202.227,1423.18 202.227,47.2441 \n",
       "  \"/>\n",
       "<polyline clip-path=\"url(#clip720)\" style=\"stroke:#000000; stroke-linecap:butt; stroke-linejoin:round; stroke-width:4; stroke-opacity:1; fill:none\" points=\"\n",
       "  202.227,1303.11 221.125,1303.11 \n",
       "  \"/>\n",
       "<polyline clip-path=\"url(#clip720)\" style=\"stroke:#000000; stroke-linecap:butt; stroke-linejoin:round; stroke-width:4; stroke-opacity:1; fill:none\" points=\"\n",
       "  202.227,897.469 221.125,897.469 \n",
       "  \"/>\n",
       "<polyline clip-path=\"url(#clip720)\" style=\"stroke:#000000; stroke-linecap:butt; stroke-linejoin:round; stroke-width:4; stroke-opacity:1; fill:none\" points=\"\n",
       "  202.227,491.827 221.125,491.827 \n",
       "  \"/>\n",
       "<polyline clip-path=\"url(#clip720)\" style=\"stroke:#000000; stroke-linecap:butt; stroke-linejoin:round; stroke-width:4; stroke-opacity:1; fill:none\" points=\"\n",
       "  202.227,86.1857 221.125,86.1857 \n",
       "  \"/>\n",
       "<path clip-path=\"url(#clip720)\" d=\"M154.283 1288.91 Q150.672 1288.91 148.843 1292.47 Q147.038 1296.02 147.038 1303.14 Q147.038 1310.25 148.843 1313.82 Q150.672 1317.36 154.283 1317.36 Q157.917 1317.36 159.723 1313.82 Q161.552 1310.25 161.552 1303.14 Q161.552 1296.02 159.723 1292.47 Q157.917 1288.91 154.283 1288.91 M154.283 1285.2 Q160.093 1285.2 163.149 1289.81 Q166.227 1294.39 166.227 1303.14 Q166.227 1311.87 163.149 1316.48 Q160.093 1321.06 154.283 1321.06 Q148.473 1321.06 145.394 1316.48 Q142.339 1311.87 142.339 1303.14 Q142.339 1294.39 145.394 1289.81 Q148.473 1285.2 154.283 1285.2 Z\" fill=\"#000000\" fill-rule=\"evenodd\" fill-opacity=\"1\" /><path clip-path=\"url(#clip720)\" d=\"M145.325 880.189 L163.681 880.189 L163.681 884.124 L149.607 884.124 L149.607 892.596 Q150.626 892.249 151.644 892.087 Q152.663 891.901 153.681 891.901 Q159.468 891.901 162.848 895.073 Q166.227 898.244 166.227 903.661 Q166.227 909.239 162.755 912.341 Q159.283 915.42 152.964 915.42 Q150.788 915.42 148.519 915.049 Q146.274 914.679 143.866 913.938 L143.866 909.239 Q145.95 910.374 148.172 910.929 Q150.394 911.485 152.871 911.485 Q156.876 911.485 159.214 909.378 Q161.552 907.272 161.552 903.661 Q161.552 900.05 159.214 897.943 Q156.876 895.837 152.871 895.837 Q150.996 895.837 149.121 896.253 Q147.269 896.67 145.325 897.55 L145.325 880.189 Z\" fill=\"#000000\" fill-rule=\"evenodd\" fill-opacity=\"1\" /><path clip-path=\"url(#clip720)\" d=\"M114.931 505.172 L122.57 505.172 L122.57 478.806 L114.26 480.473 L114.26 476.214 L122.524 474.547 L127.2 474.547 L127.2 505.172 L134.839 505.172 L134.839 509.107 L114.931 509.107 L114.931 505.172 Z\" fill=\"#000000\" fill-rule=\"evenodd\" fill-opacity=\"1\" /><path clip-path=\"url(#clip720)\" d=\"M154.283 477.626 Q150.672 477.626 148.843 481.191 Q147.038 484.732 147.038 491.862 Q147.038 498.968 148.843 502.533 Q150.672 506.075 154.283 506.075 Q157.917 506.075 159.723 502.533 Q161.552 498.968 161.552 491.862 Q161.552 484.732 159.723 481.191 Q157.917 477.626 154.283 477.626 M154.283 473.922 Q160.093 473.922 163.149 478.529 Q166.227 483.112 166.227 491.862 Q166.227 500.589 163.149 505.195 Q160.093 509.778 154.283 509.778 Q148.473 509.778 145.394 505.195 Q142.339 500.589 142.339 491.862 Q142.339 483.112 145.394 478.529 Q148.473 473.922 154.283 473.922 Z\" fill=\"#000000\" fill-rule=\"evenodd\" fill-opacity=\"1\" /><path clip-path=\"url(#clip720)\" d=\"M115.927 99.5305 L123.566 99.5305 L123.566 73.1649 L115.256 74.8316 L115.256 70.5723 L123.519 68.9057 L128.195 68.9057 L128.195 99.5305 L135.834 99.5305 L135.834 103.466 L115.927 103.466 L115.927 99.5305 Z\" fill=\"#000000\" fill-rule=\"evenodd\" fill-opacity=\"1\" /><path clip-path=\"url(#clip720)\" d=\"M145.325 68.9057 L163.681 68.9057 L163.681 72.8408 L149.607 72.8408 L149.607 81.313 Q150.626 80.9658 151.644 80.8038 Q152.663 80.6186 153.681 80.6186 Q159.468 80.6186 162.848 83.7899 Q166.227 86.9611 166.227 92.3778 Q166.227 97.9564 162.755 101.058 Q159.283 104.137 152.964 104.137 Q150.788 104.137 148.519 103.767 Q146.274 103.396 143.866 102.655 L143.866 97.9564 Q145.95 99.0907 148.172 99.6462 Q150.394 100.202 152.871 100.202 Q156.876 100.202 159.214 98.0953 Q161.552 95.9889 161.552 92.3778 Q161.552 88.7667 159.214 86.6602 Q156.876 84.5537 152.871 84.5537 Q150.996 84.5537 149.121 84.9704 Q147.269 85.3871 145.325 86.2667 L145.325 68.9057 Z\" fill=\"#000000\" fill-rule=\"evenodd\" fill-opacity=\"1\" /><path clip-path=\"url(#clip720)\" d=\"M26.4959 765.105 Q28.2672 765.105 29.3622 766.232 Q30.4572 767.327 30.4572 768.712 Q30.4572 769.71 29.8453 770.451 Q29.2334 771.159 28.1706 771.159 Q27.0756 771.159 25.9162 770.322 Q24.7567 769.485 24.5957 767.585 Q23.4041 768.841 23.4041 770.837 Q23.4041 771.836 24.0482 772.673 Q24.6601 773.478 25.6585 773.929 Q26.6891 774.412 32.5184 775.507 Q34.4185 775.861 36.2542 776.184 Q38.09 776.506 40.0223 776.892 L40.0223 771.417 Q40.0223 770.709 40.0545 770.419 Q40.0867 770.129 40.2478 769.903 Q40.4088 769.646 40.7631 769.646 Q41.6648 769.646 41.8903 770.064 Q42.0835 770.451 42.0835 771.61 L42.0835 777.279 L62.9851 781.24 Q63.597 781.336 65.5294 781.755 Q67.4295 782.142 70.5535 783.076 Q73.7097 784.01 75.5776 784.944 Q76.6404 785.459 77.6388 786.135 Q78.6694 786.779 79.6999 787.713 Q80.7305 788.647 81.3424 789.871 Q81.9866 791.095 81.9866 792.383 Q81.9866 794.573 80.7627 796.28 Q79.5389 797.987 77.4455 797.987 Q75.6742 797.987 74.5792 796.892 Q73.4842 795.765 73.4842 794.38 Q73.4842 793.381 74.0961 792.673 Q74.708 791.932 75.7708 791.932 Q76.2217 791.932 76.737 792.093 Q77.2523 792.254 77.832 792.609 Q78.4439 792.963 78.8626 793.736 Q79.2813 794.509 79.3457 795.571 Q80.5373 794.315 80.5373 792.383 Q80.5373 791.771 80.2796 791.224 Q80.0542 790.676 79.4745 790.225 Q78.8948 789.742 78.3151 789.388 Q77.7676 789.034 76.7048 788.679 Q75.6742 788.325 74.9013 788.1 Q74.1283 787.874 72.7435 787.584 Q71.3586 787.262 70.5213 787.101 Q69.7161 786.94 68.138 786.65 L42.0835 781.723 L42.0835 786.071 Q42.0835 786.844 42.0513 787.166 Q42.0191 787.456 41.8581 787.681 Q41.6648 787.906 41.2783 787.906 Q40.6664 787.906 40.4088 787.649 Q40.1189 787.359 40.0867 787.037 Q40.0223 786.715 40.0223 785.942 L40.0223 781.369 Q31.8742 779.823 29.6842 779.211 Q27.3654 778.502 25.7551 777.407 Q24.1126 776.312 23.3397 775.089 Q22.5667 773.865 22.2769 772.866 Q21.9548 771.836 21.9548 770.837 Q21.9548 768.583 23.1787 766.844 Q24.3703 765.105 26.4959 765.105 Z\" fill=\"#000000\" fill-rule=\"evenodd\" fill-opacity=\"1\" /><path clip-path=\"url(#clip720)\" d=\"M51.9707 757.277 Q40.8275 757.277 31.842 753.122 Q28.0739 751.351 24.9178 748.871 Q21.7616 746.391 20.3767 744.749 Q18.9919 743.106 18.9919 742.656 Q18.9919 742.011 19.636 741.979 Q19.9581 741.979 20.7632 742.849 Q31.5844 753.477 51.9707 753.445 Q72.4214 753.445 82.8239 743.106 Q83.9511 741.979 84.3054 741.979 Q84.9495 741.979 84.9495 742.656 Q84.9495 743.106 83.6291 744.685 Q82.3086 746.263 79.2813 748.71 Q76.2539 751.158 72.5502 752.929 Q63.5648 757.277 51.9707 757.277 Z\" fill=\"#000000\" fill-rule=\"evenodd\" fill-opacity=\"1\" /><path clip-path=\"url(#clip720)\" d=\"M43.6616 704.116 Q45.4651 704.116 46.4957 705.243 Q47.4941 706.37 47.4941 707.658 Q47.4941 708.882 46.7856 709.526 Q46.077 710.17 45.1753 710.17 Q43.9514 710.17 42.8886 709.269 Q41.8258 708.367 41.6004 707.014 Q40.7631 708.335 40.7631 710.299 Q40.7631 711.587 41.4394 712.715 Q42.1157 713.81 42.9853 714.486 Q43.8548 715.13 45.1108 715.71 Q46.3347 716.257 47.0754 716.483 Q47.7839 716.676 48.5569 716.837 L57.5745 719.091 Q61.8579 720.186 63.3716 720.186 Q65.2395 720.186 66.4955 719.285 Q67.7194 718.383 67.7194 716.579 Q67.7194 715.871 67.5261 715.066 Q67.3007 714.26 66.721 713.23 Q66.1091 712.167 65.2073 711.233 Q64.2733 710.267 62.6952 709.333 Q61.1172 708.399 59.0882 707.787 Q58.3797 707.594 58.3797 706.95 Q58.3797 706.145 59.0238 706.145 Q59.5713 706.145 60.7307 706.595 Q61.8579 707.014 63.3394 707.948 Q64.7886 708.85 66.1091 710.041 Q67.3973 711.233 68.2991 713.004 Q69.2008 714.776 69.2008 716.708 Q69.2008 719.478 67.7194 721.314 Q66.2379 723.149 64.1767 723.826 Q64.4666 723.987 64.853 724.212 Q65.2395 724.438 66.1091 725.114 Q66.9464 725.758 67.5905 726.499 Q68.2024 727.239 68.6855 728.399 Q69.2008 729.526 69.2008 730.75 Q69.2008 732.296 68.7499 733.681 Q68.2991 735.033 67.2685 735.999 Q66.2379 736.966 64.8208 736.966 Q63.2427 736.966 62.1477 735.903 Q61.0205 734.808 61.0205 733.326 Q61.0205 732.392 61.568 731.652 Q62.1155 730.879 63.3072 730.879 Q64.6276 730.879 65.626 731.78 Q66.6244 732.682 66.882 733.97 Q67.7194 732.65 67.7194 730.685 Q67.7194 728.56 65.8514 726.885 Q63.9835 725.21 60.8595 724.405 Q53.3555 722.409 50.0061 721.636 Q46.6245 720.863 45.1753 720.863 Q43.8226 720.863 42.8886 721.217 Q41.9547 721.571 41.536 722.183 Q41.0851 722.763 40.9241 723.31 Q40.7631 723.826 40.7631 724.405 Q40.7631 725.371 41.1495 726.466 Q41.536 727.529 42.4378 728.818 Q43.3073 730.074 45.1108 731.265 Q46.9144 732.457 49.3942 733.262 Q50.135 733.423 50.135 734.131 Q50.1028 734.904 49.4586 734.904 Q48.9111 734.904 47.7839 734.486 Q46.6245 734.035 45.1753 733.133 Q43.726 732.199 42.4378 731.008 Q41.1173 729.784 40.2156 728.012 Q39.3138 726.209 39.3138 724.276 Q39.3138 723.407 39.507 722.57 Q39.6681 721.7 40.1511 720.669 Q40.6342 719.607 41.697 718.673 Q42.7598 717.739 44.3057 717.159 Q43.565 716.773 42.8564 716.257 Q42.1479 715.71 41.2783 714.872 Q40.3766 714.003 39.8613 712.811 Q39.3138 711.587 39.3138 710.235 Q39.3138 708.914 39.6681 707.626 Q39.9901 706.338 41.0529 705.243 Q42.0835 704.116 43.6616 704.116 Z\" fill=\"#000000\" fill-rule=\"evenodd\" fill-opacity=\"1\" /><path clip-path=\"url(#clip720)\" d=\"M84.3054 697.764 Q83.9833 697.764 83.1782 696.927 Q72.357 686.299 51.9707 686.299 Q31.52 686.299 21.1819 696.508 Q19.9903 697.764 19.636 697.764 Q18.9919 697.764 18.9919 697.12 Q18.9919 696.669 20.3123 695.091 Q21.6328 693.481 24.6601 691.066 Q27.6875 688.618 31.3911 686.814 Q40.3766 682.467 51.9707 682.467 Q63.1139 682.467 72.0994 686.621 Q75.8674 688.393 79.0236 690.872 Q82.1798 693.352 83.5646 694.995 Q84.9495 696.637 84.9495 697.12 Q84.9495 697.764 84.3054 697.764 Z\" fill=\"#000000\" fill-rule=\"evenodd\" fill-opacity=\"1\" /><polyline clip-path=\"url(#clip722)\" style=\"stroke:#009af9; stroke-linecap:butt; stroke-linejoin:round; stroke-width:8; stroke-opacity:1; fill:none\" points=\"\n",
       "  263.091,1059.73 296.905,1091.37 330.718,1121.38 364.532,1149.78 398.345,1176.55 432.158,1201.7 465.972,1225.23 499.785,1247.13 533.598,1267.41 567.412,1286.07 \n",
       "  601.225,1303.11 635.038,1318.52 668.852,1332.32 702.665,1344.49 736.478,1355.03 770.292,1363.96 804.105,1371.26 837.918,1376.94 871.732,1380.99 905.545,1383.43 \n",
       "  939.358,1384.24 973.172,1383.43 1006.98,1380.99 1040.8,1376.94 1074.61,1371.26 1108.42,1363.96 1142.24,1355.03 1176.05,1344.49 1209.87,1332.32 1243.68,1318.52 \n",
       "  1277.49,1303.11 1311.31,1286.07 1345.12,1267.41 1378.93,1247.13 1412.75,1225.23 1446.56,1201.7 1480.37,1176.55 1514.19,1149.78 1548,1121.38 1581.81,1091.37 \n",
       "  1615.63,1059.73 1649.44,1026.46 1683.25,991.577 1717.07,955.07 1750.88,916.939 1784.69,877.186 1818.51,835.811 1852.32,792.813 1886.13,748.192 1919.95,701.949 \n",
       "  1953.76,654.084 1987.57,604.595 2021.39,553.485 2055.2,500.751 2089.01,446.395 2122.83,390.417 2156.64,332.816 2190.45,273.592 2224.27,212.746 2258.08,150.277 \n",
       "  2291.89,86.1857 \n",
       "  \"/>\n",
       "</svg>\n"
      ]
     },
     "execution_count": 28,
     "metadata": {},
     "output_type": "execute_result"
    }
   ],
   "source": [
    "@format standard 5\n",
    "using Plots\n",
    "\n",
    "function f(x)\n",
    "    return x.^2+2x\n",
    "end\n",
    "\n",
    "x = range(-3, 3, step = 0.1);\n",
    "y = f(x);\n",
    "\n",
    "println(f(0.9 .. 1.1))\n",
    "plot(x, y, xlabel=\"\\$x\\$\", ylabel=\"\\$f\\\\,(x)\\$\", linewidth =2, legend = false)"
   ]
  },
  {
   "cell_type": "code",
   "execution_count": 29,
   "metadata": {},
   "outputs": [
    {
     "name": "stdout",
     "output_type": "stream",
     "text": [
      "2.6100000000000003\n",
      "3.41\n"
     ]
    }
   ],
   "source": [
    "println(f(0.9))\n",
    "println(f(1.1))"
   ]
  },
  {
   "cell_type": "markdown",
   "metadata": {},
   "source": [
    "$f(x)=x^2+2x$ のときは値域評価が区間拡張を利用しても精度が良い．一方で"
   ]
  },
  {
   "cell_type": "markdown",
   "metadata": {},
   "source": [
    "$f(x)=x^2-2x$;\n",
    "\n",
    "\\begin{align*}\n",
    "\tx&\\in[0.9,1.1]\\\\\n",
    "\tx^2&\\in[0.81,1.21]\\\\\n",
    "\t2x&\\in[1.8,2.2]\\\\\n",
    "\tx^2-2x&\\in[-1.39,-0.59]\\mbox{（幅0.8!）}\\\\\n",
    "\\end{align*}\n"
   ]
  },
  {
   "cell_type": "code",
   "execution_count": 30,
   "metadata": {},
   "outputs": [
    {
     "name": "stdout",
     "output_type": "stream",
     "text": [
      "[-1.3901, -0.58999]\n",
      "-1\n",
      "-0.99\n"
     ]
    },
    {
     "data": {
      "image/svg+xml": [
       "<?xml version=\"1.0\" encoding=\"utf-8\"?>\n",
       "<svg xmlns=\"http://www.w3.org/2000/svg\" xmlns:xlink=\"http://www.w3.org/1999/xlink\" width=\"600\" height=\"400\" viewBox=\"0 0 2400 1600\">\n",
       "<defs>\n",
       "  <clipPath id=\"clip760\">\n",
       "    <rect x=\"0\" y=\"0\" width=\"2400\" height=\"1600\"/>\n",
       "  </clipPath>\n",
       "</defs>\n",
       "<path clip-path=\"url(#clip760)\" d=\"\n",
       "M0 1600 L2400 1600 L2400 0 L0 0  Z\n",
       "  \" fill=\"#ffffff\" fill-rule=\"evenodd\" fill-opacity=\"1\"/>\n",
       "<defs>\n",
       "  <clipPath id=\"clip761\">\n",
       "    <rect x=\"480\" y=\"0\" width=\"1681\" height=\"1600\"/>\n",
       "  </clipPath>\n",
       "</defs>\n",
       "<defs>\n",
       "  <clipPath id=\"clip762\">\n",
       "    <rect x=\"202\" y=\"47\" width=\"2152\" height=\"1377\"/>\n",
       "  </clipPath>\n",
       "</defs>\n",
       "<path clip-path=\"url(#clip760)\" d=\"\n",
       "M347.69 1423.18 L2352.76 1423.18 L2352.76 47.2441 L347.69 47.2441  Z\n",
       "  \" fill=\"#ffffff\" fill-rule=\"evenodd\" fill-opacity=\"1\"/>\n",
       "<defs>\n",
       "  <clipPath id=\"clip763\">\n",
       "    <rect x=\"347\" y=\"47\" width=\"2006\" height=\"1377\"/>\n",
       "  </clipPath>\n",
       "</defs>\n",
       "<polyline clip-path=\"url(#clip763)\" style=\"stroke:#000000; stroke-linecap:butt; stroke-linejoin:round; stroke-width:2; stroke-opacity:0.1; fill:none\" points=\"\n",
       "  404.437,1423.18 404.437,47.2441 \n",
       "  \"/>\n",
       "<polyline clip-path=\"url(#clip763)\" style=\"stroke:#000000; stroke-linecap:butt; stroke-linejoin:round; stroke-width:2; stroke-opacity:0.1; fill:none\" points=\"\n",
       "  877.33,1423.18 877.33,47.2441 \n",
       "  \"/>\n",
       "<polyline clip-path=\"url(#clip763)\" style=\"stroke:#000000; stroke-linecap:butt; stroke-linejoin:round; stroke-width:2; stroke-opacity:0.1; fill:none\" points=\"\n",
       "  1350.22,1423.18 1350.22,47.2441 \n",
       "  \"/>\n",
       "<polyline clip-path=\"url(#clip763)\" style=\"stroke:#000000; stroke-linecap:butt; stroke-linejoin:round; stroke-width:2; stroke-opacity:0.1; fill:none\" points=\"\n",
       "  1823.12,1423.18 1823.12,47.2441 \n",
       "  \"/>\n",
       "<polyline clip-path=\"url(#clip763)\" style=\"stroke:#000000; stroke-linecap:butt; stroke-linejoin:round; stroke-width:2; stroke-opacity:0.1; fill:none\" points=\"\n",
       "  2296.01,1423.18 2296.01,47.2441 \n",
       "  \"/>\n",
       "<polyline clip-path=\"url(#clip760)\" style=\"stroke:#000000; stroke-linecap:butt; stroke-linejoin:round; stroke-width:4; stroke-opacity:1; fill:none\" points=\"\n",
       "  347.69,1423.18 2352.76,1423.18 \n",
       "  \"/>\n",
       "<polyline clip-path=\"url(#clip760)\" style=\"stroke:#000000; stroke-linecap:butt; stroke-linejoin:round; stroke-width:4; stroke-opacity:1; fill:none\" points=\"\n",
       "  404.437,1423.18 404.437,1404.28 \n",
       "  \"/>\n",
       "<polyline clip-path=\"url(#clip760)\" style=\"stroke:#000000; stroke-linecap:butt; stroke-linejoin:round; stroke-width:4; stroke-opacity:1; fill:none\" points=\"\n",
       "  877.33,1423.18 877.33,1404.28 \n",
       "  \"/>\n",
       "<polyline clip-path=\"url(#clip760)\" style=\"stroke:#000000; stroke-linecap:butt; stroke-linejoin:round; stroke-width:4; stroke-opacity:1; fill:none\" points=\"\n",
       "  1350.22,1423.18 1350.22,1404.28 \n",
       "  \"/>\n",
       "<polyline clip-path=\"url(#clip760)\" style=\"stroke:#000000; stroke-linecap:butt; stroke-linejoin:round; stroke-width:4; stroke-opacity:1; fill:none\" points=\"\n",
       "  1823.12,1423.18 1823.12,1404.28 \n",
       "  \"/>\n",
       "<polyline clip-path=\"url(#clip760)\" style=\"stroke:#000000; stroke-linecap:butt; stroke-linejoin:round; stroke-width:4; stroke-opacity:1; fill:none\" points=\"\n",
       "  2296.01,1423.18 2296.01,1404.28 \n",
       "  \"/>\n",
       "<path clip-path=\"url(#clip760)\" d=\"M366.74 1454.1 Q363.129 1454.1 361.3 1457.66 Q359.495 1461.2 359.495 1468.33 Q359.495 1475.44 361.3 1479.01 Q363.129 1482.55 366.74 1482.55 Q370.374 1482.55 372.18 1479.01 Q374.009 1475.44 374.009 1468.33 Q374.009 1461.2 372.18 1457.66 Q370.374 1454.1 366.74 1454.1 M366.74 1450.39 Q372.55 1450.39 375.606 1455 Q378.685 1459.58 378.685 1468.33 Q378.685 1477.06 375.606 1481.67 Q372.55 1486.25 366.74 1486.25 Q360.93 1486.25 357.851 1481.67 Q354.796 1477.06 354.796 1468.33 Q354.796 1459.58 357.851 1455 Q360.93 1450.39 366.74 1450.39 Z\" fill=\"#000000\" fill-rule=\"evenodd\" fill-opacity=\"1\" /><path clip-path=\"url(#clip760)\" d=\"M386.902 1479.7 L391.786 1479.7 L391.786 1485.58 L386.902 1485.58 L386.902 1479.7 Z\" fill=\"#000000\" fill-rule=\"evenodd\" fill-opacity=\"1\" /><path clip-path=\"url(#clip760)\" d=\"M402.11 1484.86 L402.11 1480.6 Q403.87 1481.44 405.675 1481.88 Q407.481 1482.32 409.217 1482.32 Q413.846 1482.32 416.277 1479.21 Q418.731 1476.09 419.078 1469.75 Q417.735 1471.74 415.675 1472.8 Q413.615 1473.87 411.115 1473.87 Q405.93 1473.87 402.897 1470.74 Q399.888 1467.59 399.888 1462.15 Q399.888 1456.83 403.036 1453.61 Q406.184 1450.39 411.416 1450.39 Q417.411 1450.39 420.559 1455 Q423.731 1459.58 423.731 1468.33 Q423.731 1476.51 419.842 1481.39 Q415.976 1486.25 409.425 1486.25 Q407.666 1486.25 405.86 1485.9 Q404.055 1485.56 402.11 1484.86 M411.416 1470.21 Q414.564 1470.21 416.393 1468.06 Q418.245 1465.9 418.245 1462.15 Q418.245 1458.43 416.393 1456.27 Q414.564 1454.1 411.416 1454.1 Q408.268 1454.1 406.416 1456.27 Q404.587 1458.43 404.587 1462.15 Q404.587 1465.9 406.416 1468.06 Q408.268 1470.21 411.416 1470.21 Z\" fill=\"#000000\" fill-rule=\"evenodd\" fill-opacity=\"1\" /><path clip-path=\"url(#clip760)\" d=\"M442.133 1454.1 Q438.522 1454.1 436.694 1457.66 Q434.888 1461.2 434.888 1468.33 Q434.888 1475.44 436.694 1479.01 Q438.522 1482.55 442.133 1482.55 Q445.768 1482.55 447.573 1479.01 Q449.402 1475.44 449.402 1468.33 Q449.402 1461.2 447.573 1457.66 Q445.768 1454.1 442.133 1454.1 M442.133 1450.39 Q447.944 1450.39 450.999 1455 Q454.078 1459.58 454.078 1468.33 Q454.078 1477.06 450.999 1481.67 Q447.944 1486.25 442.133 1486.25 Q436.323 1486.25 433.245 1481.67 Q430.189 1477.06 430.189 1468.33 Q430.189 1459.58 433.245 1455 Q436.323 1450.39 442.133 1450.39 Z\" fill=\"#000000\" fill-rule=\"evenodd\" fill-opacity=\"1\" /><path clip-path=\"url(#clip760)\" d=\"M840.131 1454.1 Q836.52 1454.1 834.691 1457.66 Q832.886 1461.2 832.886 1468.33 Q832.886 1475.44 834.691 1479.01 Q836.52 1482.55 840.131 1482.55 Q843.765 1482.55 845.571 1479.01 Q847.399 1475.44 847.399 1468.33 Q847.399 1461.2 845.571 1457.66 Q843.765 1454.1 840.131 1454.1 M840.131 1450.39 Q845.941 1450.39 848.997 1455 Q852.075 1459.58 852.075 1468.33 Q852.075 1477.06 848.997 1481.67 Q845.941 1486.25 840.131 1486.25 Q834.321 1486.25 831.242 1481.67 Q828.187 1477.06 828.187 1468.33 Q828.187 1459.58 831.242 1455 Q834.321 1450.39 840.131 1450.39 Z\" fill=\"#000000\" fill-rule=\"evenodd\" fill-opacity=\"1\" /><path clip-path=\"url(#clip760)\" d=\"M860.293 1479.7 L865.177 1479.7 L865.177 1485.58 L860.293 1485.58 L860.293 1479.7 Z\" fill=\"#000000\" fill-rule=\"evenodd\" fill-opacity=\"1\" /><path clip-path=\"url(#clip760)\" d=\"M875.501 1484.86 L875.501 1480.6 Q877.26 1481.44 879.066 1481.88 Q880.871 1482.32 882.608 1482.32 Q887.237 1482.32 889.668 1479.21 Q892.121 1476.09 892.469 1469.75 Q891.126 1471.74 889.066 1472.8 Q887.006 1473.87 884.506 1473.87 Q879.321 1473.87 876.288 1470.74 Q873.279 1467.59 873.279 1462.15 Q873.279 1456.83 876.427 1453.61 Q879.575 1450.39 884.807 1450.39 Q890.802 1450.39 893.95 1455 Q897.121 1459.58 897.121 1468.33 Q897.121 1476.51 893.232 1481.39 Q889.367 1486.25 882.816 1486.25 Q881.057 1486.25 879.251 1485.9 Q877.446 1485.56 875.501 1484.86 M884.807 1470.21 Q887.955 1470.21 889.783 1468.06 Q891.635 1465.9 891.635 1462.15 Q891.635 1458.43 889.783 1456.27 Q887.955 1454.1 884.807 1454.1 Q881.658 1454.1 879.807 1456.27 Q877.978 1458.43 877.978 1462.15 Q877.978 1465.9 879.807 1468.06 Q881.658 1470.21 884.807 1470.21 Z\" fill=\"#000000\" fill-rule=\"evenodd\" fill-opacity=\"1\" /><path clip-path=\"url(#clip760)\" d=\"M905.57 1451.02 L923.927 1451.02 L923.927 1454.96 L909.853 1454.96 L909.853 1463.43 Q910.871 1463.08 911.89 1462.92 Q912.908 1462.73 913.927 1462.73 Q919.714 1462.73 923.093 1465.9 Q926.473 1469.08 926.473 1474.49 Q926.473 1480.07 923.001 1483.17 Q919.529 1486.25 913.209 1486.25 Q911.033 1486.25 908.765 1485.88 Q906.519 1485.51 904.112 1484.77 L904.112 1480.07 Q906.195 1481.2 908.418 1481.76 Q910.64 1482.32 913.117 1482.32 Q917.121 1482.32 919.459 1480.21 Q921.797 1478.1 921.797 1474.49 Q921.797 1470.88 919.459 1468.77 Q917.121 1466.67 913.117 1466.67 Q911.242 1466.67 909.367 1467.08 Q907.515 1467.5 905.57 1468.38 L905.57 1451.02 Z\" fill=\"#000000\" fill-rule=\"evenodd\" fill-opacity=\"1\" /><path clip-path=\"url(#clip760)\" d=\"M1302.29 1481.64 L1309.93 1481.64 L1309.93 1455.28 L1301.62 1456.95 L1301.62 1452.69 L1309.89 1451.02 L1314.56 1451.02 L1314.56 1481.64 L1322.2 1481.64 L1322.2 1485.58 L1302.29 1485.58 L1302.29 1481.64 Z\" fill=\"#000000\" fill-rule=\"evenodd\" fill-opacity=\"1\" /><path clip-path=\"url(#clip760)\" d=\"M1331.65 1479.7 L1336.53 1479.7 L1336.53 1485.58 L1331.65 1485.58 L1331.65 1479.7 Z\" fill=\"#000000\" fill-rule=\"evenodd\" fill-opacity=\"1\" /><path clip-path=\"url(#clip760)\" d=\"M1356.72 1454.1 Q1353.1 1454.1 1351.28 1457.66 Q1349.47 1461.2 1349.47 1468.33 Q1349.47 1475.44 1351.28 1479.01 Q1353.1 1482.55 1356.72 1482.55 Q1360.35 1482.55 1362.16 1479.01 Q1363.98 1475.44 1363.98 1468.33 Q1363.98 1461.2 1362.16 1457.66 Q1360.35 1454.1 1356.72 1454.1 M1356.72 1450.39 Q1362.53 1450.39 1365.58 1455 Q1368.66 1459.58 1368.66 1468.33 Q1368.66 1477.06 1365.58 1481.67 Q1362.53 1486.25 1356.72 1486.25 Q1350.91 1486.25 1347.83 1481.67 Q1344.77 1477.06 1344.77 1468.33 Q1344.77 1459.58 1347.83 1455 Q1350.91 1450.39 1356.72 1450.39 Z\" fill=\"#000000\" fill-rule=\"evenodd\" fill-opacity=\"1\" /><path clip-path=\"url(#clip760)\" d=\"M1386.88 1454.1 Q1383.27 1454.1 1381.44 1457.66 Q1379.63 1461.2 1379.63 1468.33 Q1379.63 1475.44 1381.44 1479.01 Q1383.27 1482.55 1386.88 1482.55 Q1390.51 1482.55 1392.32 1479.01 Q1394.15 1475.44 1394.15 1468.33 Q1394.15 1461.2 1392.32 1457.66 Q1390.51 1454.1 1386.88 1454.1 M1386.88 1450.39 Q1392.69 1450.39 1395.74 1455 Q1398.82 1459.58 1398.82 1468.33 Q1398.82 1477.06 1395.74 1481.67 Q1392.69 1486.25 1386.88 1486.25 Q1381.07 1486.25 1377.99 1481.67 Q1374.93 1477.06 1374.93 1468.33 Q1374.93 1459.58 1377.99 1455 Q1381.07 1450.39 1386.88 1450.39 Z\" fill=\"#000000\" fill-rule=\"evenodd\" fill-opacity=\"1\" /><path clip-path=\"url(#clip760)\" d=\"M1775.69 1481.64 L1783.32 1481.64 L1783.32 1455.28 L1775.01 1456.95 L1775.01 1452.69 L1783.28 1451.02 L1787.95 1451.02 L1787.95 1481.64 L1795.59 1481.64 L1795.59 1485.58 L1775.69 1485.58 L1775.69 1481.64 Z\" fill=\"#000000\" fill-rule=\"evenodd\" fill-opacity=\"1\" /><path clip-path=\"url(#clip760)\" d=\"M1805.04 1479.7 L1809.92 1479.7 L1809.92 1485.58 L1805.04 1485.58 L1805.04 1479.7 Z\" fill=\"#000000\" fill-rule=\"evenodd\" fill-opacity=\"1\" /><path clip-path=\"url(#clip760)\" d=\"M1830.11 1454.1 Q1826.5 1454.1 1824.67 1457.66 Q1822.86 1461.2 1822.86 1468.33 Q1822.86 1475.44 1824.67 1479.01 Q1826.5 1482.55 1830.11 1482.55 Q1833.74 1482.55 1835.55 1479.01 Q1837.37 1475.44 1837.37 1468.33 Q1837.37 1461.2 1835.55 1457.66 Q1833.74 1454.1 1830.11 1454.1 M1830.11 1450.39 Q1835.92 1450.39 1838.97 1455 Q1842.05 1459.58 1842.05 1468.33 Q1842.05 1477.06 1838.97 1481.67 Q1835.92 1486.25 1830.11 1486.25 Q1824.3 1486.25 1821.22 1481.67 Q1818.16 1477.06 1818.16 1468.33 Q1818.16 1459.58 1821.22 1455 Q1824.3 1450.39 1830.11 1450.39 Z\" fill=\"#000000\" fill-rule=\"evenodd\" fill-opacity=\"1\" /><path clip-path=\"url(#clip760)\" d=\"M1850.31 1451.02 L1868.67 1451.02 L1868.67 1454.96 L1854.6 1454.96 L1854.6 1463.43 Q1855.62 1463.08 1856.63 1462.92 Q1857.65 1462.73 1858.67 1462.73 Q1864.46 1462.73 1867.84 1465.9 Q1871.22 1469.08 1871.22 1474.49 Q1871.22 1480.07 1867.75 1483.17 Q1864.27 1486.25 1857.95 1486.25 Q1855.78 1486.25 1853.51 1485.88 Q1851.26 1485.51 1848.86 1484.77 L1848.86 1480.07 Q1850.94 1481.2 1853.16 1481.76 Q1855.38 1482.32 1857.86 1482.32 Q1861.87 1482.32 1864.2 1480.21 Q1866.54 1478.1 1866.54 1474.49 Q1866.54 1470.88 1864.2 1468.77 Q1861.87 1466.67 1857.86 1466.67 Q1855.99 1466.67 1854.11 1467.08 Q1852.26 1467.5 1850.31 1468.38 L1850.31 1451.02 Z\" fill=\"#000000\" fill-rule=\"evenodd\" fill-opacity=\"1\" /><path clip-path=\"url(#clip760)\" d=\"M2248.08 1481.64 L2255.72 1481.64 L2255.72 1455.28 L2247.41 1456.95 L2247.41 1452.69 L2255.67 1451.02 L2260.35 1451.02 L2260.35 1481.64 L2267.99 1481.64 L2267.99 1485.58 L2248.08 1485.58 L2248.08 1481.64 Z\" fill=\"#000000\" fill-rule=\"evenodd\" fill-opacity=\"1\" /><path clip-path=\"url(#clip760)\" d=\"M2277.43 1479.7 L2282.32 1479.7 L2282.32 1485.58 L2277.43 1485.58 L2277.43 1479.7 Z\" fill=\"#000000\" fill-rule=\"evenodd\" fill-opacity=\"1\" /><path clip-path=\"url(#clip760)\" d=\"M2293.31 1481.64 L2300.95 1481.64 L2300.95 1455.28 L2292.64 1456.95 L2292.64 1452.69 L2300.9 1451.02 L2305.58 1451.02 L2305.58 1481.64 L2313.22 1481.64 L2313.22 1485.58 L2293.31 1485.58 L2293.31 1481.64 Z\" fill=\"#000000\" fill-rule=\"evenodd\" fill-opacity=\"1\" /><path clip-path=\"url(#clip760)\" d=\"M2332.66 1454.1 Q2329.05 1454.1 2327.22 1457.66 Q2325.42 1461.2 2325.42 1468.33 Q2325.42 1475.44 2327.22 1479.01 Q2329.05 1482.55 2332.66 1482.55 Q2336.3 1482.55 2338.1 1479.01 Q2339.93 1475.44 2339.93 1468.33 Q2339.93 1461.2 2338.1 1457.66 Q2336.3 1454.1 2332.66 1454.1 M2332.66 1450.39 Q2338.47 1450.39 2341.53 1455 Q2344.61 1459.58 2344.61 1468.33 Q2344.61 1477.06 2341.53 1481.67 Q2338.47 1486.25 2332.66 1486.25 Q2326.85 1486.25 2323.77 1481.67 Q2320.72 1477.06 2320.72 1468.33 Q2320.72 1459.58 2323.77 1455 Q2326.85 1450.39 2332.66 1450.39 Z\" fill=\"#000000\" fill-rule=\"evenodd\" fill-opacity=\"1\" /><path clip-path=\"url(#clip760)\" d=\"M1364.4 1545.44 Q1364.4 1547.24 1363.27 1548.27 Q1362.14 1549.27 1360.85 1549.27 Q1359.63 1549.27 1358.99 1548.56 Q1358.34 1547.85 1358.34 1546.95 Q1358.34 1545.73 1359.24 1544.66 Q1360.15 1543.6 1361.5 1543.37 Q1360.18 1542.54 1358.21 1542.54 Q1356.92 1542.54 1355.8 1543.21 Q1354.7 1543.89 1354.03 1544.76 Q1353.38 1545.63 1352.8 1546.88 Q1352.25 1548.11 1352.03 1548.85 Q1351.84 1549.56 1351.67 1550.33 L1349.42 1559.35 Q1348.33 1563.63 1348.33 1565.15 Q1348.33 1567.01 1349.23 1568.27 Q1350.13 1569.49 1351.93 1569.49 Q1352.64 1569.49 1353.45 1569.3 Q1354.25 1569.07 1355.28 1568.5 Q1356.34 1567.88 1357.28 1566.98 Q1358.24 1566.05 1359.18 1564.47 Q1360.11 1562.89 1360.72 1560.86 Q1360.92 1560.15 1361.56 1560.15 Q1362.37 1560.15 1362.37 1560.8 Q1362.37 1561.35 1361.92 1562.5 Q1361.5 1563.63 1360.56 1565.11 Q1359.66 1566.56 1358.47 1567.88 Q1357.28 1569.17 1355.51 1570.07 Q1353.74 1570.97 1351.8 1570.97 Q1349.03 1570.97 1347.2 1569.49 Q1345.36 1568.01 1344.69 1565.95 Q1344.53 1566.24 1344.3 1566.63 Q1344.07 1567.01 1343.4 1567.88 Q1342.75 1568.72 1342.01 1569.36 Q1341.27 1569.98 1340.11 1570.46 Q1338.99 1570.97 1337.76 1570.97 Q1336.22 1570.97 1334.83 1570.52 Q1333.48 1570.07 1332.51 1569.04 Q1331.55 1568.01 1331.55 1566.59 Q1331.55 1565.02 1332.61 1563.92 Q1333.7 1562.79 1335.19 1562.79 Q1336.12 1562.79 1336.86 1563.34 Q1337.63 1563.89 1337.63 1565.08 Q1337.63 1566.4 1336.73 1567.4 Q1335.83 1568.4 1334.54 1568.66 Q1335.86 1569.49 1337.83 1569.49 Q1339.95 1569.49 1341.63 1567.63 Q1343.3 1565.76 1344.11 1562.63 Q1346.1 1555.13 1346.88 1551.78 Q1347.65 1548.4 1347.65 1546.95 Q1347.65 1545.6 1347.29 1544.66 Q1346.94 1543.73 1346.33 1543.31 Q1345.75 1542.86 1345.2 1542.7 Q1344.69 1542.54 1344.11 1542.54 Q1343.14 1542.54 1342.05 1542.92 Q1340.98 1543.31 1339.69 1544.21 Q1338.44 1545.08 1337.25 1546.88 Q1336.06 1548.69 1335.25 1551.17 Q1335.09 1551.91 1334.38 1551.91 Q1333.61 1551.88 1333.61 1551.23 Q1333.61 1550.69 1334.03 1549.56 Q1334.48 1548.4 1335.38 1546.95 Q1336.31 1545.5 1337.5 1544.21 Q1338.73 1542.89 1340.5 1541.99 Q1342.3 1541.09 1344.24 1541.09 Q1345.1 1541.09 1345.94 1541.28 Q1346.81 1541.44 1347.84 1541.93 Q1348.91 1542.41 1349.84 1543.47 Q1350.77 1544.53 1351.35 1546.08 Q1351.74 1545.34 1352.25 1544.63 Q1352.8 1543.92 1353.64 1543.05 Q1354.51 1542.15 1355.7 1541.64 Q1356.92 1541.09 1358.28 1541.09 Q1359.6 1541.09 1360.89 1541.44 Q1362.17 1541.76 1363.27 1542.83 Q1364.4 1543.86 1364.4 1545.44 Z\" fill=\"#000000\" fill-rule=\"evenodd\" fill-opacity=\"1\" /><polyline clip-path=\"url(#clip763)\" style=\"stroke:#000000; stroke-linecap:butt; stroke-linejoin:round; stroke-width:2; stroke-opacity:0.1; fill:none\" points=\"\n",
       "  347.69,1384.24 2352.76,1384.24 \n",
       "  \"/>\n",
       "<polyline clip-path=\"url(#clip763)\" style=\"stroke:#000000; stroke-linecap:butt; stroke-linejoin:round; stroke-width:2; stroke-opacity:0.1; fill:none\" points=\"\n",
       "  347.69,1059.73 2352.76,1059.73 \n",
       "  \"/>\n",
       "<polyline clip-path=\"url(#clip763)\" style=\"stroke:#000000; stroke-linecap:butt; stroke-linejoin:round; stroke-width:2; stroke-opacity:0.1; fill:none\" points=\"\n",
       "  347.69,735.212 2352.76,735.212 \n",
       "  \"/>\n",
       "<polyline clip-path=\"url(#clip763)\" style=\"stroke:#000000; stroke-linecap:butt; stroke-linejoin:round; stroke-width:2; stroke-opacity:0.1; fill:none\" points=\"\n",
       "  347.69,410.699 2352.76,410.699 \n",
       "  \"/>\n",
       "<polyline clip-path=\"url(#clip763)\" style=\"stroke:#000000; stroke-linecap:butt; stroke-linejoin:round; stroke-width:2; stroke-opacity:0.1; fill:none\" points=\"\n",
       "  347.69,86.1857 2352.76,86.1857 \n",
       "  \"/>\n",
       "<polyline clip-path=\"url(#clip760)\" style=\"stroke:#000000; stroke-linecap:butt; stroke-linejoin:round; stroke-width:4; stroke-opacity:1; fill:none\" points=\"\n",
       "  347.69,1423.18 347.69,47.2441 \n",
       "  \"/>\n",
       "<polyline clip-path=\"url(#clip760)\" style=\"stroke:#000000; stroke-linecap:butt; stroke-linejoin:round; stroke-width:4; stroke-opacity:1; fill:none\" points=\"\n",
       "  347.69,1384.24 366.587,1384.24 \n",
       "  \"/>\n",
       "<polyline clip-path=\"url(#clip760)\" style=\"stroke:#000000; stroke-linecap:butt; stroke-linejoin:round; stroke-width:4; stroke-opacity:1; fill:none\" points=\"\n",
       "  347.69,1059.73 366.587,1059.73 \n",
       "  \"/>\n",
       "<polyline clip-path=\"url(#clip760)\" style=\"stroke:#000000; stroke-linecap:butt; stroke-linejoin:round; stroke-width:4; stroke-opacity:1; fill:none\" points=\"\n",
       "  347.69,735.212 366.587,735.212 \n",
       "  \"/>\n",
       "<polyline clip-path=\"url(#clip760)\" style=\"stroke:#000000; stroke-linecap:butt; stroke-linejoin:round; stroke-width:4; stroke-opacity:1; fill:none\" points=\"\n",
       "  347.69,410.699 366.587,410.699 \n",
       "  \"/>\n",
       "<polyline clip-path=\"url(#clip760)\" style=\"stroke:#000000; stroke-linecap:butt; stroke-linejoin:round; stroke-width:4; stroke-opacity:1; fill:none\" points=\"\n",
       "  347.69,86.1857 366.587,86.1857 \n",
       "  \"/>\n",
       "<path clip-path=\"url(#clip760)\" d=\"M114.26 1384.69 L143.936 1384.69 L143.936 1388.62 L114.26 1388.62 L114.26 1384.69 Z\" fill=\"#000000\" fill-rule=\"evenodd\" fill-opacity=\"1\" /><path clip-path=\"url(#clip760)\" d=\"M154.839 1397.58 L162.477 1397.58 L162.477 1371.22 L154.167 1372.88 L154.167 1368.62 L162.431 1366.96 L167.107 1366.96 L167.107 1397.58 L174.746 1397.58 L174.746 1401.52 L154.839 1401.52 L154.839 1397.58 Z\" fill=\"#000000\" fill-rule=\"evenodd\" fill-opacity=\"1\" /><path clip-path=\"url(#clip760)\" d=\"M184.19 1395.64 L189.075 1395.64 L189.075 1401.52 L184.19 1401.52 L184.19 1395.64 Z\" fill=\"#000000\" fill-rule=\"evenodd\" fill-opacity=\"1\" /><path clip-path=\"url(#clip760)\" d=\"M209.26 1370.04 Q205.649 1370.04 203.82 1373.6 Q202.014 1377.14 202.014 1384.27 Q202.014 1391.38 203.82 1394.94 Q205.649 1398.49 209.26 1398.49 Q212.894 1398.49 214.699 1394.94 Q216.528 1391.38 216.528 1384.27 Q216.528 1377.14 214.699 1373.6 Q212.894 1370.04 209.26 1370.04 M209.26 1366.33 Q215.07 1366.33 218.125 1370.94 Q221.204 1375.52 221.204 1384.27 Q221.204 1393 218.125 1397.61 Q215.07 1402.19 209.26 1402.19 Q203.449 1402.19 200.371 1397.61 Q197.315 1393 197.315 1384.27 Q197.315 1375.52 200.371 1370.94 Q203.449 1366.33 209.26 1366.33 Z\" fill=\"#000000\" fill-rule=\"evenodd\" fill-opacity=\"1\" /><path clip-path=\"url(#clip760)\" d=\"M239.422 1370.04 Q235.81 1370.04 233.982 1373.6 Q232.176 1377.14 232.176 1384.27 Q232.176 1391.38 233.982 1394.94 Q235.81 1398.49 239.422 1398.49 Q243.056 1398.49 244.861 1394.94 Q246.69 1391.38 246.69 1384.27 Q246.69 1377.14 244.861 1373.6 Q243.056 1370.04 239.422 1370.04 M239.422 1366.33 Q245.232 1366.33 248.287 1370.94 Q251.366 1375.52 251.366 1384.27 Q251.366 1393 248.287 1397.61 Q245.232 1402.19 239.422 1402.19 Q233.611 1402.19 230.533 1397.61 Q227.477 1393 227.477 1384.27 Q227.477 1375.52 230.533 1370.94 Q233.611 1366.33 239.422 1366.33 Z\" fill=\"#000000\" fill-rule=\"evenodd\" fill-opacity=\"1\" /><path clip-path=\"url(#clip760)\" d=\"M269.583 1370.04 Q265.972 1370.04 264.144 1373.6 Q262.338 1377.14 262.338 1384.27 Q262.338 1391.38 264.144 1394.94 Q265.972 1398.49 269.583 1398.49 Q273.218 1398.49 275.023 1394.94 Q276.852 1391.38 276.852 1384.27 Q276.852 1377.14 275.023 1373.6 Q273.218 1370.04 269.583 1370.04 M269.583 1366.33 Q275.394 1366.33 278.449 1370.94 Q281.528 1375.52 281.528 1384.27 Q281.528 1393 278.449 1397.61 Q275.394 1402.19 269.583 1402.19 Q263.773 1402.19 260.695 1397.61 Q257.639 1393 257.639 1384.27 Q257.639 1375.52 260.695 1370.94 Q263.773 1366.33 269.583 1366.33 Z\" fill=\"#000000\" fill-rule=\"evenodd\" fill-opacity=\"1\" /><path clip-path=\"url(#clip760)\" d=\"M299.745 1370.04 Q296.134 1370.04 294.305 1373.6 Q292.5 1377.14 292.5 1384.27 Q292.5 1391.38 294.305 1394.94 Q296.134 1398.49 299.745 1398.49 Q303.38 1398.49 305.185 1394.94 Q307.014 1391.38 307.014 1384.27 Q307.014 1377.14 305.185 1373.6 Q303.38 1370.04 299.745 1370.04 M299.745 1366.33 Q305.555 1366.33 308.611 1370.94 Q311.69 1375.52 311.69 1384.27 Q311.69 1393 308.611 1397.61 Q305.555 1402.19 299.745 1402.19 Q293.935 1402.19 290.856 1397.61 Q287.801 1393 287.801 1384.27 Q287.801 1375.52 290.856 1370.94 Q293.935 1366.33 299.745 1366.33 Z\" fill=\"#000000\" fill-rule=\"evenodd\" fill-opacity=\"1\" /><path clip-path=\"url(#clip760)\" d=\"M115.256 1060.18 L144.931 1060.18 L144.931 1064.11 L115.256 1064.11 L115.256 1060.18 Z\" fill=\"#000000\" fill-rule=\"evenodd\" fill-opacity=\"1\" /><path clip-path=\"url(#clip760)\" d=\"M165.024 1045.52 Q161.413 1045.52 159.584 1049.09 Q157.778 1052.63 157.778 1059.76 Q157.778 1066.87 159.584 1070.43 Q161.413 1073.97 165.024 1073.97 Q168.658 1073.97 170.464 1070.43 Q172.292 1066.87 172.292 1059.76 Q172.292 1052.63 170.464 1049.09 Q168.658 1045.52 165.024 1045.52 M165.024 1041.82 Q170.834 1041.82 173.889 1046.43 Q176.968 1051.01 176.968 1059.76 Q176.968 1068.49 173.889 1073.09 Q170.834 1077.68 165.024 1077.68 Q159.214 1077.68 156.135 1073.09 Q153.079 1068.49 153.079 1059.76 Q153.079 1051.01 156.135 1046.43 Q159.214 1041.82 165.024 1041.82 Z\" fill=\"#000000\" fill-rule=\"evenodd\" fill-opacity=\"1\" /><path clip-path=\"url(#clip760)\" d=\"M185.186 1071.13 L190.07 1071.13 L190.07 1077.01 L185.186 1077.01 L185.186 1071.13 Z\" fill=\"#000000\" fill-rule=\"evenodd\" fill-opacity=\"1\" /><path clip-path=\"url(#clip760)\" d=\"M200.394 1076.29 L200.394 1072.03 Q202.153 1072.86 203.959 1073.3 Q205.764 1073.74 207.5 1073.74 Q212.13 1073.74 214.561 1070.64 Q217.014 1067.51 217.361 1061.17 Q216.019 1063.16 213.959 1064.23 Q211.899 1065.29 209.399 1065.29 Q204.213 1065.29 201.181 1062.17 Q198.172 1059.02 198.172 1053.58 Q198.172 1048.26 201.32 1045.04 Q204.468 1041.82 209.699 1041.82 Q215.695 1041.82 218.843 1046.43 Q222.014 1051.01 222.014 1059.76 Q222.014 1067.93 218.125 1072.82 Q214.26 1077.68 207.709 1077.68 Q205.949 1077.68 204.144 1077.33 Q202.338 1076.98 200.394 1076.29 M209.699 1061.63 Q212.848 1061.63 214.676 1059.48 Q216.528 1057.33 216.528 1053.58 Q216.528 1049.85 214.676 1047.7 Q212.848 1045.52 209.699 1045.52 Q206.551 1045.52 204.699 1047.7 Q202.871 1049.85 202.871 1053.58 Q202.871 1057.33 204.699 1059.48 Q206.551 1061.63 209.699 1061.63 Z\" fill=\"#000000\" fill-rule=\"evenodd\" fill-opacity=\"1\" /><path clip-path=\"url(#clip760)\" d=\"M230.556 1076.29 L230.556 1072.03 Q232.315 1072.86 234.121 1073.3 Q235.926 1073.74 237.662 1073.74 Q242.292 1073.74 244.722 1070.64 Q247.176 1067.51 247.523 1061.17 Q246.181 1063.16 244.121 1064.23 Q242.06 1065.29 239.56 1065.29 Q234.375 1065.29 231.343 1062.17 Q228.334 1059.02 228.334 1053.58 Q228.334 1048.26 231.482 1045.04 Q234.63 1041.82 239.861 1041.82 Q245.857 1041.82 249.005 1046.43 Q252.176 1051.01 252.176 1059.76 Q252.176 1067.93 248.287 1072.82 Q244.421 1077.68 237.871 1077.68 Q236.111 1077.68 234.306 1077.33 Q232.5 1076.98 230.556 1076.29 M239.861 1061.63 Q243.009 1061.63 244.838 1059.48 Q246.69 1057.33 246.69 1053.58 Q246.69 1049.85 244.838 1047.7 Q243.009 1045.52 239.861 1045.52 Q236.713 1045.52 234.861 1047.7 Q233.033 1049.85 233.033 1053.58 Q233.033 1057.33 234.861 1059.48 Q236.713 1061.63 239.861 1061.63 Z\" fill=\"#000000\" fill-rule=\"evenodd\" fill-opacity=\"1\" /><path clip-path=\"url(#clip760)\" d=\"M259.398 1042.45 L281.62 1042.45 L281.62 1044.44 L269.074 1077.01 L264.19 1077.01 L275.995 1046.38 L259.398 1046.38 L259.398 1042.45 Z\" fill=\"#000000\" fill-rule=\"evenodd\" fill-opacity=\"1\" /><path clip-path=\"url(#clip760)\" d=\"M290.787 1042.45 L309.143 1042.45 L309.143 1046.38 L295.069 1046.38 L295.069 1054.85 Q296.088 1054.51 297.106 1054.34 Q298.125 1054.16 299.143 1054.16 Q304.93 1054.16 308.31 1057.33 Q311.69 1060.5 311.69 1065.92 Q311.69 1071.5 308.217 1074.6 Q304.745 1077.68 298.426 1077.68 Q296.25 1077.68 293.981 1077.31 Q291.736 1076.94 289.329 1076.19 L289.329 1071.5 Q291.412 1072.63 293.634 1073.19 Q295.856 1073.74 298.333 1073.74 Q302.338 1073.74 304.676 1071.63 Q307.014 1069.53 307.014 1065.92 Q307.014 1062.31 304.676 1060.2 Q302.338 1058.09 298.333 1058.09 Q296.458 1058.09 294.583 1058.51 Q292.731 1058.93 290.787 1059.81 L290.787 1042.45 Z\" fill=\"#000000\" fill-rule=\"evenodd\" fill-opacity=\"1\" /><path clip-path=\"url(#clip760)\" d=\"M114.26 735.663 L143.936 735.663 L143.936 739.599 L114.26 739.599 L114.26 735.663 Z\" fill=\"#000000\" fill-rule=\"evenodd\" fill-opacity=\"1\" /><path clip-path=\"url(#clip760)\" d=\"M164.028 721.011 Q160.417 721.011 158.589 724.575 Q156.783 728.117 156.783 735.247 Q156.783 742.353 158.589 745.918 Q160.417 749.46 164.028 749.46 Q167.663 749.46 169.468 745.918 Q171.297 742.353 171.297 735.247 Q171.297 728.117 169.468 724.575 Q167.663 721.011 164.028 721.011 M164.028 717.307 Q169.839 717.307 172.894 721.913 Q175.973 726.497 175.973 735.247 Q175.973 743.973 172.894 748.58 Q169.839 753.163 164.028 753.163 Q158.218 753.163 155.14 748.58 Q152.084 743.973 152.084 735.247 Q152.084 726.497 155.14 721.913 Q158.218 717.307 164.028 717.307 Z\" fill=\"#000000\" fill-rule=\"evenodd\" fill-opacity=\"1\" /><path clip-path=\"url(#clip760)\" d=\"M184.19 746.612 L189.075 746.612 L189.075 752.492 L184.19 752.492 L184.19 746.612 Z\" fill=\"#000000\" fill-rule=\"evenodd\" fill-opacity=\"1\" /><path clip-path=\"url(#clip760)\" d=\"M199.399 751.774 L199.399 747.515 Q201.158 748.348 202.963 748.788 Q204.769 749.228 206.505 749.228 Q211.135 749.228 213.565 746.126 Q216.019 743.001 216.366 736.659 Q215.024 738.649 212.963 739.714 Q210.903 740.779 208.403 740.779 Q203.218 740.779 200.186 737.654 Q197.176 734.506 197.176 729.066 Q197.176 723.742 200.325 720.525 Q203.473 717.307 208.704 717.307 Q214.699 717.307 217.848 721.913 Q221.019 726.497 221.019 735.247 Q221.019 743.418 217.13 748.302 Q213.264 753.163 206.713 753.163 Q204.954 753.163 203.149 752.816 Q201.343 752.469 199.399 751.774 M208.704 737.122 Q211.852 737.122 213.681 734.969 Q215.533 732.816 215.533 729.066 Q215.533 725.339 213.681 723.187 Q211.852 721.011 208.704 721.011 Q205.556 721.011 203.704 723.187 Q201.875 725.339 201.875 729.066 Q201.875 732.816 203.704 734.969 Q205.556 737.122 208.704 737.122 Z\" fill=\"#000000\" fill-rule=\"evenodd\" fill-opacity=\"1\" /><path clip-path=\"url(#clip760)\" d=\"M229.56 751.774 L229.56 747.515 Q231.32 748.348 233.125 748.788 Q234.931 749.228 236.667 749.228 Q241.297 749.228 243.727 746.126 Q246.181 743.001 246.528 736.659 Q245.185 738.649 243.125 739.714 Q241.065 740.779 238.565 740.779 Q233.38 740.779 230.347 737.654 Q227.338 734.506 227.338 729.066 Q227.338 723.742 230.486 720.525 Q233.635 717.307 238.866 717.307 Q244.861 717.307 248.009 721.913 Q251.181 726.497 251.181 735.247 Q251.181 743.418 247.292 748.302 Q243.426 753.163 236.875 753.163 Q235.116 753.163 233.31 752.816 Q231.505 752.469 229.56 751.774 M238.866 737.122 Q242.014 737.122 243.843 734.969 Q245.695 732.816 245.695 729.066 Q245.695 725.339 243.843 723.187 Q242.014 721.011 238.866 721.011 Q235.718 721.011 233.866 723.187 Q232.037 725.339 232.037 729.066 Q232.037 732.816 233.866 734.969 Q235.718 737.122 238.866 737.122 Z\" fill=\"#000000\" fill-rule=\"evenodd\" fill-opacity=\"1\" /><path clip-path=\"url(#clip760)\" d=\"M259.63 717.932 L277.986 717.932 L277.986 721.867 L263.912 721.867 L263.912 730.339 Q264.931 729.992 265.949 729.83 Q266.968 729.645 267.986 729.645 Q273.773 729.645 277.153 732.816 Q280.532 735.987 280.532 741.404 Q280.532 746.983 277.06 750.085 Q273.588 753.163 267.269 753.163 Q265.093 753.163 262.824 752.793 Q260.579 752.423 258.171 751.682 L258.171 746.983 Q260.255 748.117 262.477 748.673 Q264.699 749.228 267.176 749.228 Q271.181 749.228 273.519 747.122 Q275.857 745.015 275.857 741.404 Q275.857 737.793 273.519 735.687 Q271.181 733.58 267.176 733.58 Q265.301 733.58 263.426 733.997 Q261.574 734.413 259.63 735.293 L259.63 717.932 Z\" fill=\"#000000\" fill-rule=\"evenodd\" fill-opacity=\"1\" /><path clip-path=\"url(#clip760)\" d=\"M299.745 721.011 Q296.134 721.011 294.305 724.575 Q292.5 728.117 292.5 735.247 Q292.5 742.353 294.305 745.918 Q296.134 749.46 299.745 749.46 Q303.38 749.46 305.185 745.918 Q307.014 742.353 307.014 735.247 Q307.014 728.117 305.185 724.575 Q303.38 721.011 299.745 721.011 M299.745 717.307 Q305.555 717.307 308.611 721.913 Q311.69 726.497 311.69 735.247 Q311.69 743.973 308.611 748.58 Q305.555 753.163 299.745 753.163 Q293.935 753.163 290.856 748.58 Q287.801 743.973 287.801 735.247 Q287.801 726.497 290.856 721.913 Q293.935 717.307 299.745 717.307 Z\" fill=\"#000000\" fill-rule=\"evenodd\" fill-opacity=\"1\" /><path clip-path=\"url(#clip760)\" d=\"M115.256 411.15 L144.931 411.15 L144.931 415.085 L115.256 415.085 L115.256 411.15 Z\" fill=\"#000000\" fill-rule=\"evenodd\" fill-opacity=\"1\" /><path clip-path=\"url(#clip760)\" d=\"M165.024 396.498 Q161.413 396.498 159.584 400.062 Q157.778 403.604 157.778 410.734 Q157.778 417.84 159.584 421.405 Q161.413 424.946 165.024 424.946 Q168.658 424.946 170.464 421.405 Q172.292 417.84 172.292 410.734 Q172.292 403.604 170.464 400.062 Q168.658 396.498 165.024 396.498 M165.024 392.794 Q170.834 392.794 173.889 397.4 Q176.968 401.984 176.968 410.734 Q176.968 419.46 173.889 424.067 Q170.834 428.65 165.024 428.65 Q159.214 428.65 156.135 424.067 Q153.079 419.46 153.079 410.734 Q153.079 401.984 156.135 397.4 Q159.214 392.794 165.024 392.794 Z\" fill=\"#000000\" fill-rule=\"evenodd\" fill-opacity=\"1\" /><path clip-path=\"url(#clip760)\" d=\"M185.186 422.099 L190.07 422.099 L190.07 427.979 L185.186 427.979 L185.186 422.099 Z\" fill=\"#000000\" fill-rule=\"evenodd\" fill-opacity=\"1\" /><path clip-path=\"url(#clip760)\" d=\"M200.394 427.261 L200.394 423.002 Q202.153 423.835 203.959 424.275 Q205.764 424.715 207.5 424.715 Q212.13 424.715 214.561 421.613 Q217.014 418.488 217.361 412.146 Q216.019 414.136 213.959 415.201 Q211.899 416.266 209.399 416.266 Q204.213 416.266 201.181 413.141 Q198.172 409.993 198.172 404.553 Q198.172 399.229 201.32 396.011 Q204.468 392.794 209.699 392.794 Q215.695 392.794 218.843 397.4 Q222.014 401.984 222.014 410.734 Q222.014 418.905 218.125 423.789 Q214.26 428.65 207.709 428.65 Q205.949 428.65 204.144 428.303 Q202.338 427.956 200.394 427.261 M209.699 412.609 Q212.848 412.609 214.676 410.456 Q216.528 408.303 216.528 404.553 Q216.528 400.826 214.676 398.673 Q212.848 396.498 209.699 396.498 Q206.551 396.498 204.699 398.673 Q202.871 400.826 202.871 404.553 Q202.871 408.303 204.699 410.456 Q206.551 412.609 209.699 412.609 Z\" fill=\"#000000\" fill-rule=\"evenodd\" fill-opacity=\"1\" /><path clip-path=\"url(#clip760)\" d=\"M230.556 427.261 L230.556 423.002 Q232.315 423.835 234.121 424.275 Q235.926 424.715 237.662 424.715 Q242.292 424.715 244.722 421.613 Q247.176 418.488 247.523 412.146 Q246.181 414.136 244.121 415.201 Q242.06 416.266 239.56 416.266 Q234.375 416.266 231.343 413.141 Q228.334 409.993 228.334 404.553 Q228.334 399.229 231.482 396.011 Q234.63 392.794 239.861 392.794 Q245.857 392.794 249.005 397.4 Q252.176 401.984 252.176 410.734 Q252.176 418.905 248.287 423.789 Q244.421 428.65 237.871 428.65 Q236.111 428.65 234.306 428.303 Q232.5 427.956 230.556 427.261 M239.861 412.609 Q243.009 412.609 244.838 410.456 Q246.69 408.303 246.69 404.553 Q246.69 400.826 244.838 398.673 Q243.009 396.498 239.861 396.498 Q236.713 396.498 234.861 398.673 Q233.033 400.826 233.033 404.553 Q233.033 408.303 234.861 410.456 Q236.713 412.609 239.861 412.609 Z\" fill=\"#000000\" fill-rule=\"evenodd\" fill-opacity=\"1\" /><path clip-path=\"url(#clip760)\" d=\"M264.607 424.044 L280.926 424.044 L280.926 427.979 L258.982 427.979 L258.982 424.044 Q261.644 421.289 266.227 416.659 Q270.833 412.007 272.014 410.664 Q274.259 408.141 275.139 406.405 Q276.042 404.646 276.042 402.956 Q276.042 400.201 274.097 398.465 Q272.176 396.729 269.074 396.729 Q266.875 396.729 264.421 397.493 Q261.991 398.257 259.213 399.808 L259.213 395.085 Q262.037 393.951 264.491 393.373 Q266.945 392.794 268.982 392.794 Q274.352 392.794 277.546 395.479 Q280.741 398.164 280.741 402.655 Q280.741 404.785 279.931 406.706 Q279.144 408.604 277.037 411.197 Q276.458 411.868 273.357 415.085 Q270.255 418.28 264.607 424.044 Z\" fill=\"#000000\" fill-rule=\"evenodd\" fill-opacity=\"1\" /><path clip-path=\"url(#clip760)\" d=\"M290.787 393.419 L309.143 393.419 L309.143 397.354 L295.069 397.354 L295.069 405.826 Q296.088 405.479 297.106 405.317 Q298.125 405.132 299.143 405.132 Q304.93 405.132 308.31 408.303 Q311.69 411.474 311.69 416.891 Q311.69 422.47 308.217 425.571 Q304.745 428.65 298.426 428.65 Q296.25 428.65 293.981 428.28 Q291.736 427.909 289.329 427.169 L289.329 422.47 Q291.412 423.604 293.634 424.159 Q295.856 424.715 298.333 424.715 Q302.338 424.715 304.676 422.608 Q307.014 420.502 307.014 416.891 Q307.014 413.28 304.676 411.173 Q302.338 409.067 298.333 409.067 Q296.458 409.067 294.583 409.484 Q292.731 409.9 290.787 410.78 L290.787 393.419 Z\" fill=\"#000000\" fill-rule=\"evenodd\" fill-opacity=\"1\" /><path clip-path=\"url(#clip760)\" d=\"M114.26 86.6371 L143.936 86.6371 L143.936 90.5722 L114.26 90.5722 L114.26 86.6371 Z\" fill=\"#000000\" fill-rule=\"evenodd\" fill-opacity=\"1\" /><path clip-path=\"url(#clip760)\" d=\"M164.028 71.9844 Q160.417 71.9844 158.589 75.5492 Q156.783 79.0908 156.783 86.2204 Q156.783 93.3268 158.589 96.8916 Q160.417 100.433 164.028 100.433 Q167.663 100.433 169.468 96.8916 Q171.297 93.3268 171.297 86.2204 Q171.297 79.0908 169.468 75.5492 Q167.663 71.9844 164.028 71.9844 M164.028 68.2807 Q169.839 68.2807 172.894 72.8871 Q175.973 77.4704 175.973 86.2204 Q175.973 94.9472 172.894 99.5537 Q169.839 104.137 164.028 104.137 Q158.218 104.137 155.14 99.5537 Q152.084 94.9472 152.084 86.2204 Q152.084 77.4704 155.14 72.8871 Q158.218 68.2807 164.028 68.2807 Z\" fill=\"#000000\" fill-rule=\"evenodd\" fill-opacity=\"1\" /><path clip-path=\"url(#clip760)\" d=\"M184.19 97.5861 L189.075 97.5861 L189.075 103.466 L184.19 103.466 L184.19 97.5861 Z\" fill=\"#000000\" fill-rule=\"evenodd\" fill-opacity=\"1\" /><path clip-path=\"url(#clip760)\" d=\"M199.399 102.748 L199.399 98.4888 Q201.158 99.3222 202.963 99.762 Q204.769 100.202 206.505 100.202 Q211.135 100.202 213.565 97.1 Q216.019 93.975 216.366 87.6324 Q215.024 89.6232 212.963 90.688 Q210.903 91.7528 208.403 91.7528 Q203.218 91.7528 200.186 88.6278 Q197.176 85.4797 197.176 80.0399 Q197.176 74.7158 200.325 71.4983 Q203.473 68.2807 208.704 68.2807 Q214.699 68.2807 217.848 72.8871 Q221.019 77.4704 221.019 86.2204 Q221.019 94.3916 217.13 99.2759 Q213.264 104.137 206.713 104.137 Q204.954 104.137 203.149 103.79 Q201.343 103.443 199.399 102.748 M208.704 88.0954 Q211.852 88.0954 213.681 85.9426 Q215.533 83.7899 215.533 80.0399 Q215.533 76.313 213.681 74.1603 Q211.852 71.9844 208.704 71.9844 Q205.556 71.9844 203.704 74.1603 Q201.875 76.313 201.875 80.0399 Q201.875 83.7899 203.704 85.9426 Q205.556 88.0954 208.704 88.0954 Z\" fill=\"#000000\" fill-rule=\"evenodd\" fill-opacity=\"1\" /><path clip-path=\"url(#clip760)\" d=\"M229.56 102.748 L229.56 98.4888 Q231.32 99.3222 233.125 99.762 Q234.931 100.202 236.667 100.202 Q241.297 100.202 243.727 97.1 Q246.181 93.975 246.528 87.6324 Q245.185 89.6232 243.125 90.688 Q241.065 91.7528 238.565 91.7528 Q233.38 91.7528 230.347 88.6278 Q227.338 85.4797 227.338 80.0399 Q227.338 74.7158 230.486 71.4983 Q233.635 68.2807 238.866 68.2807 Q244.861 68.2807 248.009 72.8871 Q251.181 77.4704 251.181 86.2204 Q251.181 94.3916 247.292 99.2759 Q243.426 104.137 236.875 104.137 Q235.116 104.137 233.31 103.79 Q231.505 103.443 229.56 102.748 M238.866 88.0954 Q242.014 88.0954 243.843 85.9426 Q245.695 83.7899 245.695 80.0399 Q245.695 76.313 243.843 74.1603 Q242.014 71.9844 238.866 71.9844 Q235.718 71.9844 233.866 74.1603 Q232.037 76.313 232.037 80.0399 Q232.037 83.7899 233.866 85.9426 Q235.718 88.0954 238.866 88.0954 Z\" fill=\"#000000\" fill-rule=\"evenodd\" fill-opacity=\"1\" /><path clip-path=\"url(#clip760)\" d=\"M269.583 71.9844 Q265.972 71.9844 264.144 75.5492 Q262.338 79.0908 262.338 86.2204 Q262.338 93.3268 264.144 96.8916 Q265.972 100.433 269.583 100.433 Q273.218 100.433 275.023 96.8916 Q276.852 93.3268 276.852 86.2204 Q276.852 79.0908 275.023 75.5492 Q273.218 71.9844 269.583 71.9844 M269.583 68.2807 Q275.394 68.2807 278.449 72.8871 Q281.528 77.4704 281.528 86.2204 Q281.528 94.9472 278.449 99.5537 Q275.394 104.137 269.583 104.137 Q263.773 104.137 260.695 99.5537 Q257.639 94.9472 257.639 86.2204 Q257.639 77.4704 260.695 72.8871 Q263.773 68.2807 269.583 68.2807 Z\" fill=\"#000000\" fill-rule=\"evenodd\" fill-opacity=\"1\" /><path clip-path=\"url(#clip760)\" d=\"M299.745 71.9844 Q296.134 71.9844 294.305 75.5492 Q292.5 79.0908 292.5 86.2204 Q292.5 93.3268 294.305 96.8916 Q296.134 100.433 299.745 100.433 Q303.38 100.433 305.185 96.8916 Q307.014 93.3268 307.014 86.2204 Q307.014 79.0908 305.185 75.5492 Q303.38 71.9844 299.745 71.9844 M299.745 68.2807 Q305.555 68.2807 308.611 72.8871 Q311.69 77.4704 311.69 86.2204 Q311.69 94.9472 308.611 99.5537 Q305.555 104.137 299.745 104.137 Q293.935 104.137 290.856 99.5537 Q287.801 94.9472 287.801 86.2204 Q287.801 77.4704 290.856 72.8871 Q293.935 68.2807 299.745 68.2807 Z\" fill=\"#000000\" fill-rule=\"evenodd\" fill-opacity=\"1\" /><path clip-path=\"url(#clip760)\" d=\"M26.4959 765.105 Q28.2672 765.105 29.3622 766.232 Q30.4572 767.327 30.4572 768.712 Q30.4572 769.71 29.8453 770.451 Q29.2334 771.159 28.1706 771.159 Q27.0756 771.159 25.9162 770.322 Q24.7567 769.485 24.5957 767.585 Q23.4041 768.841 23.4041 770.837 Q23.4041 771.836 24.0482 772.673 Q24.6601 773.478 25.6585 773.929 Q26.6891 774.412 32.5184 775.507 Q34.4185 775.861 36.2542 776.184 Q38.09 776.506 40.0223 776.892 L40.0223 771.417 Q40.0223 770.709 40.0545 770.419 Q40.0867 770.129 40.2478 769.903 Q40.4088 769.646 40.7631 769.646 Q41.6648 769.646 41.8903 770.064 Q42.0835 770.451 42.0835 771.61 L42.0835 777.279 L62.9851 781.24 Q63.597 781.336 65.5294 781.755 Q67.4295 782.142 70.5535 783.076 Q73.7097 784.01 75.5776 784.944 Q76.6404 785.459 77.6388 786.135 Q78.6694 786.779 79.6999 787.713 Q80.7305 788.647 81.3424 789.871 Q81.9866 791.095 81.9866 792.383 Q81.9866 794.573 80.7627 796.28 Q79.5389 797.987 77.4455 797.987 Q75.6742 797.987 74.5792 796.892 Q73.4842 795.765 73.4842 794.38 Q73.4842 793.381 74.0961 792.673 Q74.708 791.932 75.7708 791.932 Q76.2217 791.932 76.737 792.093 Q77.2523 792.254 77.832 792.609 Q78.4439 792.963 78.8626 793.736 Q79.2813 794.509 79.3457 795.571 Q80.5373 794.315 80.5373 792.383 Q80.5373 791.771 80.2796 791.224 Q80.0542 790.676 79.4745 790.225 Q78.8948 789.742 78.3151 789.388 Q77.7676 789.034 76.7048 788.679 Q75.6742 788.325 74.9013 788.1 Q74.1283 787.874 72.7435 787.584 Q71.3586 787.262 70.5213 787.101 Q69.7161 786.94 68.138 786.65 L42.0835 781.723 L42.0835 786.071 Q42.0835 786.844 42.0513 787.166 Q42.0191 787.456 41.8581 787.681 Q41.6648 787.906 41.2783 787.906 Q40.6664 787.906 40.4088 787.649 Q40.1189 787.359 40.0867 787.037 Q40.0223 786.715 40.0223 785.942 L40.0223 781.369 Q31.8742 779.823 29.6842 779.211 Q27.3654 778.502 25.7551 777.407 Q24.1126 776.312 23.3397 775.089 Q22.5667 773.865 22.2769 772.866 Q21.9548 771.836 21.9548 770.837 Q21.9548 768.583 23.1787 766.844 Q24.3703 765.105 26.4959 765.105 Z\" fill=\"#000000\" fill-rule=\"evenodd\" fill-opacity=\"1\" /><path clip-path=\"url(#clip760)\" d=\"M51.9707 757.277 Q40.8275 757.277 31.842 753.122 Q28.0739 751.351 24.9178 748.871 Q21.7616 746.391 20.3767 744.749 Q18.9919 743.106 18.9919 742.656 Q18.9919 742.011 19.636 741.979 Q19.9581 741.979 20.7632 742.849 Q31.5844 753.477 51.9707 753.445 Q72.4214 753.445 82.8239 743.106 Q83.9511 741.979 84.3054 741.979 Q84.9495 741.979 84.9495 742.656 Q84.9495 743.106 83.6291 744.685 Q82.3086 746.263 79.2813 748.71 Q76.2539 751.158 72.5502 752.929 Q63.5648 757.277 51.9707 757.277 Z\" fill=\"#000000\" fill-rule=\"evenodd\" fill-opacity=\"1\" /><path clip-path=\"url(#clip760)\" d=\"M43.6616 704.116 Q45.4651 704.116 46.4957 705.243 Q47.4941 706.37 47.4941 707.658 Q47.4941 708.882 46.7856 709.526 Q46.077 710.17 45.1753 710.17 Q43.9514 710.17 42.8886 709.269 Q41.8258 708.367 41.6004 707.014 Q40.7631 708.335 40.7631 710.299 Q40.7631 711.587 41.4394 712.715 Q42.1157 713.81 42.9853 714.486 Q43.8548 715.13 45.1108 715.71 Q46.3347 716.257 47.0754 716.483 Q47.7839 716.676 48.5569 716.837 L57.5745 719.091 Q61.8579 720.186 63.3716 720.186 Q65.2395 720.186 66.4955 719.285 Q67.7194 718.383 67.7194 716.579 Q67.7194 715.871 67.5261 715.066 Q67.3007 714.26 66.721 713.23 Q66.1091 712.167 65.2073 711.233 Q64.2733 710.267 62.6952 709.333 Q61.1172 708.399 59.0882 707.787 Q58.3797 707.594 58.3797 706.95 Q58.3797 706.145 59.0238 706.145 Q59.5713 706.145 60.7307 706.595 Q61.8579 707.014 63.3394 707.948 Q64.7886 708.85 66.1091 710.041 Q67.3973 711.233 68.2991 713.004 Q69.2008 714.776 69.2008 716.708 Q69.2008 719.478 67.7194 721.314 Q66.2379 723.149 64.1767 723.826 Q64.4666 723.987 64.853 724.212 Q65.2395 724.438 66.1091 725.114 Q66.9464 725.758 67.5905 726.499 Q68.2024 727.239 68.6855 728.399 Q69.2008 729.526 69.2008 730.75 Q69.2008 732.296 68.7499 733.681 Q68.2991 735.033 67.2685 735.999 Q66.2379 736.966 64.8208 736.966 Q63.2427 736.966 62.1477 735.903 Q61.0205 734.808 61.0205 733.326 Q61.0205 732.392 61.568 731.652 Q62.1155 730.879 63.3072 730.879 Q64.6276 730.879 65.626 731.78 Q66.6244 732.682 66.882 733.97 Q67.7194 732.65 67.7194 730.685 Q67.7194 728.56 65.8514 726.885 Q63.9835 725.21 60.8595 724.405 Q53.3555 722.409 50.0061 721.636 Q46.6245 720.863 45.1753 720.863 Q43.8226 720.863 42.8886 721.217 Q41.9547 721.571 41.536 722.183 Q41.0851 722.763 40.9241 723.31 Q40.7631 723.826 40.7631 724.405 Q40.7631 725.371 41.1495 726.466 Q41.536 727.529 42.4378 728.818 Q43.3073 730.074 45.1108 731.265 Q46.9144 732.457 49.3942 733.262 Q50.135 733.423 50.135 734.131 Q50.1028 734.904 49.4586 734.904 Q48.9111 734.904 47.7839 734.486 Q46.6245 734.035 45.1753 733.133 Q43.726 732.199 42.4378 731.008 Q41.1173 729.784 40.2156 728.012 Q39.3138 726.209 39.3138 724.276 Q39.3138 723.407 39.507 722.57 Q39.6681 721.7 40.1511 720.669 Q40.6342 719.607 41.697 718.673 Q42.7598 717.739 44.3057 717.159 Q43.565 716.773 42.8564 716.257 Q42.1479 715.71 41.2783 714.872 Q40.3766 714.003 39.8613 712.811 Q39.3138 711.587 39.3138 710.235 Q39.3138 708.914 39.6681 707.626 Q39.9901 706.338 41.0529 705.243 Q42.0835 704.116 43.6616 704.116 Z\" fill=\"#000000\" fill-rule=\"evenodd\" fill-opacity=\"1\" /><path clip-path=\"url(#clip760)\" d=\"M84.3054 697.764 Q83.9833 697.764 83.1782 696.927 Q72.357 686.299 51.9707 686.299 Q31.52 686.299 21.1819 696.508 Q19.9903 697.764 19.636 697.764 Q18.9919 697.764 18.9919 697.12 Q18.9919 696.669 20.3123 695.091 Q21.6328 693.481 24.6601 691.066 Q27.6875 688.618 31.3911 686.814 Q40.3766 682.467 51.9707 682.467 Q63.1139 682.467 72.0994 686.621 Q75.8674 688.393 79.0236 690.872 Q82.1798 693.352 83.5646 694.995 Q84.9495 696.637 84.9495 697.12 Q84.9495 697.764 84.3054 697.764 Z\" fill=\"#000000\" fill-rule=\"evenodd\" fill-opacity=\"1\" /><polyline clip-path=\"url(#clip763)\" style=\"stroke:#009af9; stroke-linecap:butt; stroke-linejoin:round; stroke-width:8; stroke-opacity:1; fill:none\" points=\"\n",
       "  404.437,86.1857 413.895,112.017 423.353,137.589 432.81,162.901 442.268,187.953 451.726,212.746 461.184,237.279 470.642,261.553 480.1,285.567 489.558,309.321 \n",
       "  499.015,332.816 508.473,356.051 517.931,379.026 527.389,401.742 536.847,424.199 546.305,446.395 555.763,468.332 565.22,490.01 574.678,511.428 584.136,532.586 \n",
       "  593.594,553.485 603.052,574.124 612.51,594.503 621.968,614.623 631.425,634.483 640.883,654.084 650.341,673.425 659.799,692.506 669.257,711.328 678.715,729.89 \n",
       "  688.173,748.192 697.63,766.235 707.088,784.019 716.546,801.542 726.004,818.807 735.462,835.811 744.92,852.556 754.378,869.041 763.835,885.267 773.293,901.233 \n",
       "  782.751,916.939 792.209,932.386 801.667,947.573 811.125,962.501 820.583,977.169 830.04,991.577 839.498,1005.73 848.956,1019.62 858.414,1033.24 867.872,1046.61 \n",
       "  877.33,1059.73 886.788,1072.58 896.246,1085.17 905.703,1097.5 915.161,1109.57 924.619,1121.38 934.077,1132.94 943.535,1144.23 952.993,1155.26 962.451,1166.04 \n",
       "  971.908,1176.55 981.366,1186.8 990.824,1196.8 1000.28,1206.53 1009.74,1216.01 1019.2,1225.23 1028.66,1234.18 1038.11,1242.88 1047.57,1251.32 1057.03,1259.5 \n",
       "  1066.49,1267.41 1075.94,1275.07 1085.4,1282.47 1094.86,1289.61 1104.32,1296.49 1113.78,1303.11 1123.23,1309.47 1132.69,1315.57 1142.15,1321.41 1151.61,1326.99 \n",
       "  1161.07,1332.32 1170.52,1337.38 1179.98,1342.18 1189.44,1346.72 1198.9,1351.01 1208.35,1355.03 1217.81,1358.8 1227.27,1362.3 1236.73,1365.55 1246.19,1368.53 \n",
       "  1255.64,1371.26 1265.1,1373.72 1274.56,1375.93 1284.02,1377.88 1293.48,1379.57 1302.93,1380.99 1312.39,1382.16 1321.85,1383.07 1331.31,1383.72 1340.76,1384.11 \n",
       "  1350.22,1384.24 1359.68,1384.11 1369.14,1383.72 1378.6,1383.07 1388.05,1382.16 1397.51,1380.99 1406.97,1379.57 1416.43,1377.88 1425.89,1375.93 1435.34,1373.72 \n",
       "  1444.8,1371.26 1454.26,1368.53 1463.72,1365.55 1473.17,1362.3 1482.63,1358.8 1492.09,1355.03 1501.55,1351.01 1511.01,1346.72 1520.46,1342.18 1529.92,1337.38 \n",
       "  1539.38,1332.32 1548.84,1326.99 1558.3,1321.41 1567.75,1315.57 1577.21,1309.47 1586.67,1303.11 1596.13,1296.49 1605.58,1289.61 1615.04,1282.47 1624.5,1275.07 \n",
       "  1633.96,1267.41 1643.42,1259.5 1652.87,1251.32 1662.33,1242.88 1671.79,1234.18 1681.25,1225.23 1690.71,1216.01 1700.16,1206.53 1709.62,1196.8 1719.08,1186.8 \n",
       "  1728.54,1176.55 1738,1166.04 1747.45,1155.26 1756.91,1144.23 1766.37,1132.94 1775.83,1121.38 1785.28,1109.57 1794.74,1097.5 1804.2,1085.17 1813.66,1072.58 \n",
       "  1823.12,1059.73 1832.57,1046.61 1842.03,1033.24 1851.49,1019.62 1860.95,1005.73 1870.41,991.577 1879.86,977.169 1889.32,962.501 1898.78,947.573 1908.24,932.386 \n",
       "  1917.69,916.939 1927.15,901.233 1936.61,885.267 1946.07,869.041 1955.53,852.556 1964.98,835.811 1974.44,818.807 1983.9,801.542 1993.36,784.019 2002.82,766.235 \n",
       "  2012.27,748.192 2021.73,729.89 2031.19,711.328 2040.65,692.506 2050.1,673.425 2059.56,654.084 2069.02,634.483 2078.48,614.623 2087.94,594.503 2097.39,574.124 \n",
       "  2106.85,553.485 2116.31,532.586 2125.77,511.428 2135.23,490.01 2144.68,468.332 2154.14,446.395 2163.6,424.199 2173.06,401.742 2182.51,379.026 2191.97,356.051 \n",
       "  2201.43,332.816 2210.89,309.321 2220.35,285.567 2229.8,261.553 2239.26,237.279 2248.72,212.746 2258.18,187.953 2267.64,162.901 2277.09,137.589 2286.55,112.017 \n",
       "  2296.01,86.1857 \n",
       "  \"/>\n",
       "</svg>\n"
      ]
     },
     "execution_count": 30,
     "metadata": {},
     "output_type": "execute_result"
    }
   ],
   "source": [
    "function f(x)\n",
    "    return x.^2 - 2x\n",
    "end\n",
    "\n",
    "x = range(0.9, 1.1, step=0.001);\n",
    "y = f(x);\n",
    "\n",
    "println(f(0.9 .. 1.1))\n",
    "println(f(1))\n",
    "println(f(1.1))\n",
    "\n",
    "plot(x, y, xlabel=\"\\$x\\$\", ylabel=\"\\$f\\\\,(x)\\$\", linewidth =2, legend = false)"
   ]
  },
  {
   "cell_type": "markdown",
   "metadata": {},
   "source": [
    "これから値域は $[-1,-0.99]$，一方で区間演算による区間拡張は $[-1.39,-0.59]$．だいぶ過大評価になってしまう．そこで区間幅を改良したい\n",
    "\n",
    "**アイディア1.** $f(x)=x(x-2)$;\n",
    "\n",
    "\\begin{align*}\n",
    "\t&x\\in[0.9,1.1]\\\\\n",
    "\t&x(x-2)=[0.9,1.1]\\times[-1.1,-0.9]=[-1.21,-0.81]\\mbox{（幅0.4）}\n",
    "\\end{align*}\n",
    "\n",
    "大分改善された．もう一声！\n",
    "\n",
    "**アイディア2.** $f(x)=(x-1)^2-1$;\n",
    "\n",
    "\\begin{align*}\n",
    "\tx\\in[0.9,1.1]&\\\\\n",
    "\t(x-1)^2-1=&[-0.1,0.1]^2-1\\\\\n",
    "\t=&[{\\color{red}{0}},0.01]-1\\\\\n",
    "\t=&[-1,-0.99]\\mbox{（幅0.01）}\n",
    "\\end{align*}"
   ]
  },
  {
   "cell_type": "code",
   "execution_count": 31,
   "metadata": {},
   "outputs": [
    {
     "name": "stdout",
     "output_type": "stream",
     "text": [
      "[-1.3901, -0.58999]\n",
      "[-1.2101, -0.80999]\n",
      "[-1, -0.98999]\n"
     ]
    }
   ],
   "source": [
    "x = @interval(0.9, 1.1)\n",
    "\n",
    "println(x^2 - 2x)\n",
    "println(x * (x-2))\n",
    "println((x-1)^2 - 1)"
   ]
  },
  {
   "cell_type": "markdown",
   "metadata": {},
   "source": [
    "**注意**　区間の定義で、実数を端点にする時は`@interval`を使う。端点が浮動小数点の場合は`interval`でOK. `interval`の方が呼び出しは早い。例えば、0.1を含む区間は`interval`での定義では0.1に一番近い浮動小数点数を端点にもつ点区間が返されて、厳密な包含にならない。"
   ]
  },
  {
   "cell_type": "code",
   "execution_count": 32,
   "metadata": {},
   "outputs": [
    {
     "name": "stdout",
     "output_type": "stream",
     "text": [
      "  0.000001 seconds\n",
      "0011111110111001100110011001100110011001100110011001100110011010\n",
      "0011111110111001100110011001100110011001100110011001100110011010\n",
      "0011111110111001100110011001100110011001100110011001100110011010\n",
      "  0.001342 seconds (464 allocations: 31.906 KiB, 92.55% compilation time)\n",
      "0011111110111001100110011001100110011001100110011001100110011010\n",
      "0011111110111001100110011001100110011001100110011001100110011001\n",
      "0011111110111001100110011001100110011001100110011001100110011010\n"
     ]
    }
   ],
   "source": [
    "@time x = interval(0.1)\n",
    "println(bitstring(0.1))\n",
    "println(bitstring(x.lo))\n",
    "println(bitstring(x.hi))\n",
    "\n",
    "@time x = @interval(0.1)\n",
    "println(bitstring(0.1))\n",
    "println(bitstring(x.lo))\n",
    "println(bitstring(x.hi))"
   ]
  },
  {
   "cell_type": "code",
   "execution_count": 33,
   "metadata": {},
   "outputs": [
    {
     "name": "stdout",
     "output_type": "stream",
     "text": [
      "[1.9885, 2.4401]\n",
      "[-∞, 2.9399]\n"
     ]
    },
    {
     "data": {
      "image/svg+xml": [
       "<?xml version=\"1.0\" encoding=\"utf-8\"?>\n",
       "<svg xmlns=\"http://www.w3.org/2000/svg\" xmlns:xlink=\"http://www.w3.org/1999/xlink\" width=\"600\" height=\"400\" viewBox=\"0 0 2400 1600\">\n",
       "<defs>\n",
       "  <clipPath id=\"clip800\">\n",
       "    <rect x=\"0\" y=\"0\" width=\"2400\" height=\"1600\"/>\n",
       "  </clipPath>\n",
       "</defs>\n",
       "<path clip-path=\"url(#clip800)\" d=\"\n",
       "M0 1600 L2400 1600 L2400 0 L0 0  Z\n",
       "  \" fill=\"#ffffff\" fill-rule=\"evenodd\" fill-opacity=\"1\"/>\n",
       "<defs>\n",
       "  <clipPath id=\"clip801\">\n",
       "    <rect x=\"480\" y=\"0\" width=\"1681\" height=\"1600\"/>\n",
       "  </clipPath>\n",
       "</defs>\n",
       "<defs>\n",
       "  <clipPath id=\"clip802\">\n",
       "    <rect x=\"347\" y=\"47\" width=\"2006\" height=\"1377\"/>\n",
       "  </clipPath>\n",
       "</defs>\n",
       "<path clip-path=\"url(#clip800)\" d=\"\n",
       "M175.445 1423.18 L2352.76 1423.18 L2352.76 47.2441 L175.445 47.2441  Z\n",
       "  \" fill=\"#ffffff\" fill-rule=\"evenodd\" fill-opacity=\"1\"/>\n",
       "<defs>\n",
       "  <clipPath id=\"clip803\">\n",
       "    <rect x=\"175\" y=\"47\" width=\"2178\" height=\"1377\"/>\n",
       "  </clipPath>\n",
       "</defs>\n",
       "<polyline clip-path=\"url(#clip803)\" style=\"stroke:#000000; stroke-linecap:butt; stroke-linejoin:round; stroke-width:2; stroke-opacity:0.1; fill:none\" points=\"\n",
       "  237.067,1423.18 237.067,47.2441 \n",
       "  \"/>\n",
       "<polyline clip-path=\"url(#clip803)\" style=\"stroke:#000000; stroke-linecap:butt; stroke-linejoin:round; stroke-width:2; stroke-opacity:0.1; fill:none\" points=\"\n",
       "  750.584,1423.18 750.584,47.2441 \n",
       "  \"/>\n",
       "<polyline clip-path=\"url(#clip803)\" style=\"stroke:#000000; stroke-linecap:butt; stroke-linejoin:round; stroke-width:2; stroke-opacity:0.1; fill:none\" points=\"\n",
       "  1264.1,1423.18 1264.1,47.2441 \n",
       "  \"/>\n",
       "<polyline clip-path=\"url(#clip803)\" style=\"stroke:#000000; stroke-linecap:butt; stroke-linejoin:round; stroke-width:2; stroke-opacity:0.1; fill:none\" points=\"\n",
       "  1777.62,1423.18 1777.62,47.2441 \n",
       "  \"/>\n",
       "<polyline clip-path=\"url(#clip803)\" style=\"stroke:#000000; stroke-linecap:butt; stroke-linejoin:round; stroke-width:2; stroke-opacity:0.1; fill:none\" points=\"\n",
       "  2291.13,1423.18 2291.13,47.2441 \n",
       "  \"/>\n",
       "<polyline clip-path=\"url(#clip800)\" style=\"stroke:#000000; stroke-linecap:butt; stroke-linejoin:round; stroke-width:4; stroke-opacity:1; fill:none\" points=\"\n",
       "  175.445,1423.18 2352.76,1423.18 \n",
       "  \"/>\n",
       "<polyline clip-path=\"url(#clip800)\" style=\"stroke:#000000; stroke-linecap:butt; stroke-linejoin:round; stroke-width:4; stroke-opacity:1; fill:none\" points=\"\n",
       "  237.067,1423.18 237.067,1404.28 \n",
       "  \"/>\n",
       "<polyline clip-path=\"url(#clip800)\" style=\"stroke:#000000; stroke-linecap:butt; stroke-linejoin:round; stroke-width:4; stroke-opacity:1; fill:none\" points=\"\n",
       "  750.584,1423.18 750.584,1404.28 \n",
       "  \"/>\n",
       "<polyline clip-path=\"url(#clip800)\" style=\"stroke:#000000; stroke-linecap:butt; stroke-linejoin:round; stroke-width:4; stroke-opacity:1; fill:none\" points=\"\n",
       "  1264.1,1423.18 1264.1,1404.28 \n",
       "  \"/>\n",
       "<polyline clip-path=\"url(#clip800)\" style=\"stroke:#000000; stroke-linecap:butt; stroke-linejoin:round; stroke-width:4; stroke-opacity:1; fill:none\" points=\"\n",
       "  1777.62,1423.18 1777.62,1404.28 \n",
       "  \"/>\n",
       "<polyline clip-path=\"url(#clip800)\" style=\"stroke:#000000; stroke-linecap:butt; stroke-linejoin:round; stroke-width:4; stroke-opacity:1; fill:none\" points=\"\n",
       "  2291.13,1423.18 2291.13,1404.28 \n",
       "  \"/>\n",
       "<path clip-path=\"url(#clip800)\" d=\"M214.452 1454.1 Q210.84 1454.1 209.012 1457.66 Q207.206 1461.2 207.206 1468.33 Q207.206 1475.44 209.012 1479.01 Q210.84 1482.55 214.452 1482.55 Q218.086 1482.55 219.891 1479.01 Q221.72 1475.44 221.72 1468.33 Q221.72 1461.2 219.891 1457.66 Q218.086 1454.1 214.452 1454.1 M214.452 1450.39 Q220.262 1450.39 223.317 1455 Q226.396 1459.58 226.396 1468.33 Q226.396 1477.06 223.317 1481.67 Q220.262 1486.25 214.452 1486.25 Q208.641 1486.25 205.563 1481.67 Q202.507 1477.06 202.507 1468.33 Q202.507 1459.58 205.563 1455 Q208.641 1450.39 214.452 1450.39 Z\" fill=\"#000000\" fill-rule=\"evenodd\" fill-opacity=\"1\" /><path clip-path=\"url(#clip800)\" d=\"M234.614 1479.7 L239.498 1479.7 L239.498 1485.58 L234.614 1485.58 L234.614 1479.7 Z\" fill=\"#000000\" fill-rule=\"evenodd\" fill-opacity=\"1\" /><path clip-path=\"url(#clip800)\" d=\"M259.683 1454.1 Q256.072 1454.1 254.243 1457.66 Q252.437 1461.2 252.437 1468.33 Q252.437 1475.44 254.243 1479.01 Q256.072 1482.55 259.683 1482.55 Q263.317 1482.55 265.123 1479.01 Q266.951 1475.44 266.951 1468.33 Q266.951 1461.2 265.123 1457.66 Q263.317 1454.1 259.683 1454.1 M259.683 1450.39 Q265.493 1450.39 268.549 1455 Q271.627 1459.58 271.627 1468.33 Q271.627 1477.06 268.549 1481.67 Q265.493 1486.25 259.683 1486.25 Q253.873 1486.25 250.794 1481.67 Q247.738 1477.06 247.738 1468.33 Q247.738 1459.58 250.794 1455 Q253.873 1450.39 259.683 1450.39 Z\" fill=\"#000000\" fill-rule=\"evenodd\" fill-opacity=\"1\" /><path clip-path=\"url(#clip800)\" d=\"M728.466 1454.1 Q724.855 1454.1 723.026 1457.66 Q721.221 1461.2 721.221 1468.33 Q721.221 1475.44 723.026 1479.01 Q724.855 1482.55 728.466 1482.55 Q732.1 1482.55 733.906 1479.01 Q735.734 1475.44 735.734 1468.33 Q735.734 1461.2 733.906 1457.66 Q732.1 1454.1 728.466 1454.1 M728.466 1450.39 Q734.276 1450.39 737.332 1455 Q740.41 1459.58 740.41 1468.33 Q740.41 1477.06 737.332 1481.67 Q734.276 1486.25 728.466 1486.25 Q722.656 1486.25 719.577 1481.67 Q716.522 1477.06 716.522 1468.33 Q716.522 1459.58 719.577 1455 Q722.656 1450.39 728.466 1450.39 Z\" fill=\"#000000\" fill-rule=\"evenodd\" fill-opacity=\"1\" /><path clip-path=\"url(#clip800)\" d=\"M748.628 1479.7 L753.512 1479.7 L753.512 1485.58 L748.628 1485.58 L748.628 1479.7 Z\" fill=\"#000000\" fill-rule=\"evenodd\" fill-opacity=\"1\" /><path clip-path=\"url(#clip800)\" d=\"M763.744 1451.02 L782.1 1451.02 L782.1 1454.96 L768.026 1454.96 L768.026 1463.43 Q769.044 1463.08 770.063 1462.92 Q771.081 1462.73 772.1 1462.73 Q777.887 1462.73 781.267 1465.9 Q784.646 1469.08 784.646 1474.49 Q784.646 1480.07 781.174 1483.17 Q777.702 1486.25 771.382 1486.25 Q769.206 1486.25 766.938 1485.88 Q764.693 1485.51 762.285 1484.77 L762.285 1480.07 Q764.369 1481.2 766.591 1481.76 Q768.813 1482.32 771.29 1482.32 Q775.294 1482.32 777.632 1480.21 Q779.97 1478.1 779.97 1474.49 Q779.97 1470.88 777.632 1468.77 Q775.294 1466.67 771.29 1466.67 Q769.415 1466.67 767.54 1467.08 Q765.688 1467.5 763.744 1468.38 L763.744 1451.02 Z\" fill=\"#000000\" fill-rule=\"evenodd\" fill-opacity=\"1\" /><path clip-path=\"url(#clip800)\" d=\"M1231.25 1481.64 L1238.89 1481.64 L1238.89 1455.28 L1230.58 1456.95 L1230.58 1452.69 L1238.85 1451.02 L1243.52 1451.02 L1243.52 1481.64 L1251.16 1481.64 L1251.16 1485.58 L1231.25 1485.58 L1231.25 1481.64 Z\" fill=\"#000000\" fill-rule=\"evenodd\" fill-opacity=\"1\" /><path clip-path=\"url(#clip800)\" d=\"M1260.61 1479.7 L1265.49 1479.7 L1265.49 1485.58 L1260.61 1485.58 L1260.61 1479.7 Z\" fill=\"#000000\" fill-rule=\"evenodd\" fill-opacity=\"1\" /><path clip-path=\"url(#clip800)\" d=\"M1285.67 1454.1 Q1282.06 1454.1 1280.23 1457.66 Q1278.43 1461.2 1278.43 1468.33 Q1278.43 1475.44 1280.23 1479.01 Q1282.06 1482.55 1285.67 1482.55 Q1289.31 1482.55 1291.11 1479.01 Q1292.94 1475.44 1292.94 1468.33 Q1292.94 1461.2 1291.11 1457.66 Q1289.31 1454.1 1285.67 1454.1 M1285.67 1450.39 Q1291.48 1450.39 1294.54 1455 Q1297.62 1459.58 1297.62 1468.33 Q1297.62 1477.06 1294.54 1481.67 Q1291.48 1486.25 1285.67 1486.25 Q1279.86 1486.25 1276.79 1481.67 Q1273.73 1477.06 1273.73 1468.33 Q1273.73 1459.58 1276.79 1455 Q1279.86 1450.39 1285.67 1450.39 Z\" fill=\"#000000\" fill-rule=\"evenodd\" fill-opacity=\"1\" /><path clip-path=\"url(#clip800)\" d=\"M1745.27 1481.64 L1752.91 1481.64 L1752.91 1455.28 L1744.6 1456.95 L1744.6 1452.69 L1752.86 1451.02 L1757.54 1451.02 L1757.54 1481.64 L1765.18 1481.64 L1765.18 1485.58 L1745.27 1485.58 L1745.27 1481.64 Z\" fill=\"#000000\" fill-rule=\"evenodd\" fill-opacity=\"1\" /><path clip-path=\"url(#clip800)\" d=\"M1774.62 1479.7 L1779.5 1479.7 L1779.5 1485.58 L1774.62 1485.58 L1774.62 1479.7 Z\" fill=\"#000000\" fill-rule=\"evenodd\" fill-opacity=\"1\" /><path clip-path=\"url(#clip800)\" d=\"M1789.74 1451.02 L1808.09 1451.02 L1808.09 1454.96 L1794.02 1454.96 L1794.02 1463.43 Q1795.04 1463.08 1796.05 1462.92 Q1797.07 1462.73 1798.09 1462.73 Q1803.88 1462.73 1807.26 1465.9 Q1810.64 1469.08 1810.64 1474.49 Q1810.64 1480.07 1807.17 1483.17 Q1803.69 1486.25 1797.37 1486.25 Q1795.2 1486.25 1792.93 1485.88 Q1790.68 1485.51 1788.28 1484.77 L1788.28 1480.07 Q1790.36 1481.2 1792.58 1481.76 Q1794.8 1482.32 1797.28 1482.32 Q1801.29 1482.32 1803.62 1480.21 Q1805.96 1478.1 1805.96 1474.49 Q1805.96 1470.88 1803.62 1468.77 Q1801.29 1466.67 1797.28 1466.67 Q1795.41 1466.67 1793.53 1467.08 Q1791.68 1467.5 1789.74 1468.38 L1789.74 1451.02 Z\" fill=\"#000000\" fill-rule=\"evenodd\" fill-opacity=\"1\" /><path clip-path=\"url(#clip800)\" d=\"M2262.37 1481.64 L2278.69 1481.64 L2278.69 1485.58 L2256.75 1485.58 L2256.75 1481.64 Q2259.41 1478.89 2263.99 1474.26 Q2268.6 1469.61 2269.78 1468.27 Q2272.03 1465.74 2272.9 1464.01 Q2273.81 1462.25 2273.81 1460.56 Q2273.81 1457.8 2271.86 1456.07 Q2269.94 1454.33 2266.84 1454.33 Q2264.64 1454.33 2262.19 1455.09 Q2259.76 1455.86 2256.98 1457.41 L2256.98 1452.69 Q2259.8 1451.55 2262.26 1450.97 Q2264.71 1450.39 2266.75 1450.39 Q2272.12 1450.39 2275.31 1453.08 Q2278.51 1455.77 2278.51 1460.26 Q2278.51 1462.39 2277.7 1464.31 Q2276.91 1466.2 2274.8 1468.8 Q2274.22 1469.47 2271.12 1472.69 Q2268.02 1475.88 2262.37 1481.64 Z\" fill=\"#000000\" fill-rule=\"evenodd\" fill-opacity=\"1\" /><path clip-path=\"url(#clip800)\" d=\"M2288.51 1479.7 L2293.39 1479.7 L2293.39 1485.58 L2288.51 1485.58 L2288.51 1479.7 Z\" fill=\"#000000\" fill-rule=\"evenodd\" fill-opacity=\"1\" /><path clip-path=\"url(#clip800)\" d=\"M2313.58 1454.1 Q2309.96 1454.1 2308.14 1457.66 Q2306.33 1461.2 2306.33 1468.33 Q2306.33 1475.44 2308.14 1479.01 Q2309.96 1482.55 2313.58 1482.55 Q2317.21 1482.55 2319.02 1479.01 Q2320.84 1475.44 2320.84 1468.33 Q2320.84 1461.2 2319.02 1457.66 Q2317.21 1454.1 2313.58 1454.1 M2313.58 1450.39 Q2319.39 1450.39 2322.44 1455 Q2325.52 1459.58 2325.52 1468.33 Q2325.52 1477.06 2322.44 1481.67 Q2319.39 1486.25 2313.58 1486.25 Q2307.77 1486.25 2304.69 1481.67 Q2301.63 1477.06 2301.63 1468.33 Q2301.63 1459.58 2304.69 1455 Q2307.77 1450.39 2313.58 1450.39 Z\" fill=\"#000000\" fill-rule=\"evenodd\" fill-opacity=\"1\" /><path clip-path=\"url(#clip800)\" d=\"M1278.27 1545.44 Q1278.27 1547.24 1277.15 1548.27 Q1276.02 1549.27 1274.73 1549.27 Q1273.51 1549.27 1272.86 1548.56 Q1272.22 1547.85 1272.22 1546.95 Q1272.22 1545.73 1273.12 1544.66 Q1274.02 1543.6 1275.38 1543.37 Q1274.06 1542.54 1272.09 1542.54 Q1270.8 1542.54 1269.68 1543.21 Q1268.58 1543.89 1267.9 1544.76 Q1267.26 1545.63 1266.68 1546.88 Q1266.13 1548.11 1265.91 1548.85 Q1265.71 1549.56 1265.55 1550.33 L1263.3 1559.35 Q1262.2 1563.63 1262.2 1565.15 Q1262.2 1567.01 1263.11 1568.27 Q1264.01 1569.49 1265.81 1569.49 Q1266.52 1569.49 1267.32 1569.3 Q1268.13 1569.07 1269.16 1568.5 Q1270.22 1567.88 1271.16 1566.98 Q1272.12 1566.05 1273.06 1564.47 Q1273.99 1562.89 1274.6 1560.86 Q1274.8 1560.15 1275.44 1560.15 Q1276.24 1560.15 1276.24 1560.8 Q1276.24 1561.35 1275.79 1562.5 Q1275.38 1563.63 1274.44 1565.11 Q1273.54 1566.56 1272.35 1567.88 Q1271.16 1569.17 1269.39 1570.07 Q1267.61 1570.97 1265.68 1570.97 Q1262.91 1570.97 1261.08 1569.49 Q1259.24 1568.01 1258.56 1565.95 Q1258.4 1566.24 1258.18 1566.63 Q1257.95 1567.01 1257.28 1567.88 Q1256.63 1568.72 1255.89 1569.36 Q1255.15 1569.98 1253.99 1570.46 Q1252.86 1570.97 1251.64 1570.97 Q1250.09 1570.97 1248.71 1570.52 Q1247.36 1570.07 1246.39 1569.04 Q1245.42 1568.01 1245.42 1566.59 Q1245.42 1565.02 1246.49 1563.92 Q1247.58 1562.79 1249.06 1562.79 Q1250 1562.79 1250.74 1563.34 Q1251.51 1563.89 1251.51 1565.08 Q1251.51 1566.4 1250.61 1567.4 Q1249.71 1568.4 1248.42 1568.66 Q1249.74 1569.49 1251.7 1569.49 Q1253.83 1569.49 1255.5 1567.63 Q1257.18 1565.76 1257.98 1562.63 Q1259.98 1555.13 1260.75 1551.78 Q1261.53 1548.4 1261.53 1546.95 Q1261.53 1545.6 1261.17 1544.66 Q1260.82 1543.73 1260.21 1543.31 Q1259.63 1542.86 1259.08 1542.7 Q1258.56 1542.54 1257.98 1542.54 Q1257.02 1542.54 1255.92 1542.92 Q1254.86 1543.31 1253.57 1544.21 Q1252.32 1545.08 1251.12 1546.88 Q1249.93 1548.69 1249.13 1551.17 Q1248.97 1551.91 1248.26 1551.91 Q1247.49 1551.88 1247.49 1551.23 Q1247.49 1550.69 1247.9 1549.56 Q1248.35 1548.4 1249.26 1546.95 Q1250.19 1545.5 1251.38 1544.21 Q1252.61 1542.89 1254.38 1541.99 Q1256.18 1541.09 1258.11 1541.09 Q1258.98 1541.09 1259.82 1541.28 Q1260.69 1541.44 1261.72 1541.93 Q1262.78 1542.41 1263.72 1543.47 Q1264.65 1544.53 1265.23 1546.08 Q1265.62 1545.34 1266.13 1544.63 Q1266.68 1543.92 1267.52 1543.05 Q1268.39 1542.15 1269.58 1541.64 Q1270.8 1541.09 1272.15 1541.09 Q1273.48 1541.09 1274.76 1541.44 Q1276.05 1541.76 1277.15 1542.83 Q1278.27 1543.86 1278.27 1545.44 Z\" fill=\"#000000\" fill-rule=\"evenodd\" fill-opacity=\"1\" /><polyline clip-path=\"url(#clip803)\" style=\"stroke:#000000; stroke-linecap:butt; stroke-linejoin:round; stroke-width:2; stroke-opacity:0.1; fill:none\" points=\"\n",
       "  175.445,1389.87 2352.76,1389.87 \n",
       "  \"/>\n",
       "<polyline clip-path=\"url(#clip803)\" style=\"stroke:#000000; stroke-linecap:butt; stroke-linejoin:round; stroke-width:2; stroke-opacity:0.1; fill:none\" points=\"\n",
       "  175.445,1064.66 2352.76,1064.66 \n",
       "  \"/>\n",
       "<polyline clip-path=\"url(#clip803)\" style=\"stroke:#000000; stroke-linecap:butt; stroke-linejoin:round; stroke-width:2; stroke-opacity:0.1; fill:none\" points=\"\n",
       "  175.445,739.439 2352.76,739.439 \n",
       "  \"/>\n",
       "<polyline clip-path=\"url(#clip803)\" style=\"stroke:#000000; stroke-linecap:butt; stroke-linejoin:round; stroke-width:2; stroke-opacity:0.1; fill:none\" points=\"\n",
       "  175.445,414.221 2352.76,414.221 \n",
       "  \"/>\n",
       "<polyline clip-path=\"url(#clip803)\" style=\"stroke:#000000; stroke-linecap:butt; stroke-linejoin:round; stroke-width:2; stroke-opacity:0.1; fill:none\" points=\"\n",
       "  175.445,89.0035 2352.76,89.0035 \n",
       "  \"/>\n",
       "<polyline clip-path=\"url(#clip800)\" style=\"stroke:#000000; stroke-linecap:butt; stroke-linejoin:round; stroke-width:4; stroke-opacity:1; fill:none\" points=\"\n",
       "  175.445,1423.18 175.445,47.2441 \n",
       "  \"/>\n",
       "<polyline clip-path=\"url(#clip800)\" style=\"stroke:#000000; stroke-linecap:butt; stroke-linejoin:round; stroke-width:4; stroke-opacity:1; fill:none\" points=\"\n",
       "  175.445,1389.87 194.343,1389.87 \n",
       "  \"/>\n",
       "<polyline clip-path=\"url(#clip800)\" style=\"stroke:#000000; stroke-linecap:butt; stroke-linejoin:round; stroke-width:4; stroke-opacity:1; fill:none\" points=\"\n",
       "  175.445,1064.66 194.343,1064.66 \n",
       "  \"/>\n",
       "<polyline clip-path=\"url(#clip800)\" style=\"stroke:#000000; stroke-linecap:butt; stroke-linejoin:round; stroke-width:4; stroke-opacity:1; fill:none\" points=\"\n",
       "  175.445,739.439 194.343,739.439 \n",
       "  \"/>\n",
       "<polyline clip-path=\"url(#clip800)\" style=\"stroke:#000000; stroke-linecap:butt; stroke-linejoin:round; stroke-width:4; stroke-opacity:1; fill:none\" points=\"\n",
       "  175.445,414.221 194.343,414.221 \n",
       "  \"/>\n",
       "<polyline clip-path=\"url(#clip800)\" style=\"stroke:#000000; stroke-linecap:butt; stroke-linejoin:round; stroke-width:4; stroke-opacity:1; fill:none\" points=\"\n",
       "  175.445,89.0035 194.343,89.0035 \n",
       "  \"/>\n",
       "<path clip-path=\"url(#clip800)\" d=\"M119.538 1403.22 L127.177 1403.22 L127.177 1376.85 L118.867 1378.52 L118.867 1374.26 L127.13 1372.59 L131.806 1372.59 L131.806 1403.22 L139.445 1403.22 L139.445 1407.15 L119.538 1407.15 L119.538 1403.22 Z\" fill=\"#000000\" fill-rule=\"evenodd\" fill-opacity=\"1\" /><path clip-path=\"url(#clip800)\" d=\"M123.126 1078 L139.445 1078 L139.445 1081.94 L117.501 1081.94 L117.501 1078 Q120.163 1075.25 124.746 1070.62 Q129.353 1065.96 130.533 1064.62 Q132.779 1062.1 133.658 1060.36 Q134.561 1058.6 134.561 1056.91 Q134.561 1054.16 132.617 1052.42 Q130.695 1050.69 127.593 1050.69 Q125.394 1050.69 122.941 1051.45 Q120.51 1052.21 117.732 1053.77 L117.732 1049.04 Q120.556 1047.91 123.01 1047.33 Q125.464 1046.75 127.501 1046.75 Q132.871 1046.75 136.066 1049.44 Q139.26 1052.12 139.26 1056.61 Q139.26 1058.74 138.45 1060.66 Q137.663 1062.56 135.556 1065.15 Q134.978 1065.83 131.876 1069.04 Q128.774 1072.24 123.126 1078 Z\" fill=\"#000000\" fill-rule=\"evenodd\" fill-opacity=\"1\" /><path clip-path=\"url(#clip800)\" d=\"M132.316 738.085 Q135.672 738.802 137.547 741.071 Q139.445 743.339 139.445 746.672 Q139.445 751.788 135.927 754.589 Q132.408 757.39 125.927 757.39 Q123.751 757.39 121.436 756.95 Q119.144 756.533 116.691 755.677 L116.691 751.163 Q118.635 752.297 120.95 752.876 Q123.265 753.455 125.788 753.455 Q130.186 753.455 132.478 751.719 Q134.792 749.983 134.792 746.672 Q134.792 743.617 132.64 741.904 Q130.51 740.168 126.691 740.168 L122.663 740.168 L122.663 736.325 L126.876 736.325 Q130.325 736.325 132.154 734.96 Q133.982 733.571 133.982 730.978 Q133.982 728.316 132.084 726.904 Q130.209 725.469 126.691 725.469 Q124.769 725.469 122.57 725.885 Q120.371 726.302 117.732 727.182 L117.732 723.015 Q120.394 722.274 122.709 721.904 Q125.047 721.534 127.107 721.534 Q132.431 721.534 135.533 723.964 Q138.635 726.372 138.635 730.492 Q138.635 733.362 136.992 735.353 Q135.348 737.321 132.316 738.085 Z\" fill=\"#000000\" fill-rule=\"evenodd\" fill-opacity=\"1\" /><path clip-path=\"url(#clip800)\" d=\"M129.862 401.015 L118.056 419.464 L129.862 419.464 L129.862 401.015 M128.635 396.941 L134.515 396.941 L134.515 419.464 L139.445 419.464 L139.445 423.353 L134.515 423.353 L134.515 431.501 L129.862 431.501 L129.862 423.353 L114.26 423.353 L114.26 418.839 L128.635 396.941 Z\" fill=\"#000000\" fill-rule=\"evenodd\" fill-opacity=\"1\" /><path clip-path=\"url(#clip800)\" d=\"M118.543 71.7235 L136.899 71.7235 L136.899 75.6586 L122.825 75.6586 L122.825 84.1308 Q123.843 83.7836 124.862 83.6216 Q125.88 83.4364 126.899 83.4364 Q132.686 83.4364 136.066 86.6076 Q139.445 89.7789 139.445 95.1956 Q139.445 100.774 135.973 103.876 Q132.501 106.955 126.181 106.955 Q124.005 106.955 121.737 106.584 Q119.492 106.214 117.084 105.473 L117.084 100.774 Q119.168 101.908 121.39 102.464 Q123.612 103.02 126.089 103.02 Q130.093 103.02 132.431 100.913 Q134.769 98.8067 134.769 95.1956 Q134.769 91.5845 132.431 89.478 Q130.093 87.3715 126.089 87.3715 Q124.214 87.3715 122.339 87.7882 Q120.487 88.2049 118.543 89.0845 L118.543 71.7235 Z\" fill=\"#000000\" fill-rule=\"evenodd\" fill-opacity=\"1\" /><path clip-path=\"url(#clip800)\" d=\"M26.4959 765.105 Q28.2672 765.105 29.3622 766.232 Q30.4572 767.327 30.4572 768.712 Q30.4572 769.71 29.8453 770.451 Q29.2334 771.159 28.1706 771.159 Q27.0756 771.159 25.9162 770.322 Q24.7567 769.485 24.5957 767.585 Q23.4041 768.841 23.4041 770.837 Q23.4041 771.836 24.0482 772.673 Q24.6601 773.478 25.6585 773.929 Q26.6891 774.412 32.5184 775.507 Q34.4185 775.861 36.2542 776.184 Q38.09 776.506 40.0223 776.892 L40.0223 771.417 Q40.0223 770.709 40.0545 770.419 Q40.0867 770.129 40.2478 769.903 Q40.4088 769.646 40.7631 769.646 Q41.6648 769.646 41.8903 770.064 Q42.0835 770.451 42.0835 771.61 L42.0835 777.279 L62.9851 781.24 Q63.597 781.336 65.5294 781.755 Q67.4295 782.142 70.5535 783.076 Q73.7097 784.01 75.5776 784.944 Q76.6404 785.459 77.6388 786.135 Q78.6694 786.779 79.6999 787.713 Q80.7305 788.647 81.3424 789.871 Q81.9866 791.095 81.9866 792.383 Q81.9866 794.573 80.7627 796.28 Q79.5389 797.987 77.4455 797.987 Q75.6742 797.987 74.5792 796.892 Q73.4842 795.765 73.4842 794.38 Q73.4842 793.381 74.0961 792.673 Q74.708 791.932 75.7708 791.932 Q76.2217 791.932 76.737 792.093 Q77.2523 792.254 77.832 792.609 Q78.4439 792.963 78.8626 793.736 Q79.2813 794.509 79.3457 795.571 Q80.5373 794.315 80.5373 792.383 Q80.5373 791.771 80.2796 791.224 Q80.0542 790.676 79.4745 790.225 Q78.8948 789.742 78.3151 789.388 Q77.7676 789.034 76.7048 788.679 Q75.6742 788.325 74.9013 788.1 Q74.1283 787.874 72.7435 787.584 Q71.3586 787.262 70.5213 787.101 Q69.7161 786.94 68.138 786.65 L42.0835 781.723 L42.0835 786.071 Q42.0835 786.844 42.0513 787.166 Q42.0191 787.456 41.8581 787.681 Q41.6648 787.906 41.2783 787.906 Q40.6664 787.906 40.4088 787.649 Q40.1189 787.359 40.0867 787.037 Q40.0223 786.715 40.0223 785.942 L40.0223 781.369 Q31.8742 779.823 29.6842 779.211 Q27.3654 778.502 25.7551 777.407 Q24.1126 776.312 23.3397 775.089 Q22.5667 773.865 22.2769 772.866 Q21.9548 771.836 21.9548 770.837 Q21.9548 768.583 23.1787 766.844 Q24.3703 765.105 26.4959 765.105 Z\" fill=\"#000000\" fill-rule=\"evenodd\" fill-opacity=\"1\" /><path clip-path=\"url(#clip800)\" d=\"M51.9707 757.277 Q40.8275 757.277 31.842 753.122 Q28.0739 751.351 24.9178 748.871 Q21.7616 746.391 20.3767 744.749 Q18.9919 743.106 18.9919 742.656 Q18.9919 742.011 19.636 741.979 Q19.9581 741.979 20.7632 742.849 Q31.5844 753.477 51.9707 753.445 Q72.4214 753.445 82.8239 743.106 Q83.9511 741.979 84.3054 741.979 Q84.9495 741.979 84.9495 742.656 Q84.9495 743.106 83.6291 744.685 Q82.3086 746.263 79.2813 748.71 Q76.2539 751.158 72.5502 752.929 Q63.5648 757.277 51.9707 757.277 Z\" fill=\"#000000\" fill-rule=\"evenodd\" fill-opacity=\"1\" /><path clip-path=\"url(#clip800)\" d=\"M43.6616 704.116 Q45.4651 704.116 46.4957 705.243 Q47.4941 706.37 47.4941 707.658 Q47.4941 708.882 46.7856 709.526 Q46.077 710.17 45.1753 710.17 Q43.9514 710.17 42.8886 709.269 Q41.8258 708.367 41.6004 707.014 Q40.7631 708.335 40.7631 710.299 Q40.7631 711.587 41.4394 712.715 Q42.1157 713.81 42.9853 714.486 Q43.8548 715.13 45.1108 715.71 Q46.3347 716.257 47.0754 716.483 Q47.7839 716.676 48.5569 716.837 L57.5745 719.091 Q61.8579 720.186 63.3716 720.186 Q65.2395 720.186 66.4955 719.285 Q67.7194 718.383 67.7194 716.579 Q67.7194 715.871 67.5261 715.066 Q67.3007 714.26 66.721 713.23 Q66.1091 712.167 65.2073 711.233 Q64.2733 710.267 62.6952 709.333 Q61.1172 708.399 59.0882 707.787 Q58.3797 707.594 58.3797 706.95 Q58.3797 706.145 59.0238 706.145 Q59.5713 706.145 60.7307 706.595 Q61.8579 707.014 63.3394 707.948 Q64.7886 708.85 66.1091 710.041 Q67.3973 711.233 68.2991 713.004 Q69.2008 714.776 69.2008 716.708 Q69.2008 719.478 67.7194 721.314 Q66.2379 723.149 64.1767 723.826 Q64.4666 723.987 64.853 724.212 Q65.2395 724.438 66.1091 725.114 Q66.9464 725.758 67.5905 726.499 Q68.2024 727.239 68.6855 728.399 Q69.2008 729.526 69.2008 730.75 Q69.2008 732.296 68.7499 733.681 Q68.2991 735.033 67.2685 735.999 Q66.2379 736.966 64.8208 736.966 Q63.2427 736.966 62.1477 735.903 Q61.0205 734.808 61.0205 733.326 Q61.0205 732.392 61.568 731.652 Q62.1155 730.879 63.3072 730.879 Q64.6276 730.879 65.626 731.78 Q66.6244 732.682 66.882 733.97 Q67.7194 732.65 67.7194 730.685 Q67.7194 728.56 65.8514 726.885 Q63.9835 725.21 60.8595 724.405 Q53.3555 722.409 50.0061 721.636 Q46.6245 720.863 45.1753 720.863 Q43.8226 720.863 42.8886 721.217 Q41.9547 721.571 41.536 722.183 Q41.0851 722.763 40.9241 723.31 Q40.7631 723.826 40.7631 724.405 Q40.7631 725.371 41.1495 726.466 Q41.536 727.529 42.4378 728.818 Q43.3073 730.074 45.1108 731.265 Q46.9144 732.457 49.3942 733.262 Q50.135 733.423 50.135 734.131 Q50.1028 734.904 49.4586 734.904 Q48.9111 734.904 47.7839 734.486 Q46.6245 734.035 45.1753 733.133 Q43.726 732.199 42.4378 731.008 Q41.1173 729.784 40.2156 728.012 Q39.3138 726.209 39.3138 724.276 Q39.3138 723.407 39.507 722.57 Q39.6681 721.7 40.1511 720.669 Q40.6342 719.607 41.697 718.673 Q42.7598 717.739 44.3057 717.159 Q43.565 716.773 42.8564 716.257 Q42.1479 715.71 41.2783 714.872 Q40.3766 714.003 39.8613 712.811 Q39.3138 711.587 39.3138 710.235 Q39.3138 708.914 39.6681 707.626 Q39.9901 706.338 41.0529 705.243 Q42.0835 704.116 43.6616 704.116 Z\" fill=\"#000000\" fill-rule=\"evenodd\" fill-opacity=\"1\" /><path clip-path=\"url(#clip800)\" d=\"M84.3054 697.764 Q83.9833 697.764 83.1782 696.927 Q72.357 686.299 51.9707 686.299 Q31.52 686.299 21.1819 696.508 Q19.9903 697.764 19.636 697.764 Q18.9919 697.764 18.9919 697.12 Q18.9919 696.669 20.3123 695.091 Q21.6328 693.481 24.6601 691.066 Q27.6875 688.618 31.3911 686.814 Q40.3766 682.467 51.9707 682.467 Q63.1139 682.467 72.0994 686.621 Q75.8674 688.393 79.0236 690.872 Q82.1798 693.352 83.5646 694.995 Q84.9495 696.637 84.9495 697.12 Q84.9495 697.764 84.3054 697.764 Z\" fill=\"#000000\" fill-rule=\"evenodd\" fill-opacity=\"1\" /><polyline clip-path=\"url(#clip803)\" style=\"stroke:#009af9; stroke-linecap:butt; stroke-linejoin:round; stroke-width:8; stroke-opacity:1; fill:none\" points=\"\n",
       "  237.067,1384.24 339.771,1381.3 442.474,1371.89 545.177,1356 647.881,1333.65 750.584,1304.84 853.287,1269.59 955.991,1227.91 1058.69,1179.82 1161.4,1125.38 \n",
       "  1264.1,1064.66 1366.8,997.811 1469.51,925.285 1572.21,849.617 1674.91,758.99 1777.62,660.952 1880.32,558.224 1983.02,449.608 2085.73,334.801 2188.43,213.681 \n",
       "  2291.13,86.1857 \n",
       "  \"/>\n",
       "</svg>\n"
      ]
     },
     "execution_count": 33,
     "metadata": {},
     "output_type": "execute_result"
    }
   ],
   "source": [
    "# Kahan's example\n",
    "f(x) = (1/80) * log(abs(3*(1 - x) + 1)) + x.^2 + 1\n",
    "x = range(0, 2, step = 0.1)\n",
    "y = f.(x)\n",
    "\n",
    "println(f(1.0..1.2))\n",
    "println(f(1.3..1.4))\n",
    "plot(x, y, xlabel=\"\\$x\\$\", ylabel=\"\\$f\\\\,(x)\\$\", linewidth =2, legend = false)"
   ]
  },
  {
   "cell_type": "code",
   "execution_count": 34,
   "metadata": {},
   "outputs": [
    {
     "data": {
      "image/svg+xml": [
       "<?xml version=\"1.0\" encoding=\"utf-8\"?>\n",
       "<svg xmlns=\"http://www.w3.org/2000/svg\" xmlns:xlink=\"http://www.w3.org/1999/xlink\" width=\"600\" height=\"400\" viewBox=\"0 0 2400 1600\">\n",
       "<defs>\n",
       "  <clipPath id=\"clip840\">\n",
       "    <rect x=\"0\" y=\"0\" width=\"2400\" height=\"1600\"/>\n",
       "  </clipPath>\n",
       "</defs>\n",
       "<path clip-path=\"url(#clip840)\" d=\"\n",
       "M0 1600 L2400 1600 L2400 0 L0 0  Z\n",
       "  \" fill=\"#ffffff\" fill-rule=\"evenodd\" fill-opacity=\"1\"/>\n",
       "<defs>\n",
       "  <clipPath id=\"clip841\">\n",
       "    <rect x=\"480\" y=\"0\" width=\"1681\" height=\"1600\"/>\n",
       "  </clipPath>\n",
       "</defs>\n",
       "<defs>\n",
       "  <clipPath id=\"clip842\">\n",
       "    <rect x=\"175\" y=\"47\" width=\"2178\" height=\"1377\"/>\n",
       "  </clipPath>\n",
       "</defs>\n",
       "<path clip-path=\"url(#clip840)\" d=\"\n",
       "M219.195 1423.18 L2352.76 1423.18 L2352.76 47.2441 L219.195 47.2441  Z\n",
       "  \" fill=\"#ffffff\" fill-rule=\"evenodd\" fill-opacity=\"1\"/>\n",
       "<defs>\n",
       "  <clipPath id=\"clip843\">\n",
       "    <rect x=\"219\" y=\"47\" width=\"2135\" height=\"1377\"/>\n",
       "  </clipPath>\n",
       "</defs>\n",
       "<polyline clip-path=\"url(#clip843)\" style=\"stroke:#000000; stroke-linecap:butt; stroke-linejoin:round; stroke-width:2; stroke-opacity:0.1; fill:none\" points=\"\n",
       "  279.579,1423.18 279.579,47.2441 \n",
       "  \"/>\n",
       "<polyline clip-path=\"url(#clip843)\" style=\"stroke:#000000; stroke-linecap:butt; stroke-linejoin:round; stroke-width:2; stroke-opacity:0.1; fill:none\" points=\"\n",
       "  782.777,1423.18 782.777,47.2441 \n",
       "  \"/>\n",
       "<polyline clip-path=\"url(#clip843)\" style=\"stroke:#000000; stroke-linecap:butt; stroke-linejoin:round; stroke-width:2; stroke-opacity:0.1; fill:none\" points=\"\n",
       "  1285.98,1423.18 1285.98,47.2441 \n",
       "  \"/>\n",
       "<polyline clip-path=\"url(#clip843)\" style=\"stroke:#000000; stroke-linecap:butt; stroke-linejoin:round; stroke-width:2; stroke-opacity:0.1; fill:none\" points=\"\n",
       "  1789.17,1423.18 1789.17,47.2441 \n",
       "  \"/>\n",
       "<polyline clip-path=\"url(#clip843)\" style=\"stroke:#000000; stroke-linecap:butt; stroke-linejoin:round; stroke-width:2; stroke-opacity:0.1; fill:none\" points=\"\n",
       "  2292.37,1423.18 2292.37,47.2441 \n",
       "  \"/>\n",
       "<polyline clip-path=\"url(#clip840)\" style=\"stroke:#000000; stroke-linecap:butt; stroke-linejoin:round; stroke-width:4; stroke-opacity:1; fill:none\" points=\"\n",
       "  219.195,1423.18 2352.76,1423.18 \n",
       "  \"/>\n",
       "<polyline clip-path=\"url(#clip840)\" style=\"stroke:#000000; stroke-linecap:butt; stroke-linejoin:round; stroke-width:4; stroke-opacity:1; fill:none\" points=\"\n",
       "  279.579,1423.18 279.579,1404.28 \n",
       "  \"/>\n",
       "<polyline clip-path=\"url(#clip840)\" style=\"stroke:#000000; stroke-linecap:butt; stroke-linejoin:round; stroke-width:4; stroke-opacity:1; fill:none\" points=\"\n",
       "  782.777,1423.18 782.777,1404.28 \n",
       "  \"/>\n",
       "<polyline clip-path=\"url(#clip840)\" style=\"stroke:#000000; stroke-linecap:butt; stroke-linejoin:round; stroke-width:4; stroke-opacity:1; fill:none\" points=\"\n",
       "  1285.98,1423.18 1285.98,1404.28 \n",
       "  \"/>\n",
       "<polyline clip-path=\"url(#clip840)\" style=\"stroke:#000000; stroke-linecap:butt; stroke-linejoin:round; stroke-width:4; stroke-opacity:1; fill:none\" points=\"\n",
       "  1789.17,1423.18 1789.17,1404.28 \n",
       "  \"/>\n",
       "<polyline clip-path=\"url(#clip840)\" style=\"stroke:#000000; stroke-linecap:butt; stroke-linejoin:round; stroke-width:4; stroke-opacity:1; fill:none\" points=\"\n",
       "  2292.37,1423.18 2292.37,1404.28 \n",
       "  \"/>\n",
       "<path clip-path=\"url(#clip840)\" d=\"M216.57 1481.64 L224.209 1481.64 L224.209 1455.28 L215.899 1456.95 L215.899 1452.69 L224.162 1451.02 L228.838 1451.02 L228.838 1481.64 L236.477 1481.64 L236.477 1485.58 L216.57 1485.58 L216.57 1481.64 Z\" fill=\"#000000\" fill-rule=\"evenodd\" fill-opacity=\"1\" /><path clip-path=\"url(#clip840)\" d=\"M245.922 1479.7 L250.806 1479.7 L250.806 1485.58 L245.922 1485.58 L245.922 1479.7 Z\" fill=\"#000000\" fill-rule=\"evenodd\" fill-opacity=\"1\" /><path clip-path=\"url(#clip840)\" d=\"M275.158 1466.95 Q278.514 1467.66 280.389 1469.93 Q282.287 1472.2 282.287 1475.53 Q282.287 1480.65 278.769 1483.45 Q275.25 1486.25 268.769 1486.25 Q266.593 1486.25 264.278 1485.81 Q261.986 1485.39 259.533 1484.54 L259.533 1480.02 Q261.477 1481.16 263.792 1481.74 Q266.107 1482.32 268.63 1482.32 Q273.028 1482.32 275.32 1480.58 Q277.634 1478.84 277.634 1475.53 Q277.634 1472.48 275.482 1470.77 Q273.352 1469.03 269.533 1469.03 L265.505 1469.03 L265.505 1465.19 L269.718 1465.19 Q273.167 1465.19 274.995 1463.82 Q276.824 1462.43 276.824 1459.84 Q276.824 1457.18 274.926 1455.77 Q273.051 1454.33 269.533 1454.33 Q267.611 1454.33 265.412 1454.75 Q263.213 1455.16 260.574 1456.04 L260.574 1451.88 Q263.236 1451.14 265.551 1450.77 Q267.889 1450.39 269.949 1450.39 Q275.273 1450.39 278.375 1452.83 Q281.477 1455.23 281.477 1459.35 Q281.477 1462.22 279.833 1464.21 Q278.19 1466.18 275.158 1466.95 Z\" fill=\"#000000\" fill-rule=\"evenodd\" fill-opacity=\"1\" /><path clip-path=\"url(#clip840)\" d=\"M301.153 1454.1 Q297.542 1454.1 295.713 1457.66 Q293.907 1461.2 293.907 1468.33 Q293.907 1475.44 295.713 1479.01 Q297.542 1482.55 301.153 1482.55 Q304.787 1482.55 306.593 1479.01 Q308.421 1475.44 308.421 1468.33 Q308.421 1461.2 306.593 1457.66 Q304.787 1454.1 301.153 1454.1 M301.153 1450.39 Q306.963 1450.39 310.018 1455 Q313.097 1459.58 313.097 1468.33 Q313.097 1477.06 310.018 1481.67 Q306.963 1486.25 301.153 1486.25 Q295.343 1486.25 292.264 1481.67 Q289.208 1477.06 289.208 1468.33 Q289.208 1459.58 292.264 1455 Q295.343 1450.39 301.153 1450.39 Z\" fill=\"#000000\" fill-rule=\"evenodd\" fill-opacity=\"1\" /><path clip-path=\"url(#clip840)\" d=\"M331.315 1454.1 Q327.704 1454.1 325.875 1457.66 Q324.069 1461.2 324.069 1468.33 Q324.069 1475.44 325.875 1479.01 Q327.704 1482.55 331.315 1482.55 Q334.949 1482.55 336.754 1479.01 Q338.583 1475.44 338.583 1468.33 Q338.583 1461.2 336.754 1457.66 Q334.949 1454.1 331.315 1454.1 M331.315 1450.39 Q337.125 1450.39 340.18 1455 Q343.259 1459.58 343.259 1468.33 Q343.259 1477.06 340.18 1481.67 Q337.125 1486.25 331.315 1486.25 Q325.504 1486.25 322.426 1481.67 Q319.37 1477.06 319.37 1468.33 Q319.37 1459.58 322.426 1455 Q325.504 1450.39 331.315 1450.39 Z\" fill=\"#000000\" fill-rule=\"evenodd\" fill-opacity=\"1\" /><path clip-path=\"url(#clip840)\" d=\"M720.266 1481.64 L727.905 1481.64 L727.905 1455.28 L719.595 1456.95 L719.595 1452.69 L727.858 1451.02 L732.534 1451.02 L732.534 1481.64 L740.173 1481.64 L740.173 1485.58 L720.266 1485.58 L720.266 1481.64 Z\" fill=\"#000000\" fill-rule=\"evenodd\" fill-opacity=\"1\" /><path clip-path=\"url(#clip840)\" d=\"M749.618 1479.7 L754.502 1479.7 L754.502 1485.58 L749.618 1485.58 L749.618 1479.7 Z\" fill=\"#000000\" fill-rule=\"evenodd\" fill-opacity=\"1\" /><path clip-path=\"url(#clip840)\" d=\"M778.854 1466.95 Q782.21 1467.66 784.085 1469.93 Q785.983 1472.2 785.983 1475.53 Q785.983 1480.65 782.465 1483.45 Q778.946 1486.25 772.465 1486.25 Q770.289 1486.25 767.974 1485.81 Q765.682 1485.39 763.229 1484.54 L763.229 1480.02 Q765.173 1481.16 767.488 1481.74 Q769.803 1482.32 772.326 1482.32 Q776.724 1482.32 779.016 1480.58 Q781.33 1478.84 781.33 1475.53 Q781.33 1472.48 779.178 1470.77 Q777.048 1469.03 773.229 1469.03 L769.201 1469.03 L769.201 1465.19 L773.414 1465.19 Q776.863 1465.19 778.691 1463.82 Q780.52 1462.43 780.52 1459.84 Q780.52 1457.18 778.622 1455.77 Q776.747 1454.33 773.229 1454.33 Q771.307 1454.33 769.108 1454.75 Q766.909 1455.16 764.27 1456.04 L764.27 1451.88 Q766.932 1451.14 769.247 1450.77 Q771.585 1450.39 773.645 1450.39 Q778.969 1450.39 782.071 1452.83 Q785.173 1455.23 785.173 1459.35 Q785.173 1462.22 783.529 1464.21 Q781.886 1466.18 778.854 1466.95 Z\" fill=\"#000000\" fill-rule=\"evenodd\" fill-opacity=\"1\" /><path clip-path=\"url(#clip840)\" d=\"M798.877 1481.64 L815.196 1481.64 L815.196 1485.58 L793.252 1485.58 L793.252 1481.64 Q795.914 1478.89 800.497 1474.26 Q805.103 1469.61 806.284 1468.27 Q808.529 1465.74 809.409 1464.01 Q810.312 1462.25 810.312 1460.56 Q810.312 1457.8 808.367 1456.07 Q806.446 1454.33 803.344 1454.33 Q801.145 1454.33 798.691 1455.09 Q796.261 1455.86 793.483 1457.41 L793.483 1452.69 Q796.307 1451.55 798.761 1450.97 Q801.215 1450.39 803.252 1450.39 Q808.622 1450.39 811.816 1453.08 Q815.011 1455.77 815.011 1460.26 Q815.011 1462.39 814.201 1464.31 Q813.414 1466.2 811.307 1468.8 Q810.728 1469.47 807.627 1472.69 Q804.525 1475.88 798.877 1481.64 Z\" fill=\"#000000\" fill-rule=\"evenodd\" fill-opacity=\"1\" /><path clip-path=\"url(#clip840)\" d=\"M825.057 1451.02 L843.413 1451.02 L843.413 1454.96 L829.339 1454.96 L829.339 1463.43 Q830.358 1463.08 831.376 1462.92 Q832.395 1462.73 833.413 1462.73 Q839.2 1462.73 842.58 1465.9 Q845.96 1469.08 845.96 1474.49 Q845.96 1480.07 842.487 1483.17 Q839.015 1486.25 832.696 1486.25 Q830.52 1486.25 828.251 1485.88 Q826.006 1485.51 823.599 1484.77 L823.599 1480.07 Q825.682 1481.2 827.904 1481.76 Q830.126 1482.32 832.603 1482.32 Q836.608 1482.32 838.946 1480.21 Q841.284 1478.1 841.284 1474.49 Q841.284 1470.88 838.946 1468.77 Q836.608 1466.67 832.603 1466.67 Q830.728 1466.67 828.853 1467.08 Q827.001 1467.5 825.057 1468.38 L825.057 1451.02 Z\" fill=\"#000000\" fill-rule=\"evenodd\" fill-opacity=\"1\" /><path clip-path=\"url(#clip840)\" d=\"M1222.97 1481.64 L1230.61 1481.64 L1230.61 1455.28 L1222.3 1456.95 L1222.3 1452.69 L1230.56 1451.02 L1235.23 1451.02 L1235.23 1481.64 L1242.87 1481.64 L1242.87 1485.58 L1222.97 1485.58 L1222.97 1481.64 Z\" fill=\"#000000\" fill-rule=\"evenodd\" fill-opacity=\"1\" /><path clip-path=\"url(#clip840)\" d=\"M1252.32 1479.7 L1257.2 1479.7 L1257.2 1485.58 L1252.32 1485.58 L1252.32 1479.7 Z\" fill=\"#000000\" fill-rule=\"evenodd\" fill-opacity=\"1\" /><path clip-path=\"url(#clip840)\" d=\"M1281.55 1466.95 Q1284.91 1467.66 1286.79 1469.93 Q1288.68 1472.2 1288.68 1475.53 Q1288.68 1480.65 1285.17 1483.45 Q1281.65 1486.25 1275.17 1486.25 Q1272.99 1486.25 1270.67 1485.81 Q1268.38 1485.39 1265.93 1484.54 L1265.93 1480.02 Q1267.87 1481.16 1270.19 1481.74 Q1272.5 1482.32 1275.03 1482.32 Q1279.42 1482.32 1281.72 1480.58 Q1284.03 1478.84 1284.03 1475.53 Q1284.03 1472.48 1281.88 1470.77 Q1279.75 1469.03 1275.93 1469.03 L1271.9 1469.03 L1271.9 1465.19 L1276.11 1465.19 Q1279.56 1465.19 1281.39 1463.82 Q1283.22 1462.43 1283.22 1459.84 Q1283.22 1457.18 1281.32 1455.77 Q1279.45 1454.33 1275.93 1454.33 Q1274.01 1454.33 1271.81 1454.75 Q1269.61 1455.16 1266.97 1456.04 L1266.97 1451.88 Q1269.63 1451.14 1271.95 1450.77 Q1274.29 1450.39 1276.35 1450.39 Q1281.67 1450.39 1284.77 1452.83 Q1287.87 1455.23 1287.87 1459.35 Q1287.87 1462.22 1286.23 1464.21 Q1284.59 1466.18 1281.55 1466.95 Z\" fill=\"#000000\" fill-rule=\"evenodd\" fill-opacity=\"1\" /><path clip-path=\"url(#clip840)\" d=\"M1297.6 1451.02 L1315.95 1451.02 L1315.95 1454.96 L1301.88 1454.96 L1301.88 1463.43 Q1302.9 1463.08 1303.92 1462.92 Q1304.93 1462.73 1305.95 1462.73 Q1311.74 1462.73 1315.12 1465.9 Q1318.5 1469.08 1318.5 1474.49 Q1318.5 1480.07 1315.03 1483.17 Q1311.55 1486.25 1305.23 1486.25 Q1303.06 1486.25 1300.79 1485.88 Q1298.54 1485.51 1296.14 1484.77 L1296.14 1480.07 Q1298.22 1481.2 1300.44 1481.76 Q1302.67 1482.32 1305.14 1482.32 Q1309.15 1482.32 1311.48 1480.21 Q1313.82 1478.1 1313.82 1474.49 Q1313.82 1470.88 1311.48 1468.77 Q1309.15 1466.67 1305.14 1466.67 Q1303.27 1466.67 1301.39 1467.08 Q1299.54 1467.5 1297.6 1468.38 L1297.6 1451.02 Z\" fill=\"#000000\" fill-rule=\"evenodd\" fill-opacity=\"1\" /><path clip-path=\"url(#clip840)\" d=\"M1337.71 1454.1 Q1334.1 1454.1 1332.27 1457.66 Q1330.47 1461.2 1330.47 1468.33 Q1330.47 1475.44 1332.27 1479.01 Q1334.1 1482.55 1337.71 1482.55 Q1341.35 1482.55 1343.15 1479.01 Q1344.98 1475.44 1344.98 1468.33 Q1344.98 1461.2 1343.15 1457.66 Q1341.35 1454.1 1337.71 1454.1 M1337.71 1450.39 Q1343.52 1450.39 1346.58 1455 Q1349.66 1459.58 1349.66 1468.33 Q1349.66 1477.06 1346.58 1481.67 Q1343.52 1486.25 1337.71 1486.25 Q1331.9 1486.25 1328.82 1481.67 Q1325.77 1477.06 1325.77 1468.33 Q1325.77 1459.58 1328.82 1455 Q1331.9 1450.39 1337.71 1450.39 Z\" fill=\"#000000\" fill-rule=\"evenodd\" fill-opacity=\"1\" /><path clip-path=\"url(#clip840)\" d=\"M1726.66 1481.64 L1734.3 1481.64 L1734.3 1455.28 L1725.99 1456.95 L1725.99 1452.69 L1734.26 1451.02 L1738.93 1451.02 L1738.93 1481.64 L1746.57 1481.64 L1746.57 1485.58 L1726.66 1485.58 L1726.66 1481.64 Z\" fill=\"#000000\" fill-rule=\"evenodd\" fill-opacity=\"1\" /><path clip-path=\"url(#clip840)\" d=\"M1756.01 1479.7 L1760.9 1479.7 L1760.9 1485.58 L1756.01 1485.58 L1756.01 1479.7 Z\" fill=\"#000000\" fill-rule=\"evenodd\" fill-opacity=\"1\" /><path clip-path=\"url(#clip840)\" d=\"M1785.25 1466.95 Q1788.61 1467.66 1790.48 1469.93 Q1792.38 1472.2 1792.38 1475.53 Q1792.38 1480.65 1788.86 1483.45 Q1785.34 1486.25 1778.86 1486.25 Q1776.69 1486.25 1774.37 1485.81 Q1772.08 1485.39 1769.63 1484.54 L1769.63 1480.02 Q1771.57 1481.16 1773.88 1481.74 Q1776.2 1482.32 1778.72 1482.32 Q1783.12 1482.32 1785.41 1480.58 Q1787.73 1478.84 1787.73 1475.53 Q1787.73 1472.48 1785.57 1470.77 Q1783.44 1469.03 1779.63 1469.03 L1775.6 1469.03 L1775.6 1465.19 L1779.81 1465.19 Q1783.26 1465.19 1785.09 1463.82 Q1786.92 1462.43 1786.92 1459.84 Q1786.92 1457.18 1785.02 1455.77 Q1783.14 1454.33 1779.63 1454.33 Q1777.7 1454.33 1775.5 1454.75 Q1773.31 1455.16 1770.67 1456.04 L1770.67 1451.88 Q1773.33 1451.14 1775.64 1450.77 Q1777.98 1450.39 1780.04 1450.39 Q1785.37 1450.39 1788.47 1452.83 Q1791.57 1455.23 1791.57 1459.35 Q1791.57 1462.22 1789.93 1464.21 Q1788.28 1466.18 1785.25 1466.95 Z\" fill=\"#000000\" fill-rule=\"evenodd\" fill-opacity=\"1\" /><path clip-path=\"url(#clip840)\" d=\"M1800.06 1451.02 L1822.29 1451.02 L1822.29 1453.01 L1809.74 1485.58 L1804.86 1485.58 L1816.66 1454.96 L1800.06 1454.96 L1800.06 1451.02 Z\" fill=\"#000000\" fill-rule=\"evenodd\" fill-opacity=\"1\" /><path clip-path=\"url(#clip840)\" d=\"M1831.45 1451.02 L1849.81 1451.02 L1849.81 1454.96 L1835.74 1454.96 L1835.74 1463.43 Q1836.75 1463.08 1837.77 1462.92 Q1838.79 1462.73 1839.81 1462.73 Q1845.6 1462.73 1848.98 1465.9 Q1852.36 1469.08 1852.36 1474.49 Q1852.36 1480.07 1848.88 1483.17 Q1845.41 1486.25 1839.09 1486.25 Q1836.92 1486.25 1834.65 1485.88 Q1832.4 1485.51 1830 1484.77 L1830 1480.07 Q1832.08 1481.2 1834.3 1481.76 Q1836.52 1482.32 1839 1482.32 Q1843 1482.32 1845.34 1480.21 Q1847.68 1478.1 1847.68 1474.49 Q1847.68 1470.88 1845.34 1468.77 Q1843 1466.67 1839 1466.67 Q1837.12 1466.67 1835.25 1467.08 Q1833.4 1467.5 1831.45 1468.38 L1831.45 1451.02 Z\" fill=\"#000000\" fill-rule=\"evenodd\" fill-opacity=\"1\" /><path clip-path=\"url(#clip840)\" d=\"M2229.36 1481.64 L2237 1481.64 L2237 1455.28 L2228.69 1456.95 L2228.69 1452.69 L2236.96 1451.02 L2241.63 1451.02 L2241.63 1481.64 L2249.27 1481.64 L2249.27 1485.58 L2229.36 1485.58 L2229.36 1481.64 Z\" fill=\"#000000\" fill-rule=\"evenodd\" fill-opacity=\"1\" /><path clip-path=\"url(#clip840)\" d=\"M2258.71 1479.7 L2263.6 1479.7 L2263.6 1485.58 L2258.71 1485.58 L2258.71 1479.7 Z\" fill=\"#000000\" fill-rule=\"evenodd\" fill-opacity=\"1\" /><path clip-path=\"url(#clip840)\" d=\"M2286.63 1455.09 L2274.83 1473.54 L2286.63 1473.54 L2286.63 1455.09 M2285.4 1451.02 L2291.28 1451.02 L2291.28 1473.54 L2296.21 1473.54 L2296.21 1477.43 L2291.28 1477.43 L2291.28 1485.58 L2286.63 1485.58 L2286.63 1477.43 L2271.03 1477.43 L2271.03 1472.92 L2285.4 1451.02 Z\" fill=\"#000000\" fill-rule=\"evenodd\" fill-opacity=\"1\" /><path clip-path=\"url(#clip840)\" d=\"M2313.95 1454.1 Q2310.33 1454.1 2308.51 1457.66 Q2306.7 1461.2 2306.7 1468.33 Q2306.7 1475.44 2308.51 1479.01 Q2310.33 1482.55 2313.95 1482.55 Q2317.58 1482.55 2319.39 1479.01 Q2321.21 1475.44 2321.21 1468.33 Q2321.21 1461.2 2319.39 1457.66 Q2317.58 1454.1 2313.95 1454.1 M2313.95 1450.39 Q2319.76 1450.39 2322.81 1455 Q2325.89 1459.58 2325.89 1468.33 Q2325.89 1477.06 2322.81 1481.67 Q2319.76 1486.25 2313.95 1486.25 Q2308.14 1486.25 2305.06 1481.67 Q2302 1477.06 2302 1468.33 Q2302 1459.58 2305.06 1455 Q2308.14 1450.39 2313.95 1450.39 Z\" fill=\"#000000\" fill-rule=\"evenodd\" fill-opacity=\"1\" /><path clip-path=\"url(#clip840)\" d=\"M2344.11 1454.1 Q2340.5 1454.1 2338.67 1457.66 Q2336.86 1461.2 2336.86 1468.33 Q2336.86 1475.44 2338.67 1479.01 Q2340.5 1482.55 2344.11 1482.55 Q2347.74 1482.55 2349.55 1479.01 Q2351.38 1475.44 2351.38 1468.33 Q2351.38 1461.2 2349.55 1457.66 Q2347.74 1454.1 2344.11 1454.1 M2344.11 1450.39 Q2349.92 1450.39 2352.97 1455 Q2356.05 1459.58 2356.05 1468.33 Q2356.05 1477.06 2352.97 1481.67 Q2349.92 1486.25 2344.11 1486.25 Q2338.3 1486.25 2335.22 1481.67 Q2332.16 1477.06 2332.16 1468.33 Q2332.16 1459.58 2335.22 1455 Q2338.3 1450.39 2344.11 1450.39 Z\" fill=\"#000000\" fill-rule=\"evenodd\" fill-opacity=\"1\" /><path clip-path=\"url(#clip840)\" d=\"M1300.15 1545.44 Q1300.15 1547.24 1299.02 1548.27 Q1297.89 1549.27 1296.61 1549.27 Q1295.38 1549.27 1294.74 1548.56 Q1294.09 1547.85 1294.09 1546.95 Q1294.09 1545.73 1295 1544.66 Q1295.9 1543.6 1297.25 1543.37 Q1295.93 1542.54 1293.97 1542.54 Q1292.68 1542.54 1291.55 1543.21 Q1290.45 1543.89 1289.78 1544.76 Q1289.13 1545.63 1288.55 1546.88 Q1288.01 1548.11 1287.78 1548.85 Q1287.59 1549.56 1287.43 1550.33 L1285.17 1559.35 Q1284.08 1563.63 1284.08 1565.15 Q1284.08 1567.01 1284.98 1568.27 Q1285.88 1569.49 1287.69 1569.49 Q1288.39 1569.49 1289.2 1569.3 Q1290 1569.07 1291.03 1568.5 Q1292.1 1567.88 1293.03 1566.98 Q1294 1566.05 1294.93 1564.47 Q1295.87 1562.89 1296.48 1560.86 Q1296.67 1560.15 1297.31 1560.15 Q1298.12 1560.15 1298.12 1560.8 Q1298.12 1561.35 1297.67 1562.5 Q1297.25 1563.63 1296.32 1565.11 Q1295.41 1566.56 1294.22 1567.88 Q1293.03 1569.17 1291.26 1570.07 Q1289.49 1570.97 1287.56 1570.97 Q1284.79 1570.97 1282.95 1569.49 Q1281.12 1568.01 1280.44 1565.95 Q1280.28 1566.24 1280.05 1566.63 Q1279.83 1567.01 1279.15 1567.88 Q1278.51 1568.72 1277.77 1569.36 Q1277.03 1569.98 1275.87 1570.46 Q1274.74 1570.97 1273.51 1570.97 Q1271.97 1570.97 1270.58 1570.52 Q1269.23 1570.07 1268.27 1569.04 Q1267.3 1568.01 1267.3 1566.59 Q1267.3 1565.02 1268.36 1563.92 Q1269.46 1562.79 1270.94 1562.79 Q1271.87 1562.79 1272.61 1563.34 Q1273.39 1563.89 1273.39 1565.08 Q1273.39 1566.4 1272.48 1567.4 Q1271.58 1568.4 1270.29 1568.66 Q1271.61 1569.49 1273.58 1569.49 Q1275.7 1569.49 1277.38 1567.63 Q1279.05 1565.76 1279.86 1562.63 Q1281.86 1555.13 1282.63 1551.78 Q1283.4 1548.4 1283.4 1546.95 Q1283.4 1545.6 1283.05 1544.66 Q1282.69 1543.73 1282.08 1543.31 Q1281.5 1542.86 1280.95 1542.7 Q1280.44 1542.54 1279.86 1542.54 Q1278.89 1542.54 1277.8 1542.92 Q1276.74 1543.31 1275.45 1544.21 Q1274.19 1545.08 1273 1546.88 Q1271.81 1548.69 1271 1551.17 Q1270.84 1551.91 1270.13 1551.91 Q1269.36 1551.88 1269.36 1551.23 Q1269.36 1550.69 1269.78 1549.56 Q1270.23 1548.4 1271.13 1546.95 Q1272.07 1545.5 1273.26 1544.21 Q1274.48 1542.89 1276.25 1541.99 Q1278.06 1541.09 1279.99 1541.09 Q1280.86 1541.09 1281.69 1541.28 Q1282.56 1541.44 1283.6 1541.93 Q1284.66 1542.41 1285.59 1543.47 Q1286.53 1544.53 1287.11 1546.08 Q1287.49 1545.34 1288.01 1544.63 Q1288.55 1543.92 1289.39 1543.05 Q1290.26 1542.15 1291.45 1541.64 Q1292.68 1541.09 1294.03 1541.09 Q1295.35 1541.09 1296.64 1541.44 Q1297.93 1541.76 1299.02 1542.83 Q1300.15 1543.86 1300.15 1545.44 Z\" fill=\"#000000\" fill-rule=\"evenodd\" fill-opacity=\"1\" /><polyline clip-path=\"url(#clip843)\" style=\"stroke:#000000; stroke-linecap:butt; stroke-linejoin:round; stroke-width:2; stroke-opacity:0.1; fill:none\" points=\"\n",
       "  219.195,1395.35 2352.76,1395.35 \n",
       "  \"/>\n",
       "<polyline clip-path=\"url(#clip843)\" style=\"stroke:#000000; stroke-linecap:butt; stroke-linejoin:round; stroke-width:2; stroke-opacity:0.1; fill:none\" points=\"\n",
       "  219.195,1010.16 2352.76,1010.16 \n",
       "  \"/>\n",
       "<polyline clip-path=\"url(#clip843)\" style=\"stroke:#000000; stroke-linecap:butt; stroke-linejoin:round; stroke-width:2; stroke-opacity:0.1; fill:none\" points=\"\n",
       "  219.195,624.984 2352.76,624.984 \n",
       "  \"/>\n",
       "<polyline clip-path=\"url(#clip843)\" style=\"stroke:#000000; stroke-linecap:butt; stroke-linejoin:round; stroke-width:2; stroke-opacity:0.1; fill:none\" points=\"\n",
       "  219.195,239.804 2352.76,239.804 \n",
       "  \"/>\n",
       "<polyline clip-path=\"url(#clip840)\" style=\"stroke:#000000; stroke-linecap:butt; stroke-linejoin:round; stroke-width:4; stroke-opacity:1; fill:none\" points=\"\n",
       "  219.195,1423.18 219.195,47.2441 \n",
       "  \"/>\n",
       "<polyline clip-path=\"url(#clip840)\" style=\"stroke:#000000; stroke-linecap:butt; stroke-linejoin:round; stroke-width:4; stroke-opacity:1; fill:none\" points=\"\n",
       "  219.195,1395.35 238.093,1395.35 \n",
       "  \"/>\n",
       "<polyline clip-path=\"url(#clip840)\" style=\"stroke:#000000; stroke-linecap:butt; stroke-linejoin:round; stroke-width:4; stroke-opacity:1; fill:none\" points=\"\n",
       "  219.195,1010.16 238.093,1010.16 \n",
       "  \"/>\n",
       "<polyline clip-path=\"url(#clip840)\" style=\"stroke:#000000; stroke-linecap:butt; stroke-linejoin:round; stroke-width:4; stroke-opacity:1; fill:none\" points=\"\n",
       "  219.195,624.984 238.093,624.984 \n",
       "  \"/>\n",
       "<polyline clip-path=\"url(#clip840)\" style=\"stroke:#000000; stroke-linecap:butt; stroke-linejoin:round; stroke-width:4; stroke-opacity:1; fill:none\" points=\"\n",
       "  219.195,239.804 238.093,239.804 \n",
       "  \"/>\n",
       "<path clip-path=\"url(#clip840)\" d=\"M119.885 1408.69 L136.204 1408.69 L136.204 1412.63 L114.26 1412.63 L114.26 1408.69 Q116.922 1405.94 121.505 1401.31 Q126.112 1396.65 127.292 1395.31 Q129.538 1392.79 130.417 1391.05 Q131.32 1389.29 131.32 1387.6 Q131.32 1384.85 129.376 1383.11 Q127.455 1381.38 124.353 1381.38 Q122.154 1381.38 119.7 1382.14 Q117.269 1382.9 114.492 1384.45 L114.492 1379.73 Q117.316 1378.6 119.769 1378.02 Q122.223 1377.44 124.26 1377.44 Q129.63 1377.44 132.825 1380.13 Q136.019 1382.81 136.019 1387.3 Q136.019 1389.43 135.209 1391.35 Q134.422 1393.25 132.316 1395.84 Q131.737 1396.51 128.635 1399.73 Q125.533 1402.93 119.885 1408.69 Z\" fill=\"#000000\" fill-rule=\"evenodd\" fill-opacity=\"1\" /><path clip-path=\"url(#clip840)\" d=\"M146.019 1406.75 L150.903 1406.75 L150.903 1412.63 L146.019 1412.63 L146.019 1406.75 Z\" fill=\"#000000\" fill-rule=\"evenodd\" fill-opacity=\"1\" /><path clip-path=\"url(#clip840)\" d=\"M171.667 1393.48 Q168.519 1393.48 166.667 1395.63 Q164.839 1397.79 164.839 1401.54 Q164.839 1405.26 166.667 1407.44 Q168.519 1409.59 171.667 1409.59 Q174.815 1409.59 176.644 1407.44 Q178.496 1405.26 178.496 1401.54 Q178.496 1397.79 176.644 1395.63 Q174.815 1393.48 171.667 1393.48 M180.95 1378.83 L180.95 1383.09 Q179.19 1382.26 177.385 1381.82 Q175.602 1381.38 173.843 1381.38 Q169.214 1381.38 166.76 1384.5 Q164.329 1387.63 163.982 1393.95 Q165.348 1391.93 167.408 1390.87 Q169.468 1389.78 171.945 1389.78 Q177.153 1389.78 180.163 1392.95 Q183.195 1396.1 183.195 1401.54 Q183.195 1406.86 180.047 1410.08 Q176.899 1413.3 171.667 1413.3 Q165.672 1413.3 162.501 1408.71 Q159.329 1404.11 159.329 1395.38 Q159.329 1387.19 163.218 1382.32 Q167.107 1377.44 173.658 1377.44 Q175.417 1377.44 177.2 1377.79 Q179.005 1378.13 180.95 1378.83 Z\" fill=\"#000000\" fill-rule=\"evenodd\" fill-opacity=\"1\" /><path clip-path=\"url(#clip840)\" d=\"M120.95 1023.51 L137.269 1023.51 L137.269 1027.44 L115.325 1027.44 L115.325 1023.51 Q117.987 1020.76 122.57 1016.13 Q127.177 1011.47 128.357 1010.13 Q130.603 1007.61 131.482 1005.87 Q132.385 1004.11 132.385 1002.42 Q132.385 999.667 130.441 997.931 Q128.519 996.195 125.418 996.195 Q123.218 996.195 120.765 996.959 Q118.334 997.723 115.556 999.274 L115.556 994.552 Q118.381 993.417 120.834 992.839 Q123.288 992.26 125.325 992.26 Q130.695 992.26 133.89 994.945 Q137.084 997.63 137.084 1002.12 Q137.084 1004.25 136.274 1006.17 Q135.487 1008.07 133.38 1010.66 Q132.802 1011.33 129.7 1014.55 Q126.598 1017.75 120.95 1023.51 Z\" fill=\"#000000\" fill-rule=\"evenodd\" fill-opacity=\"1\" /><path clip-path=\"url(#clip840)\" d=\"M147.084 1021.57 L151.968 1021.57 L151.968 1027.44 L147.084 1027.44 L147.084 1021.57 Z\" fill=\"#000000\" fill-rule=\"evenodd\" fill-opacity=\"1\" /><path clip-path=\"url(#clip840)\" d=\"M160.973 992.885 L183.195 992.885 L183.195 994.876 L170.649 1027.44 L165.765 1027.44 L177.57 996.82 L160.973 996.82 L160.973 992.885 Z\" fill=\"#000000\" fill-rule=\"evenodd\" fill-opacity=\"1\" /><path clip-path=\"url(#clip840)\" d=\"M120.14 638.329 L136.459 638.329 L136.459 642.264 L114.515 642.264 L114.515 638.329 Q117.177 635.574 121.76 630.945 Q126.367 626.292 127.547 624.949 Q129.792 622.426 130.672 620.69 Q131.575 618.931 131.575 617.241 Q131.575 614.487 129.63 612.75 Q127.709 611.014 124.607 611.014 Q122.408 611.014 119.955 611.778 Q117.524 612.542 114.746 614.093 L114.746 609.371 Q117.57 608.237 120.024 607.658 Q122.478 607.079 124.515 607.079 Q129.885 607.079 133.08 609.764 Q136.274 612.45 136.274 616.94 Q136.274 619.07 135.464 620.991 Q134.677 622.889 132.57 625.482 Q131.992 626.153 128.89 629.371 Q125.788 632.565 120.14 638.329 Z\" fill=\"#000000\" fill-rule=\"evenodd\" fill-opacity=\"1\" /><path clip-path=\"url(#clip840)\" d=\"M146.274 636.385 L151.158 636.385 L151.158 642.264 L146.274 642.264 L146.274 636.385 Z\" fill=\"#000000\" fill-rule=\"evenodd\" fill-opacity=\"1\" /><path clip-path=\"url(#clip840)\" d=\"M171.343 625.852 Q168.01 625.852 166.089 627.635 Q164.19 629.417 164.19 632.542 Q164.19 635.667 166.089 637.449 Q168.01 639.232 171.343 639.232 Q174.677 639.232 176.598 637.449 Q178.519 635.644 178.519 632.542 Q178.519 629.417 176.598 627.635 Q174.7 625.852 171.343 625.852 M166.667 623.862 Q163.658 623.121 161.968 621.061 Q160.302 619 160.302 616.037 Q160.302 611.894 163.241 609.487 Q166.204 607.079 171.343 607.079 Q176.505 607.079 179.445 609.487 Q182.385 611.894 182.385 616.037 Q182.385 619 180.695 621.061 Q179.028 623.121 176.042 623.862 Q179.422 624.649 181.297 626.94 Q183.195 629.232 183.195 632.542 Q183.195 637.565 180.116 640.25 Q177.061 642.935 171.343 642.935 Q165.626 642.935 162.547 640.25 Q159.491 637.565 159.491 632.542 Q159.491 629.232 161.39 626.94 Q163.288 624.649 166.667 623.862 M164.954 616.477 Q164.954 619.162 166.621 620.667 Q168.311 622.172 171.343 622.172 Q174.352 622.172 176.042 620.667 Q177.755 619.162 177.755 616.477 Q177.755 613.792 176.042 612.288 Q174.352 610.783 171.343 610.783 Q168.311 610.783 166.621 612.288 Q164.954 613.792 164.954 616.477 Z\" fill=\"#000000\" fill-rule=\"evenodd\" fill-opacity=\"1\" /><path clip-path=\"url(#clip840)\" d=\"M120.232 253.148 L136.552 253.148 L136.552 257.084 L114.607 257.084 L114.607 253.148 Q117.269 250.394 121.853 245.764 Q126.459 241.111 127.64 239.769 Q129.885 237.246 130.765 235.51 Q131.667 233.75 131.667 232.061 Q131.667 229.306 129.723 227.57 Q127.802 225.834 124.7 225.834 Q122.501 225.834 120.047 226.598 Q117.617 227.361 114.839 228.912 L114.839 224.19 Q117.663 223.056 120.117 222.477 Q122.57 221.899 124.607 221.899 Q129.978 221.899 133.172 224.584 Q136.367 227.269 136.367 231.76 Q136.367 233.889 135.556 235.81 Q134.769 237.709 132.663 240.301 Q132.084 240.973 128.982 244.19 Q125.88 247.385 120.232 253.148 Z\" fill=\"#000000\" fill-rule=\"evenodd\" fill-opacity=\"1\" /><path clip-path=\"url(#clip840)\" d=\"M146.366 251.204 L151.251 251.204 L151.251 257.084 L146.366 257.084 L146.366 251.204 Z\" fill=\"#000000\" fill-rule=\"evenodd\" fill-opacity=\"1\" /><path clip-path=\"url(#clip840)\" d=\"M161.575 256.366 L161.575 252.107 Q163.334 252.94 165.14 253.38 Q166.945 253.82 168.681 253.82 Q173.311 253.82 175.741 250.718 Q178.195 247.593 178.542 241.25 Q177.2 243.241 175.139 244.306 Q173.079 245.371 170.579 245.371 Q165.394 245.371 162.362 242.246 Q159.353 239.098 159.353 233.658 Q159.353 228.334 162.501 225.116 Q165.649 221.899 170.88 221.899 Q176.876 221.899 180.024 226.505 Q183.195 231.088 183.195 239.838 Q183.195 248.01 179.306 252.894 Q175.44 257.755 168.889 257.755 Q167.13 257.755 165.325 257.408 Q163.519 257.06 161.575 256.366 M170.88 241.713 Q174.028 241.713 175.857 239.56 Q177.709 237.408 177.709 233.658 Q177.709 229.931 175.857 227.778 Q174.028 225.602 170.88 225.602 Q167.732 225.602 165.88 227.778 Q164.052 229.931 164.052 233.658 Q164.052 237.408 165.88 239.56 Q167.732 241.713 170.88 241.713 Z\" fill=\"#000000\" fill-rule=\"evenodd\" fill-opacity=\"1\" /><path clip-path=\"url(#clip840)\" d=\"M26.4959 765.105 Q28.2672 765.105 29.3622 766.232 Q30.4572 767.327 30.4572 768.712 Q30.4572 769.71 29.8453 770.451 Q29.2334 771.159 28.1706 771.159 Q27.0756 771.159 25.9162 770.322 Q24.7567 769.485 24.5957 767.585 Q23.4041 768.841 23.4041 770.837 Q23.4041 771.836 24.0482 772.673 Q24.6601 773.478 25.6585 773.929 Q26.6891 774.412 32.5184 775.507 Q34.4185 775.861 36.2542 776.184 Q38.09 776.506 40.0223 776.892 L40.0223 771.417 Q40.0223 770.709 40.0545 770.419 Q40.0867 770.129 40.2478 769.903 Q40.4088 769.646 40.7631 769.646 Q41.6648 769.646 41.8903 770.064 Q42.0835 770.451 42.0835 771.61 L42.0835 777.279 L62.9851 781.24 Q63.597 781.336 65.5294 781.755 Q67.4295 782.142 70.5535 783.076 Q73.7097 784.01 75.5776 784.944 Q76.6404 785.459 77.6388 786.135 Q78.6694 786.779 79.6999 787.713 Q80.7305 788.647 81.3424 789.871 Q81.9866 791.095 81.9866 792.383 Q81.9866 794.573 80.7627 796.28 Q79.5389 797.987 77.4455 797.987 Q75.6742 797.987 74.5792 796.892 Q73.4842 795.765 73.4842 794.38 Q73.4842 793.381 74.0961 792.673 Q74.708 791.932 75.7708 791.932 Q76.2217 791.932 76.737 792.093 Q77.2523 792.254 77.832 792.609 Q78.4439 792.963 78.8626 793.736 Q79.2813 794.509 79.3457 795.571 Q80.5373 794.315 80.5373 792.383 Q80.5373 791.771 80.2796 791.224 Q80.0542 790.676 79.4745 790.225 Q78.8948 789.742 78.3151 789.388 Q77.7676 789.034 76.7048 788.679 Q75.6742 788.325 74.9013 788.1 Q74.1283 787.874 72.7435 787.584 Q71.3586 787.262 70.5213 787.101 Q69.7161 786.94 68.138 786.65 L42.0835 781.723 L42.0835 786.071 Q42.0835 786.844 42.0513 787.166 Q42.0191 787.456 41.8581 787.681 Q41.6648 787.906 41.2783 787.906 Q40.6664 787.906 40.4088 787.649 Q40.1189 787.359 40.0867 787.037 Q40.0223 786.715 40.0223 785.942 L40.0223 781.369 Q31.8742 779.823 29.6842 779.211 Q27.3654 778.502 25.7551 777.407 Q24.1126 776.312 23.3397 775.089 Q22.5667 773.865 22.2769 772.866 Q21.9548 771.836 21.9548 770.837 Q21.9548 768.583 23.1787 766.844 Q24.3703 765.105 26.4959 765.105 Z\" fill=\"#000000\" fill-rule=\"evenodd\" fill-opacity=\"1\" /><path clip-path=\"url(#clip840)\" d=\"M51.9707 757.277 Q40.8275 757.277 31.842 753.122 Q28.0739 751.351 24.9178 748.871 Q21.7616 746.391 20.3767 744.749 Q18.9919 743.106 18.9919 742.656 Q18.9919 742.011 19.636 741.979 Q19.9581 741.979 20.7632 742.849 Q31.5844 753.477 51.9707 753.445 Q72.4214 753.445 82.8239 743.106 Q83.9511 741.979 84.3054 741.979 Q84.9495 741.979 84.9495 742.656 Q84.9495 743.106 83.6291 744.685 Q82.3086 746.263 79.2813 748.71 Q76.2539 751.158 72.5502 752.929 Q63.5648 757.277 51.9707 757.277 Z\" fill=\"#000000\" fill-rule=\"evenodd\" fill-opacity=\"1\" /><path clip-path=\"url(#clip840)\" d=\"M43.6616 704.116 Q45.4651 704.116 46.4957 705.243 Q47.4941 706.37 47.4941 707.658 Q47.4941 708.882 46.7856 709.526 Q46.077 710.17 45.1753 710.17 Q43.9514 710.17 42.8886 709.269 Q41.8258 708.367 41.6004 707.014 Q40.7631 708.335 40.7631 710.299 Q40.7631 711.587 41.4394 712.715 Q42.1157 713.81 42.9853 714.486 Q43.8548 715.13 45.1108 715.71 Q46.3347 716.257 47.0754 716.483 Q47.7839 716.676 48.5569 716.837 L57.5745 719.091 Q61.8579 720.186 63.3716 720.186 Q65.2395 720.186 66.4955 719.285 Q67.7194 718.383 67.7194 716.579 Q67.7194 715.871 67.5261 715.066 Q67.3007 714.26 66.721 713.23 Q66.1091 712.167 65.2073 711.233 Q64.2733 710.267 62.6952 709.333 Q61.1172 708.399 59.0882 707.787 Q58.3797 707.594 58.3797 706.95 Q58.3797 706.145 59.0238 706.145 Q59.5713 706.145 60.7307 706.595 Q61.8579 707.014 63.3394 707.948 Q64.7886 708.85 66.1091 710.041 Q67.3973 711.233 68.2991 713.004 Q69.2008 714.776 69.2008 716.708 Q69.2008 719.478 67.7194 721.314 Q66.2379 723.149 64.1767 723.826 Q64.4666 723.987 64.853 724.212 Q65.2395 724.438 66.1091 725.114 Q66.9464 725.758 67.5905 726.499 Q68.2024 727.239 68.6855 728.399 Q69.2008 729.526 69.2008 730.75 Q69.2008 732.296 68.7499 733.681 Q68.2991 735.033 67.2685 735.999 Q66.2379 736.966 64.8208 736.966 Q63.2427 736.966 62.1477 735.903 Q61.0205 734.808 61.0205 733.326 Q61.0205 732.392 61.568 731.652 Q62.1155 730.879 63.3072 730.879 Q64.6276 730.879 65.626 731.78 Q66.6244 732.682 66.882 733.97 Q67.7194 732.65 67.7194 730.685 Q67.7194 728.56 65.8514 726.885 Q63.9835 725.21 60.8595 724.405 Q53.3555 722.409 50.0061 721.636 Q46.6245 720.863 45.1753 720.863 Q43.8226 720.863 42.8886 721.217 Q41.9547 721.571 41.536 722.183 Q41.0851 722.763 40.9241 723.31 Q40.7631 723.826 40.7631 724.405 Q40.7631 725.371 41.1495 726.466 Q41.536 727.529 42.4378 728.818 Q43.3073 730.074 45.1108 731.265 Q46.9144 732.457 49.3942 733.262 Q50.135 733.423 50.135 734.131 Q50.1028 734.904 49.4586 734.904 Q48.9111 734.904 47.7839 734.486 Q46.6245 734.035 45.1753 733.133 Q43.726 732.199 42.4378 731.008 Q41.1173 729.784 40.2156 728.012 Q39.3138 726.209 39.3138 724.276 Q39.3138 723.407 39.507 722.57 Q39.6681 721.7 40.1511 720.669 Q40.6342 719.607 41.697 718.673 Q42.7598 717.739 44.3057 717.159 Q43.565 716.773 42.8564 716.257 Q42.1479 715.71 41.2783 714.872 Q40.3766 714.003 39.8613 712.811 Q39.3138 711.587 39.3138 710.235 Q39.3138 708.914 39.6681 707.626 Q39.9901 706.338 41.0529 705.243 Q42.0835 704.116 43.6616 704.116 Z\" fill=\"#000000\" fill-rule=\"evenodd\" fill-opacity=\"1\" /><path clip-path=\"url(#clip840)\" d=\"M84.3054 697.764 Q83.9833 697.764 83.1782 696.927 Q72.357 686.299 51.9707 686.299 Q31.52 686.299 21.1819 696.508 Q19.9903 697.764 19.636 697.764 Q18.9919 697.764 18.9919 697.12 Q18.9919 696.669 20.3123 695.091 Q21.6328 693.481 24.6601 691.066 Q27.6875 688.618 31.3911 686.814 Q40.3766 682.467 51.9707 682.467 Q63.1139 682.467 72.0994 686.621 Q75.8674 688.393 79.0236 690.872 Q82.1798 693.352 83.5646 694.995 Q84.9495 696.637 84.9495 697.12 Q84.9495 697.764 84.3054 697.764 Z\" fill=\"#000000\" fill-rule=\"evenodd\" fill-opacity=\"1\" /><polyline clip-path=\"url(#clip843)\" style=\"stroke:#009af9; stroke-linecap:butt; stroke-linejoin:round; stroke-width:8; stroke-opacity:1; fill:none\" points=\"\n",
       "  279.579,1159.55 299.235,1151.19 480.989,1076.14 590.215,1034.01 682.564,1001.69 732.723,986.305 782.882,973.496 829.124,965.566 875.365,965.144 887.759,967.514 \n",
       "  900.153,971.797 912.548,979.086 924.942,991.799 931.139,1002 937.336,1017.4 940.434,1028.73 943.533,1044.85 945.082,1056.14 946.631,1071.53 947.406,1081.87 \n",
       "  948.18,1095.29 948.955,1114.36 949.73,1147.17 950.504,1384.24 951.279,1147.07 952.054,1113.13 952.828,1093.15 954.377,1067.72 955.927,1050.71 959.025,1027.35 \n",
       "  962.124,1010.83 968.321,987.073 974.518,969.532 988.877,939.623 1003.24,916.975 1017.6,898.034 1031.96,881.347 1060.68,852.097 1089.4,826.219 1140.44,784.94 \n",
       "  1191.49,747.221 1236.25,715.952 1281.01,685.84 1378.61,622.869 1476.8,561.932 1585.35,496.307 1688.64,434.992 1796.04,372.029 1886.44,319.473 1996.81,255.701 \n",
       "  2100.57,196.035 2266.79,100.813 2292.37,86.1857 \n",
       "  \"/>\n",
       "</svg>\n"
      ]
     },
     "execution_count": 34,
     "metadata": {},
     "output_type": "execute_result"
    }
   ],
   "source": [
    "plot(f, 1.3, 1.4, xlabel=\"\\$x\\$\", ylabel=\"\\$f\\\\,(x)\\$\", linewidth =2, legend = false)"
   ]
  },
  {
   "cell_type": "markdown",
   "metadata": {},
   "source": [
    "### 区間幅の抑制のための工夫\n",
    "\n",
    "1. **区間分割**\n",
    "$$\n",
    "\t\\boldsymbol{I}=\\boldsymbol{I}_1\\cup\\boldsymbol{I}_2\n",
    "$$\n",
    "と考えて，$f_{[\\,]}(\\boldsymbol{I}_1)\\cup f_{[\\,]}(\\boldsymbol{I}_2)$を計算する．\n",
    "\n",
    "1. **平均値形式**  \n",
    "区間拡張$f_{[\\,]}(\\boldsymbol{I})$を\n",
    "$$\n",
    "\tf_{[\\,]}(\\boldsymbol{I})=f(c)+f'_{[\\,]}(\\boldsymbol{I})(\\boldsymbol{I}-c),~c=\\mathrm{mid}(\\boldsymbol{I})\n",
    "$$\n",
    "によって得る．ただし$f'_{[\\,]}(\\boldsymbol{I})$は区間$\\boldsymbol{I}$における$f$の1階微分の区間拡張．\n",
    "\n"
   ]
  },
  {
   "cell_type": "markdown",
   "metadata": {},
   "source": [
    "## 機械区間演算\n",
    "\n",
    "区間演算をコンピュータで実現するには$\\mathbb{R}$の代わりに$\\mathbb{F}$を使った区間が必要．そのような区間全体を\n",
    "\n",
    "$$\n",
    "\t\\mathbb{IF}:=\\{\\boldsymbol{x}\\in\\mathbb{IR}: \\underline{x},~\\overline{x}\\in\\mathbb{F}\\}\n",
    "$$\n",
    "\n",
    "と定義する．IEEE754規格に準拠したシステム上では演算後の丸めの向きを制御することができる．\n",
    "演算結果が浮動小数点数でない場合，丸めの向きを制御して計算する．\n",
    "いま$a,b\\in\\mathbb{F}$に対して，$\\circ\\in\\{+,-,\\times,\\div\\}$として\n",
    "\n",
    "\\begin{align*}\n",
    "\t\\mathtt{fl}_{\\bigtriangledown}\\!\\left(a\\circ b\\right)&:=\\max\\{x\\in\\mathbb{F}:x\\le a\\circ b\\}\\mbox{（下向き丸め）}\\\\\n",
    "\t\\mathtt{fl}_{\\bigtriangleup}\\!\\left(a\\circ b\\right)&:=\\min\\{x\\in\\mathbb{F}:x\\ge a\\circ b\\}\\mbox{（上向き丸め）}\n",
    "\\end{align*}\n",
    "\n",
    "とすると\n",
    "\n",
    "$$\n",
    "\t\\mathtt{fl}_{\\bigtriangledown}\\!\\left(a\\circ b\\right)\\le a\\circ b\\le\\mathtt{fl}_{\\bigtriangleup}\\!\\left(a\\circ b\\right)\n",
    "$$\n",
    "\n",
    "が成立する．\n",
    "\n",
    "$\\boldsymbol{X}=[a,b]$, $\\boldsymbol{Y}=[c,d]$ ($a,b,c,d\\in\\mathbb{F}$)に対して，機械区間演算は次のように実現できる．\n",
    "\n",
    "\\begin{align*}\n",
    "\t\\boldsymbol{X}+\\boldsymbol{Y}&=[\\mathtt{fl}_{\\bigtriangledown}\\!\\left(a+c\\right),\\mathtt{fl}_{\\bigtriangleup}\\!\\left(b+d\\right)]\\\\\n",
    "\t\\boldsymbol{X}-\\boldsymbol{Y}&=[\\mathtt{fl}_{\\bigtriangledown}\\!\\left(a-d\\right),\\mathtt{fl}_{\\bigtriangleup}\\!\\left(b-c\\right)]\\\\\n",
    "\t\\boldsymbol{X}\\times\\boldsymbol{Y}&=[\\mathtt{fl}_{\\bigtriangledown}\\!\\left(\\min\\{ac,ad,bc,bd\\}\\right),\\mathtt{fl}_{\\bigtriangleup}\\!\\left(\\max\\{ac,ad,bc,bd\\}\\right)]\\\\\n",
    "\t\\boldsymbol{X}\\div\\boldsymbol{Y}&=[\\mathtt{fl}_{\\bigtriangledown}\\!\\left(\\min\\{a/c,a/d,b/c,b/d\\}\\right),\\mathtt{fl}_{\\bigtriangleup}\\!\\left(\\max\\{a/c,a/d,b/c,b/d\\}\\right)]\n",
    "\\end{align*}\n",
    "\n",
    "\n",
    "|$\\boldsymbol{X}\\times\\boldsymbol{Y}$|$c>0$|$0\\in\\boldsymbol{Y}$|$d<0$|\n",
    "|:-------------:|:-------------:|:-------------:|:-------------:|\n",
    "|$a>0$|$[\\mathtt{fl}_{\\bigtriangledown}\\!\\left(ac\\right),\\mathtt{fl}_{\\bigtriangleup}\\!\\left(bd\\right)]$|$[\\mathtt{fl}_{\\bigtriangledown}\\!\\left(bc\\right),\\mathtt{fl}_{\\bigtriangleup}\\!\\left(bd\\right)]$|$[\\mathtt{fl}_{\\bigtriangledown}\\!\\left(bc\\right),\\mathtt{fl}_{\\bigtriangleup}\\!\\left(ad\\right)]$|\n",
    "|$0\\in\\boldsymbol{X}$|$[\\mathtt{fl}_{\\bigtriangledown}\\!\\left(ad\\right),\\mathtt{fl}_{\\bigtriangleup}\\!\\left(bd\\right)]$|$B$|$[\\mathtt{fl}_{\\bigtriangledown}\\!\\left(bc\\right),\\mathtt{fl}_{\\bigtriangleup}\\!\\left(ac\\right)]$|\n",
    "|$b<0$|$[\\mathtt{fl}_{\\bigtriangledown}\\!\\left(ad\\right),\\mathtt{fl}_{\\bigtriangleup}\\!\\left(bc\\right)]$|$[\\mathtt{fl}_{\\bigtriangledown}\\!\\left(ad\\right),\\mathtt{fl}_{\\bigtriangleup}\\!\\left(ad\\right)]$|$[\\mathtt{fl}_{\\bigtriangledown}\\!\\left(bd\\right),\\mathtt{fl}_{\\bigtriangleup}\\!\\left(ac\\right)]$|\n",
    "\n",
    "ただし $B=[\\min\\{\\mathtt{fl}_{\\bigtriangledown}\\!\\left(ad\\right),\\mathtt{fl}_{\\bigtriangledown}\\!\\left(bc\\right)\\},\\max\\{\\mathtt{fl}_{\\bigtriangleup}\\!\\left(ad\\right),\\mathtt{fl}_{\\bigtriangleup}\\!\\left(bc\\right)\\}].$"
   ]
  },
  {
   "cell_type": "markdown",
   "metadata": {},
   "source": [
    "## ベクトル・行列の区間演算\n",
    "\n",
    "上で述べた丸めの向きを制御することにより，ベクトル $x,y\\in\\mathbb{F}^n$ の内積 $x^Ty$，行列 $A, B\\in\\mathbb{F}^n$ の積，あるいは，ベクトル行列積 $Ax$ の結果を区間で厳密に包含することができる．\n",
    "\n",
    "$$\n",
    "\t\\mathtt{fl}_{\\bigtriangledown}\\!\\left(x^Ty\\right)\\le x^Ty\\le\\mathtt{fl}_{\\bigtriangleup}\\!\\left(x^Ty\\right)\n",
    "$$\n",
    "\n",
    "$$\n",
    "\t\\mathtt{fl}_{\\bigtriangledown}\\!\\left(Ax\\right)\\le Ax\\le\\mathtt{fl}_{\\bigtriangleup}\\!\\left(Ax\\right)\n",
    "$$\n",
    "\n",
    "$$\n",
    "\t\\mathtt{fl}_{\\bigtriangledown}\\!\\left(AB\\right)\\le AB\\le\\mathtt{fl}_{\\bigtriangleup}\\!\\left(AB\\right)\n",
    "$$\n",
    "\n",
    "このようにすると丸め方向の制御で区間演算が容易にできる．しかし，行列ベクトル積，行列積を高速に実装することは職人芸のレベルの難しさである（例えば，キャシュサイズをみて最適なブロック分割などを行う）．そのため通常は数値計算ライブラリを利用するのが主流である．\n",
    "\n",
    "**注意**　Juliaでは現状、丸め方向の制御ができない。従って、上で紹介しているような区間演算ができない（と思う）。丸め方向を指定してBLASを使った区間演算とかはできない模様（本当？）。現状は各演算を区間演算にした演算が以下のようにできている。"
   ]
  },
  {
   "cell_type": "markdown",
   "metadata": {},
   "source": [
    "`IntervalArithmetic.jl`を利用すると半ば強引に丸めの向きを制御できる。"
   ]
  },
  {
   "cell_type": "code",
   "execution_count": 35,
   "metadata": {},
   "outputs": [
    {
     "name": "stdout",
     "output_type": "stream",
     "text": [
      "xup = 0.020000000000000004\n",
      "xdown = 0.019999999999999993\n"
     ]
    },
    {
     "data": {
      "text/plain": [
       "true"
      ]
     },
     "execution_count": 35,
     "metadata": {},
     "output_type": "execute_result"
    }
   ],
   "source": [
    "setrounding(Float64, RoundUp)\n",
    "xup = parse(Float64, \"0.1\") * parse(Float64, \"0.2\")\n",
    "\n",
    "setrounding(Float64, RoundDown)\n",
    "xdown = parse(Float64, \"0.1\") * parse(Float64, \"0.2\")\n",
    "\n",
    "setrounding(Float64, RoundNearest)\n",
    "\n",
    "@show xup\n",
    "@show xdown\n",
    "xup > xdown"
   ]
  },
  {
   "cell_type": "markdown",
   "metadata": {},
   "source": [
    "しかしながら、BLASを利用する丸め向きの制御には（今の所）失敗している。"
   ]
  },
  {
   "cell_type": "code",
   "execution_count": 40,
   "metadata": {},
   "outputs": [
    {
     "name": "stdout",
     "output_type": "stream",
     "text": [
      "n = 63\n",
      "all(Cup .> Cdown) = true\n",
      "n = 64\n",
      "all(Cup .> Cdown) = true\n",
      "n = 65\n",
      "all(Cup .> Cdown) = false\n",
      "n = 66\n",
      "all(Cup .> Cdown) = false\n"
     ]
    }
   ],
   "source": [
    "for n = 63:66\n",
    "    @show n\n",
    "    A, B = randn(n,n), randn(n,n)\n",
    "    setrounding(Float64, RoundUp) # RoundUp\n",
    "    Cup = A*B;\n",
    "    setrounding(Float64, RoundDown) # RoundDown\n",
    "    Cdown = A*B;\n",
    "    setrounding(Float64, RoundNearest) # RoundNearest\n",
    "    # Cnearest = A*B;\n",
    "    @show all(Cup .> Cdown)\n",
    "end"
   ]
  },
  {
   "cell_type": "code",
   "execution_count": 41,
   "metadata": {},
   "outputs": [
    {
     "data": {
      "text/plain": [
       "LinearAlgebra.BLAS.LBTConfig\n",
       "Libraries: \n",
       "└ [ILP64] libopenblas64_.dylib"
      ]
     },
     "execution_count": 41,
     "metadata": {},
     "output_type": "execute_result"
    }
   ],
   "source": [
    "using LinearAlgebra\n",
    "BLAS.get_config()"
   ]
  },
  {
   "cell_type": "markdown",
   "metadata": {},
   "source": [
    "丸めの向きを制御しているので、必ず大小関係が成立しているはずであるが、$n=65$からは上向き丸め、下向き丸めの計算結果が同じになるケースが発生する。これでは精度保証ができているとは言えない。これはBLASが原因であることが知られているが、現状、対策がない。唯一、Intel CPUでMKLを使っているケースのみ成功することが観測されている。"
   ]
  },
  {
   "cell_type": "code",
   "execution_count": 42,
   "metadata": {
    "tags": []
   },
   "outputs": [
    {
     "name": "stdout",
     "output_type": "stream",
     "text": [
      "n = 63\n",
      "all(Cup .> Cdown) = true\n",
      "n = 64\n",
      "all(Cup .> Cdown) = true\n",
      "n = 65\n",
      "all(Cup .> Cdown) = false\n",
      "n = 66\n",
      "all(Cup .> Cdown) = false\n"
     ]
    }
   ],
   "source": [
    "using MKL\n",
    "for n = 63:66\n",
    "    @show n\n",
    "    A, B = randn(n,n), randn(n,n)\n",
    "    setrounding(Float64, RoundUp) # RoundUp\n",
    "    Cup = A*B;\n",
    "    setrounding(Float64, RoundDown) # RoundDown\n",
    "    Cdown = A*B;\n",
    "    setrounding(Float64, RoundNearest) # RoundNearest\n",
    "    # Cnearest = A*B;\n",
    "    @show all(Cup .> Cdown)\n",
    "end"
   ]
  },
  {
   "cell_type": "code",
   "execution_count": 43,
   "metadata": {},
   "outputs": [
    {
     "data": {
      "text/plain": [
       "LinearAlgebra.BLAS.LBTConfig\n",
       "Libraries: \n",
       "└ [ILP64] libopenblas64_.dylib"
      ]
     },
     "execution_count": 43,
     "metadata": {},
     "output_type": "execute_result"
    }
   ],
   "source": [
    "BLAS.get_config()"
   ]
  },
  {
   "cell_type": "markdown",
   "metadata": {},
   "source": [
    "私のラップトップ環境（Apple siliconチップ）ではMKLは使えなかった。。"
   ]
  },
  {
   "cell_type": "code",
   "execution_count": 44,
   "metadata": {},
   "outputs": [
    {
     "name": "stdout",
     "output_type": "stream",
     "text": [
      "Julia Version 1.7.2\n",
      "Commit bf53498635 (2022-02-06 15:21 UTC)\n",
      "Platform Info:\n",
      "  OS: macOS (arm64-apple-darwin21.2.0)\n",
      "  CPU: Apple M1 Max\n",
      "  WORD_SIZE: 64\n",
      "  LIBM: libopenlibm\n",
      "  LLVM: libLLVM-12.0.1 (ORCJIT, cyclone)\n"
     ]
    }
   ],
   "source": [
    "versioninfo()"
   ]
  },
  {
   "cell_type": "code",
   "execution_count": 45,
   "metadata": {},
   "outputs": [
    {
     "name": "stdout",
     "output_type": "stream",
     "text": [
      "\u001b[32m\u001b[1m      Status\u001b[22m\u001b[39m `~/.julia/environments/v1.7/Project.toml`\n",
      " \u001b[90m [d1acc4aa] \u001b[39mIntervalArithmetic v0.20.3\n"
     ]
    }
   ],
   "source": [
    "using Pkg; Pkg.status(\"IntervalArithmetic\")"
   ]
  },
  {
   "cell_type": "markdown",
   "metadata": {},
   "source": [
    "### 謝辞\n",
    "\n",
    "本資料は教員が学生の頃に精度保証付き数値計算の諸論を教えて下さった[柏木雅英](http://www.kashi.info.waseda.ac.jp/~kashi/)先生の「数値解析特論」の講義資料が基になっています.\n",
    "また, 以下のような文献・Web ページ等を参考にこの文章は書いています.\n",
    "\n",
    "### 参考文献\n",
    "\n",
    "1. 伊理正夫, 藤野和建, 数値計算の常識, 共立出版, 1985.<br>\n",
    "(Twitterとかでも度々話題に上がる名著. IEEE754 の制定の年にすでに浮動小数点数に対する注意が詰まっている書籍が出版されている. 桁落ち, 情報落ちなどの誤差に詳しい)\n",
    "1. 齊藤宣一, 数値解析入門, 東京大学出版会, 2012.<br>\n",
    "(数値解析学の現在最も詳しい教科書)\n",
    "1. 大石進一編著, 精度保証付き数値計算の基礎, コロナ社, 2018.<br>\n",
    "(精度保証付き数値計算の教科書. 浮動小数点数および区間演算に詳しい. この1章が読めたら大したもの)\n",
    "1. [ushiostarfish, IEEE 754 浮動小数点入門.](https://ushiostarfish.hatenablog.com/entry/2019/08/12/210023)<br>\n",
    "(IEEE 754 浮動小数点数を細かく紹介し, 丸め誤差の詳細, および区間演算について触れている)\n",
    "1. Nick Higham, [What Is Floating-Point Arithmetic](https://nhigham.com/2020/05/04/what-is-floating-point-arithmetic/)/[IEEE Standard Arithmetic](https://nhigham.com/2020/05/07/what-is-ieee-standard-arithmetic/).<br>\n",
    "(数値解析の超有名人によるブログ記事, (IEEE754/854)浮動小数点数について端的にまとめられている)\n",
    "1. Nick Higham, [What Is Rounding?](https://nhigham.com/2020/04/28/what-is-rounding/).<br>\n",
    "    (数値解析の超有名人によるブログ記事, 丸めについて端的にまとめられている)\n",
    "1. [Calculating with sets: Interval methods in Julia](https://github.com/dpsanders/IntervalsJuliaCon2020).<br>\n",
    "(Juliaで区間演算をするJuliaCon2020のチュートリアル資料、[動画](https://youtu.be/LAuRCy9jUU8)も公開されている)\n",
    "1. [IntervalArithmetic.jl: Basic usage](https://github.com/JuliaIntervals/IntervalArithmetic.jl/blob/master/docs/src/usage.md).<br>\n",
    "(IntervalArithmetic.jlの区間演算の説明ページ)\n",
    "1. matsueushi, [デフォルトの丸めモードで上付き丸め、下付き丸めをエミュレートする(Julia)](https://matsueushi.github.io/posts/rounding-emulator/).<br>\n",
    "(IntervalArithmetic.jlの丸め変更はこれを使用しているようです)\n",
    "1. matsueushi, [Juliaで丸めモードを指定して浮動小数点数の計算をする(したい)](https://matsueushi.github.io/posts/julia-rounding/).<br>\n",
    "(丸めモードの指定ができない！？最近点丸めだけで区間演算しないといけないのか...)"
   ]
  }
 ],
 "metadata": {
  "kernelspec": {
   "display_name": "Julia 1.7.2",
   "language": "julia",
   "name": "julia-1.7"
  },
  "language_info": {
   "file_extension": ".jl",
   "mimetype": "application/julia",
   "name": "julia",
   "version": "1.7.2"
  }
 },
 "nbformat": 4,
 "nbformat_minor": 4
}
