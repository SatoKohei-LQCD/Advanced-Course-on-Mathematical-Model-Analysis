{
 "cells": [
  {
   "cell_type": "markdown",
   "metadata": {},
   "source": [
    "# 数理モデル解析特論 第6回\n",
    "\n",
    "資料はMATLABコードだが、ここではJuliaでの実装をする。\n",
    "\n",
    "なおこのコードの実行の前に以下のパッケージをインストールする必要がある。\n",
    "\n",
    "```\n",
    "using Pkg\n",
    "Pkg.add(\"IJulia\")\n",
    "Pkg.add(\"Plots\")\n",
    "Pkg.add(\"IntervalArithmetic\")\n",
    "\n",
    "```\n",
    "\n",
    "## 数値計算に潜むリスク\n",
    "\n",
    "- 整数、浮動小数点数\n",
    "- 数値計算に生じる誤差\n",
    "- 区間演算\n",
    "\n",
    "\n",
    "## そもそも数値計算とは？\n",
    "* 数値計算（数値解析）とは…数学の問題を有限桁の浮動小数点数を使って「数値的」に解く．数式処理とは違う\n",
    "* 数値計算でできること，できないこと\n",
    "* 数値計算は誤差との戦い\n",
    "* 整数（integer）と浮動小数点数（binary32/binary64）\n",
    "\n",
    "## 整数型\n",
    "Juliaで整数は\n",
    "\n",
    "|型| 機械内表現 |\n",
    "|:-----------|:----------|\n",
    "| Int8    | 8bit整数  |\n",
    "| Int16    | 16bit整数  |\n",
    "| Int32    | 32bit整数  |\n",
    "| Int64   | 64bit整数 |\n",
    "| Int128   | 128bit整数 |\n",
    "| BigInt   | 任意精度 |\n",
    "\n",
    "\n",
    "のような数値がある．"
   ]
  },
  {
   "cell_type": "code",
   "execution_count": 1,
   "metadata": {},
   "outputs": [
    {
     "data": {
      "text/plain": [
       "10"
      ]
     },
     "execution_count": 1,
     "metadata": {},
     "output_type": "execute_result"
    }
   ],
   "source": [
    "a = Int32(10)"
   ]
  },
  {
   "cell_type": "code",
   "execution_count": 2,
   "metadata": {},
   "outputs": [
    {
     "data": {
      "text/plain": [
       "-2147483648"
      ]
     },
     "execution_count": 2,
     "metadata": {},
     "output_type": "execute_result"
    }
   ],
   "source": [
    "b = Int32(2147483647) + Int32(1)"
   ]
  },
  {
   "cell_type": "code",
   "execution_count": 3,
   "metadata": {},
   "outputs": [
    {
     "data": {
      "text/plain": [
       "2147483647"
      ]
     },
     "execution_count": 3,
     "metadata": {},
     "output_type": "execute_result"
    }
   ],
   "source": [
    "c = typemax(Int32)"
   ]
  },
  {
   "cell_type": "markdown",
   "metadata": {},
   "source": [
    "これからInt32の最大値が2147483647であることがわかり\n",
    "$2^{31}-1=2147483647$\n",
    "である．\n",
    "\n",
    "説明のために32bit整数（Int32）を考えると\n",
    "\n",
    "|ビットパターン | 数値 |\n",
    "|:-----------:|:----------:|\n",
    "|01111111111111111111111111111111 | 2147483647|\n",
    "|00000000000000000000000000000010 | 2|\n",
    "|00000000000000000000000000000001 | 1|\n",
    "|00000000000000000000000000000000 | 0|\n",
    "|11111111111111111111111111111111 | -1|\n",
    "|11111111111111111111111111111110 |-2|\n",
    "|10000000000000000000000000000000 |-2147483648|\n",
    "\n",
    "このような負の数の表現形式を「**2の補数形式**」と呼ぶ．\n",
    "32個の各bitが次のような重みをもっていると考えられる．\n",
    "\n",
    "$$\\fbox{$-2^{31}$}\\fbox{$2^{30}$}\\fbox{$2^{29}$}\\,\\cdots\\fbox{$2^{1}$}\\fbox{$2^{0}$}$$\n",
    "\n",
    "2の補数形式の場合，$n$ビットで $-2^{n-1}$〜$2^{n-1}-1$の範囲の数を表現できる．つまり\n",
    "\n",
    "|型|表現範囲|\n",
    "|:-|:-:|\n",
    "|Int8|-128〜127|\n",
    "|Int16|-32768〜32767|\n",
    "|Int32|-2147483648〜2147483647|\n",
    "|Int64|-9223372036854775808〜9223372036854775807|\n",
    "|Int128|-170141183460469231731687303715884105728〜170141183460469231731687303715884105727|\n",
    "\n",
    "の範囲の整数が表せる．\n"
   ]
  },
  {
   "cell_type": "code",
   "execution_count": 4,
   "metadata": {},
   "outputs": [
    {
     "data": {
      "text/plain": [
       "2147483648"
      ]
     },
     "execution_count": 4,
     "metadata": {},
     "output_type": "execute_result"
    }
   ],
   "source": [
    "2147483647+1"
   ]
  },
  {
   "cell_type": "code",
   "execution_count": 5,
   "metadata": {},
   "outputs": [
    {
     "data": {
      "text/plain": [
       "-9223372036854775808"
      ]
     },
     "execution_count": 5,
     "metadata": {},
     "output_type": "execute_result"
    }
   ],
   "source": [
    "9223372036854775807+1"
   ]
  },
  {
   "cell_type": "markdown",
   "metadata": {
    "collapsed": true
   },
   "source": [
    "## 浮動小数点数\n",
    "\n",
    "**浮動小数点数**（Float64/double, Float32/float）は，「浮動小数点形式」と呼ばれる形式で表現できる．\n",
    "\n",
    "例えば，「$1234.5$」を「$1.2345\\times 10^3$」のように， 小数点の位置を1番左の数値と左から2番目の数値の間に移動（「正規化」と呼ぶ）し，それに指数を掛けた形式で数を表現する．\n",
    "この「$1.2345$」の部分を「仮数部」，「$10^3$」の部分（厳密には$~^3$）を「指数部」という．\n",
    "\n",
    "浮動小数点数は仮数部の長さ，指数部の長さ，基数が2，10，16など，多様な規格が考えられる．\n",
    "そこで1985年にWilliam Kahanが中心となって\n",
    "\n",
    "[IEEE 754: Standard for Binary Floating-Point Arithmetic](https://ja.wikipedia.org/wiki/IEEE_754)\n",
    "\n",
    "という標準規格が制定された．最近では世に出るハードウェアのほぼ全てがこの規格に従っている．\n",
    "\n",
    "### 倍精度 (Float64/double, binary64)\n",
    "倍精度は，符号（$\\pm$）に1ビット．指数部に11ビット，仮数部に 52ビットを使う．\n",
    "全部で64ビット=8バイトである．\n",
    "\n",
    "$\\fbox{1（符号）}\\fbox{11（指数部）}\\fbox{52（仮数部）}$\n",
    "\n",
    "* 符号は，0なら正，1なら負\n",
    "* 指数部は「$\\times 2^{\\mbox{指数}}$」の指数の部分に$1023$を加えたものが11ビット符号無しの整数の形で格納されている\n",
    "* 仮数部は，実際の仮数部の先頭の「1」を取り除いた残りが格納されている．仮数部の先頭は必ず1にしてメモリに格納しないことで1ビット分精度を稼いでいる\n",
    "\n",
    "数値$x$は\n",
    "\n",
    "$$x=\\pm\\; 1.d_1d_2\\cdots d_{52}\\times 2^{m}=\\pm\\left(\\frac{1}{2^0}+\\frac{d_1}{2^1}+\\frac{d_2}{2^2}+\\cdots+\\frac{d_{52}}{2^{52}}\\right)2^{e}_{(10)}$$\n",
    "\n",
    "と書ける（$-1022\\le e\\le 1023$，$m$：$e+1023$の2進表現）．\n",
    "\n",
    "例えば，5.25は2進数で書くと\n",
    "$$\n",
    "\t101.01_{(2)} = \\left(\\frac{1}{2^0}+\\frac{0}{2^1}+\\frac{1}{2^2}+\\frac{0}{2^{3}}+\\frac{1}{2^4}\\right)\\times 2^2_{(10)}\n",
    "$$\n",
    "であるから，計算機内では\n",
    "\n",
    "$\\fbox{0}\\fbox{10000000001}\\fbox{0101000000000000000000000000000000000000000000000000}$\n",
    "\n",
    "のように格納されている。指数部の「1000000001」は、「2+1023=1025」 を2進数にしたもの．\n",
    "\n",
    "これは**正規化数**と呼ばれる数の範囲．\n",
    "\n",
    "実際にJuliaのbitstring関数を使って浮動小数点数を見てみよう．"
   ]
  },
  {
   "cell_type": "code",
   "execution_count": 6,
   "metadata": {},
   "outputs": [
    {
     "name": "stdout",
     "output_type": "stream",
     "text": [
      "0100000000010101000000000000000000000000000000000000000000000000\n",
      "0100000000010100111101011100001010001111010111000010100011110110\n"
     ]
    }
   ],
   "source": [
    "x = 5.25\n",
    "println(bitstring(x))\n",
    "println(bitstring(5.24))"
   ]
  },
  {
   "cell_type": "code",
   "execution_count": 7,
   "metadata": {},
   "outputs": [
    {
     "name": "stdout",
     "output_type": "stream",
     "text": [
      "0\n",
      "10000000001\n",
      "0101000000000000000000000000000000000000000000000000\n"
     ]
    }
   ],
   "source": [
    "binx = bitstring(x) \n",
    "sign = binx[1]; println(sign)\n",
    "expo = binx[2:12]; println(expo)\n",
    "frac = binx[13:end]; println(frac)"
   ]
  },
  {
   "cell_type": "markdown",
   "metadata": {},
   "source": [
    "符号はsign = 0で正の数, 指数部はexp-1023=1025-1023=**2**，  \n",
    "仮数部はfrac=(101000000000000000000000000000000000000000000000000)$_2$で2進数表示され，実際の値は**1.3125**，  \n",
    "元の浮動小数点数に戻すと\n",
    "\n",
    "$$(-1)^{\\mathrm{sign}}*\\mathrm{frac}*2^{\\mathrm{expo}-1023}=5.25$$\n",
    "\n",
    "で次のように確かに元の数に戻ることがわかる．"
   ]
  },
  {
   "cell_type": "code",
   "execution_count": 8,
   "metadata": {},
   "outputs": [
    {
     "name": "stdout",
     "output_type": "stream",
     "text": [
      "1.3125\n",
      "2\n",
      "5.25\n"
     ]
    }
   ],
   "source": [
    "aa = [parse(Int, f) for f in frac]\n",
    "bb = 2. .^(1:52)\n",
    "dfrac = 1 + sum(aa ./ bb); println(dfrac)\n",
    "cc = [parse(Int, f) for f in expo]\n",
    "dexp = sum(cc .* (2 .^(10:-1:0))) - 1023; println(dexp)\n",
    "x = (-1)^(parse(Int,sign))*dfrac*2^(dexp); println(x)"
   ]
  },
  {
   "cell_type": "markdown",
   "metadata": {},
   "source": [
    "次に$e$の範囲$-1022\\le e\\le 1023$に注目する．\n",
    "\n",
    "$e+1023$が11ビット符号無しの整数なら範囲は$0$〜$2047$であるが，$e$範囲から\n",
    "$e+1023=0$のときと$e+1023=2047$のときが使われていない．\n",
    "\n",
    "これらは**特殊な数を表す**のに使われる．それらは\n",
    "\n",
    "* 零\n",
    "* 無限大 (Inf)\n",
    "* NaN (Not a Number)\n",
    "* 非正規化数\n",
    "\n",
    "と呼ばれる．\n",
    "\n",
    "#### 零\n",
    "指数部が$e+1023=0$かつ仮数部が0のとき.\n",
    "\n",
    "$$\\pm\\; 0.00\\cdots 0\\times 2^{0}={\\pm\\left(\\frac{0}{2^0}+\\frac{0}{2^1}+\\frac{0}{2^2}+\\cdots+\\frac{0}{2^{52}}\\right)2^{-1023}}_{(10)}.$$\n",
    "\n",
    "\n"
   ]
  },
  {
   "cell_type": "code",
   "execution_count": 9,
   "metadata": {},
   "outputs": [
    {
     "name": "stdout",
     "output_type": "stream",
     "text": [
      "0.0\n",
      "0000000000000000000000000000000000000000000000000000000000000000\n",
      "-0.0\n",
      "1000000000000000000000000000000000000000000000000000000000000000\n"
     ]
    }
   ],
   "source": [
    "x = 0.0; println(x); println(bitstring(x))\n",
    "x = -0.0; println(x); println(bitstring(x))"
   ]
  },
  {
   "cell_type": "markdown",
   "metadata": {},
   "source": [
    "#### 無限大\n",
    "$e+1023=2047$かつ仮数部が0のとき，$\\pm\\infty$を表す．\n",
    "\n",
    "$$\\pm\\; 1.00\\cdots 0\\times 2^{m}={\\pm\\left(\\frac{1}{2^0}+\\frac{0}{2^1}+\\frac{0}{2^2}+\\cdots+\\frac{0}{2^{52}}\\right)2^{1024}}_{(10)},$$\n",
    "\n",
    "$m$: 2047の2進表現. このとき**オーバーフロー**が起こるという."
   ]
  },
  {
   "cell_type": "code",
   "execution_count": 10,
   "metadata": {},
   "outputs": [
    {
     "name": "stdout",
     "output_type": "stream",
     "text": [
      "Inf\n",
      "0111111111110000000000000000000000000000000000000000000000000000\n",
      "-Inf\n",
      "1111111111110000000000000000000000000000000000000000000000000000\n",
      "Inf\n"
     ]
    }
   ],
   "source": [
    "x = Inf; println(x); println(bitstring(x))\n",
    "println(-x); println(bitstring(-x))\n",
    "println(2.0^(1024))"
   ]
  },
  {
   "cell_type": "markdown",
   "metadata": {},
   "source": [
    "#### NaN (Not a Number)\n",
    "$e+1023=2047$かつ仮数部が0でないとき．\n",
    "\n",
    "負数の平方根など，不可能な演算の結果を表すのに使われる．"
   ]
  },
  {
   "cell_type": "code",
   "execution_count": 11,
   "metadata": {},
   "outputs": [
    {
     "name": "stdout",
     "output_type": "stream",
     "text": [
      "0111111111110000000000000000000000000000000000000000000000000000\n",
      "NaN\n",
      "0111111111111000000000000000000000000000000000000000000000000000\n",
      "NaN\n",
      "1111111111111000000000000000000000000000000000000000000000000000\n",
      "NaN\n",
      "1111111111111000000000000000000000000000000000000000000000000000\n"
     ]
    }
   ],
   "source": [
    "x = Inf; println(bitstring(x))\n",
    "x = NaN; println(x); println(bitstring(x))\n",
    "x = Inf - Inf; println(x); println(bitstring(x))\n",
    "x = Inf / Inf; println(x); println(bitstring(x))"
   ]
  },
  {
   "cell_type": "markdown",
   "metadata": {},
   "source": [
    "\n",
    "#### 正規化数の最大最小\n",
    "正の正規化数の最大の数は，$e+1023=2046$, かつ仮数部のビットが全て1のとき．\n",
    "\n",
    "$${\\left(\\frac{{1}}{2^0}+\\frac{1}{2^1}+\\frac{1}{2^2}+\\cdots+\\frac{1}{2^{52}}\\right)2^{{1023}}}_{(10)}= 2^{1024}-2^{971}\\approx10^{308.25}$$\n",
    "\n",
    "であり，これを1ビットでも超えたら無限大になる．これを**オーバーフロー**という．\n",
    "\n"
   ]
  },
  {
   "cell_type": "code",
   "execution_count": 12,
   "metadata": {},
   "outputs": [
    {
     "name": "stdout",
     "output_type": "stream",
     "text": [
      "1.7976931348623157e308\n",
      "0111111111101111111111111111111111111111111111111111111111111111\n",
      "Inf\n",
      "0111111111110000000000000000000000000000000000000000000000000000\n"
     ]
    }
   ],
   "source": [
    "x = (2. ^ 53 - 1) * 2. ^ 971\n",
    "println(x)\n",
    "println(bitstring(x))\n",
    "x = (2. ^ 53) * 2. ^ 971\n",
    "println(x)\n",
    "println(bitstring(x))"
   ]
  },
  {
   "cell_type": "markdown",
   "metadata": {},
   "source": [
    "正の正規化数の最小の数は，$e+1023=1$, かつ仮数部のビットが全て0のとき．\n",
    "\n",
    "$${\\left(\\frac{{1}}{2^0}+\\frac{0}{2^1}+\\frac{0}{2^2}+\\cdots+\\frac{0}{2^{52}}\\right)2^{-1022}}_{(10)}= 2^{-1022}\\approx10^{-307.65}$$\n",
    "\n",
    "であり，これを下回ると**アンダーフロー**というが，IEEE 754 では，ここでアンダーフローさせないで仮数部を使った「悪あがき」をする．次の例を見てみよう."
   ]
  },
  {
   "cell_type": "code",
   "execution_count": 13,
   "metadata": {},
   "outputs": [
    {
     "name": "stdout",
     "output_type": "stream",
     "text": [
      "2.2250738585072014e-308\n",
      "0000000000010000000000000000000000000000000000000000000000000000\n",
      "2.225073858507201e-308\n",
      "0000000000001111111111111111111111111111111111111111111111111111\n"
     ]
    }
   ],
   "source": [
    "x = 2. ^ (-1022)\n",
    "println(x)\n",
    "println(bitstring(x))\n",
    "y = x-2^(-1074);\n",
    "println(y)\n",
    "println(bitstring(y))"
   ]
  },
  {
   "cell_type": "markdown",
   "metadata": {},
   "source": [
    "#### 非正規化数\n",
    "指数部が$e+1023=0$かつ仮数部が0でないとき，\n",
    "\n",
    "仮数部の最初の桁を$0$にして\n",
    "\n",
    "$$\\pm\\; 0.d_1d_2\\cdots d_{52}\\times 2^{0}={\\pm\\left(\\frac{\\color{red}0}{2^0}+\\frac{d_1}{2^1}+\\frac{d_2}{2^2}+\\cdots+\\frac{d_{52}}{2^{52}}\\right)2^{{\\color{red}{-1022}}}}_{(10)}.$$\n",
    "\n",
    "という数の表現をする．つまり指数部が$e+1023=1$よりも小さくなったら、正規化しないで指数部は$e+1023=1$のままにする. 代わりに仮数部の最初の桁を$0$にする.\n",
    "このような決まりによって, 非正規化数は文字通り「正規化していない」数となる．\n",
    "\n",
    "#### 漸近アンダーフロー\n",
    "上の例のように正規化数の最小数の最終bitを1だけ減らすと\n",
    "\n",
    "$${\\left(\\frac{{0}}{2^0}+\\frac{1}{2^1}+\\frac{1}{2^2}+\\cdots+\\frac{1}{2^{52}}\\right)2^{-1022}}_{(10)}$$\n",
    "\n",
    "となり，これを正規化すると\n",
    "\n",
    "$${\\left(\\frac{{1}}{2^0}+\\frac{1}{2^1}+\\frac{1}{2^2}+\\cdots+\\frac{0}{2^{52}}\\right)2^{-1023}}_{(10)}$$\n",
    "\n",
    "となって，指数部の下限$-1022\\le e$を超えてしまう．\n",
    "そこで，「$2^{-1022}$を下回ったら正規化をやめて指数部を$2^{-1022}$に固定して仮数部の最初の桁を0としてみて格納する」ルールが発動し, 非正規化数での数の表現が始まる.\n",
    "以下, 1ビットずつ減らしていくと\n",
    "\n",
    "$${\\left(\\frac{{0}}{2^0}+\\frac{1}{2^1}+\\frac{1}{2^2}+\\cdots+\\frac{1}{2^{52}}\\right)2^{-1022}}_{(10)}$$\n",
    "$${\\left(\\frac{{0}}{2^0}+\\frac{1}{2^1}+\\frac{1}{2^2}+\\cdots+\\frac{0}{2^{52}}\\right)2^{-1022}}_{(10)}$$\n",
    "$$\\vdots$$\n",
    "$$\\left(\\frac{{0}}{2^0}+\\frac{1}{2^1}+\\frac{0}{2^2}+\\cdots+\\frac{0}{2^{52}}\\right)2^{-1022}$$\n",
    "$${\\left(\\frac{{0}}{2^0}+\\frac{0}{2^1}+\\frac{1}{2^2}+\\cdots+\\frac{1}{2^{52}}\\right)2^{-1022}}_{(10)}$$\n",
    "$$\\vdots$$\n",
    "$${\\left(\\frac{{0}}{2^0}+\\frac{0}{2^1}+\\frac{0}{2^2}+\\cdots+\\frac{1}{2^{52}}\\right)2^{-1022}}_{(10)}=2^{-1074}\\approx10^{-323.31}$$\n",
    "\n",
    "のような数が表現できる．ただし，$2^{-1022}$と$2^{-1074}$の間の数は，本来53ビットあるべき仮数部の長さが52ビット〜1ビットまで減ってしまっており，精度が低下していることに注意が必要である．"
   ]
  },
  {
   "cell_type": "code",
   "execution_count": 14,
   "metadata": {},
   "outputs": [
    {
     "name": "stdout",
     "output_type": "stream",
     "text": [
      "5.0e-324\n",
      "0000000000000000000000000000000000000000000000000000000000000001\n",
      "0.0\n",
      "0000000000000000000000000000000000000000000000000000000000000000\n"
     ]
    }
   ],
   "source": [
    "x = 2. ^ (-1074)\n",
    "println(x)\n",
    "println(bitstring(x))\n",
    "\n",
    "x = (2. ^ (-1074)) / 2\n",
    "println(x)\n",
    "println(bitstring(x))"
   ]
  },
  {
   "cell_type": "markdown",
   "metadata": {},
   "source": [
    "### 浮動小数点数まとめ\n",
    "\n",
    "倍精度(binary64, Float64/double)は\n",
    "\n",
    "||仮数部が0|仮数部が0でない|\n",
    "|:-:|:-:|:-:|\n",
    "|$e+1023=0$            | $\\pm0$      | 非正規化数|\n",
    "|$1\\le e+1023\\le 2046$ | 正規化数     | 正規化数 |\n",
    "|$e+1023=2047$         | $\\pm\\infty$ | NaN|\n",
    "\n",
    "\n",
    "単精度 (binary32, Float32/float) は\n",
    "\n",
    "\n",
    "||仮数部が0|仮数部が0でない|\n",
    "|:-:|:-:|:-:|\n",
    "|$e+127=0$            | $\\pm0$      | 非正規化数|\n",
    "|$1\\le e+127\\le 254$ | 正規化数     | 正規化数 |\n",
    "|$e+127=255$         | $\\pm\\infty$ | NaN|\n",
    "\n",
    "今後，浮動小数点数全体の集合を$\\mathbb{F}$と表すことにする．特に断りがなければ，浮動小数点数は倍精度浮動小数点数（64bit）とする．IEEE754では**binary64**とも呼ばれている．\n",
    "\n"
   ]
  },
  {
   "cell_type": "markdown",
   "metadata": {},
   "source": [
    "## 丸め誤差\n",
    "浮動小数点数を使用した演算に混入する誤差について述べる\n",
    "\n",
    "浮動小数点数同士の演算（加減乗除など）の結果は，浮動小数点数で表せるとは限らない．\n",
    "例えば，10進数で仮数部3桁の浮動小数点演算を考え，2/3を計算すると，\n",
    "\n",
    "$$\n",
    "\t2.00\\times 10^0/3.00\\times 10^0=0.66666666...\\times 10^0\n",
    "$$\n",
    "\n",
    "となり，仮数部3桁に収まらない．仮数部の4桁目で四捨五入を行うと\n",
    "\n",
    "$$\n",
    "\t6.67\\times10^{-1}\n",
    "$$\n",
    "\n",
    "となる．このときの計算値と真値との差\n",
    "\n",
    "$$\n",
    "\t6.67\\times10^{-1}-6.6666666...\\times10^{-1}=3.3333333...\\times10^{-4}\n",
    "$$\n",
    "\n",
    "が丸め誤差である．\n",
    "\n",
    "IEEE 754は2進数浮動小数点数なので，基本的には0捨1入で丸められる．\n",
    "例えば，10進数の「0.1」をIEEE 754のbinary64に変換してみると\n",
    "\n",
    "\\begin{align*}\n",
    "\t0.1_{(10)} &= 0.000110011001100110011..._{(2)}\\\\\n",
    "\t& = 1.10011001100110011...\\times 2^{m},\n",
    "\\end{align*}\n",
    "\n",
    "$m$は$-4+1023=1019$の2進表現，つまり$m=01111111011$.\n",
    "仮数部は無限小数になっているのでそのまま格納出来ない．\n",
    "小数点以下を 52bit以内とそれ以降で区切って表示すると\n",
    "\n",
    "$\\fbox{1001100110011001100110011001100110011001100110011001}\\fbox{10011001100....}$\n",
    "\n",
    "となり，はみ出た部分の先頭が「1」なので、0捨1入で繰り上げる．\n",
    "最終的には， 10進数の「0.1」は\n",
    "\n",
    "$\\fbox{0}\\fbox{01111111011}\\fbox{1001100110011001100110011001100110011001100110011010}$\n",
    "\n",
    "のように格納されている．"
   ]
  },
  {
   "cell_type": "code",
   "execution_count": 15,
   "metadata": {},
   "outputs": [
    {
     "name": "stdout",
     "output_type": "stream",
     "text": [
      "0011111110111001100110011001100110011001100110011001100110011010\n"
     ]
    }
   ],
   "source": [
    "x = 0.1\n",
    "println(bitstring(x))"
   ]
  },
  {
   "cell_type": "markdown",
   "metadata": {},
   "source": [
    "10進数の0.1は計算機には正確に格納できず，少しだけ0.1より大きい値で格納されており，\n",
    "**丸め誤差**が含まれている\n",
    "\n",
    "$$\n",
    "    \\displaystyle\\frac{1}{10}\\approx{\\color{red}{0.1000000000000000}}055511151231257827021181583404541015625\n",
    "$$"
   ]
  },
  {
   "cell_type": "code",
   "execution_count": 16,
   "metadata": {},
   "outputs": [
    {
     "name": "stdout",
     "output_type": "stream",
     "text": [
      "0.1000000000000000055511151231257827021181583404541015625"
     ]
    }
   ],
   "source": [
    "using Printf\n",
    "@printf(\"%.55f\", x)"
   ]
  },
  {
   "cell_type": "markdown",
   "metadata": {},
   "source": [
    "さらに, 0.1を逐次的に加えていくと計算結果は丸め誤差の影響により, 不可解な計算結果を返す事がある."
   ]
  },
  {
   "cell_type": "code",
   "execution_count": 17,
   "metadata": {
    "scrolled": true
   },
   "outputs": [
    {
     "name": "stdout",
     "output_type": "stream",
     "text": [
      "9.9999999999999804600747665972448885440826416015625000000\n"
     ]
    }
   ],
   "source": [
    "x = 0.0\n",
    "for i = 1:100\n",
    "    x += 0.1\n",
    "end\n",
    "@printf(\"%.55f\\n\", x)"
   ]
  },
  {
   "cell_type": "markdown",
   "metadata": {},
   "source": [
    "## 丸めの制御\n",
    "\n",
    "IEEE754では，4つの丸めモードを用意している．$\\tilde{x}$を実数（$\\tilde{x}\\in\\mathbb{R}$）とする．いま実数 $\\tilde x$ が\n",
    "\n",
    "$$\\tilde x=\\pm\\left(\\frac{1}{2^0}+\\frac{d_1}{2^1}+\\frac{d_2}{2^2}+\\dots\\right)2^{e}_{(10)}$$\n",
    "\n",
    "であるときに，その近似\n",
    "\n",
    "$$x=\\pm\\left(\\frac{1}{2^0}+\\frac{d_1}{2^1}+\\frac{d_2}{2^2}+\\cdots+\\frac{d_{52}}{2^{52}}\\right)2^{e}_{(10)}\\in\\mathbb{F}$$\n",
    "\n",
    "を採用する丸めは**原点方向への丸め**（切り捨て）と呼ばれている．\n",
    "\n",
    "また $\\tilde x$ の近似として誤差$|x-\\tilde{x}|$の値が最小になる$x\\in\\mathbb{F}$，すなわち\n",
    "\n",
    "$$\n",
    "    |x-\\tilde{x}|=\\min_{y\\in\\mathbb{F}}|y-\\tilde{x}|\n",
    "$$\n",
    "\n",
    "をみたす$x\\in\\mathbb{F}$を採用する方法を**最近点への丸め**という．しかし $\\tilde x$ が2つの浮動小数点数\n",
    "\n",
    "$$\n",
    "    x_1=\\left(\\frac{1}{2^0}+\\frac{d_1}{2^1}+\\frac{d_2}{2^2}+\\cdots+\\frac{d_{52}}{2^{52}}\\right)2^{e}_{(10)},~~~x_2=\\left(\\frac{1}{2^0}+\\frac{d_1}{2^1}+\\frac{d_2}{2^2}+\\cdots+\\frac{d_{52}+1}{2^{52}}\\right)2^{e}_{(10)}\n",
    "$$\n",
    "\n",
    "の中点となると$|x_1-\\tilde{x}|=|x_2-\\tilde{x}|$が成り立ち，$x$は一つに決まらない．このときは**仮数部の最後のビットが0**になる方に丸めが実行される．これを**最近偶数への丸め**という．\n"
   ]
  },
  {
   "cell_type": "code",
   "execution_count": 18,
   "metadata": {},
   "outputs": [
    {
     "name": "stdout",
     "output_type": "stream",
     "text": [
      "1.00000000000000000000000000000000000000000000000000\n",
      "0011111111110000000000000000000000000000000000000000000000000000\n",
      "1.00000000000000022204460492503130808472633361816406\n",
      "0011111111110000000000000000000000000000000000000000000000000001\n",
      "1.00000000000000000000000000000000000000000000000000\n",
      "0011111111110000000000000000000000000000000000000000000000000000\n"
     ]
    }
   ],
   "source": [
    "eps = 2. ^ (-52) # unit round off\n",
    "x = 1. + eps/4.\n",
    "@printf(\"%.50f\\n\", x)\n",
    "println(bitstring(x))\n",
    "\n",
    "y = 1. + 3*(eps/4.)\n",
    "@printf(\"%.50f\\n\", y)\n",
    "println(bitstring(y))\n",
    "\n",
    "z = 1. + (eps/2.)\n",
    "@printf(\"%.50f\\n\", z)\n",
    "println(bitstring(z))"
   ]
  },
  {
   "cell_type": "code",
   "execution_count": 19,
   "metadata": {},
   "outputs": [
    {
     "name": "stdout",
     "output_type": "stream",
     "text": [
      "2.00000000000000000000000000000000000000000000000000\n",
      "0100000000000000000000000000000000000000000000000000000000000000\n",
      "1.99999999999999977795539507496869191527366638183594\n",
      "0011111111111111111111111111111111111111111111111111111111111111\n",
      "2.00000000000000000000000000000000000000000000000000\n",
      "0100000000000000000000000000000000000000000000000000000000000000\n"
     ]
    }
   ],
   "source": [
    "x = 2.\n",
    "@printf(\"%.50f\\n\", x)\n",
    "println(bitstring(x))\n",
    "\n",
    "y = 2. - eps\n",
    "@printf(\"%.50f\\n\", y)\n",
    "println(bitstring(y))\n",
    "\n",
    "z = 2. - eps/2.\n",
    "@printf(\"%.50f\\n\", z)\n",
    "println(bitstring(z))"
   ]
  },
  {
   "cell_type": "markdown",
   "metadata": {},
   "source": [
    "次は$\\tilde{x}$よりも必ず大きな$a\\in\\mathbb{F}$，すなわち\n",
    "\n",
    "$$\n",
    "    a=\\min\\left\\{x\\in\\mathbb{F}:x\\ge\\tilde{x}\\right\\}\n",
    "$$\n",
    "\n",
    "をみたす$a\\in\\mathbb{F}$を採用する方法を**$+\\infty$方向への丸め**（上向き丸め）という．逆に$\\tilde{x}$よりも必ず小さな$b\\in\\mathbb{F}$，すなわち\n",
    "\n",
    "$$\n",
    "    b=\\max\\left\\{x\\in\\mathbb{F}:x\\le\\tilde{x}\\right\\}\n",
    "$$\n",
    "\n",
    "をみたす$b\\in\\mathbb{F}$を採用する方法を**$-\\infty$方向への丸め**（下向き丸め）という．これらより\n",
    "\n",
    "$$ a\\le\\tilde{x}\\le b $$\n",
    "\n",
    "が常に成立する．特に精度保証付き数値計算ではこの2つの丸めモードを利用することで，*厳密な包含*を得ることができるようになる．まとめると\n",
    "\n",
    "* 最近点への丸め（デフォルト）：$\\tilde{x}$ に最も近い浮動小数点数に丸める．もし2点あるならば仮数部の最後のビットが0である浮動小数点数に丸める．\n",
    "* $+\\infty$方向への丸め：$\\tilde{x}$ 以上の浮動小数点数の中で最も小さい浮動小数点数に丸める．\n",
    "* $-\\infty$方向への丸め：$\\tilde{x}$ 以下の浮動小数点数の中で最も大きい浮動小数点数に丸める．\n",
    "* 原点方向への丸め：絶対値が $\\tilde{x}$ 以下の浮動小数点数の中で，$\\tilde{x}$ に最も近いものに丸める．\n",
    "\n",
    "## その他の誤差いろいろ\n",
    "\n",
    "丸め誤差は実数を浮動小数点数で近似する際の誤差であった．ここでは浮動小数点数を用いた演算のその他の問題点を紹介する．\n",
    "\n",
    "### 桁落ち\n",
    "極めて近い数どうしの減算によって，誤差が著しく大きくなってしまう現象．\n",
    "2つの浮動小数点数\n",
    "\n",
    "$$\n",
    "    x=\\left(\\frac{1}{2^0}+\\frac{d_1}{2^1}+\\dots+\\frac{d_p}{2^p}+\\frac{1}{2^{p+1}}+\\cdots+\\frac{b_{p+2}}{2^{p+2}}+\\dots+\\frac{b_{52}}{2^{52}}\\right)2^{e}_{(10)},\n",
    "$$\n",
    "$$\n",
    "    y=\\left(\\frac{1}{2^0}+\\frac{d_1}{2^1}+\\dots+\\frac{d_p}{2^p}+\\frac{0}{2^{p+1}}+\\cdots+\\frac{c_{p+2}}{2^{p+2}}+\\dots+\\frac{c_{52}}{2^{52}}\\right)2^{e}_{(10)}\n",
    "$$\n",
    "\n",
    "が$x>y$とし，仮数部の最初から $p$ ビットが等しいとする．このとき\n",
    "\n",
    "$$\n",
    "    x-y=\\left(\\frac{1}{2^0}+\\frac{b_{p+2}-c_{p+2}}{2^1}+\\dots+\\frac{b_{52}-c_{52}}{2^{52-p-1}}\\right)2^{e-p-1}_{(10)}\n",
    "$$\n",
    "\n",
    "これよりもともと $52$ 個あった仮数部の情報が，$52-p$ 個に減っている．例を挙げよう．\n",
    "\n",
    "$b>0$とし，2次方程式 $x^2+bx+c=0$の解の公式\n",
    "\n",
    "$$\n",
    "    x_1=\\frac{-b+\\sqrt{b^2-4c}}{2},\\quad x_2=\\frac{-b-\\sqrt{b^2-4c}}{2}\n",
    "$$\n",
    "\n",
    "を考える．いまもしも$b^2\\gg c$となるならば，$b$ と $\\sqrt{b^2-4c}$が近い数になるので，$x_1$の分子の計算で，桁落ちが起こる．"
   ]
  },
  {
   "cell_type": "code",
   "execution_count": 20,
   "metadata": {},
   "outputs": [
    {
     "name": "stdout",
     "output_type": "stream",
     "text": [
      "-0.125\n",
      "-2.4999999999999984e13\n",
      "-0.10000000000000002\n",
      "0.0\n"
     ]
    }
   ],
   "source": [
    "b = 1e+15\n",
    "c = 1e+14\n",
    "\n",
    "x1 = (-b + sqrt(b^2 - 4c)) / 2\n",
    "println(x1)\n",
    "println(x1^2 + b*x1 + c)\n",
    "\n",
    "x2 = 2c / (-b - sqrt(b^2 - 4*c))\n",
    "println(x2)\n",
    "println(x2^2 + b*x2 + c)"
   ]
  },
  {
   "cell_type": "markdown",
   "metadata": {},
   "source": [
    "### 情報落ち\n",
    "絶対値の大きさが極端に違う2 数の加減算を行った時，小さいほうの数値の下位の桁が失われてしまう現象．"
   ]
  },
  {
   "cell_type": "code",
   "execution_count": 21,
   "metadata": {},
   "outputs": [
    {
     "name": "stdout",
     "output_type": "stream",
     "text": [
      "3.141592025756836\n",
      "3.14159265358979\n"
     ]
    }
   ],
   "source": [
    "println((3.14159265358979+1e10)-1e10)\n",
    "println(3.14159265358979 + (1e10-1e10))"
   ]
  },
  {
   "cell_type": "code",
   "execution_count": 22,
   "metadata": {},
   "outputs": [
    {
     "name": "stdout",
     "output_type": "stream",
     "text": [
      "0.0\n",
      "666.6\n",
      "-3.9230984419161617e30\n"
     ]
    }
   ],
   "source": [
    "println(1e48+543.2-1e48-1e36+123.4+1e36)\n",
    "println(1e48-1e48-1e36+1e36+543.2+123.4)\n",
    "println(1e48-1e36-1e48+1e36+543.2+123.4)"
   ]
  },
  {
   "cell_type": "markdown",
   "metadata": {},
   "source": [
    "## 打ち切り誤差\n",
    "無限回行うべき計算を有限回の計算で置き換えることにより生じる誤差．計算機は有限回の四則演算しかできない．そのため，無限級数や収束列のような値を求めるためには，有限項で打ち切った近似値を用いる．その際に誤差が生じる．\n",
    "\n",
    "（例）Taylor展開の打ち切り誤差，Newton法の打ち切り誤差，数値積分の打ち切り誤差"
   ]
  },
  {
   "cell_type": "code",
   "execution_count": 23,
   "metadata": {},
   "outputs": [
    {
     "name": "stdout",
     "output_type": "stream",
     "text": [
      "4.851651954097903e8\n",
      "4.851651954097903e8\n",
      "6.147561828914626e-9\n",
      "2.061153622438558e-9\n"
     ]
    }
   ],
   "source": [
    "function exp_taylor(x) # naive implementation of \"exp\" function\n",
    "    s = 0.0\n",
    "    t = 1.0\n",
    "    i = 1\n",
    "    while true\n",
    "        s += t\n",
    "        if abs(t) < abs(s) * 1e-15\n",
    "            break\n",
    "        end\n",
    "        t *= x / i\n",
    "        i += 1\n",
    "    end\n",
    "    return s\n",
    "end\n",
    "println(exp_taylor(20.))\n",
    "println(exp(20.))\n",
    "println(exp_taylor(-20.))\n",
    "println(exp(-20.))"
   ]
  },
  {
   "cell_type": "markdown",
   "metadata": {},
   "source": [
    "# 区間演算\n",
    "\n",
    "区間の表現，区間演算について述べる．精度保証付き数値計算の基本的な原理は，実数値で与えられる真の値の上限と下限を浮動小数点数により浮動小数点演算を用いて包み込むことである．\n",
    "\n",
    "$\\mathbb{R}$上の区間を\n",
    "$$\n",
    "\t\\boldsymbol{a}:=\\{x\\in\\mathbb{R}:\\underline{a}\\le x\\le\\overline{a},~\\underline{a}, \\overline{a}\\in\\mathbb{R}\\}=[\\underline{a}, \\overline{a}]\n",
    "$$\n",
    "\n",
    "と表し，区間の全体を$\\mathbb{IR}$とする．\n",
    "この時 $\\underline{a}$ を区間の下端，$\\overline{a}$ を区間の上端という．\n",
    "さらに区間の\n",
    "\n",
    "$$\n",
    "\\begin{array}{ll}\n",
    "\\mbox{直径（diameter）:}&\\mathrm{d}(\\boldsymbol{a})=\\overline{a}-\\underline{a}\\in\\mathbb{R}\\\\\n",
    "\\mbox{半径（radious）:}&\\mathrm{rad}(\\boldsymbol{a})=\\frac{\\overline{a}-\\underline{a}}{2}\\in\\mathbb{R}\\\\\n",
    "\\mbox{中点（center）:}&\\mathrm{mid}(\\boldsymbol{a})=\\frac{\\overline{a}+\\underline{a}}{2}\\in\\mathbb{R}\\\\\n",
    "\\mbox{最小絶対値:}&\\mathrm{mig}(\\boldsymbol{a})=\\min\\{|a|:a\\in\\boldsymbol{a}\\}\\in\\mathbb{R}\\\\\n",
    "\\mbox{最大絶対値:}&\\mathrm{mag}(\\boldsymbol{a})=\\max\\{|a|:a\\in\\boldsymbol{a}\\}\\in\\mathbb{R}\\\\\n",
    "\\end{array}\n",
    "$$\n",
    "\n",
    "をそれぞれ表すとする．\n",
    "\n",
    "Juliaで区間を扱うために[IntervalArithmetic.jl](https://github.com/JuliaIntervals/IntervalArithmetic.jl)パッケージを使う."
   ]
  },
  {
   "cell_type": "code",
   "execution_count": 24,
   "metadata": {},
   "outputs": [
    {
     "name": "stdout",
     "output_type": "stream",
     "text": [
      "[-2, 1]\n",
      "d(a)   = 3.0\n",
      "rad(a) = 1.5\n",
      "mid(a) = -0.5\n",
      "mig(a) = 0.0\n",
      "mag(a) = 2.0\n"
     ]
    },
    {
     "name": "stderr",
     "output_type": "stream",
     "text": [
      "WARNING: using IntervalArithmetic.eps in module Main conflicts with an existing identifier.\n"
     ]
    }
   ],
   "source": [
    "using IntervalArithmetic\n",
    "\n",
    "a = interval(-2, 1)\n",
    "# a = -2. .. 1.    # .. operator\n",
    "println(a)\n",
    "\n",
    "print(\"d(a)   = \")\n",
    "println(diam(a))\n",
    "\n",
    "print(\"rad(a) = \")\n",
    "println(radius(a))\n",
    "\n",
    "print(\"mid(a) = \")\n",
    "println(mid(a))\n",
    "\n",
    "print(\"mig(a) = \")\n",
    "println(mig(a))\n",
    "\n",
    "print(\"mag(a) = \")\n",
    "println(mag(a))\n",
    "\n",
    "# @format midpoint 3\n",
    "# @format full\n",
    "# @format standard 10"
   ]
  },
  {
   "cell_type": "markdown",
   "metadata": {},
   "source": [
    "## 区間演算（上端下端型）\n",
    "\n",
    "区間$\\boldsymbol{X}=[a,b]$, $\\boldsymbol{Y}=[c,d]$に対して，四則演算を定義する：\n",
    "\n",
    "\\begin{align*}\n",
    "\t\\boldsymbol{X}+\\boldsymbol{Y}&=[a+c,b+d]\\\\\n",
    "\t\\boldsymbol{X}-\\boldsymbol{Y}&=[a-d,b-c]\\\\\n",
    "\t\\boldsymbol{X}\\times\\boldsymbol{Y}&=[\\min\\{ac,ad,bc,bd\\},\\max\\{ac,ad,bc,bd\\}]\\\\\n",
    "\t\\boldsymbol{X}\\div\\boldsymbol{Y}&=[\\min\\{a/c,a/d,b/c,b/d\\},\\max\\{a/c,a/d,b/c,b/d\\}]\n",
    "\\end{align*}\n",
    "\n",
    "$\\times,~\\div$は場合分けをする．\n",
    "\n",
    "||$c>0$|$0\\in\\boldsymbol{Y}$|$d<0$|\n",
    "|:-------------:|:-------------:|:---------------:|:-------------:|\n",
    "|$a>0$|$[ac,bd]$|$[bc,bd]$|$[bc,ad]$|\n",
    "|$0\\in\\boldsymbol{X}$|$[ad,bd]$|$A$|$[bc,ac]$|\n",
    "|$b<0$|$[ad,bc]$|$[ad,ad]$|$[bd,ac]$|\n",
    "\n",
    "ただし $A=[\\min\\{ad,bc\\},\\max\\{ad,bc\\}].$\n",
    "\n",
    "注：区間内全ての要素について演算を行うため無限回の計算が必要のように思えるが，これをまとめて実現するのが区間演算．さらに除算で割る区間$\\boldsymbol{Y}$に0が含まれる（$0\\in\\boldsymbol{Y}$）と演算結果は無限大を含むことになる．\n"
   ]
  },
  {
   "cell_type": "code",
   "execution_count": 25,
   "metadata": {},
   "outputs": [
    {
     "name": "stdout",
     "output_type": "stream",
     "text": [
      "[-1, 4]\n",
      "[-5, 0]\n",
      "[-6, 3]\n",
      "[-2, 1]\n",
      "[-∞, ∞]\n"
     ]
    }
   ],
   "source": [
    "X = interval(-2, 1)\n",
    "Y = interval(1, 3)\n",
    "\n",
    "println(X + Y)\n",
    "println(X - Y)\n",
    "println(X * Y)\n",
    "println(X / Y)\n",
    "println(Y / X)"
   ]
  },
  {
   "cell_type": "markdown",
   "metadata": {},
   "source": [
    "包含関係の単調性が成立する．すなわち $\\boldsymbol{X}_1\\subseteq \\boldsymbol{X}_2$ かつ $\\boldsymbol{Y}_1\\subseteq \\boldsymbol{Y}_2$ ならば $\\boldsymbol{X}_1\\circ\\boldsymbol{Y}_1\\subseteq \\boldsymbol{X}_2\\circ\\boldsymbol{Y}_2$ が成立する．ここで，$\\circ\\in\\{+,-,\\times,\\div\\}$とする．\n",
    "\n",
    "さらに $+$, $\\times$ に関しては，交換則と結合則が成立する．\n",
    "\n",
    "$$\n",
    "    \\boldsymbol{X}\\circ\\boldsymbol{Y}=\\boldsymbol{Y}\\circ\\boldsymbol{X},~\\boldsymbol{X}\\circ(\\boldsymbol{Y}\\circ\\boldsymbol{Z})=(\\boldsymbol{X}\\circ\\boldsymbol{Y})\\circ\\boldsymbol{Z},\\quad\\circ\\in\\{+,\\times\\}.\n",
    "$$\n",
    "\n",
    "しかし，加法と乗法の逆元は存在しない．すなわち分配則が成立しない．劣分配則のみ成立する．\n",
    "\n",
    "$$\n",
    "    \\boldsymbol{X}(\\boldsymbol{Y}+\\boldsymbol{Z})\\subseteq\\boldsymbol{X}\\boldsymbol{Y}+\\boldsymbol{X}\\boldsymbol{Z}.\n",
    "$$"
   ]
  },
  {
   "cell_type": "code",
   "execution_count": 26,
   "metadata": {},
   "outputs": [
    {
     "name": "stdout",
     "output_type": "stream",
     "text": [
      "[-3, 3]\n",
      "[-4, 4]\n",
      "true\n"
     ]
    }
   ],
   "source": [
    "X = interval(-1, 1)\n",
    "Y = interval(1, 2)\n",
    "Z = interval(-2, 1)\n",
    "\n",
    "println(X * (Y + Z))\n",
    "println(X * Y + X * Z)\n",
    "println((X * (Y + Z) ⊂ X * Y + X * Z))"
   ]
  },
  {
   "cell_type": "markdown",
   "metadata": {},
   "source": [
    "## 中心半径型区間演算\n",
    "\n",
    "上端下端型区間の他に区間を中心と半径で表す型もある．それを**中心半径型区間**という．中心半径型（mid-rad 型）区間は実数 $x\\in\\mathbb{R}$ に対して，区間の中心を $x_c$，半径を $x_r$ としたとき\n",
    "\n",
    "$$\n",
    "    \\boldsymbol{x}=\\langle x_c,x_r\\rangle=\\left\\{x:x_c-x_r\\le x\\le x_c+x_r\\right\\}\n",
    "$$\n",
    "\n",
    "と表される．中心半径型区間と上端下端型区間の間には次のような関係が成り立つ：\n",
    "\n",
    "$$\n",
    "    \\boldsymbol{x}=[\\underline{x},\\overline{x}]=[x_c-x_r,x_c+x_r]=\\left\\langle\\frac{\\underline{x}+\\overline{x}}{2},\\frac{\\underline{x}-\\overline{x}}{2}\\right\\rangle=\\langle x_c,x_r\\rangle=\\boldsymbol{x}\n",
    "$$\n",
    "\n",
    "中心半径型区間 $\\boldsymbol{x}=\\langle x_c,x_r\\rangle$, $\\boldsymbol{y}=\\langle y_c,y_r\\rangle$ に対して，四則演算を定義する．\n",
    "\n",
    "\\begin{align*}\n",
    "    \\boldsymbol{x}+\\boldsymbol{y}&=\\langle x_c+y_c,x_r+y_r\\rangle\\\\\n",
    "    \\boldsymbol{x}-\\boldsymbol{y}&=\\langle x_c-y_c,x_r+y_r\\rangle\\\\\n",
    "    \\boldsymbol{x}\\times\\boldsymbol{y}&\\subseteq\\langle x_cy_c,|x_c|y_r+|y_c|x_r+x_ry_r\\rangle\\\\\n",
    "    \\boldsymbol{x}\\div\\boldsymbol{y}&=\\frac{\\boldsymbol{x}\\times\\boldsymbol{y}}{\\underline{y}\\overline{y}}=\\frac{\\boldsymbol{x}\\times\\boldsymbol{y}}{y_c^2-y_r^2}\n",
    "\\end{align*}\n",
    "\n",
    "ちなみに乗算は$\\mathop{sgn}(\\cdot)$を括弧内の符号を返す関数とすると\n",
    "\n",
    "$$\n",
    "    \\boldsymbol{x}\\times\\boldsymbol{y}=\\langle x_cy_c+\\delta_1,\\delta_2\\rangle\n",
    "$$\n",
    "\n",
    "と書ける．ここで\n",
    "\n",
    "$$\n",
    "    \\delta_1=\\mathop{sgn}(x_cy_c)\\min\\left\\{x_r|y_c|,|x_c|y_r,x_ry_r\\right\\}\n",
    "$$\n",
    "$$\n",
    "\\delta_2=\\max\\left\\{x_r(|y_c|+y_r),(|x_c|+x_r)y_r,x_r|y_c|+|x_c|y_r\\right\\}\n",
    "$$\n",
    "\n",
    "である．"
   ]
  },
  {
   "cell_type": "code",
   "execution_count": 27,
   "metadata": {},
   "outputs": [
    {
     "name": "stdout",
     "output_type": "stream",
     "text": [
      "1.5 ± 1.5\n",
      "-1.5 ± 1.5\n",
      "0 ± 2\n",
      "0 ± 1\n"
     ]
    }
   ],
   "source": [
    "X = 0 ± 1\n",
    "Y = 1.5 ± 0.5\n",
    "Z = -0.5 ± 1.5\n",
    "\n",
    "@format midpoint 3\n",
    "println(X + Y)\n",
    "println(X - Y)\n",
    "println(X * Y)\n",
    "println(X / Y)"
   ]
  },
  {
   "cell_type": "markdown",
   "metadata": {},
   "source": [
    "## 関数の値域評価\n",
    "\n",
    "$ \\boldsymbol{I}\\in\\mathbb{IR}$をある区間とし，$f:D\\subset\\mathbb{R}\\to\\mathbb{R}$を領域 $D$ で連続な関数とする．\n",
    "このとき関数 $f$ は $\\mathbb{IR}$ 上の関数として拡張できる．\n",
    "\n",
    "$$\n",
    "\tf(\\boldsymbol{I})=\\{f(x):x\\in\\boldsymbol{I}\\}\n",
    "$$\n",
    "\n",
    "この $f(\\boldsymbol{I})$ は関数の値域で，これを厳密に計算することは非線形関数の場合不可能である．よって\n",
    "\n",
    "$$\n",
    "\tf(\\boldsymbol{I})\\subseteq [a,b]\n",
    "$$\n",
    "\n",
    "となる区間 $[a,b]$ で関数の値域を包含する．これを $f$ の区間 $\\boldsymbol{I}$ における**区間拡張**（区間拡張は一意的でないことに注意！）といい，$f_{[\\,]}(\\boldsymbol{I})=[a,b]$ と表す．\n",
    "\n",
    "**注意**　IEEE 754 標準規格における丸めに従っているのは「**四則演算・平方根**」だけ．それ以外の関数（例えば，$\\sin$，$\\cos$ などは）丸めの向きの\n",
    "変更が不可能（**自作するか，丸めに対応し作成されたものを使う**こと）．ただし，デフォルトの関数も精度が十分に高く作られているため，精度保証などを考えない場合はそれで十分．\n",
    "\n",
    "### 例\n",
    "\n",
    "例えば，関数 $f(x)=x^2+2x$ を考える．関数に区間を単純に代入すると\n",
    "\\begin{align*}\n",
    "\tx&\\in[0.9,1.1]\\\\\n",
    "\tx^2&\\in[0.81,1.21]\\\\\n",
    "\t2x&\\in[1.8,2.2]\\\\\n",
    "\tx^2+2x&\\in[2.61,3.41]\\\\\n",
    "\\end{align*}"
   ]
  },
  {
   "cell_type": "code",
   "execution_count": 28,
   "metadata": {},
   "outputs": [
    {
     "name": "stdout",
     "output_type": "stream",
     "text": [
      "[2.6099, 3.4101]\n"
     ]
    },
    {
     "data": {
      "image/svg+xml": [
       "<?xml version=\"1.0\" encoding=\"utf-8\"?>\n",
       "<svg xmlns=\"http://www.w3.org/2000/svg\" xmlns:xlink=\"http://www.w3.org/1999/xlink\" width=\"600\" height=\"400\" viewBox=\"0 0 2400 1600\">\n",
       "<defs>\n",
       "  <clipPath id=\"clip250\">\n",
       "    <rect x=\"0\" y=\"0\" width=\"2400\" height=\"1600\"/>\n",
       "  </clipPath>\n",
       "</defs>\n",
       "<path clip-path=\"url(#clip250)\" d=\"\n",
       "M0 1600 L2400 1600 L2400 0 L0 0  Z\n",
       "  \" fill=\"#ffffff\" fill-rule=\"evenodd\" fill-opacity=\"1\"/>\n",
       "<defs>\n",
       "  <clipPath id=\"clip251\">\n",
       "    <rect x=\"480\" y=\"0\" width=\"1681\" height=\"1600\"/>\n",
       "  </clipPath>\n",
       "</defs>\n",
       "<path clip-path=\"url(#clip250)\" d=\"\n",
       "M198.26 1450.96 L2352.76 1450.96 L2352.76 47.2441 L198.26 47.2441  Z\n",
       "  \" fill=\"#ffffff\" fill-rule=\"evenodd\" fill-opacity=\"1\"/>\n",
       "<defs>\n",
       "  <clipPath id=\"clip252\">\n",
       "    <rect x=\"198\" y=\"47\" width=\"2155\" height=\"1405\"/>\n",
       "  </clipPath>\n",
       "</defs>\n",
       "<polyline clip-path=\"url(#clip252)\" style=\"stroke:#000000; stroke-width:2; stroke-opacity:0.1; fill:none\" points=\"\n",
       "  259.236,1450.96 259.236,47.2441 \n",
       "  \"/>\n",
       "<polyline clip-path=\"url(#clip252)\" style=\"stroke:#000000; stroke-width:2; stroke-opacity:0.1; fill:none\" points=\"\n",
       "  597.993,1450.96 597.993,47.2441 \n",
       "  \"/>\n",
       "<polyline clip-path=\"url(#clip252)\" style=\"stroke:#000000; stroke-width:2; stroke-opacity:0.1; fill:none\" points=\"\n",
       "  936.75,1450.96 936.75,47.2441 \n",
       "  \"/>\n",
       "<polyline clip-path=\"url(#clip252)\" style=\"stroke:#000000; stroke-width:2; stroke-opacity:0.1; fill:none\" points=\"\n",
       "  1275.51,1450.96 1275.51,47.2441 \n",
       "  \"/>\n",
       "<polyline clip-path=\"url(#clip252)\" style=\"stroke:#000000; stroke-width:2; stroke-opacity:0.1; fill:none\" points=\"\n",
       "  1614.27,1450.96 1614.27,47.2441 \n",
       "  \"/>\n",
       "<polyline clip-path=\"url(#clip252)\" style=\"stroke:#000000; stroke-width:2; stroke-opacity:0.1; fill:none\" points=\"\n",
       "  1953.02,1450.96 1953.02,47.2441 \n",
       "  \"/>\n",
       "<polyline clip-path=\"url(#clip252)\" style=\"stroke:#000000; stroke-width:2; stroke-opacity:0.1; fill:none\" points=\"\n",
       "  2291.78,1450.96 2291.78,47.2441 \n",
       "  \"/>\n",
       "<polyline clip-path=\"url(#clip250)\" style=\"stroke:#000000; stroke-width:4; stroke-opacity:1; fill:none\" points=\"\n",
       "  198.26,1450.96 2352.76,1450.96 \n",
       "  \"/>\n",
       "<polyline clip-path=\"url(#clip250)\" style=\"stroke:#000000; stroke-width:4; stroke-opacity:1; fill:none\" points=\"\n",
       "  259.236,1450.96 259.236,1434.12 \n",
       "  \"/>\n",
       "<polyline clip-path=\"url(#clip250)\" style=\"stroke:#000000; stroke-width:4; stroke-opacity:1; fill:none\" points=\"\n",
       "  597.993,1450.96 597.993,1434.12 \n",
       "  \"/>\n",
       "<polyline clip-path=\"url(#clip250)\" style=\"stroke:#000000; stroke-width:4; stroke-opacity:1; fill:none\" points=\"\n",
       "  936.75,1450.96 936.75,1434.12 \n",
       "  \"/>\n",
       "<polyline clip-path=\"url(#clip250)\" style=\"stroke:#000000; stroke-width:4; stroke-opacity:1; fill:none\" points=\"\n",
       "  1275.51,1450.96 1275.51,1434.12 \n",
       "  \"/>\n",
       "<polyline clip-path=\"url(#clip250)\" style=\"stroke:#000000; stroke-width:4; stroke-opacity:1; fill:none\" points=\"\n",
       "  1614.27,1450.96 1614.27,1434.12 \n",
       "  \"/>\n",
       "<polyline clip-path=\"url(#clip250)\" style=\"stroke:#000000; stroke-width:4; stroke-opacity:1; fill:none\" points=\"\n",
       "  1953.02,1450.96 1953.02,1434.12 \n",
       "  \"/>\n",
       "<polyline clip-path=\"url(#clip250)\" style=\"stroke:#000000; stroke-width:4; stroke-opacity:1; fill:none\" points=\"\n",
       "  2291.78,1450.96 2291.78,1434.12 \n",
       "  \"/>\n",
       "<path clip-path=\"url(#clip250)\" d=\"M 0 0 M228.704 1494.8 L258.379 1494.8 L258.379 1498.74 L228.704 1498.74 L228.704 1494.8 Z\" fill=\"#000000\" fill-rule=\"evenodd\" fill-opacity=\"1\" /><path clip-path=\"url(#clip250)\" d=\"M 0 0 M282.639 1493 Q285.995 1493.72 287.87 1495.98 Q289.768 1498.25 289.768 1501.59 Q289.768 1506.7 286.25 1509.5 Q282.731 1512.3 276.25 1512.3 Q274.074 1512.3 271.759 1511.86 Q269.467 1511.45 267.014 1510.59 L267.014 1506.08 Q268.958 1507.21 271.273 1507.79 Q273.588 1508.37 276.111 1508.37 Q280.509 1508.37 282.801 1506.63 Q285.115 1504.9 285.115 1501.59 Q285.115 1498.53 282.963 1496.82 Q280.833 1495.08 277.014 1495.08 L272.986 1495.08 L272.986 1491.24 L277.199 1491.24 Q280.648 1491.24 282.476 1489.87 Q284.305 1488.48 284.305 1485.89 Q284.305 1483.23 282.407 1481.82 Q280.532 1480.38 277.014 1480.38 Q275.092 1480.38 272.893 1480.8 Q270.694 1481.22 268.055 1482.1 L268.055 1477.93 Q270.717 1477.19 273.032 1476.82 Q275.37 1476.45 277.43 1476.45 Q282.754 1476.45 285.856 1478.88 Q288.958 1481.29 288.958 1485.41 Q288.958 1488.28 287.314 1490.27 Q285.671 1492.23 282.639 1493 Z\" fill=\"#000000\" fill-rule=\"evenodd\" fill-opacity=\"1\" /><path clip-path=\"url(#clip250)\" d=\"M 0 0 M567.935 1494.8 L597.611 1494.8 L597.611 1498.74 L567.935 1498.74 L567.935 1494.8 Z\" fill=\"#000000\" fill-rule=\"evenodd\" fill-opacity=\"1\" /><path clip-path=\"url(#clip250)\" d=\"M 0 0 M611.732 1507.7 L628.051 1507.7 L628.051 1511.63 L606.107 1511.63 L606.107 1507.7 Q608.769 1504.94 613.352 1500.31 Q617.958 1495.66 619.139 1494.32 Q621.384 1491.79 622.264 1490.06 Q623.167 1488.3 623.167 1486.61 Q623.167 1483.85 621.222 1482.12 Q619.301 1480.38 616.199 1480.38 Q614 1480.38 611.546 1481.15 Q609.116 1481.91 606.338 1483.46 L606.338 1478.74 Q609.162 1477.6 611.616 1477.03 Q614.069 1476.45 616.106 1476.45 Q621.477 1476.45 624.671 1479.13 Q627.866 1481.82 627.866 1486.31 Q627.866 1488.44 627.055 1490.36 Q626.268 1492.26 624.162 1494.85 Q623.583 1495.52 620.481 1498.74 Q617.38 1501.93 611.732 1507.7 Z\" fill=\"#000000\" fill-rule=\"evenodd\" fill-opacity=\"1\" /><path clip-path=\"url(#clip250)\" d=\"M 0 0 M906.508 1494.8 L936.183 1494.8 L936.183 1498.74 L906.508 1498.74 L906.508 1494.8 Z\" fill=\"#000000\" fill-rule=\"evenodd\" fill-opacity=\"1\" /><path clip-path=\"url(#clip250)\" d=\"M 0 0 M947.086 1507.7 L954.725 1507.7 L954.725 1481.33 L946.415 1483 L946.415 1478.74 L954.679 1477.07 L959.354 1477.07 L959.354 1507.7 L966.993 1507.7 L966.993 1511.63 L947.086 1511.63 L947.086 1507.7 Z\" fill=\"#000000\" fill-rule=\"evenodd\" fill-opacity=\"1\" /><path clip-path=\"url(#clip250)\" d=\"M 0 0 M1275.51 1480.15 Q1271.9 1480.15 1270.07 1483.72 Q1268.26 1487.26 1268.26 1494.39 Q1268.26 1501.49 1270.07 1505.06 Q1271.9 1508.6 1275.51 1508.6 Q1279.14 1508.6 1280.95 1505.06 Q1282.78 1501.49 1282.78 1494.39 Q1282.78 1487.26 1280.95 1483.72 Q1279.14 1480.15 1275.51 1480.15 M1275.51 1476.45 Q1281.32 1476.45 1284.37 1481.05 Q1287.45 1485.64 1287.45 1494.39 Q1287.45 1503.11 1284.37 1507.72 Q1281.32 1512.3 1275.51 1512.3 Q1269.7 1512.3 1266.62 1507.72 Q1263.56 1503.11 1263.56 1494.39 Q1263.56 1485.64 1266.62 1481.05 Q1269.7 1476.45 1275.51 1476.45 Z\" fill=\"#000000\" fill-rule=\"evenodd\" fill-opacity=\"1\" /><path clip-path=\"url(#clip250)\" d=\"M 0 0 M1604.65 1507.7 L1612.29 1507.7 L1612.29 1481.33 L1603.98 1483 L1603.98 1478.74 L1612.24 1477.07 L1616.92 1477.07 L1616.92 1507.7 L1624.55 1507.7 L1624.55 1511.63 L1604.65 1511.63 L1604.65 1507.7 Z\" fill=\"#000000\" fill-rule=\"evenodd\" fill-opacity=\"1\" /><path clip-path=\"url(#clip250)\" d=\"M 0 0 M1947.68 1507.7 L1963.99 1507.7 L1963.99 1511.63 L1942.05 1511.63 L1942.05 1507.7 Q1944.71 1504.94 1949.3 1500.31 Q1953.9 1495.66 1955.08 1494.32 Q1957.33 1491.79 1958.21 1490.06 Q1959.11 1488.3 1959.11 1486.61 Q1959.11 1483.85 1957.17 1482.12 Q1955.24 1480.38 1952.14 1480.38 Q1949.94 1480.38 1947.49 1481.15 Q1945.06 1481.91 1942.28 1483.46 L1942.28 1478.74 Q1945.11 1477.6 1947.56 1477.03 Q1950.01 1476.45 1952.05 1476.45 Q1957.42 1476.45 1960.61 1479.13 Q1963.81 1481.82 1963.81 1486.31 Q1963.81 1488.44 1963 1490.36 Q1962.21 1492.26 1960.11 1494.85 Q1959.53 1495.52 1956.43 1498.74 Q1953.32 1501.93 1947.68 1507.7 Z\" fill=\"#000000\" fill-rule=\"evenodd\" fill-opacity=\"1\" /><path clip-path=\"url(#clip250)\" d=\"M 0 0 M2296.03 1493 Q2299.38 1493.72 2301.26 1495.98 Q2303.16 1498.25 2303.16 1501.59 Q2303.16 1506.7 2299.64 1509.5 Q2296.12 1512.3 2289.64 1512.3 Q2287.46 1512.3 2285.15 1511.86 Q2282.86 1511.45 2280.4 1510.59 L2280.4 1506.08 Q2282.35 1507.21 2284.66 1507.79 Q2286.98 1508.37 2289.5 1508.37 Q2293.9 1508.37 2296.19 1506.63 Q2298.5 1504.9 2298.5 1501.59 Q2298.5 1498.53 2296.35 1496.82 Q2294.22 1495.08 2290.4 1495.08 L2286.37 1495.08 L2286.37 1491.24 L2290.59 1491.24 Q2294.04 1491.24 2295.87 1489.87 Q2297.69 1488.48 2297.69 1485.89 Q2297.69 1483.23 2295.8 1481.82 Q2293.92 1480.38 2290.4 1480.38 Q2288.48 1480.38 2286.28 1480.8 Q2284.08 1481.22 2281.44 1482.1 L2281.44 1477.93 Q2284.11 1477.19 2286.42 1476.82 Q2288.76 1476.45 2290.82 1476.45 Q2296.14 1476.45 2299.24 1478.88 Q2302.35 1481.29 2302.35 1485.41 Q2302.35 1488.28 2300.7 1490.27 Q2299.06 1492.23 2296.03 1493 Z\" fill=\"#000000\" fill-rule=\"evenodd\" fill-opacity=\"1\" /><path clip-path=\"url(#clip250)\" d=\"M 0 0 M1289.68 1539.92 Q1289.68 1541.72 1288.55 1542.75 Q1287.43 1543.75 1286.14 1543.75 Q1284.91 1543.75 1284.27 1543.04 Q1283.63 1542.33 1283.63 1541.43 Q1283.63 1540.21 1284.53 1539.14 Q1285.43 1538.08 1286.78 1537.85 Q1285.46 1537.02 1283.5 1537.02 Q1282.21 1537.02 1281.08 1537.69 Q1279.99 1538.37 1279.31 1539.24 Q1278.67 1540.11 1278.09 1541.37 Q1277.54 1542.59 1277.31 1543.33 Q1277.12 1544.04 1276.96 1544.81 L1274.71 1553.83 Q1273.61 1558.11 1273.61 1559.63 Q1273.61 1561.49 1274.51 1562.75 Q1275.41 1563.97 1277.22 1563.97 Q1277.93 1563.97 1278.73 1563.78 Q1279.54 1563.55 1280.57 1562.98 Q1281.63 1562.36 1282.56 1561.46 Q1283.53 1560.53 1284.46 1558.95 Q1285.4 1557.37 1286.01 1555.34 Q1286.2 1554.63 1286.85 1554.63 Q1287.65 1554.63 1287.65 1555.28 Q1287.65 1555.83 1287.2 1556.98 Q1286.78 1558.11 1285.85 1559.59 Q1284.95 1561.04 1283.76 1562.36 Q1282.56 1563.65 1280.79 1564.55 Q1279.02 1565.46 1277.09 1565.46 Q1274.32 1565.46 1272.48 1563.97 Q1270.65 1562.49 1269.97 1560.43 Q1269.81 1560.72 1269.58 1561.11 Q1269.36 1561.49 1268.68 1562.36 Q1268.04 1563.2 1267.3 1563.84 Q1266.56 1564.46 1265.4 1564.94 Q1264.27 1565.46 1263.05 1565.46 Q1261.5 1565.46 1260.12 1565 Q1258.76 1564.55 1257.8 1563.52 Q1256.83 1562.49 1256.83 1561.08 Q1256.83 1559.5 1257.89 1558.4 Q1258.99 1557.27 1260.47 1557.27 Q1261.4 1557.27 1262.15 1557.82 Q1262.92 1558.37 1262.92 1559.56 Q1262.92 1560.88 1262.02 1561.88 Q1261.11 1562.88 1259.83 1563.14 Q1261.15 1563.97 1263.11 1563.97 Q1265.24 1563.97 1266.91 1562.11 Q1268.59 1560.24 1269.39 1557.11 Q1271.39 1549.61 1272.16 1546.26 Q1272.93 1542.88 1272.93 1541.43 Q1272.93 1540.08 1272.58 1539.14 Q1272.23 1538.21 1271.61 1537.79 Q1271.03 1537.34 1270.49 1537.18 Q1269.97 1537.02 1269.39 1537.02 Q1268.43 1537.02 1267.33 1537.4 Q1266.27 1537.79 1264.98 1538.69 Q1263.72 1539.56 1262.53 1541.37 Q1261.34 1543.17 1260.53 1545.65 Q1260.37 1546.39 1259.67 1546.39 Q1258.89 1546.36 1258.89 1545.71 Q1258.89 1545.17 1259.31 1544.04 Q1259.76 1542.88 1260.66 1541.43 Q1261.6 1539.98 1262.79 1538.69 Q1264.01 1537.37 1265.78 1536.47 Q1267.59 1535.57 1269.52 1535.57 Q1270.39 1535.57 1271.23 1535.76 Q1272.1 1535.92 1273.13 1536.41 Q1274.19 1536.89 1275.12 1537.95 Q1276.06 1539.01 1276.64 1540.56 Q1277.02 1539.82 1277.54 1539.11 Q1278.09 1538.4 1278.92 1537.53 Q1279.79 1536.63 1280.99 1536.12 Q1282.21 1535.57 1283.56 1535.57 Q1284.88 1535.57 1286.17 1535.92 Q1287.46 1536.24 1288.55 1537.31 Q1289.68 1538.34 1289.68 1539.92 Z\" fill=\"#000000\" fill-rule=\"evenodd\" fill-opacity=\"1\" /><polyline clip-path=\"url(#clip252)\" style=\"stroke:#000000; stroke-width:2; stroke-opacity:0.1; fill:none\" points=\"\n",
       "  198.26,1328.47 2352.76,1328.47 \n",
       "  \"/>\n",
       "<polyline clip-path=\"url(#clip252)\" style=\"stroke:#000000; stroke-width:2; stroke-opacity:0.1; fill:none\" points=\"\n",
       "  198.26,914.635 2352.76,914.635 \n",
       "  \"/>\n",
       "<polyline clip-path=\"url(#clip252)\" style=\"stroke:#000000; stroke-width:2; stroke-opacity:0.1; fill:none\" points=\"\n",
       "  198.26,500.803 2352.76,500.803 \n",
       "  \"/>\n",
       "<polyline clip-path=\"url(#clip252)\" style=\"stroke:#000000; stroke-width:2; stroke-opacity:0.1; fill:none\" points=\"\n",
       "  198.26,86.9719 2352.76,86.9719 \n",
       "  \"/>\n",
       "<polyline clip-path=\"url(#clip250)\" style=\"stroke:#000000; stroke-width:4; stroke-opacity:1; fill:none\" points=\"\n",
       "  198.26,1450.96 198.26,47.2441 \n",
       "  \"/>\n",
       "<polyline clip-path=\"url(#clip250)\" style=\"stroke:#000000; stroke-width:4; stroke-opacity:1; fill:none\" points=\"\n",
       "  198.26,1328.47 224.114,1328.47 \n",
       "  \"/>\n",
       "<polyline clip-path=\"url(#clip250)\" style=\"stroke:#000000; stroke-width:4; stroke-opacity:1; fill:none\" points=\"\n",
       "  198.26,914.635 224.114,914.635 \n",
       "  \"/>\n",
       "<polyline clip-path=\"url(#clip250)\" style=\"stroke:#000000; stroke-width:4; stroke-opacity:1; fill:none\" points=\"\n",
       "  198.26,500.803 224.114,500.803 \n",
       "  \"/>\n",
       "<polyline clip-path=\"url(#clip250)\" style=\"stroke:#000000; stroke-width:4; stroke-opacity:1; fill:none\" points=\"\n",
       "  198.26,86.9719 224.114,86.9719 \n",
       "  \"/>\n",
       "<path clip-path=\"url(#clip250)\" d=\"M 0 0 M150.315 1314.26 Q146.704 1314.26 144.875 1317.83 Q143.07 1321.37 143.07 1328.5 Q143.07 1335.61 144.875 1339.17 Q146.704 1342.71 150.315 1342.71 Q153.949 1342.71 155.755 1339.17 Q157.584 1335.61 157.584 1328.5 Q157.584 1321.37 155.755 1317.83 Q153.949 1314.26 150.315 1314.26 M150.315 1310.56 Q156.125 1310.56 159.181 1315.17 Q162.26 1319.75 162.26 1328.5 Q162.26 1337.23 159.181 1341.83 Q156.125 1346.42 150.315 1346.42 Q144.505 1346.42 141.426 1341.83 Q138.371 1337.23 138.371 1328.5 Q138.371 1319.75 141.426 1315.17 Q144.505 1310.56 150.315 1310.56 Z\" fill=\"#000000\" fill-rule=\"evenodd\" fill-opacity=\"1\" /><path clip-path=\"url(#clip250)\" d=\"M 0 0 M141.357 897.355 L159.713 897.355 L159.713 901.29 L145.639 901.29 L145.639 909.762 Q146.658 909.415 147.676 909.253 Q148.695 909.068 149.713 909.068 Q155.5 909.068 158.88 912.239 Q162.26 915.41 162.26 920.827 Q162.26 926.406 158.787 929.507 Q155.315 932.586 148.996 932.586 Q146.82 932.586 144.551 932.216 Q142.306 931.845 139.899 931.105 L139.899 926.406 Q141.982 927.54 144.204 928.095 Q146.426 928.651 148.903 928.651 Q152.908 928.651 155.246 926.544 Q157.584 924.438 157.584 920.827 Q157.584 917.216 155.246 915.109 Q152.908 913.003 148.903 913.003 Q147.028 913.003 145.153 913.419 Q143.301 913.836 141.357 914.716 L141.357 897.355 Z\" fill=\"#000000\" fill-rule=\"evenodd\" fill-opacity=\"1\" /><path clip-path=\"url(#clip250)\" d=\"M 0 0 M110.964 514.148 L118.602 514.148 L118.602 487.783 L110.292 489.449 L110.292 485.19 L118.556 483.523 L123.232 483.523 L123.232 514.148 L130.871 514.148 L130.871 518.083 L110.964 518.083 L110.964 514.148 Z\" fill=\"#000000\" fill-rule=\"evenodd\" fill-opacity=\"1\" /><path clip-path=\"url(#clip250)\" d=\"M 0 0 M150.315 486.602 Q146.704 486.602 144.875 490.167 Q143.07 493.708 143.07 500.838 Q143.07 507.944 144.875 511.509 Q146.704 515.051 150.315 515.051 Q153.949 515.051 155.755 511.509 Q157.584 507.944 157.584 500.838 Q157.584 493.708 155.755 490.167 Q153.949 486.602 150.315 486.602 M150.315 482.898 Q156.125 482.898 159.181 487.505 Q162.26 492.088 162.26 500.838 Q162.26 509.565 159.181 514.171 Q156.125 518.755 150.315 518.755 Q144.505 518.755 141.426 514.171 Q138.371 509.565 138.371 500.838 Q138.371 492.088 141.426 487.505 Q144.505 482.898 150.315 482.898 Z\" fill=\"#000000\" fill-rule=\"evenodd\" fill-opacity=\"1\" /><path clip-path=\"url(#clip250)\" d=\"M 0 0 M111.959 100.317 L119.598 100.317 L119.598 73.9511 L111.288 75.6178 L111.288 71.3586 L119.551 69.6919 L124.227 69.6919 L124.227 100.317 L131.866 100.317 L131.866 104.252 L111.959 104.252 L111.959 100.317 Z\" fill=\"#000000\" fill-rule=\"evenodd\" fill-opacity=\"1\" /><path clip-path=\"url(#clip250)\" d=\"M 0 0 M141.357 69.6919 L159.713 69.6919 L159.713 73.6271 L145.639 73.6271 L145.639 82.0993 Q146.658 81.752 147.676 81.59 Q148.695 81.4048 149.713 81.4048 Q155.5 81.4048 158.88 84.5761 Q162.26 87.7474 162.26 93.164 Q162.26 98.7427 158.787 101.845 Q155.315 104.923 148.996 104.923 Q146.82 104.923 144.551 104.553 Q142.306 104.182 139.899 103.442 L139.899 98.7427 Q141.982 99.8769 144.204 100.432 Q146.426 100.988 148.903 100.988 Q152.908 100.988 155.246 98.8816 Q157.584 96.7751 157.584 93.164 Q157.584 89.5529 155.246 87.4464 Q152.908 85.34 148.903 85.34 Q147.028 85.34 145.153 85.7566 Q143.301 86.1733 141.357 87.0529 L141.357 69.6919 Z\" fill=\"#000000\" fill-rule=\"evenodd\" fill-opacity=\"1\" /><path clip-path=\"url(#clip250)\" d=\"M 0 0 M22.5327 780.579 Q24.304 780.579 25.399 781.706 Q26.494 782.801 26.494 784.186 Q26.494 785.184 25.8821 785.925 Q25.2702 786.634 24.2074 786.634 Q23.1124 786.634 21.953 785.796 Q20.7936 784.959 20.6325 783.059 Q19.4409 784.315 19.4409 786.312 Q19.4409 787.31 20.085 788.147 Q20.697 788.952 21.6953 789.403 Q22.7259 789.886 28.5552 790.981 Q30.4553 791.336 32.2911 791.658 Q34.1268 791.98 36.0592 792.366 L36.0592 786.891 Q36.0592 786.183 36.0914 785.893 Q36.1236 785.603 36.2846 785.378 Q36.4456 785.12 36.7999 785.12 Q37.7017 785.12 37.9271 785.539 Q38.1203 785.925 38.1203 787.084 L38.1203 792.753 L59.0219 796.714 Q59.6338 796.811 61.5662 797.229 Q63.4663 797.616 66.5903 798.55 Q69.7465 799.484 71.6144 800.418 Q72.6772 800.933 73.6756 801.609 Q74.7062 802.253 75.7368 803.187 Q76.7674 804.121 77.3793 805.345 Q78.0234 806.569 78.0234 807.857 Q78.0234 810.047 76.7996 811.754 Q75.5757 813.461 73.4824 813.461 Q71.711 813.461 70.616 812.366 Q69.521 811.239 69.521 809.854 Q69.521 808.856 70.133 808.147 Q70.7449 807.406 71.8077 807.406 Q72.2585 807.406 72.7738 807.567 Q73.2891 807.728 73.8688 808.083 Q74.4807 808.437 74.8994 809.21 Q75.3181 809.983 75.3825 811.046 Q76.5741 809.79 76.5741 807.857 Q76.5741 807.245 76.3165 806.698 Q76.091 806.15 75.5113 805.699 Q74.9316 805.216 74.3519 804.862 Q73.8044 804.508 72.7416 804.154 Q71.711 803.799 70.9381 803.574 Q70.1652 803.348 68.7803 803.059 Q67.3955 802.737 66.5581 802.576 Q65.753 802.414 64.1749 802.125 L38.1203 797.197 L38.1203 801.545 Q38.1203 802.318 38.0881 802.64 Q38.0559 802.93 37.8949 803.155 Q37.7017 803.381 37.3152 803.381 Q36.7033 803.381 36.4456 803.123 Q36.1558 802.833 36.1236 802.511 Q36.0592 802.189 36.0592 801.416 L36.0592 796.843 Q27.9111 795.297 25.7211 794.685 Q23.4022 793.977 21.792 792.882 Q20.1495 791.787 19.3765 790.563 Q18.6036 789.339 18.3137 788.341 Q17.9917 787.31 17.9917 786.312 Q17.9917 784.057 19.2155 782.318 Q20.4071 780.579 22.5327 780.579 Z\" fill=\"#000000\" fill-rule=\"evenodd\" fill-opacity=\"1\" /><path clip-path=\"url(#clip250)\" d=\"M 0 0 M48.0075 772.751 Q36.8643 772.751 27.8789 768.597 Q24.1108 766.825 20.9546 764.345 Q17.7984 761.866 16.4136 760.223 Q15.0287 758.581 15.0287 758.13 Q15.0287 757.486 15.6728 757.453 Q15.9949 757.453 16.8 758.323 Q27.6212 768.951 48.0075 768.919 Q68.4582 768.919 78.8607 758.581 Q79.9879 757.453 80.3422 757.453 Q80.9863 757.453 80.9863 758.13 Q80.9863 758.581 79.6659 760.159 Q78.3454 761.737 75.3181 764.184 Q72.2907 766.632 68.5871 768.403 Q59.6016 772.751 48.0075 772.751 Z\" fill=\"#000000\" fill-rule=\"evenodd\" fill-opacity=\"1\" /><path clip-path=\"url(#clip250)\" d=\"M 0 0 M39.6984 714.574 Q41.5019 714.574 42.5325 715.701 Q43.5309 716.828 43.5309 718.116 Q43.5309 719.34 42.8224 719.984 Q42.1139 720.629 41.2121 720.629 Q39.9883 720.629 38.9255 719.727 Q37.8627 718.825 37.6372 717.472 Q36.7999 718.793 36.7999 720.757 Q36.7999 722.046 37.4762 723.173 Q38.1525 724.268 39.0221 724.944 Q39.8917 725.588 41.1477 726.168 Q42.3715 726.715 43.1122 726.941 Q43.8208 727.134 44.5937 727.295 L53.6113 729.55 Q57.8947 730.645 59.4084 730.645 Q61.2763 730.645 62.5324 729.743 Q63.7562 728.841 63.7562 727.037 Q63.7562 726.329 63.563 725.524 Q63.3375 724.719 62.7578 723.688 Q62.1459 722.625 61.2441 721.691 Q60.3102 720.725 58.7321 719.791 Q57.154 718.857 55.125 718.245 Q54.4165 718.052 54.4165 717.408 Q54.4165 716.603 55.0606 716.603 Q55.6081 716.603 56.7675 717.054 Q57.8947 717.472 59.3762 718.406 Q60.8255 719.308 62.1459 720.5 Q63.4341 721.691 64.3359 723.463 Q65.2377 725.234 65.2377 727.166 Q65.2377 729.936 63.7562 731.772 Q62.2747 733.607 60.2135 734.284 Q60.5034 734.445 60.8899 734.67 Q61.2763 734.896 62.1459 735.572 Q62.9833 736.216 63.6274 736.957 Q64.2393 737.698 64.7224 738.857 Q65.2377 739.984 65.2377 741.208 Q65.2377 742.754 64.7868 744.139 Q64.3359 745.491 63.3053 746.458 Q62.2747 747.424 60.8577 747.424 Q59.2796 747.424 58.1846 746.361 Q57.0574 745.266 57.0574 743.785 Q57.0574 742.851 57.6049 742.11 Q58.1524 741.337 59.344 741.337 Q60.6644 741.337 61.6628 742.239 Q62.6612 743.14 62.9188 744.429 Q63.7562 743.108 63.7562 741.144 Q63.7562 739.018 61.8883 737.343 Q60.0203 735.669 56.8963 734.864 Q49.3924 732.867 46.043 732.094 Q42.6614 731.321 41.2121 731.321 Q39.8594 731.321 38.9255 731.675 Q37.9915 732.029 37.5728 732.641 Q37.1219 733.221 36.9609 733.769 Q36.7999 734.284 36.7999 734.864 Q36.7999 735.83 37.1864 736.925 Q37.5728 737.987 38.4746 739.276 Q39.3442 740.532 41.1477 741.723 Q42.9512 742.915 45.4311 743.72 Q46.1718 743.881 46.1718 744.59 Q46.1396 745.363 45.4955 745.363 Q44.948 745.363 43.8208 744.944 Q42.6614 744.493 41.2121 743.591 Q39.7628 742.657 38.4746 741.466 Q37.1542 740.242 36.2524 738.471 Q35.3506 736.667 35.3506 734.735 Q35.3506 733.865 35.5439 733.028 Q35.7049 732.158 36.188 731.128 Q36.6711 730.065 37.7339 729.131 Q38.7967 728.197 40.3425 727.617 Q39.6018 727.231 38.8933 726.715 Q38.1847 726.168 37.3152 725.331 Q36.4134 724.461 35.8981 723.269 Q35.3506 722.046 35.3506 720.693 Q35.3506 719.372 35.7049 718.084 Q36.0269 716.796 37.0897 715.701 Q38.1203 714.574 39.6984 714.574 Z\" fill=\"#000000\" fill-rule=\"evenodd\" fill-opacity=\"1\" /><path clip-path=\"url(#clip250)\" d=\"M 0 0 M80.3422 710.071 Q80.0202 710.071 79.215 709.233 Q68.3938 698.605 48.0075 698.605 Q27.5568 698.605 17.2187 708.815 Q16.0271 710.071 15.6728 710.071 Q15.0287 710.071 15.0287 709.427 Q15.0287 708.976 16.3492 707.398 Q17.6696 705.787 20.697 703.372 Q23.7243 700.924 27.428 699.121 Q36.4134 694.773 48.0075 694.773 Q59.1508 694.773 68.1362 698.927 Q71.9043 700.699 75.0605 703.179 Q78.2166 705.658 79.6015 707.301 Q80.9863 708.943 80.9863 709.427 Q80.9863 710.071 80.3422 710.071 Z\" fill=\"#000000\" fill-rule=\"evenodd\" fill-opacity=\"1\" /><polyline clip-path=\"url(#clip252)\" style=\"stroke:#009af9; stroke-width:8; stroke-opacity:1; fill:none\" points=\"\n",
       "  259.236,1080.17 293.112,1112.45 326.987,1143.07 360.863,1172.04 394.739,1199.35 428.615,1225.01 462.49,1249.01 496.366,1271.36 530.242,1292.05 564.117,1311.09 \n",
       "  597.993,1328.47 631.869,1344.19 665.745,1358.26 699.62,1370.68 733.496,1381.44 767.372,1390.54 801.248,1397.99 835.123,1403.78 868.999,1407.92 902.875,1410.4 \n",
       "  936.75,1411.23 970.626,1410.4 1004.5,1407.92 1038.38,1403.78 1072.25,1397.99 1106.13,1390.54 1140,1381.44 1173.88,1370.68 1207.76,1358.26 1241.63,1344.19 \n",
       "  1275.51,1328.47 1309.38,1311.09 1343.26,1292.05 1377.13,1271.36 1411.01,1249.01 1444.89,1225.01 1478.76,1199.35 1512.64,1172.04 1546.51,1143.07 1580.39,1112.45 \n",
       "  1614.27,1080.17 1648.14,1046.23 1682.02,1010.64 1715.89,973.399 1749.77,934.499 1783.64,893.943 1817.52,851.732 1851.4,807.866 1885.27,762.345 1919.15,715.168 \n",
       "  1953.02,666.336 1986.9,615.848 2020.77,563.706 2054.65,509.908 2088.53,454.454 2122.4,397.345 2156.28,338.581 2190.15,278.162 2224.03,216.087 2257.9,152.357 \n",
       "  2291.78,86.9719 \n",
       "  \"/>\n",
       "</svg>\n"
      ]
     },
     "execution_count": 28,
     "metadata": {},
     "output_type": "execute_result"
    }
   ],
   "source": [
    "@format standard 5\n",
    "using Plots\n",
    "\n",
    "function f(x)\n",
    "    return x.^2+2x\n",
    "end\n",
    "\n",
    "x = range(-3, 3, step = 0.1);\n",
    "y = f(x);\n",
    "\n",
    "println(f(0.9 .. 1.1))\n",
    "plot(x, y, xlabel=\"\\$x\\$\", ylabel=\"\\$f\\\\,(x)\\$\", linewidth =2, legend = false)"
   ]
  },
  {
   "cell_type": "code",
   "execution_count": 29,
   "metadata": {},
   "outputs": [
    {
     "name": "stdout",
     "output_type": "stream",
     "text": [
      "2.6100000000000003\n",
      "3.41\n"
     ]
    }
   ],
   "source": [
    "println(f(0.9))\n",
    "println(f(1.1))"
   ]
  },
  {
   "cell_type": "markdown",
   "metadata": {},
   "source": [
    "$f(x)=x^2+2x$ のときは値域評価が区間拡張を利用しても精度が良い．一方で"
   ]
  },
  {
   "cell_type": "markdown",
   "metadata": {},
   "source": [
    "$f(x)=x^2-2x$;\n",
    "\n",
    "\\begin{align*}\n",
    "\tx&\\in[0.9,1.1]\\\\\n",
    "\tx^2&\\in[0.81,1.21]\\\\\n",
    "\t2x&\\in[1.8,2.2]\\\\\n",
    "\tx^2-2x&\\in[-1.39,-0.59]\\mbox{（幅0.8!）}\\\\\n",
    "\\end{align*}\n"
   ]
  },
  {
   "cell_type": "code",
   "execution_count": 30,
   "metadata": {},
   "outputs": [
    {
     "name": "stdout",
     "output_type": "stream",
     "text": [
      "[-1.3901, -0.58999]\n",
      "-1\n",
      "-0.99\n"
     ]
    },
    {
     "data": {
      "image/svg+xml": [
       "<?xml version=\"1.0\" encoding=\"utf-8\"?>\n",
       "<svg xmlns=\"http://www.w3.org/2000/svg\" xmlns:xlink=\"http://www.w3.org/1999/xlink\" width=\"600\" height=\"400\" viewBox=\"0 0 2400 1600\">\n",
       "<defs>\n",
       "  <clipPath id=\"clip290\">\n",
       "    <rect x=\"0\" y=\"0\" width=\"2400\" height=\"1600\"/>\n",
       "  </clipPath>\n",
       "</defs>\n",
       "<path clip-path=\"url(#clip290)\" d=\"\n",
       "M0 1600 L2400 1600 L2400 0 L0 0  Z\n",
       "  \" fill=\"#ffffff\" fill-rule=\"evenodd\" fill-opacity=\"1\"/>\n",
       "<defs>\n",
       "  <clipPath id=\"clip291\">\n",
       "    <rect x=\"480\" y=\"0\" width=\"1681\" height=\"1600\"/>\n",
       "  </clipPath>\n",
       "</defs>\n",
       "<defs>\n",
       "  <clipPath id=\"clip292\">\n",
       "    <rect x=\"198\" y=\"47\" width=\"2155\" height=\"1405\"/>\n",
       "  </clipPath>\n",
       "</defs>\n",
       "<path clip-path=\"url(#clip290)\" d=\"\n",
       "M343.722 1450.96 L2352.76 1450.96 L2352.76 47.2441 L343.722 47.2441  Z\n",
       "  \" fill=\"#ffffff\" fill-rule=\"evenodd\" fill-opacity=\"1\"/>\n",
       "<defs>\n",
       "  <clipPath id=\"clip293\">\n",
       "    <rect x=\"343\" y=\"47\" width=\"2010\" height=\"1405\"/>\n",
       "  </clipPath>\n",
       "</defs>\n",
       "<polyline clip-path=\"url(#clip293)\" style=\"stroke:#000000; stroke-width:2; stroke-opacity:0.1; fill:none\" points=\"\n",
       "  400.581,1450.96 400.581,47.2441 \n",
       "  \"/>\n",
       "<polyline clip-path=\"url(#clip293)\" style=\"stroke:#000000; stroke-width:2; stroke-opacity:0.1; fill:none\" points=\"\n",
       "  874.41,1450.96 874.41,47.2441 \n",
       "  \"/>\n",
       "<polyline clip-path=\"url(#clip293)\" style=\"stroke:#000000; stroke-width:2; stroke-opacity:0.1; fill:none\" points=\"\n",
       "  1348.24,1450.96 1348.24,47.2441 \n",
       "  \"/>\n",
       "<polyline clip-path=\"url(#clip293)\" style=\"stroke:#000000; stroke-width:2; stroke-opacity:0.1; fill:none\" points=\"\n",
       "  1822.07,1450.96 1822.07,47.2441 \n",
       "  \"/>\n",
       "<polyline clip-path=\"url(#clip293)\" style=\"stroke:#000000; stroke-width:2; stroke-opacity:0.1; fill:none\" points=\"\n",
       "  2295.9,1450.96 2295.9,47.2441 \n",
       "  \"/>\n",
       "<polyline clip-path=\"url(#clip290)\" style=\"stroke:#000000; stroke-width:4; stroke-opacity:1; fill:none\" points=\"\n",
       "  343.722,1450.96 2352.76,1450.96 \n",
       "  \"/>\n",
       "<polyline clip-path=\"url(#clip290)\" style=\"stroke:#000000; stroke-width:4; stroke-opacity:1; fill:none\" points=\"\n",
       "  400.581,1450.96 400.581,1434.12 \n",
       "  \"/>\n",
       "<polyline clip-path=\"url(#clip290)\" style=\"stroke:#000000; stroke-width:4; stroke-opacity:1; fill:none\" points=\"\n",
       "  874.41,1450.96 874.41,1434.12 \n",
       "  \"/>\n",
       "<polyline clip-path=\"url(#clip290)\" style=\"stroke:#000000; stroke-width:4; stroke-opacity:1; fill:none\" points=\"\n",
       "  1348.24,1450.96 1348.24,1434.12 \n",
       "  \"/>\n",
       "<polyline clip-path=\"url(#clip290)\" style=\"stroke:#000000; stroke-width:4; stroke-opacity:1; fill:none\" points=\"\n",
       "  1822.07,1450.96 1822.07,1434.12 \n",
       "  \"/>\n",
       "<polyline clip-path=\"url(#clip290)\" style=\"stroke:#000000; stroke-width:4; stroke-opacity:1; fill:none\" points=\"\n",
       "  2295.9,1450.96 2295.9,1434.12 \n",
       "  \"/>\n",
       "<path clip-path=\"url(#clip290)\" d=\"M 0 0 M362.885 1480.15 Q359.274 1480.15 357.445 1483.72 Q355.639 1487.26 355.639 1494.39 Q355.639 1501.49 357.445 1505.06 Q359.274 1508.6 362.885 1508.6 Q366.519 1508.6 368.324 1505.06 Q370.153 1501.49 370.153 1494.39 Q370.153 1487.26 368.324 1483.72 Q366.519 1480.15 362.885 1480.15 M362.885 1476.45 Q368.695 1476.45 371.75 1481.05 Q374.829 1485.64 374.829 1494.39 Q374.829 1503.11 371.75 1507.72 Q368.695 1512.3 362.885 1512.3 Q357.074 1512.3 353.996 1507.72 Q350.94 1503.11 350.94 1494.39 Q350.94 1485.64 353.996 1481.05 Q357.074 1476.45 362.885 1476.45 Z\" fill=\"#000000\" fill-rule=\"evenodd\" fill-opacity=\"1\" /><path clip-path=\"url(#clip290)\" d=\"M 0 0 M383.047 1505.75 L387.931 1505.75 L387.931 1511.63 L383.047 1511.63 L383.047 1505.75 Z\" fill=\"#000000\" fill-rule=\"evenodd\" fill-opacity=\"1\" /><path clip-path=\"url(#clip290)\" d=\"M 0 0 M398.255 1510.91 L398.255 1506.66 Q400.014 1507.49 401.82 1507.93 Q403.625 1508.37 405.361 1508.37 Q409.991 1508.37 412.421 1505.27 Q414.875 1502.14 415.222 1495.8 Q413.88 1497.79 411.82 1498.85 Q409.759 1499.92 407.259 1499.92 Q402.074 1499.92 399.042 1496.79 Q396.033 1493.65 396.033 1488.21 Q396.033 1482.88 399.181 1479.66 Q402.329 1476.45 407.56 1476.45 Q413.556 1476.45 416.704 1481.05 Q419.875 1485.64 419.875 1494.39 Q419.875 1502.56 415.986 1507.44 Q412.12 1512.3 405.57 1512.3 Q403.81 1512.3 402.005 1511.96 Q400.199 1511.61 398.255 1510.91 M407.56 1496.26 Q410.708 1496.26 412.537 1494.11 Q414.389 1491.96 414.389 1488.21 Q414.389 1484.48 412.537 1482.33 Q410.708 1480.15 407.56 1480.15 Q404.412 1480.15 402.56 1482.33 Q400.732 1484.48 400.732 1488.21 Q400.732 1491.96 402.56 1494.11 Q404.412 1496.26 407.56 1496.26 Z\" fill=\"#000000\" fill-rule=\"evenodd\" fill-opacity=\"1\" /><path clip-path=\"url(#clip290)\" d=\"M 0 0 M438.278 1480.15 Q434.667 1480.15 432.838 1483.72 Q431.032 1487.26 431.032 1494.39 Q431.032 1501.49 432.838 1505.06 Q434.667 1508.6 438.278 1508.6 Q441.912 1508.6 443.718 1505.06 Q445.546 1501.49 445.546 1494.39 Q445.546 1487.26 443.718 1483.72 Q441.912 1480.15 438.278 1480.15 M438.278 1476.45 Q444.088 1476.45 447.143 1481.05 Q450.222 1485.64 450.222 1494.39 Q450.222 1503.11 447.143 1507.72 Q444.088 1512.3 438.278 1512.3 Q432.468 1512.3 429.389 1507.72 Q426.333 1503.11 426.333 1494.39 Q426.333 1485.64 429.389 1481.05 Q432.468 1476.45 438.278 1476.45 Z\" fill=\"#000000\" fill-rule=\"evenodd\" fill-opacity=\"1\" /><path clip-path=\"url(#clip290)\" d=\"M 0 0 M837.211 1480.15 Q833.6 1480.15 831.771 1483.72 Q829.966 1487.26 829.966 1494.39 Q829.966 1501.49 831.771 1505.06 Q833.6 1508.6 837.211 1508.6 Q840.845 1508.6 842.651 1505.06 Q844.48 1501.49 844.48 1494.39 Q844.48 1487.26 842.651 1483.72 Q840.845 1480.15 837.211 1480.15 M837.211 1476.45 Q843.021 1476.45 846.077 1481.05 Q849.156 1485.64 849.156 1494.39 Q849.156 1503.11 846.077 1507.72 Q843.021 1512.3 837.211 1512.3 Q831.401 1512.3 828.322 1507.72 Q825.267 1503.11 825.267 1494.39 Q825.267 1485.64 828.322 1481.05 Q831.401 1476.45 837.211 1476.45 Z\" fill=\"#000000\" fill-rule=\"evenodd\" fill-opacity=\"1\" /><path clip-path=\"url(#clip290)\" d=\"M 0 0 M857.373 1505.75 L862.257 1505.75 L862.257 1511.63 L857.373 1511.63 L857.373 1505.75 Z\" fill=\"#000000\" fill-rule=\"evenodd\" fill-opacity=\"1\" /><path clip-path=\"url(#clip290)\" d=\"M 0 0 M872.581 1510.91 L872.581 1506.66 Q874.341 1507.49 876.146 1507.93 Q877.952 1508.37 879.688 1508.37 Q884.317 1508.37 886.748 1505.27 Q889.202 1502.14 889.549 1495.8 Q888.206 1497.79 886.146 1498.85 Q884.086 1499.92 881.586 1499.92 Q876.401 1499.92 873.368 1496.79 Q870.359 1493.65 870.359 1488.21 Q870.359 1482.88 873.507 1479.66 Q876.655 1476.45 881.887 1476.45 Q887.882 1476.45 891.03 1481.05 Q894.202 1485.64 894.202 1494.39 Q894.202 1502.56 890.313 1507.44 Q886.447 1512.3 879.896 1512.3 Q878.137 1512.3 876.331 1511.96 Q874.526 1511.61 872.581 1510.91 M881.887 1496.26 Q885.035 1496.26 886.864 1494.11 Q888.715 1491.96 888.715 1488.21 Q888.715 1484.48 886.864 1482.33 Q885.035 1480.15 881.887 1480.15 Q878.739 1480.15 876.887 1482.33 Q875.058 1484.48 875.058 1488.21 Q875.058 1491.96 876.887 1494.11 Q878.739 1496.26 881.887 1496.26 Z\" fill=\"#000000\" fill-rule=\"evenodd\" fill-opacity=\"1\" /><path clip-path=\"url(#clip290)\" d=\"M 0 0 M902.651 1477.07 L921.007 1477.07 L921.007 1481.01 L906.933 1481.01 L906.933 1489.48 Q907.951 1489.13 908.97 1488.97 Q909.989 1488.79 911.007 1488.79 Q916.794 1488.79 920.174 1491.96 Q923.553 1495.13 923.553 1500.54 Q923.553 1506.12 920.081 1509.22 Q916.609 1512.3 910.289 1512.3 Q908.114 1512.3 905.845 1511.93 Q903.6 1511.56 901.192 1510.82 L901.192 1506.12 Q903.276 1507.26 905.498 1507.81 Q907.72 1508.37 910.197 1508.37 Q914.201 1508.37 916.539 1506.26 Q918.877 1504.16 918.877 1500.54 Q918.877 1496.93 916.539 1494.83 Q914.201 1492.72 910.197 1492.72 Q908.322 1492.72 906.447 1493.14 Q904.595 1493.55 902.651 1494.43 L902.651 1477.07 Z\" fill=\"#000000\" fill-rule=\"evenodd\" fill-opacity=\"1\" /><path clip-path=\"url(#clip290)\" d=\"M 0 0 M1300.31 1507.7 L1307.95 1507.7 L1307.95 1481.33 L1299.64 1483 L1299.64 1478.74 L1307.9 1477.07 L1312.58 1477.07 L1312.58 1507.7 L1320.22 1507.7 L1320.22 1511.63 L1300.31 1511.63 L1300.31 1507.7 Z\" fill=\"#000000\" fill-rule=\"evenodd\" fill-opacity=\"1\" /><path clip-path=\"url(#clip290)\" d=\"M 0 0 M1329.66 1505.75 L1334.55 1505.75 L1334.55 1511.63 L1329.66 1511.63 L1329.66 1505.75 Z\" fill=\"#000000\" fill-rule=\"evenodd\" fill-opacity=\"1\" /><path clip-path=\"url(#clip290)\" d=\"M 0 0 M1354.73 1480.15 Q1351.12 1480.15 1349.29 1483.72 Q1347.49 1487.26 1347.49 1494.39 Q1347.49 1501.49 1349.29 1505.06 Q1351.12 1508.6 1354.73 1508.6 Q1358.37 1508.6 1360.17 1505.06 Q1362 1501.49 1362 1494.39 Q1362 1487.26 1360.17 1483.72 Q1358.37 1480.15 1354.73 1480.15 M1354.73 1476.45 Q1360.54 1476.45 1363.6 1481.05 Q1366.68 1485.64 1366.68 1494.39 Q1366.68 1503.11 1363.6 1507.72 Q1360.54 1512.3 1354.73 1512.3 Q1348.92 1512.3 1345.84 1507.72 Q1342.79 1503.11 1342.79 1494.39 Q1342.79 1485.64 1345.84 1481.05 Q1348.92 1476.45 1354.73 1476.45 Z\" fill=\"#000000\" fill-rule=\"evenodd\" fill-opacity=\"1\" /><path clip-path=\"url(#clip290)\" d=\"M 0 0 M1384.89 1480.15 Q1381.28 1480.15 1379.45 1483.72 Q1377.65 1487.26 1377.65 1494.39 Q1377.65 1501.49 1379.45 1505.06 Q1381.28 1508.6 1384.89 1508.6 Q1388.53 1508.6 1390.33 1505.06 Q1392.16 1501.49 1392.16 1494.39 Q1392.16 1487.26 1390.33 1483.72 Q1388.53 1480.15 1384.89 1480.15 M1384.89 1476.45 Q1390.7 1476.45 1393.76 1481.05 Q1396.84 1485.64 1396.84 1494.39 Q1396.84 1503.11 1393.76 1507.72 Q1390.7 1512.3 1384.89 1512.3 Q1379.08 1512.3 1376 1507.72 Q1372.95 1503.11 1372.95 1494.39 Q1372.95 1485.64 1376 1481.05 Q1379.08 1476.45 1384.89 1476.45 Z\" fill=\"#000000\" fill-rule=\"evenodd\" fill-opacity=\"1\" /><path clip-path=\"url(#clip290)\" d=\"M 0 0 M1774.64 1507.7 L1782.28 1507.7 L1782.28 1481.33 L1773.97 1483 L1773.97 1478.74 L1782.23 1477.07 L1786.91 1477.07 L1786.91 1507.7 L1794.54 1507.7 L1794.54 1511.63 L1774.64 1511.63 L1774.64 1507.7 Z\" fill=\"#000000\" fill-rule=\"evenodd\" fill-opacity=\"1\" /><path clip-path=\"url(#clip290)\" d=\"M 0 0 M1803.99 1505.75 L1808.87 1505.75 L1808.87 1511.63 L1803.99 1511.63 L1803.99 1505.75 Z\" fill=\"#000000\" fill-rule=\"evenodd\" fill-opacity=\"1\" /><path clip-path=\"url(#clip290)\" d=\"M 0 0 M1829.06 1480.15 Q1825.45 1480.15 1823.62 1483.72 Q1821.81 1487.26 1821.81 1494.39 Q1821.81 1501.49 1823.62 1505.06 Q1825.45 1508.6 1829.06 1508.6 Q1832.69 1508.6 1834.5 1505.06 Q1836.33 1501.49 1836.33 1494.39 Q1836.33 1487.26 1834.5 1483.72 Q1832.69 1480.15 1829.06 1480.15 M1829.06 1476.45 Q1834.87 1476.45 1837.92 1481.05 Q1841 1485.64 1841 1494.39 Q1841 1503.11 1837.92 1507.72 Q1834.87 1512.3 1829.06 1512.3 Q1823.25 1512.3 1820.17 1507.72 Q1817.11 1503.11 1817.11 1494.39 Q1817.11 1485.64 1820.17 1481.05 Q1823.25 1476.45 1829.06 1476.45 Z\" fill=\"#000000\" fill-rule=\"evenodd\" fill-opacity=\"1\" /><path clip-path=\"url(#clip290)\" d=\"M 0 0 M1849.27 1477.07 L1867.62 1477.07 L1867.62 1481.01 L1853.55 1481.01 L1853.55 1489.48 Q1854.57 1489.13 1855.59 1488.97 Q1856.6 1488.79 1857.62 1488.79 Q1863.41 1488.79 1866.79 1491.96 Q1870.17 1495.13 1870.17 1500.54 Q1870.17 1506.12 1866.7 1509.22 Q1863.22 1512.3 1856.91 1512.3 Q1854.73 1512.3 1852.46 1511.93 Q1850.22 1511.56 1847.81 1510.82 L1847.81 1506.12 Q1849.89 1507.26 1852.11 1507.81 Q1854.34 1508.37 1856.81 1508.37 Q1860.82 1508.37 1863.16 1506.26 Q1865.49 1504.16 1865.49 1500.54 Q1865.49 1496.93 1863.16 1494.83 Q1860.82 1492.72 1856.81 1492.72 Q1854.94 1492.72 1853.06 1493.14 Q1851.21 1493.55 1849.27 1494.43 L1849.27 1477.07 Z\" fill=\"#000000\" fill-rule=\"evenodd\" fill-opacity=\"1\" /><path clip-path=\"url(#clip290)\" d=\"M 0 0 M2247.97 1507.7 L2255.61 1507.7 L2255.61 1481.33 L2247.3 1483 L2247.3 1478.74 L2255.56 1477.07 L2260.24 1477.07 L2260.24 1507.7 L2267.88 1507.7 L2267.88 1511.63 L2247.97 1511.63 L2247.97 1507.7 Z\" fill=\"#000000\" fill-rule=\"evenodd\" fill-opacity=\"1\" /><path clip-path=\"url(#clip290)\" d=\"M 0 0 M2277.32 1505.75 L2282.2 1505.75 L2282.2 1511.63 L2277.32 1511.63 L2277.32 1505.75 Z\" fill=\"#000000\" fill-rule=\"evenodd\" fill-opacity=\"1\" /><path clip-path=\"url(#clip290)\" d=\"M 0 0 M2293.2 1507.7 L2300.84 1507.7 L2300.84 1481.33 L2292.53 1483 L2292.53 1478.74 L2300.79 1477.07 L2305.47 1477.07 L2305.47 1507.7 L2313.11 1507.7 L2313.11 1511.63 L2293.2 1511.63 L2293.2 1507.7 Z\" fill=\"#000000\" fill-rule=\"evenodd\" fill-opacity=\"1\" /><path clip-path=\"url(#clip290)\" d=\"M 0 0 M2332.55 1480.15 Q2328.94 1480.15 2327.11 1483.72 Q2325.31 1487.26 2325.31 1494.39 Q2325.31 1501.49 2327.11 1505.06 Q2328.94 1508.6 2332.55 1508.6 Q2336.19 1508.6 2337.99 1505.06 Q2339.82 1501.49 2339.82 1494.39 Q2339.82 1487.26 2337.99 1483.72 Q2336.19 1480.15 2332.55 1480.15 M2332.55 1476.45 Q2338.36 1476.45 2341.42 1481.05 Q2344.5 1485.64 2344.5 1494.39 Q2344.5 1503.11 2341.42 1507.72 Q2338.36 1512.3 2332.55 1512.3 Q2326.74 1512.3 2323.66 1507.72 Q2320.61 1503.11 2320.61 1494.39 Q2320.61 1485.64 2323.66 1481.05 Q2326.74 1476.45 2332.55 1476.45 Z\" fill=\"#000000\" fill-rule=\"evenodd\" fill-opacity=\"1\" /><path clip-path=\"url(#clip290)\" d=\"M 0 0 M1362.41 1539.92 Q1362.41 1541.72 1361.29 1542.75 Q1360.16 1543.75 1358.87 1543.75 Q1357.65 1543.75 1357 1543.04 Q1356.36 1542.33 1356.36 1541.43 Q1356.36 1540.21 1357.26 1539.14 Q1358.16 1538.08 1359.51 1537.85 Q1358.19 1537.02 1356.23 1537.02 Q1354.94 1537.02 1353.81 1537.69 Q1352.72 1538.37 1352.04 1539.24 Q1351.4 1540.11 1350.82 1541.37 Q1350.27 1542.59 1350.05 1543.33 Q1349.85 1544.04 1349.69 1544.81 L1347.44 1553.83 Q1346.34 1558.11 1346.34 1559.63 Q1346.34 1561.49 1347.24 1562.75 Q1348.15 1563.97 1349.95 1563.97 Q1350.66 1563.97 1351.46 1563.78 Q1352.27 1563.55 1353.3 1562.98 Q1354.36 1562.36 1355.29 1561.46 Q1356.26 1560.53 1357.19 1558.95 Q1358.13 1557.37 1358.74 1555.34 Q1358.93 1554.63 1359.58 1554.63 Q1360.38 1554.63 1360.38 1555.28 Q1360.38 1555.83 1359.93 1556.98 Q1359.51 1558.11 1358.58 1559.59 Q1357.68 1561.04 1356.49 1562.36 Q1355.29 1563.65 1353.52 1564.55 Q1351.75 1565.46 1349.82 1565.46 Q1347.05 1565.46 1345.21 1563.97 Q1343.38 1562.49 1342.7 1560.43 Q1342.54 1560.72 1342.32 1561.11 Q1342.09 1561.49 1341.41 1562.36 Q1340.77 1563.2 1340.03 1563.84 Q1339.29 1564.46 1338.13 1564.94 Q1337 1565.46 1335.78 1565.46 Q1334.23 1565.46 1332.85 1565 Q1331.49 1564.55 1330.53 1563.52 Q1329.56 1562.49 1329.56 1561.08 Q1329.56 1559.5 1330.63 1558.4 Q1331.72 1557.27 1333.2 1557.27 Q1334.14 1557.27 1334.88 1557.82 Q1335.65 1558.37 1335.65 1559.56 Q1335.65 1560.88 1334.75 1561.88 Q1333.85 1562.88 1332.56 1563.14 Q1333.88 1563.97 1335.84 1563.97 Q1337.97 1563.97 1339.64 1562.11 Q1341.32 1560.24 1342.12 1557.11 Q1344.12 1549.61 1344.89 1546.26 Q1345.67 1542.88 1345.67 1541.43 Q1345.67 1540.08 1345.31 1539.14 Q1344.96 1538.21 1344.34 1537.79 Q1343.77 1537.34 1343.22 1537.18 Q1342.7 1537.02 1342.12 1537.02 Q1341.16 1537.02 1340.06 1537.4 Q1339 1537.79 1337.71 1538.69 Q1336.45 1539.56 1335.26 1541.37 Q1334.07 1543.17 1333.27 1545.65 Q1333.1 1546.39 1332.4 1546.39 Q1331.62 1546.36 1331.62 1545.71 Q1331.62 1545.17 1332.04 1544.04 Q1332.49 1542.88 1333.39 1541.43 Q1334.33 1539.98 1335.52 1538.69 Q1336.74 1537.37 1338.52 1536.47 Q1340.32 1535.57 1342.25 1535.57 Q1343.12 1535.57 1343.96 1535.76 Q1344.83 1535.92 1345.86 1536.41 Q1346.92 1536.89 1347.86 1537.95 Q1348.79 1539.01 1349.37 1540.56 Q1349.76 1539.82 1350.27 1539.11 Q1350.82 1538.4 1351.66 1537.53 Q1352.53 1536.63 1353.72 1536.12 Q1354.94 1535.57 1356.29 1535.57 Q1357.61 1535.57 1358.9 1535.92 Q1360.19 1536.24 1361.29 1537.31 Q1362.41 1538.34 1362.41 1539.92 Z\" fill=\"#000000\" fill-rule=\"evenodd\" fill-opacity=\"1\" /><polyline clip-path=\"url(#clip293)\" style=\"stroke:#000000; stroke-width:2; stroke-opacity:0.1; fill:none\" points=\"\n",
       "  343.722,1411.23 2352.76,1411.23 \n",
       "  \"/>\n",
       "<polyline clip-path=\"url(#clip293)\" style=\"stroke:#000000; stroke-width:2; stroke-opacity:0.1; fill:none\" points=\"\n",
       "  343.722,1080.17 2352.76,1080.17 \n",
       "  \"/>\n",
       "<polyline clip-path=\"url(#clip293)\" style=\"stroke:#000000; stroke-width:2; stroke-opacity:0.1; fill:none\" points=\"\n",
       "  343.722,749.102 2352.76,749.102 \n",
       "  \"/>\n",
       "<polyline clip-path=\"url(#clip293)\" style=\"stroke:#000000; stroke-width:2; stroke-opacity:0.1; fill:none\" points=\"\n",
       "  343.722,418.037 2352.76,418.037 \n",
       "  \"/>\n",
       "<polyline clip-path=\"url(#clip293)\" style=\"stroke:#000000; stroke-width:2; stroke-opacity:0.1; fill:none\" points=\"\n",
       "  343.722,86.9719 2352.76,86.9719 \n",
       "  \"/>\n",
       "<polyline clip-path=\"url(#clip290)\" style=\"stroke:#000000; stroke-width:4; stroke-opacity:1; fill:none\" points=\"\n",
       "  343.722,1450.96 343.722,47.2441 \n",
       "  \"/>\n",
       "<polyline clip-path=\"url(#clip290)\" style=\"stroke:#000000; stroke-width:4; stroke-opacity:1; fill:none\" points=\"\n",
       "  343.722,1411.23 367.83,1411.23 \n",
       "  \"/>\n",
       "<polyline clip-path=\"url(#clip290)\" style=\"stroke:#000000; stroke-width:4; stroke-opacity:1; fill:none\" points=\"\n",
       "  343.722,1080.17 367.83,1080.17 \n",
       "  \"/>\n",
       "<polyline clip-path=\"url(#clip290)\" style=\"stroke:#000000; stroke-width:4; stroke-opacity:1; fill:none\" points=\"\n",
       "  343.722,749.102 367.83,749.102 \n",
       "  \"/>\n",
       "<polyline clip-path=\"url(#clip290)\" style=\"stroke:#000000; stroke-width:4; stroke-opacity:1; fill:none\" points=\"\n",
       "  343.722,418.037 367.83,418.037 \n",
       "  \"/>\n",
       "<polyline clip-path=\"url(#clip290)\" style=\"stroke:#000000; stroke-width:4; stroke-opacity:1; fill:none\" points=\"\n",
       "  343.722,86.9719 367.83,86.9719 \n",
       "  \"/>\n",
       "<path clip-path=\"url(#clip290)\" d=\"M 0 0 M110.292 1411.68 L139.968 1411.68 L139.968 1415.62 L110.292 1415.62 L110.292 1411.68 Z\" fill=\"#000000\" fill-rule=\"evenodd\" fill-opacity=\"1\" /><path clip-path=\"url(#clip290)\" d=\"M 0 0 M150.871 1424.58 L158.51 1424.58 L158.51 1398.21 L150.199 1399.88 L150.199 1395.62 L158.463 1393.95 L163.139 1393.95 L163.139 1424.58 L170.778 1424.58 L170.778 1428.51 L150.871 1428.51 L150.871 1424.58 Z\" fill=\"#000000\" fill-rule=\"evenodd\" fill-opacity=\"1\" /><path clip-path=\"url(#clip290)\" d=\"M 0 0 M180.222 1422.63 L185.107 1422.63 L185.107 1428.51 L180.222 1428.51 L180.222 1422.63 Z\" fill=\"#000000\" fill-rule=\"evenodd\" fill-opacity=\"1\" /><path clip-path=\"url(#clip290)\" d=\"M 0 0 M205.292 1397.03 Q201.681 1397.03 199.852 1400.6 Q198.046 1404.14 198.046 1411.27 Q198.046 1418.37 199.852 1421.94 Q201.681 1425.48 205.292 1425.48 Q208.926 1425.48 210.732 1421.94 Q212.56 1418.37 212.56 1411.27 Q212.56 1404.14 210.732 1400.6 Q208.926 1397.03 205.292 1397.03 M205.292 1393.33 Q211.102 1393.33 214.157 1397.93 Q217.236 1402.52 217.236 1411.27 Q217.236 1419.99 214.157 1424.6 Q211.102 1429.18 205.292 1429.18 Q199.482 1429.18 196.403 1424.6 Q193.347 1419.99 193.347 1411.27 Q193.347 1402.52 196.403 1397.93 Q199.482 1393.33 205.292 1393.33 Z\" fill=\"#000000\" fill-rule=\"evenodd\" fill-opacity=\"1\" /><path clip-path=\"url(#clip290)\" d=\"M 0 0 M235.454 1397.03 Q231.843 1397.03 230.014 1400.6 Q228.208 1404.14 228.208 1411.27 Q228.208 1418.37 230.014 1421.94 Q231.843 1425.48 235.454 1425.48 Q239.088 1425.48 240.893 1421.94 Q242.722 1418.37 242.722 1411.27 Q242.722 1404.14 240.893 1400.6 Q239.088 1397.03 235.454 1397.03 M235.454 1393.33 Q241.264 1393.33 244.319 1397.93 Q247.398 1402.52 247.398 1411.27 Q247.398 1419.99 244.319 1424.6 Q241.264 1429.18 235.454 1429.18 Q229.643 1429.18 226.565 1424.6 Q223.509 1419.99 223.509 1411.27 Q223.509 1402.52 226.565 1397.93 Q229.643 1393.33 235.454 1393.33 Z\" fill=\"#000000\" fill-rule=\"evenodd\" fill-opacity=\"1\" /><path clip-path=\"url(#clip290)\" d=\"M 0 0 M265.615 1397.03 Q262.004 1397.03 260.176 1400.6 Q258.37 1404.14 258.37 1411.27 Q258.37 1418.37 260.176 1421.94 Q262.004 1425.48 265.615 1425.48 Q269.25 1425.48 271.055 1421.94 Q272.884 1418.37 272.884 1411.27 Q272.884 1404.14 271.055 1400.6 Q269.25 1397.03 265.615 1397.03 M265.615 1393.33 Q271.426 1393.33 274.481 1397.93 Q277.56 1402.52 277.56 1411.27 Q277.56 1419.99 274.481 1424.6 Q271.426 1429.18 265.615 1429.18 Q259.805 1429.18 256.727 1424.6 Q253.671 1419.99 253.671 1411.27 Q253.671 1402.52 256.727 1397.93 Q259.805 1393.33 265.615 1393.33 Z\" fill=\"#000000\" fill-rule=\"evenodd\" fill-opacity=\"1\" /><path clip-path=\"url(#clip290)\" d=\"M 0 0 M295.777 1397.03 Q292.166 1397.03 290.338 1400.6 Q288.532 1404.14 288.532 1411.27 Q288.532 1418.37 290.338 1421.94 Q292.166 1425.48 295.777 1425.48 Q299.412 1425.48 301.217 1421.94 Q303.046 1418.37 303.046 1411.27 Q303.046 1404.14 301.217 1400.6 Q299.412 1397.03 295.777 1397.03 M295.777 1393.33 Q301.588 1393.33 304.643 1397.93 Q307.722 1402.52 307.722 1411.27 Q307.722 1419.99 304.643 1424.6 Q301.588 1429.18 295.777 1429.18 Q289.967 1429.18 286.889 1424.6 Q283.833 1419.99 283.833 1411.27 Q283.833 1402.52 286.889 1397.93 Q289.967 1393.33 295.777 1393.33 Z\" fill=\"#000000\" fill-rule=\"evenodd\" fill-opacity=\"1\" /><path clip-path=\"url(#clip290)\" d=\"M 0 0 M111.288 1080.62 L140.963 1080.62 L140.963 1084.55 L111.288 1084.55 L111.288 1080.62 Z\" fill=\"#000000\" fill-rule=\"evenodd\" fill-opacity=\"1\" /><path clip-path=\"url(#clip290)\" d=\"M 0 0 M161.056 1065.97 Q157.445 1065.97 155.616 1069.53 Q153.811 1073.07 153.811 1080.2 Q153.811 1087.31 155.616 1090.87 Q157.445 1094.41 161.056 1094.41 Q164.69 1094.41 166.496 1090.87 Q168.324 1087.31 168.324 1080.2 Q168.324 1073.07 166.496 1069.53 Q164.69 1065.97 161.056 1065.97 M161.056 1062.26 Q166.866 1062.26 169.922 1066.87 Q173 1071.45 173 1080.2 Q173 1088.93 169.922 1093.54 Q166.866 1098.12 161.056 1098.12 Q155.246 1098.12 152.167 1093.54 Q149.111 1088.93 149.111 1080.2 Q149.111 1071.45 152.167 1066.87 Q155.246 1062.26 161.056 1062.26 Z\" fill=\"#000000\" fill-rule=\"evenodd\" fill-opacity=\"1\" /><path clip-path=\"url(#clip290)\" d=\"M 0 0 M181.218 1091.57 L186.102 1091.57 L186.102 1097.45 L181.218 1097.45 L181.218 1091.57 Z\" fill=\"#000000\" fill-rule=\"evenodd\" fill-opacity=\"1\" /><path clip-path=\"url(#clip290)\" d=\"M 0 0 M196.426 1096.73 L196.426 1092.47 Q198.185 1093.3 199.991 1093.74 Q201.796 1094.18 203.532 1094.18 Q208.162 1094.18 210.593 1091.08 Q213.046 1087.96 213.394 1081.61 Q212.051 1083.6 209.991 1084.67 Q207.931 1085.73 205.431 1085.73 Q200.245 1085.73 197.213 1082.61 Q194.204 1079.46 194.204 1074.02 Q194.204 1068.7 197.352 1065.48 Q200.5 1062.26 205.732 1062.26 Q211.727 1062.26 214.875 1066.87 Q218.046 1071.45 218.046 1080.2 Q218.046 1088.37 214.157 1093.26 Q210.292 1098.12 203.741 1098.12 Q201.982 1098.12 200.176 1097.77 Q198.37 1097.42 196.426 1096.73 M205.732 1082.08 Q208.88 1082.08 210.708 1079.92 Q212.56 1077.77 212.56 1074.02 Q212.56 1070.29 210.708 1068.14 Q208.88 1065.97 205.732 1065.97 Q202.583 1065.97 200.732 1068.14 Q198.903 1070.29 198.903 1074.02 Q198.903 1077.77 200.732 1079.92 Q202.583 1082.08 205.732 1082.08 Z\" fill=\"#000000\" fill-rule=\"evenodd\" fill-opacity=\"1\" /><path clip-path=\"url(#clip290)\" d=\"M 0 0 M226.588 1096.73 L226.588 1092.47 Q228.347 1093.3 230.153 1093.74 Q231.958 1094.18 233.694 1094.18 Q238.324 1094.18 240.755 1091.08 Q243.208 1087.96 243.555 1081.61 Q242.213 1083.6 240.153 1084.67 Q238.092 1085.73 235.592 1085.73 Q230.407 1085.73 227.375 1082.61 Q224.366 1079.46 224.366 1074.02 Q224.366 1068.7 227.514 1065.48 Q230.662 1062.26 235.893 1062.26 Q241.889 1062.26 245.037 1066.87 Q248.208 1071.45 248.208 1080.2 Q248.208 1088.37 244.319 1093.26 Q240.454 1098.12 233.903 1098.12 Q232.143 1098.12 230.338 1097.77 Q228.532 1097.42 226.588 1096.73 M235.893 1082.08 Q239.042 1082.08 240.87 1079.92 Q242.722 1077.77 242.722 1074.02 Q242.722 1070.29 240.87 1068.14 Q239.042 1065.97 235.893 1065.97 Q232.745 1065.97 230.893 1068.14 Q229.065 1070.29 229.065 1074.02 Q229.065 1077.77 230.893 1079.92 Q232.745 1082.08 235.893 1082.08 Z\" fill=\"#000000\" fill-rule=\"evenodd\" fill-opacity=\"1\" /><path clip-path=\"url(#clip290)\" d=\"M 0 0 M255.43 1062.89 L277.652 1062.89 L277.652 1064.88 L265.106 1097.45 L260.222 1097.45 L272.027 1066.82 L255.43 1066.82 L255.43 1062.89 Z\" fill=\"#000000\" fill-rule=\"evenodd\" fill-opacity=\"1\" /><path clip-path=\"url(#clip290)\" d=\"M 0 0 M286.819 1062.89 L305.175 1062.89 L305.175 1066.82 L291.101 1066.82 L291.101 1075.29 Q292.12 1074.95 293.138 1074.79 Q294.157 1074.6 295.176 1074.6 Q300.963 1074.6 304.342 1077.77 Q307.722 1080.94 307.722 1086.36 Q307.722 1091.94 304.25 1095.04 Q300.777 1098.12 294.458 1098.12 Q292.282 1098.12 290.014 1097.75 Q287.768 1097.38 285.361 1096.64 L285.361 1091.94 Q287.444 1093.07 289.666 1093.63 Q291.888 1094.18 294.365 1094.18 Q298.37 1094.18 300.708 1092.08 Q303.046 1089.97 303.046 1086.36 Q303.046 1082.75 300.708 1080.64 Q298.37 1078.54 294.365 1078.54 Q292.49 1078.54 290.615 1078.95 Q288.764 1079.37 286.819 1080.25 L286.819 1062.89 Z\" fill=\"#000000\" fill-rule=\"evenodd\" fill-opacity=\"1\" /><path clip-path=\"url(#clip290)\" d=\"M 0 0 M110.292 749.554 L139.968 749.554 L139.968 753.489 L110.292 753.489 L110.292 749.554 Z\" fill=\"#000000\" fill-rule=\"evenodd\" fill-opacity=\"1\" /><path clip-path=\"url(#clip290)\" d=\"M 0 0 M160.06 734.901 Q156.449 734.901 154.621 738.466 Q152.815 742.007 152.815 749.137 Q152.815 756.243 154.621 759.808 Q156.449 763.35 160.06 763.35 Q163.695 763.35 165.5 759.808 Q167.329 756.243 167.329 749.137 Q167.329 742.007 165.5 738.466 Q163.695 734.901 160.06 734.901 M160.06 731.197 Q165.871 731.197 168.926 735.804 Q172.005 740.387 172.005 749.137 Q172.005 757.864 168.926 762.47 Q165.871 767.053 160.06 767.053 Q154.25 767.053 151.172 762.47 Q148.116 757.864 148.116 749.137 Q148.116 740.387 151.172 735.804 Q154.25 731.197 160.06 731.197 Z\" fill=\"#000000\" fill-rule=\"evenodd\" fill-opacity=\"1\" /><path clip-path=\"url(#clip290)\" d=\"M 0 0 M180.222 760.503 L185.107 760.503 L185.107 766.382 L180.222 766.382 L180.222 760.503 Z\" fill=\"#000000\" fill-rule=\"evenodd\" fill-opacity=\"1\" /><path clip-path=\"url(#clip290)\" d=\"M 0 0 M195.431 765.665 L195.431 761.405 Q197.19 762.239 198.995 762.678 Q200.801 763.118 202.537 763.118 Q207.167 763.118 209.597 760.016 Q212.051 756.891 212.398 750.549 Q211.056 752.54 208.995 753.604 Q206.935 754.669 204.435 754.669 Q199.25 754.669 196.218 751.544 Q193.208 748.396 193.208 742.956 Q193.208 737.632 196.357 734.415 Q199.505 731.197 204.736 731.197 Q210.732 731.197 213.88 735.804 Q217.051 740.387 217.051 749.137 Q217.051 757.308 213.162 762.192 Q209.296 767.053 202.745 767.053 Q200.986 767.053 199.181 766.706 Q197.375 766.359 195.431 765.665 M204.736 751.012 Q207.884 751.012 209.713 748.859 Q211.565 746.706 211.565 742.956 Q211.565 739.23 209.713 737.077 Q207.884 734.901 204.736 734.901 Q201.588 734.901 199.736 737.077 Q197.908 739.23 197.908 742.956 Q197.908 746.706 199.736 748.859 Q201.588 751.012 204.736 751.012 Z\" fill=\"#000000\" fill-rule=\"evenodd\" fill-opacity=\"1\" /><path clip-path=\"url(#clip290)\" d=\"M 0 0 M225.593 765.665 L225.593 761.405 Q227.352 762.239 229.157 762.678 Q230.963 763.118 232.699 763.118 Q237.329 763.118 239.759 760.016 Q242.213 756.891 242.56 750.549 Q241.217 752.54 239.157 753.604 Q237.097 754.669 234.597 754.669 Q229.412 754.669 226.38 751.544 Q223.37 748.396 223.37 742.956 Q223.37 737.632 226.518 734.415 Q229.667 731.197 234.898 731.197 Q240.893 731.197 244.042 735.804 Q247.213 740.387 247.213 749.137 Q247.213 757.308 243.324 762.192 Q239.458 767.053 232.907 767.053 Q231.148 767.053 229.343 766.706 Q227.537 766.359 225.593 765.665 M234.898 751.012 Q238.046 751.012 239.875 748.859 Q241.727 746.706 241.727 742.956 Q241.727 739.23 239.875 737.077 Q238.046 734.901 234.898 734.901 Q231.75 734.901 229.898 737.077 Q228.069 739.23 228.069 742.956 Q228.069 746.706 229.898 748.859 Q231.75 751.012 234.898 751.012 Z\" fill=\"#000000\" fill-rule=\"evenodd\" fill-opacity=\"1\" /><path clip-path=\"url(#clip290)\" d=\"M 0 0 M255.662 731.822 L274.018 731.822 L274.018 735.757 L259.944 735.757 L259.944 744.23 Q260.963 743.882 261.981 743.72 Q263 743.535 264.018 743.535 Q269.805 743.535 273.185 746.706 Q276.564 749.878 276.564 755.294 Q276.564 760.873 273.092 763.975 Q269.62 767.053 263.301 767.053 Q261.125 767.053 258.856 766.683 Q256.611 766.313 254.204 765.572 L254.204 760.873 Q256.287 762.007 258.509 762.563 Q260.731 763.118 263.208 763.118 Q267.213 763.118 269.551 761.012 Q271.889 758.905 271.889 755.294 Q271.889 751.683 269.551 749.577 Q267.213 747.47 263.208 747.47 Q261.333 747.47 259.458 747.887 Q257.606 748.304 255.662 749.183 L255.662 731.822 Z\" fill=\"#000000\" fill-rule=\"evenodd\" fill-opacity=\"1\" /><path clip-path=\"url(#clip290)\" d=\"M 0 0 M295.777 734.901 Q292.166 734.901 290.338 738.466 Q288.532 742.007 288.532 749.137 Q288.532 756.243 290.338 759.808 Q292.166 763.35 295.777 763.35 Q299.412 763.35 301.217 759.808 Q303.046 756.243 303.046 749.137 Q303.046 742.007 301.217 738.466 Q299.412 734.901 295.777 734.901 M295.777 731.197 Q301.588 731.197 304.643 735.804 Q307.722 740.387 307.722 749.137 Q307.722 757.864 304.643 762.47 Q301.588 767.053 295.777 767.053 Q289.967 767.053 286.889 762.47 Q283.833 757.864 283.833 749.137 Q283.833 740.387 286.889 735.804 Q289.967 731.197 295.777 731.197 Z\" fill=\"#000000\" fill-rule=\"evenodd\" fill-opacity=\"1\" /><path clip-path=\"url(#clip290)\" d=\"M 0 0 M111.288 418.488 L140.963 418.488 L140.963 422.424 L111.288 422.424 L111.288 418.488 Z\" fill=\"#000000\" fill-rule=\"evenodd\" fill-opacity=\"1\" /><path clip-path=\"url(#clip290)\" d=\"M 0 0 M161.056 403.836 Q157.445 403.836 155.616 407.401 Q153.811 410.942 153.811 418.072 Q153.811 425.178 155.616 428.743 Q157.445 432.285 161.056 432.285 Q164.69 432.285 166.496 428.743 Q168.324 425.178 168.324 418.072 Q168.324 410.942 166.496 407.401 Q164.69 403.836 161.056 403.836 M161.056 400.132 Q166.866 400.132 169.922 404.739 Q173 409.322 173 418.072 Q173 426.799 169.922 431.405 Q166.866 435.988 161.056 435.988 Q155.246 435.988 152.167 431.405 Q149.111 426.799 149.111 418.072 Q149.111 409.322 152.167 404.739 Q155.246 400.132 161.056 400.132 Z\" fill=\"#000000\" fill-rule=\"evenodd\" fill-opacity=\"1\" /><path clip-path=\"url(#clip290)\" d=\"M 0 0 M181.218 429.437 L186.102 429.437 L186.102 435.317 L181.218 435.317 L181.218 429.437 Z\" fill=\"#000000\" fill-rule=\"evenodd\" fill-opacity=\"1\" /><path clip-path=\"url(#clip290)\" d=\"M 0 0 M196.426 434.599 L196.426 430.34 Q198.185 431.174 199.991 431.613 Q201.796 432.053 203.532 432.053 Q208.162 432.053 210.593 428.951 Q213.046 425.826 213.394 419.484 Q212.051 421.475 209.991 422.539 Q207.931 423.604 205.431 423.604 Q200.245 423.604 197.213 420.479 Q194.204 417.331 194.204 411.891 Q194.204 406.567 197.352 403.35 Q200.5 400.132 205.732 400.132 Q211.727 400.132 214.875 404.739 Q218.046 409.322 218.046 418.072 Q218.046 426.243 214.157 431.127 Q210.292 435.988 203.741 435.988 Q201.982 435.988 200.176 435.641 Q198.37 435.294 196.426 434.599 M205.732 419.947 Q208.88 419.947 210.708 417.794 Q212.56 415.641 212.56 411.891 Q212.56 408.164 210.708 406.012 Q208.88 403.836 205.732 403.836 Q202.583 403.836 200.732 406.012 Q198.903 408.164 198.903 411.891 Q198.903 415.641 200.732 417.794 Q202.583 419.947 205.732 419.947 Z\" fill=\"#000000\" fill-rule=\"evenodd\" fill-opacity=\"1\" /><path clip-path=\"url(#clip290)\" d=\"M 0 0 M226.588 434.599 L226.588 430.34 Q228.347 431.174 230.153 431.613 Q231.958 432.053 233.694 432.053 Q238.324 432.053 240.755 428.951 Q243.208 425.826 243.555 419.484 Q242.213 421.475 240.153 422.539 Q238.092 423.604 235.592 423.604 Q230.407 423.604 227.375 420.479 Q224.366 417.331 224.366 411.891 Q224.366 406.567 227.514 403.35 Q230.662 400.132 235.893 400.132 Q241.889 400.132 245.037 404.739 Q248.208 409.322 248.208 418.072 Q248.208 426.243 244.319 431.127 Q240.454 435.988 233.903 435.988 Q232.143 435.988 230.338 435.641 Q228.532 435.294 226.588 434.599 M235.893 419.947 Q239.042 419.947 240.87 417.794 Q242.722 415.641 242.722 411.891 Q242.722 408.164 240.87 406.012 Q239.042 403.836 235.893 403.836 Q232.745 403.836 230.893 406.012 Q229.065 408.164 229.065 411.891 Q229.065 415.641 230.893 417.794 Q232.745 419.947 235.893 419.947 Z\" fill=\"#000000\" fill-rule=\"evenodd\" fill-opacity=\"1\" /><path clip-path=\"url(#clip290)\" d=\"M 0 0 M260.639 431.382 L276.958 431.382 L276.958 435.317 L255.014 435.317 L255.014 431.382 Q257.676 428.627 262.259 423.998 Q266.865 419.345 268.046 418.002 Q270.291 415.479 271.171 413.743 Q272.074 411.984 272.074 410.294 Q272.074 407.539 270.129 405.803 Q268.208 404.067 265.106 404.067 Q262.907 404.067 260.453 404.831 Q258.023 405.595 255.245 407.146 L255.245 402.424 Q258.069 401.289 260.523 400.711 Q262.977 400.132 265.014 400.132 Q270.384 400.132 273.578 402.817 Q276.773 405.502 276.773 409.993 Q276.773 412.123 275.963 414.044 Q275.176 415.942 273.069 418.535 Q272.49 419.206 269.389 422.424 Q266.287 425.618 260.639 431.382 Z\" fill=\"#000000\" fill-rule=\"evenodd\" fill-opacity=\"1\" /><path clip-path=\"url(#clip290)\" d=\"M 0 0 M286.819 400.757 L305.175 400.757 L305.175 404.692 L291.101 404.692 L291.101 413.164 Q292.12 412.817 293.138 412.655 Q294.157 412.47 295.176 412.47 Q300.963 412.47 304.342 415.641 Q307.722 418.813 307.722 424.229 Q307.722 429.808 304.25 432.91 Q300.777 435.988 294.458 435.988 Q292.282 435.988 290.014 435.618 Q287.768 435.248 285.361 434.507 L285.361 429.808 Q287.444 430.942 289.666 431.498 Q291.888 432.053 294.365 432.053 Q298.37 432.053 300.708 429.947 Q303.046 427.84 303.046 424.229 Q303.046 420.618 300.708 418.512 Q298.37 416.405 294.365 416.405 Q292.49 416.405 290.615 416.822 Q288.764 417.238 286.819 418.118 L286.819 400.757 Z\" fill=\"#000000\" fill-rule=\"evenodd\" fill-opacity=\"1\" /><path clip-path=\"url(#clip290)\" d=\"M 0 0 M110.292 87.4233 L139.968 87.4233 L139.968 91.3585 L110.292 91.3585 L110.292 87.4233 Z\" fill=\"#000000\" fill-rule=\"evenodd\" fill-opacity=\"1\" /><path clip-path=\"url(#clip290)\" d=\"M 0 0 M160.06 72.7706 Q156.449 72.7706 154.621 76.3354 Q152.815 79.877 152.815 87.0066 Q152.815 94.1131 154.621 97.6779 Q156.449 101.22 160.06 101.22 Q163.695 101.22 165.5 97.6779 Q167.329 94.1131 167.329 87.0066 Q167.329 79.877 165.5 76.3354 Q163.695 72.7706 160.06 72.7706 M160.06 69.0669 Q165.871 69.0669 168.926 73.6734 Q172.005 78.2567 172.005 87.0066 Q172.005 95.7334 168.926 100.34 Q165.871 104.923 160.06 104.923 Q154.25 104.923 151.172 100.34 Q148.116 95.7334 148.116 87.0066 Q148.116 78.2567 151.172 73.6734 Q154.25 69.0669 160.06 69.0669 Z\" fill=\"#000000\" fill-rule=\"evenodd\" fill-opacity=\"1\" /><path clip-path=\"url(#clip290)\" d=\"M 0 0 M180.222 98.3723 L185.107 98.3723 L185.107 104.252 L180.222 104.252 L180.222 98.3723 Z\" fill=\"#000000\" fill-rule=\"evenodd\" fill-opacity=\"1\" /><path clip-path=\"url(#clip290)\" d=\"M 0 0 M195.431 103.534 L195.431 99.2751 Q197.19 100.108 198.995 100.548 Q200.801 100.988 202.537 100.988 Q207.167 100.988 209.597 97.8862 Q212.051 94.7612 212.398 88.4187 Q211.056 90.4094 208.995 91.4742 Q206.935 92.539 204.435 92.539 Q199.25 92.539 196.218 89.414 Q193.208 86.2659 193.208 80.8261 Q193.208 75.5021 196.357 72.2845 Q199.505 69.0669 204.736 69.0669 Q210.732 69.0669 213.88 73.6734 Q217.051 78.2567 217.051 87.0066 Q217.051 95.1779 213.162 100.062 Q209.296 104.923 202.745 104.923 Q200.986 104.923 199.181 104.576 Q197.375 104.229 195.431 103.534 M204.736 88.8816 Q207.884 88.8816 209.713 86.7289 Q211.565 84.5761 211.565 80.8261 Q211.565 77.0993 209.713 74.9465 Q207.884 72.7706 204.736 72.7706 Q201.588 72.7706 199.736 74.9465 Q197.908 77.0993 197.908 80.8261 Q197.908 84.5761 199.736 86.7289 Q201.588 88.8816 204.736 88.8816 Z\" fill=\"#000000\" fill-rule=\"evenodd\" fill-opacity=\"1\" /><path clip-path=\"url(#clip290)\" d=\"M 0 0 M225.593 103.534 L225.593 99.2751 Q227.352 100.108 229.157 100.548 Q230.963 100.988 232.699 100.988 Q237.329 100.988 239.759 97.8862 Q242.213 94.7612 242.56 88.4187 Q241.217 90.4094 239.157 91.4742 Q237.097 92.539 234.597 92.539 Q229.412 92.539 226.38 89.414 Q223.37 86.2659 223.37 80.8261 Q223.37 75.5021 226.518 72.2845 Q229.667 69.0669 234.898 69.0669 Q240.893 69.0669 244.042 73.6734 Q247.213 78.2567 247.213 87.0066 Q247.213 95.1779 243.324 100.062 Q239.458 104.923 232.907 104.923 Q231.148 104.923 229.343 104.576 Q227.537 104.229 225.593 103.534 M234.898 88.8816 Q238.046 88.8816 239.875 86.7289 Q241.727 84.5761 241.727 80.8261 Q241.727 77.0993 239.875 74.9465 Q238.046 72.7706 234.898 72.7706 Q231.75 72.7706 229.898 74.9465 Q228.069 77.0993 228.069 80.8261 Q228.069 84.5761 229.898 86.7289 Q231.75 88.8816 234.898 88.8816 Z\" fill=\"#000000\" fill-rule=\"evenodd\" fill-opacity=\"1\" /><path clip-path=\"url(#clip290)\" d=\"M 0 0 M265.615 72.7706 Q262.004 72.7706 260.176 76.3354 Q258.37 79.877 258.37 87.0066 Q258.37 94.1131 260.176 97.6779 Q262.004 101.22 265.615 101.22 Q269.25 101.22 271.055 97.6779 Q272.884 94.1131 272.884 87.0066 Q272.884 79.877 271.055 76.3354 Q269.25 72.7706 265.615 72.7706 M265.615 69.0669 Q271.426 69.0669 274.481 73.6734 Q277.56 78.2567 277.56 87.0066 Q277.56 95.7334 274.481 100.34 Q271.426 104.923 265.615 104.923 Q259.805 104.923 256.727 100.34 Q253.671 95.7334 253.671 87.0066 Q253.671 78.2567 256.727 73.6734 Q259.805 69.0669 265.615 69.0669 Z\" fill=\"#000000\" fill-rule=\"evenodd\" fill-opacity=\"1\" /><path clip-path=\"url(#clip290)\" d=\"M 0 0 M295.777 72.7706 Q292.166 72.7706 290.338 76.3354 Q288.532 79.877 288.532 87.0066 Q288.532 94.1131 290.338 97.6779 Q292.166 101.22 295.777 101.22 Q299.412 101.22 301.217 97.6779 Q303.046 94.1131 303.046 87.0066 Q303.046 79.877 301.217 76.3354 Q299.412 72.7706 295.777 72.7706 M295.777 69.0669 Q301.588 69.0669 304.643 73.6734 Q307.722 78.2567 307.722 87.0066 Q307.722 95.7334 304.643 100.34 Q301.588 104.923 295.777 104.923 Q289.967 104.923 286.889 100.34 Q283.833 95.7334 283.833 87.0066 Q283.833 78.2567 286.889 73.6734 Q289.967 69.0669 295.777 69.0669 Z\" fill=\"#000000\" fill-rule=\"evenodd\" fill-opacity=\"1\" /><path clip-path=\"url(#clip290)\" d=\"M 0 0 M22.5327 780.579 Q24.304 780.579 25.399 781.706 Q26.494 782.801 26.494 784.186 Q26.494 785.184 25.8821 785.925 Q25.2702 786.634 24.2074 786.634 Q23.1124 786.634 21.953 785.796 Q20.7936 784.959 20.6325 783.059 Q19.4409 784.315 19.4409 786.312 Q19.4409 787.31 20.085 788.147 Q20.697 788.952 21.6953 789.403 Q22.7259 789.886 28.5552 790.981 Q30.4553 791.336 32.2911 791.658 Q34.1268 791.98 36.0592 792.366 L36.0592 786.891 Q36.0592 786.183 36.0914 785.893 Q36.1236 785.603 36.2846 785.378 Q36.4456 785.12 36.7999 785.12 Q37.7017 785.12 37.9271 785.539 Q38.1203 785.925 38.1203 787.084 L38.1203 792.753 L59.0219 796.714 Q59.6338 796.811 61.5662 797.229 Q63.4663 797.616 66.5903 798.55 Q69.7465 799.484 71.6144 800.418 Q72.6772 800.933 73.6756 801.609 Q74.7062 802.253 75.7368 803.187 Q76.7674 804.121 77.3793 805.345 Q78.0234 806.569 78.0234 807.857 Q78.0234 810.047 76.7996 811.754 Q75.5757 813.461 73.4824 813.461 Q71.711 813.461 70.616 812.366 Q69.521 811.239 69.521 809.854 Q69.521 808.856 70.133 808.147 Q70.7449 807.406 71.8077 807.406 Q72.2585 807.406 72.7738 807.567 Q73.2891 807.728 73.8688 808.083 Q74.4807 808.437 74.8994 809.21 Q75.3181 809.983 75.3825 811.046 Q76.5741 809.79 76.5741 807.857 Q76.5741 807.245 76.3165 806.698 Q76.091 806.15 75.5113 805.699 Q74.9316 805.216 74.3519 804.862 Q73.8044 804.508 72.7416 804.154 Q71.711 803.799 70.9381 803.574 Q70.1652 803.348 68.7803 803.059 Q67.3955 802.737 66.5581 802.576 Q65.753 802.414 64.1749 802.125 L38.1203 797.197 L38.1203 801.545 Q38.1203 802.318 38.0881 802.64 Q38.0559 802.93 37.8949 803.155 Q37.7017 803.381 37.3152 803.381 Q36.7033 803.381 36.4456 803.123 Q36.1558 802.833 36.1236 802.511 Q36.0592 802.189 36.0592 801.416 L36.0592 796.843 Q27.9111 795.297 25.7211 794.685 Q23.4022 793.977 21.792 792.882 Q20.1495 791.787 19.3765 790.563 Q18.6036 789.339 18.3137 788.341 Q17.9917 787.31 17.9917 786.312 Q17.9917 784.057 19.2155 782.318 Q20.4071 780.579 22.5327 780.579 Z\" fill=\"#000000\" fill-rule=\"evenodd\" fill-opacity=\"1\" /><path clip-path=\"url(#clip290)\" d=\"M 0 0 M48.0075 772.751 Q36.8643 772.751 27.8789 768.597 Q24.1108 766.825 20.9546 764.345 Q17.7984 761.866 16.4136 760.223 Q15.0287 758.581 15.0287 758.13 Q15.0287 757.486 15.6728 757.453 Q15.9949 757.453 16.8 758.323 Q27.6212 768.951 48.0075 768.919 Q68.4582 768.919 78.8607 758.581 Q79.9879 757.453 80.3422 757.453 Q80.9863 757.453 80.9863 758.13 Q80.9863 758.581 79.6659 760.159 Q78.3454 761.737 75.3181 764.184 Q72.2907 766.632 68.5871 768.403 Q59.6016 772.751 48.0075 772.751 Z\" fill=\"#000000\" fill-rule=\"evenodd\" fill-opacity=\"1\" /><path clip-path=\"url(#clip290)\" d=\"M 0 0 M39.6984 714.574 Q41.5019 714.574 42.5325 715.701 Q43.5309 716.828 43.5309 718.116 Q43.5309 719.34 42.8224 719.984 Q42.1139 720.629 41.2121 720.629 Q39.9883 720.629 38.9255 719.727 Q37.8627 718.825 37.6372 717.472 Q36.7999 718.793 36.7999 720.757 Q36.7999 722.046 37.4762 723.173 Q38.1525 724.268 39.0221 724.944 Q39.8917 725.588 41.1477 726.168 Q42.3715 726.715 43.1122 726.941 Q43.8208 727.134 44.5937 727.295 L53.6113 729.55 Q57.8947 730.645 59.4084 730.645 Q61.2763 730.645 62.5324 729.743 Q63.7562 728.841 63.7562 727.037 Q63.7562 726.329 63.563 725.524 Q63.3375 724.719 62.7578 723.688 Q62.1459 722.625 61.2441 721.691 Q60.3102 720.725 58.7321 719.791 Q57.154 718.857 55.125 718.245 Q54.4165 718.052 54.4165 717.408 Q54.4165 716.603 55.0606 716.603 Q55.6081 716.603 56.7675 717.054 Q57.8947 717.472 59.3762 718.406 Q60.8255 719.308 62.1459 720.5 Q63.4341 721.691 64.3359 723.463 Q65.2377 725.234 65.2377 727.166 Q65.2377 729.936 63.7562 731.772 Q62.2747 733.607 60.2135 734.284 Q60.5034 734.445 60.8899 734.67 Q61.2763 734.896 62.1459 735.572 Q62.9833 736.216 63.6274 736.957 Q64.2393 737.698 64.7224 738.857 Q65.2377 739.984 65.2377 741.208 Q65.2377 742.754 64.7868 744.139 Q64.3359 745.491 63.3053 746.458 Q62.2747 747.424 60.8577 747.424 Q59.2796 747.424 58.1846 746.361 Q57.0574 745.266 57.0574 743.785 Q57.0574 742.851 57.6049 742.11 Q58.1524 741.337 59.344 741.337 Q60.6644 741.337 61.6628 742.239 Q62.6612 743.14 62.9188 744.429 Q63.7562 743.108 63.7562 741.144 Q63.7562 739.018 61.8883 737.343 Q60.0203 735.669 56.8963 734.864 Q49.3924 732.867 46.043 732.094 Q42.6614 731.321 41.2121 731.321 Q39.8594 731.321 38.9255 731.675 Q37.9915 732.029 37.5728 732.641 Q37.1219 733.221 36.9609 733.769 Q36.7999 734.284 36.7999 734.864 Q36.7999 735.83 37.1864 736.925 Q37.5728 737.987 38.4746 739.276 Q39.3442 740.532 41.1477 741.723 Q42.9512 742.915 45.4311 743.72 Q46.1718 743.881 46.1718 744.59 Q46.1396 745.363 45.4955 745.363 Q44.948 745.363 43.8208 744.944 Q42.6614 744.493 41.2121 743.591 Q39.7628 742.657 38.4746 741.466 Q37.1542 740.242 36.2524 738.471 Q35.3506 736.667 35.3506 734.735 Q35.3506 733.865 35.5439 733.028 Q35.7049 732.158 36.188 731.128 Q36.6711 730.065 37.7339 729.131 Q38.7967 728.197 40.3425 727.617 Q39.6018 727.231 38.8933 726.715 Q38.1847 726.168 37.3152 725.331 Q36.4134 724.461 35.8981 723.269 Q35.3506 722.046 35.3506 720.693 Q35.3506 719.372 35.7049 718.084 Q36.0269 716.796 37.0897 715.701 Q38.1203 714.574 39.6984 714.574 Z\" fill=\"#000000\" fill-rule=\"evenodd\" fill-opacity=\"1\" /><path clip-path=\"url(#clip290)\" d=\"M 0 0 M80.3422 710.071 Q80.0202 710.071 79.215 709.233 Q68.3938 698.605 48.0075 698.605 Q27.5568 698.605 17.2187 708.815 Q16.0271 710.071 15.6728 710.071 Q15.0287 710.071 15.0287 709.427 Q15.0287 708.976 16.3492 707.398 Q17.6696 705.787 20.697 703.372 Q23.7243 700.924 27.428 699.121 Q36.4134 694.773 48.0075 694.773 Q59.1508 694.773 68.1362 698.927 Q71.9043 700.699 75.0605 703.179 Q78.2166 705.658 79.6015 707.301 Q80.9863 708.943 80.9863 709.427 Q80.9863 710.071 80.3422 710.071 Z\" fill=\"#000000\" fill-rule=\"evenodd\" fill-opacity=\"1\" /><polyline clip-path=\"url(#clip293)\" style=\"stroke:#009af9; stroke-width:8; stroke-opacity:1; fill:none\" points=\"\n",
       "  400.581,86.9719 410.058,113.325 419.534,139.413 429.011,165.236 438.488,190.794 447.964,216.087 457.441,241.116 466.917,265.88 476.394,290.378 485.87,314.612 \n",
       "  495.347,338.581 504.824,362.286 514.3,385.725 523.777,408.9 533.253,431.809 542.73,454.454 552.206,476.834 561.683,498.949 571.16,520.8 580.636,542.385 \n",
       "  590.113,563.706 599.589,584.761 609.066,605.552 618.542,626.078 628.019,646.34 637.496,666.336 646.972,686.067 656.449,705.534 665.925,724.736 675.402,743.673 \n",
       "  684.878,762.345 694.355,780.752 703.832,798.894 713.308,816.772 722.785,834.385 732.261,851.732 741.738,868.815 751.215,885.633 760.691,902.187 770.168,918.475 \n",
       "  779.644,934.499 789.121,950.257 798.597,965.751 808.074,980.98 817.551,995.944 827.027,1010.64 836.504,1025.08 845.98,1039.25 855.457,1053.15 864.933,1066.79 \n",
       "  874.41,1080.17 883.887,1093.28 893.363,1106.12 902.84,1118.7 912.316,1131.02 921.793,1143.07 931.269,1154.86 940.746,1166.38 950.223,1177.63 959.699,1188.62 \n",
       "  969.176,1199.35 978.652,1209.81 988.129,1220.01 997.606,1229.94 1007.08,1239.61 1016.56,1249.01 1026.04,1258.15 1035.51,1267.02 1044.99,1275.63 1054.46,1283.97 \n",
       "  1063.94,1292.05 1073.42,1299.86 1082.89,1307.41 1092.37,1314.69 1101.85,1321.71 1111.32,1328.47 1120.8,1334.96 1130.28,1341.18 1139.75,1347.14 1149.23,1352.83 \n",
       "  1158.71,1358.26 1168.18,1363.43 1177.66,1368.33 1187.14,1372.96 1196.61,1377.33 1206.09,1381.44 1215.57,1385.28 1225.04,1388.85 1234.52,1392.16 1244,1395.21 \n",
       "  1253.47,1397.99 1262.95,1400.51 1272.43,1402.76 1281.9,1404.74 1291.38,1406.47 1300.86,1407.92 1310.33,1409.11 1319.81,1410.04 1329.29,1410.7 1338.76,1411.1 \n",
       "  1348.24,1411.23 1357.72,1411.1 1367.19,1410.7 1376.67,1410.04 1386.15,1409.11 1395.62,1407.92 1405.1,1406.47 1414.57,1404.74 1424.05,1402.76 1433.53,1400.51 \n",
       "  1443,1397.99 1452.48,1395.21 1461.96,1392.16 1471.43,1388.85 1480.91,1385.28 1490.39,1381.44 1499.86,1377.33 1509.34,1372.96 1518.82,1368.33 1528.29,1363.43 \n",
       "  1537.77,1358.26 1547.25,1352.83 1556.72,1347.14 1566.2,1341.18 1575.68,1334.96 1585.15,1328.47 1594.63,1321.71 1604.11,1314.69 1613.58,1307.41 1623.06,1299.86 \n",
       "  1632.54,1292.05 1642.01,1283.97 1651.49,1275.63 1660.97,1267.02 1670.44,1258.15 1679.92,1249.01 1689.4,1239.61 1698.87,1229.94 1708.35,1220.01 1717.83,1209.81 \n",
       "  1727.3,1199.35 1736.78,1188.62 1746.26,1177.63 1755.73,1166.38 1765.21,1154.86 1774.68,1143.07 1784.16,1131.02 1793.64,1118.7 1803.11,1106.12 1812.59,1093.28 \n",
       "  1822.07,1080.17 1831.54,1066.79 1841.02,1053.15 1850.5,1039.25 1859.97,1025.08 1869.45,1010.64 1878.93,995.944 1888.4,980.98 1897.88,965.751 1907.36,950.257 \n",
       "  1916.83,934.499 1926.31,918.475 1935.79,902.187 1945.26,885.633 1954.74,868.815 1964.22,851.732 1973.69,834.385 1983.17,816.772 1992.65,798.894 2002.12,780.752 \n",
       "  2011.6,762.345 2021.08,743.673 2030.55,724.736 2040.03,705.534 2049.51,686.067 2058.98,666.336 2068.46,646.34 2077.94,626.078 2087.41,605.552 2096.89,584.761 \n",
       "  2106.36,563.706 2115.84,542.385 2125.32,520.8 2134.79,498.949 2144.27,476.834 2153.75,454.454 2163.22,431.809 2172.7,408.9 2182.18,385.725 2191.65,362.286 \n",
       "  2201.13,338.581 2210.61,314.612 2220.08,290.378 2229.56,265.88 2239.04,241.116 2248.51,216.087 2257.99,190.794 2267.47,165.236 2276.94,139.413 2286.42,113.325 \n",
       "  2295.9,86.9719 \n",
       "  \"/>\n",
       "</svg>\n"
      ]
     },
     "execution_count": 30,
     "metadata": {},
     "output_type": "execute_result"
    }
   ],
   "source": [
    "function f(x)\n",
    "    return x.^2 - 2x\n",
    "end\n",
    "\n",
    "x = range(0.9, 1.1, step=0.001);\n",
    "y = f(x);\n",
    "\n",
    "println(f(0.9 .. 1.1))\n",
    "println(f(1))\n",
    "println(f(1.1))\n",
    "\n",
    "plot(x, y, xlabel=\"\\$x\\$\", ylabel=\"\\$f\\\\,(x)\\$\", linewidth =2, legend = false)"
   ]
  },
  {
   "cell_type": "markdown",
   "metadata": {},
   "source": [
    "これから値域は $[-1,-0.99]$，一方で区間演算による区間拡張は $[-1.39,-0.59]$．だいぶ過大評価になってしまう．そこで区間幅を改良したい\n",
    "\n",
    "**アイディア1.** $f(x)=x(x-2)$;\n",
    "\n",
    "\\begin{align*}\n",
    "\t&x\\in[0.9,1.1]\\\\\n",
    "\t&x(x-2)=[0.9,1.1]\\times[-1.1,-0.9]=[-1.21,-0.81]\\mbox{（幅0.4）}\n",
    "\\end{align*}\n",
    "\n",
    "大分改善された．もう一声！\n",
    "\n",
    "**アイディア2.** $f(x)=(x-1)^2-1$;\n",
    "\n",
    "\\begin{align*}\n",
    "\tx\\in[0.9,1.1]&\\\\\n",
    "\t(x-1)^2-1=&[-0.1,0.1]^2-1\\\\\n",
    "\t=&[{\\color{red}{0}},0.01]-1\\\\\n",
    "\t=&[-1,-0.99]\\mbox{（幅0.01）}\n",
    "\\end{align*}"
   ]
  },
  {
   "cell_type": "code",
   "execution_count": 31,
   "metadata": {},
   "outputs": [
    {
     "name": "stdout",
     "output_type": "stream",
     "text": [
      "[-1.3901, -0.58999]\n",
      "[-1.2101, -0.80999]\n",
      "[-1, -0.98999]\n"
     ]
    }
   ],
   "source": [
    "x = @interval(0.9, 1.1)\n",
    "\n",
    "println(x^2 - 2x)\n",
    "println(x * (x-2))\n",
    "println((x-1)^2 - 1)"
   ]
  },
  {
   "cell_type": "markdown",
   "metadata": {},
   "source": [
    "**注意**　区間の定義で、実数を端点にする時は`@interval`を使う。端点が浮動小数点の場合は`interval`でOK. `interval`の方が呼び出しは早い。例えば、0.1を含む区間は`interval`での定義では0.1に一番近い浮動小数点数を端点にもつ点区間が返されて、厳密な包含にならない。"
   ]
  },
  {
   "cell_type": "code",
   "execution_count": 32,
   "metadata": {},
   "outputs": [
    {
     "name": "stdout",
     "output_type": "stream",
     "text": [
      "  0.000001 seconds\n",
      "0011111110111001100110011001100110011001100110011001100110011010\n",
      "0011111110111001100110011001100110011001100110011001100110011010\n",
      "0011111110111001100110011001100110011001100110011001100110011010\n",
      "  0.002008 seconds (472 allocations: 37.438 KiB, 91.57% compilation time)\n",
      "0011111110111001100110011001100110011001100110011001100110011010\n",
      "0011111110111001100110011001100110011001100110011001100110011001\n",
      "0011111110111001100110011001100110011001100110011001100110011010\n"
     ]
    }
   ],
   "source": [
    "@time x = interval(0.1)\n",
    "println(bitstring(0.1))\n",
    "println(bitstring(x.lo))\n",
    "println(bitstring(x.hi))\n",
    "\n",
    "@time x = @interval(0.1)\n",
    "println(bitstring(0.1))\n",
    "println(bitstring(x.lo))\n",
    "println(bitstring(x.hi))"
   ]
  },
  {
   "cell_type": "code",
   "execution_count": 33,
   "metadata": {
    "scrolled": false
   },
   "outputs": [
    {
     "name": "stdout",
     "output_type": "stream",
     "text": [
      "[1.9885, 2.4401]\n",
      "[-∞, 2.9399]\n"
     ]
    },
    {
     "data": {
      "image/svg+xml": [
       "<?xml version=\"1.0\" encoding=\"utf-8\"?>\n",
       "<svg xmlns=\"http://www.w3.org/2000/svg\" xmlns:xlink=\"http://www.w3.org/1999/xlink\" width=\"600\" height=\"400\" viewBox=\"0 0 2400 1600\">\n",
       "<defs>\n",
       "  <clipPath id=\"clip330\">\n",
       "    <rect x=\"0\" y=\"0\" width=\"2400\" height=\"1600\"/>\n",
       "  </clipPath>\n",
       "</defs>\n",
       "<path clip-path=\"url(#clip330)\" d=\"\n",
       "M0 1600 L2400 1600 L2400 0 L0 0  Z\n",
       "  \" fill=\"#ffffff\" fill-rule=\"evenodd\" fill-opacity=\"1\"/>\n",
       "<defs>\n",
       "  <clipPath id=\"clip331\">\n",
       "    <rect x=\"480\" y=\"0\" width=\"1681\" height=\"1600\"/>\n",
       "  </clipPath>\n",
       "</defs>\n",
       "<defs>\n",
       "  <clipPath id=\"clip332\">\n",
       "    <rect x=\"343\" y=\"47\" width=\"2010\" height=\"1405\"/>\n",
       "  </clipPath>\n",
       "</defs>\n",
       "<path clip-path=\"url(#clip330)\" d=\"\n",
       "M171.477 1450.96 L2352.76 1450.96 L2352.76 47.2441 L171.477 47.2441  Z\n",
       "  \" fill=\"#ffffff\" fill-rule=\"evenodd\" fill-opacity=\"1\"/>\n",
       "<defs>\n",
       "  <clipPath id=\"clip333\">\n",
       "    <rect x=\"171\" y=\"47\" width=\"2182\" height=\"1405\"/>\n",
       "  </clipPath>\n",
       "</defs>\n",
       "<polyline clip-path=\"url(#clip333)\" style=\"stroke:#000000; stroke-width:2; stroke-opacity:0.1; fill:none\" points=\"\n",
       "  233.212,1450.96 233.212,47.2441 \n",
       "  \"/>\n",
       "<polyline clip-path=\"url(#clip333)\" style=\"stroke:#000000; stroke-width:2; stroke-opacity:0.1; fill:none\" points=\"\n",
       "  747.664,1450.96 747.664,47.2441 \n",
       "  \"/>\n",
       "<polyline clip-path=\"url(#clip333)\" style=\"stroke:#000000; stroke-width:2; stroke-opacity:0.1; fill:none\" points=\"\n",
       "  1262.12,1450.96 1262.12,47.2441 \n",
       "  \"/>\n",
       "<polyline clip-path=\"url(#clip333)\" style=\"stroke:#000000; stroke-width:2; stroke-opacity:0.1; fill:none\" points=\"\n",
       "  1776.57,1450.96 1776.57,47.2441 \n",
       "  \"/>\n",
       "<polyline clip-path=\"url(#clip333)\" style=\"stroke:#000000; stroke-width:2; stroke-opacity:0.1; fill:none\" points=\"\n",
       "  2291.02,1450.96 2291.02,47.2441 \n",
       "  \"/>\n",
       "<polyline clip-path=\"url(#clip330)\" style=\"stroke:#000000; stroke-width:4; stroke-opacity:1; fill:none\" points=\"\n",
       "  171.477,1450.96 2352.76,1450.96 \n",
       "  \"/>\n",
       "<polyline clip-path=\"url(#clip330)\" style=\"stroke:#000000; stroke-width:4; stroke-opacity:1; fill:none\" points=\"\n",
       "  233.212,1450.96 233.212,1434.12 \n",
       "  \"/>\n",
       "<polyline clip-path=\"url(#clip330)\" style=\"stroke:#000000; stroke-width:4; stroke-opacity:1; fill:none\" points=\"\n",
       "  747.664,1450.96 747.664,1434.12 \n",
       "  \"/>\n",
       "<polyline clip-path=\"url(#clip330)\" style=\"stroke:#000000; stroke-width:4; stroke-opacity:1; fill:none\" points=\"\n",
       "  1262.12,1450.96 1262.12,1434.12 \n",
       "  \"/>\n",
       "<polyline clip-path=\"url(#clip330)\" style=\"stroke:#000000; stroke-width:4; stroke-opacity:1; fill:none\" points=\"\n",
       "  1776.57,1450.96 1776.57,1434.12 \n",
       "  \"/>\n",
       "<polyline clip-path=\"url(#clip330)\" style=\"stroke:#000000; stroke-width:4; stroke-opacity:1; fill:none\" points=\"\n",
       "  2291.02,1450.96 2291.02,1434.12 \n",
       "  \"/>\n",
       "<path clip-path=\"url(#clip330)\" d=\"M 0 0 M210.596 1480.15 Q206.985 1480.15 205.156 1483.72 Q203.351 1487.26 203.351 1494.39 Q203.351 1501.49 205.156 1505.06 Q206.985 1508.6 210.596 1508.6 Q214.23 1508.6 216.036 1505.06 Q217.864 1501.49 217.864 1494.39 Q217.864 1487.26 216.036 1483.72 Q214.23 1480.15 210.596 1480.15 M210.596 1476.45 Q216.406 1476.45 219.462 1481.05 Q222.54 1485.64 222.54 1494.39 Q222.54 1503.11 219.462 1507.72 Q216.406 1512.3 210.596 1512.3 Q204.786 1512.3 201.707 1507.72 Q198.652 1503.11 198.652 1494.39 Q198.652 1485.64 201.707 1481.05 Q204.786 1476.45 210.596 1476.45 Z\" fill=\"#000000\" fill-rule=\"evenodd\" fill-opacity=\"1\" /><path clip-path=\"url(#clip330)\" d=\"M 0 0 M230.758 1505.75 L235.642 1505.75 L235.642 1511.63 L230.758 1511.63 L230.758 1505.75 Z\" fill=\"#000000\" fill-rule=\"evenodd\" fill-opacity=\"1\" /><path clip-path=\"url(#clip330)\" d=\"M 0 0 M255.827 1480.15 Q252.216 1480.15 250.387 1483.72 Q248.582 1487.26 248.582 1494.39 Q248.582 1501.49 250.387 1505.06 Q252.216 1508.6 255.827 1508.6 Q259.461 1508.6 261.267 1505.06 Q263.096 1501.49 263.096 1494.39 Q263.096 1487.26 261.267 1483.72 Q259.461 1480.15 255.827 1480.15 M255.827 1476.45 Q261.637 1476.45 264.693 1481.05 Q267.772 1485.64 267.772 1494.39 Q267.772 1503.11 264.693 1507.72 Q261.637 1512.3 255.827 1512.3 Q250.017 1512.3 246.938 1507.72 Q243.883 1503.11 243.883 1494.39 Q243.883 1485.64 246.938 1481.05 Q250.017 1476.45 255.827 1476.45 Z\" fill=\"#000000\" fill-rule=\"evenodd\" fill-opacity=\"1\" /><path clip-path=\"url(#clip330)\" d=\"M 0 0 M725.546 1480.15 Q721.935 1480.15 720.106 1483.72 Q718.301 1487.26 718.301 1494.39 Q718.301 1501.49 720.106 1505.06 Q721.935 1508.6 725.546 1508.6 Q729.18 1508.6 730.986 1505.06 Q732.815 1501.49 732.815 1494.39 Q732.815 1487.26 730.986 1483.72 Q729.18 1480.15 725.546 1480.15 M725.546 1476.45 Q731.356 1476.45 734.412 1481.05 Q737.491 1485.64 737.491 1494.39 Q737.491 1503.11 734.412 1507.72 Q731.356 1512.3 725.546 1512.3 Q719.736 1512.3 716.657 1507.72 Q713.602 1503.11 713.602 1494.39 Q713.602 1485.64 716.657 1481.05 Q719.736 1476.45 725.546 1476.45 Z\" fill=\"#000000\" fill-rule=\"evenodd\" fill-opacity=\"1\" /><path clip-path=\"url(#clip330)\" d=\"M 0 0 M745.708 1505.75 L750.592 1505.75 L750.592 1511.63 L745.708 1511.63 L745.708 1505.75 Z\" fill=\"#000000\" fill-rule=\"evenodd\" fill-opacity=\"1\" /><path clip-path=\"url(#clip330)\" d=\"M 0 0 M760.824 1477.07 L779.18 1477.07 L779.18 1481.01 L765.106 1481.01 L765.106 1489.48 Q766.125 1489.13 767.143 1488.97 Q768.162 1488.79 769.18 1488.79 Q774.967 1488.79 778.347 1491.96 Q781.726 1495.13 781.726 1500.54 Q781.726 1506.12 778.254 1509.22 Q774.782 1512.3 768.463 1512.3 Q766.287 1512.3 764.018 1511.93 Q761.773 1511.56 759.365 1510.82 L759.365 1506.12 Q761.449 1507.26 763.671 1507.81 Q765.893 1508.37 768.37 1508.37 Q772.375 1508.37 774.713 1506.26 Q777.051 1504.16 777.051 1500.54 Q777.051 1496.93 774.713 1494.83 Q772.375 1492.72 768.37 1492.72 Q766.495 1492.72 764.62 1493.14 Q762.768 1493.55 760.824 1494.43 L760.824 1477.07 Z\" fill=\"#000000\" fill-rule=\"evenodd\" fill-opacity=\"1\" /><path clip-path=\"url(#clip330)\" d=\"M 0 0 M1229.27 1507.7 L1236.91 1507.7 L1236.91 1481.33 L1228.6 1483 L1228.6 1478.74 L1236.86 1477.07 L1241.54 1477.07 L1241.54 1507.7 L1249.18 1507.7 L1249.18 1511.63 L1229.27 1511.63 L1229.27 1507.7 Z\" fill=\"#000000\" fill-rule=\"evenodd\" fill-opacity=\"1\" /><path clip-path=\"url(#clip330)\" d=\"M 0 0 M1258.62 1505.75 L1263.51 1505.75 L1263.51 1511.63 L1258.62 1511.63 L1258.62 1505.75 Z\" fill=\"#000000\" fill-rule=\"evenodd\" fill-opacity=\"1\" /><path clip-path=\"url(#clip330)\" d=\"M 0 0 M1283.69 1480.15 Q1280.08 1480.15 1278.25 1483.72 Q1276.45 1487.26 1276.45 1494.39 Q1276.45 1501.49 1278.25 1505.06 Q1280.08 1508.6 1283.69 1508.6 Q1287.32 1508.6 1289.13 1505.06 Q1290.96 1501.49 1290.96 1494.39 Q1290.96 1487.26 1289.13 1483.72 Q1287.32 1480.15 1283.69 1480.15 M1283.69 1476.45 Q1289.5 1476.45 1292.56 1481.05 Q1295.63 1485.64 1295.63 1494.39 Q1295.63 1503.11 1292.56 1507.72 Q1289.5 1512.3 1283.69 1512.3 Q1277.88 1512.3 1274.8 1507.72 Q1271.75 1503.11 1271.75 1494.39 Q1271.75 1485.64 1274.8 1481.05 Q1277.88 1476.45 1283.69 1476.45 Z\" fill=\"#000000\" fill-rule=\"evenodd\" fill-opacity=\"1\" /><path clip-path=\"url(#clip330)\" d=\"M 0 0 M1744.22 1507.7 L1751.86 1507.7 L1751.86 1481.33 L1743.55 1483 L1743.55 1478.74 L1751.81 1477.07 L1756.49 1477.07 L1756.49 1507.7 L1764.13 1507.7 L1764.13 1511.63 L1744.22 1511.63 L1744.22 1507.7 Z\" fill=\"#000000\" fill-rule=\"evenodd\" fill-opacity=\"1\" /><path clip-path=\"url(#clip330)\" d=\"M 0 0 M1773.57 1505.75 L1778.46 1505.75 L1778.46 1511.63 L1773.57 1511.63 L1773.57 1505.75 Z\" fill=\"#000000\" fill-rule=\"evenodd\" fill-opacity=\"1\" /><path clip-path=\"url(#clip330)\" d=\"M 0 0 M1788.69 1477.07 L1807.04 1477.07 L1807.04 1481.01 L1792.97 1481.01 L1792.97 1489.48 Q1793.99 1489.13 1795.01 1488.97 Q1796.03 1488.79 1797.04 1488.79 Q1802.83 1488.79 1806.21 1491.96 Q1809.59 1495.13 1809.59 1500.54 Q1809.59 1506.12 1806.12 1509.22 Q1802.65 1512.3 1796.33 1512.3 Q1794.15 1512.3 1791.88 1511.93 Q1789.64 1511.56 1787.23 1510.82 L1787.23 1506.12 Q1789.31 1507.26 1791.53 1507.81 Q1793.76 1508.37 1796.23 1508.37 Q1800.24 1508.37 1802.58 1506.26 Q1804.91 1504.16 1804.91 1500.54 Q1804.91 1496.93 1802.58 1494.83 Q1800.24 1492.72 1796.23 1492.72 Q1794.36 1492.72 1792.48 1493.14 Q1790.63 1493.55 1788.69 1494.43 L1788.69 1477.07 Z\" fill=\"#000000\" fill-rule=\"evenodd\" fill-opacity=\"1\" /><path clip-path=\"url(#clip330)\" d=\"M 0 0 M2262.26 1507.7 L2278.58 1507.7 L2278.58 1511.63 L2256.64 1511.63 L2256.64 1507.7 Q2259.3 1504.94 2263.88 1500.31 Q2268.49 1495.66 2269.67 1494.32 Q2271.91 1491.79 2272.79 1490.06 Q2273.7 1488.3 2273.7 1486.61 Q2273.7 1483.85 2271.75 1482.12 Q2269.83 1480.38 2266.73 1480.38 Q2264.53 1480.38 2262.08 1481.15 Q2259.64 1481.91 2256.87 1483.46 L2256.87 1478.74 Q2259.69 1477.6 2262.14 1477.03 Q2264.6 1476.45 2266.64 1476.45 Q2272.01 1476.45 2275.2 1479.13 Q2278.39 1481.82 2278.39 1486.31 Q2278.39 1488.44 2277.58 1490.36 Q2276.8 1492.26 2274.69 1494.85 Q2274.11 1495.52 2271.01 1498.74 Q2267.91 1501.93 2262.26 1507.7 Z\" fill=\"#000000\" fill-rule=\"evenodd\" fill-opacity=\"1\" /><path clip-path=\"url(#clip330)\" d=\"M 0 0 M2288.39 1505.75 L2293.28 1505.75 L2293.28 1511.63 L2288.39 1511.63 L2288.39 1505.75 Z\" fill=\"#000000\" fill-rule=\"evenodd\" fill-opacity=\"1\" /><path clip-path=\"url(#clip330)\" d=\"M 0 0 M2313.46 1480.15 Q2309.85 1480.15 2308.02 1483.72 Q2306.22 1487.26 2306.22 1494.39 Q2306.22 1501.49 2308.02 1505.06 Q2309.85 1508.6 2313.46 1508.6 Q2317.1 1508.6 2318.9 1505.06 Q2320.73 1501.49 2320.73 1494.39 Q2320.73 1487.26 2318.9 1483.72 Q2317.1 1480.15 2313.46 1480.15 M2313.46 1476.45 Q2319.27 1476.45 2322.33 1481.05 Q2325.41 1485.64 2325.41 1494.39 Q2325.41 1503.11 2322.33 1507.72 Q2319.27 1512.3 2313.46 1512.3 Q2307.65 1512.3 2304.57 1507.72 Q2301.52 1503.11 2301.52 1494.39 Q2301.52 1485.64 2304.57 1481.05 Q2307.65 1476.45 2313.46 1476.45 Z\" fill=\"#000000\" fill-rule=\"evenodd\" fill-opacity=\"1\" /><path clip-path=\"url(#clip330)\" d=\"M 0 0 M1276.29 1539.92 Q1276.29 1541.72 1275.16 1542.75 Q1274.04 1543.75 1272.75 1543.75 Q1271.52 1543.75 1270.88 1543.04 Q1270.24 1542.33 1270.24 1541.43 Q1270.24 1540.21 1271.14 1539.14 Q1272.04 1538.08 1273.39 1537.85 Q1272.07 1537.02 1270.11 1537.02 Q1268.82 1537.02 1267.69 1537.69 Q1266.6 1538.37 1265.92 1539.24 Q1265.28 1540.11 1264.7 1541.37 Q1264.15 1542.59 1263.92 1543.33 Q1263.73 1544.04 1263.57 1544.81 L1261.31 1553.83 Q1260.22 1558.11 1260.22 1559.63 Q1260.22 1561.49 1261.12 1562.75 Q1262.02 1563.97 1263.83 1563.97 Q1264.53 1563.97 1265.34 1563.78 Q1266.15 1563.55 1267.18 1562.98 Q1268.24 1562.36 1269.17 1561.46 Q1270.14 1560.53 1271.07 1558.95 Q1272.01 1557.37 1272.62 1555.34 Q1272.81 1554.63 1273.46 1554.63 Q1274.26 1554.63 1274.26 1555.28 Q1274.26 1555.83 1273.81 1556.98 Q1273.39 1558.11 1272.46 1559.59 Q1271.56 1561.04 1270.36 1562.36 Q1269.17 1563.65 1267.4 1564.55 Q1265.63 1565.46 1263.7 1565.46 Q1260.93 1565.46 1259.09 1563.97 Q1257.26 1562.49 1256.58 1560.43 Q1256.42 1560.72 1256.19 1561.11 Q1255.97 1561.49 1255.29 1562.36 Q1254.65 1563.2 1253.91 1563.84 Q1253.17 1564.46 1252.01 1564.94 Q1250.88 1565.46 1249.66 1565.46 Q1248.11 1565.46 1246.73 1565 Q1245.37 1564.55 1244.41 1563.52 Q1243.44 1562.49 1243.44 1561.08 Q1243.44 1559.5 1244.5 1558.4 Q1245.6 1557.27 1247.08 1557.27 Q1248.01 1557.27 1248.75 1557.82 Q1249.53 1558.37 1249.53 1559.56 Q1249.53 1560.88 1248.63 1561.88 Q1247.72 1562.88 1246.44 1563.14 Q1247.76 1563.97 1249.72 1563.97 Q1251.85 1563.97 1253.52 1562.11 Q1255.2 1560.24 1256 1557.11 Q1258 1549.61 1258.77 1546.26 Q1259.54 1542.88 1259.54 1541.43 Q1259.54 1540.08 1259.19 1539.14 Q1258.83 1538.21 1258.22 1537.79 Q1257.64 1537.34 1257.1 1537.18 Q1256.58 1537.02 1256 1537.02 Q1255.03 1537.02 1253.94 1537.4 Q1252.88 1537.79 1251.59 1538.69 Q1250.33 1539.56 1249.14 1541.37 Q1247.95 1543.17 1247.14 1545.65 Q1246.98 1546.39 1246.27 1546.39 Q1245.5 1546.36 1245.5 1545.71 Q1245.5 1545.17 1245.92 1544.04 Q1246.37 1542.88 1247.27 1541.43 Q1248.21 1539.98 1249.4 1538.69 Q1250.62 1537.37 1252.39 1536.47 Q1254.2 1535.57 1256.13 1535.57 Q1257 1535.57 1257.84 1535.76 Q1258.71 1535.92 1259.74 1536.41 Q1260.8 1536.89 1261.73 1537.95 Q1262.67 1539.01 1263.25 1540.56 Q1263.63 1539.82 1264.15 1539.11 Q1264.7 1538.4 1265.53 1537.53 Q1266.4 1536.63 1267.59 1536.12 Q1268.82 1535.57 1270.17 1535.57 Q1271.49 1535.57 1272.78 1535.92 Q1274.07 1536.24 1275.16 1537.31 Q1276.29 1538.34 1276.29 1539.92 Z\" fill=\"#000000\" fill-rule=\"evenodd\" fill-opacity=\"1\" /><polyline clip-path=\"url(#clip333)\" style=\"stroke:#000000; stroke-width:2; stroke-opacity:0.1; fill:none\" points=\"\n",
       "  171.477,1416.98 2352.76,1416.98 \n",
       "  \"/>\n",
       "<polyline clip-path=\"url(#clip333)\" style=\"stroke:#000000; stroke-width:2; stroke-opacity:0.1; fill:none\" points=\"\n",
       "  171.477,1085.2 2352.76,1085.2 \n",
       "  \"/>\n",
       "<polyline clip-path=\"url(#clip333)\" style=\"stroke:#000000; stroke-width:2; stroke-opacity:0.1; fill:none\" points=\"\n",
       "  171.477,753.414 2352.76,753.414 \n",
       "  \"/>\n",
       "<polyline clip-path=\"url(#clip333)\" style=\"stroke:#000000; stroke-width:2; stroke-opacity:0.1; fill:none\" points=\"\n",
       "  171.477,421.63 2352.76,421.63 \n",
       "  \"/>\n",
       "<polyline clip-path=\"url(#clip333)\" style=\"stroke:#000000; stroke-width:2; stroke-opacity:0.1; fill:none\" points=\"\n",
       "  171.477,89.8466 2352.76,89.8466 \n",
       "  \"/>\n",
       "<polyline clip-path=\"url(#clip330)\" style=\"stroke:#000000; stroke-width:4; stroke-opacity:1; fill:none\" points=\"\n",
       "  171.477,1450.96 171.477,47.2441 \n",
       "  \"/>\n",
       "<polyline clip-path=\"url(#clip330)\" style=\"stroke:#000000; stroke-width:4; stroke-opacity:1; fill:none\" points=\"\n",
       "  171.477,1416.98 197.653,1416.98 \n",
       "  \"/>\n",
       "<polyline clip-path=\"url(#clip330)\" style=\"stroke:#000000; stroke-width:4; stroke-opacity:1; fill:none\" points=\"\n",
       "  171.477,1085.2 197.653,1085.2 \n",
       "  \"/>\n",
       "<polyline clip-path=\"url(#clip330)\" style=\"stroke:#000000; stroke-width:4; stroke-opacity:1; fill:none\" points=\"\n",
       "  171.477,753.414 197.653,753.414 \n",
       "  \"/>\n",
       "<polyline clip-path=\"url(#clip330)\" style=\"stroke:#000000; stroke-width:4; stroke-opacity:1; fill:none\" points=\"\n",
       "  171.477,421.63 197.653,421.63 \n",
       "  \"/>\n",
       "<polyline clip-path=\"url(#clip330)\" style=\"stroke:#000000; stroke-width:4; stroke-opacity:1; fill:none\" points=\"\n",
       "  171.477,89.8466 197.653,89.8466 \n",
       "  \"/>\n",
       "<path clip-path=\"url(#clip330)\" d=\"M 0 0 M115.57 1430.33 L123.209 1430.33 L123.209 1403.96 L114.899 1405.63 L114.899 1401.37 L123.163 1399.7 L127.838 1399.7 L127.838 1430.33 L135.477 1430.33 L135.477 1434.26 L115.57 1434.26 L115.57 1430.33 Z\" fill=\"#000000\" fill-rule=\"evenodd\" fill-opacity=\"1\" /><path clip-path=\"url(#clip330)\" d=\"M 0 0 M119.158 1098.54 L135.477 1098.54 L135.477 1102.48 L113.533 1102.48 L113.533 1098.54 Q116.195 1095.79 120.778 1091.16 Q125.385 1086.51 126.565 1085.16 Q128.811 1082.64 129.69 1080.9 Q130.593 1079.14 130.593 1077.45 Q130.593 1074.7 128.649 1072.96 Q126.727 1071.23 123.626 1071.23 Q121.426 1071.23 118.973 1071.99 Q116.542 1072.76 113.764 1074.31 L113.764 1069.58 Q116.589 1068.45 119.042 1067.87 Q121.496 1067.29 123.533 1067.29 Q128.903 1067.29 132.098 1069.98 Q135.292 1072.66 135.292 1077.15 Q135.292 1079.28 134.482 1081.2 Q133.695 1083.1 131.588 1085.7 Q131.01 1086.37 127.908 1089.58 Q124.806 1092.78 119.158 1098.54 Z\" fill=\"#000000\" fill-rule=\"evenodd\" fill-opacity=\"1\" /><path clip-path=\"url(#clip330)\" d=\"M 0 0 M128.348 752.06 Q131.704 752.778 133.579 755.046 Q135.477 757.315 135.477 760.648 Q135.477 765.764 131.959 768.565 Q128.44 771.366 121.959 771.366 Q119.783 771.366 117.468 770.926 Q115.176 770.509 112.723 769.653 L112.723 765.139 Q114.667 766.273 116.982 766.852 Q119.297 767.43 121.82 767.43 Q126.218 767.43 128.51 765.694 Q130.825 763.958 130.825 760.648 Q130.825 757.592 128.672 755.879 Q126.542 754.143 122.723 754.143 L118.695 754.143 L118.695 750.301 L122.908 750.301 Q126.357 750.301 128.186 748.935 Q130.014 747.546 130.014 744.954 Q130.014 742.292 128.116 740.88 Q126.241 739.444 122.723 739.444 Q120.801 739.444 118.602 739.861 Q116.403 740.278 113.764 741.157 L113.764 736.991 Q116.426 736.25 118.741 735.88 Q121.079 735.509 123.139 735.509 Q128.463 735.509 131.565 737.94 Q134.667 740.347 134.667 744.467 Q134.667 747.338 133.024 749.329 Q131.38 751.296 128.348 752.06 Z\" fill=\"#000000\" fill-rule=\"evenodd\" fill-opacity=\"1\" /><path clip-path=\"url(#clip330)\" d=\"M 0 0 M125.894 408.424 L114.089 426.873 L125.894 426.873 L125.894 408.424 M124.667 404.35 L130.547 404.35 L130.547 426.873 L135.477 426.873 L135.477 430.762 L130.547 430.762 L130.547 438.91 L125.894 438.91 L125.894 430.762 L110.292 430.762 L110.292 426.248 L124.667 404.35 Z\" fill=\"#000000\" fill-rule=\"evenodd\" fill-opacity=\"1\" /><path clip-path=\"url(#clip330)\" d=\"M 0 0 M114.575 72.5666 L132.931 72.5666 L132.931 76.5018 L118.857 76.5018 L118.857 84.9739 Q119.876 84.6267 120.894 84.4647 Q121.913 84.2795 122.931 84.2795 Q128.718 84.2795 132.098 87.4508 Q135.477 90.6221 135.477 96.0387 Q135.477 101.617 132.005 104.719 Q128.533 107.798 122.213 107.798 Q120.038 107.798 117.769 107.428 Q115.524 107.057 113.116 106.316 L113.116 101.617 Q115.2 102.752 117.422 103.307 Q119.644 103.863 122.121 103.863 Q126.125 103.863 128.463 101.756 Q130.801 99.6498 130.801 96.0387 Q130.801 92.4276 128.463 90.3211 Q126.125 88.2147 122.121 88.2147 Q120.246 88.2147 118.371 88.6313 Q116.519 89.048 114.575 89.9276 L114.575 72.5666 Z\" fill=\"#000000\" fill-rule=\"evenodd\" fill-opacity=\"1\" /><path clip-path=\"url(#clip330)\" d=\"M 0 0 M22.5327 780.579 Q24.304 780.579 25.399 781.706 Q26.494 782.801 26.494 784.186 Q26.494 785.184 25.8821 785.925 Q25.2702 786.634 24.2074 786.634 Q23.1124 786.634 21.953 785.796 Q20.7936 784.959 20.6325 783.059 Q19.4409 784.315 19.4409 786.312 Q19.4409 787.31 20.085 788.147 Q20.697 788.952 21.6953 789.403 Q22.7259 789.886 28.5552 790.981 Q30.4553 791.336 32.2911 791.658 Q34.1268 791.98 36.0592 792.366 L36.0592 786.891 Q36.0592 786.183 36.0914 785.893 Q36.1236 785.603 36.2846 785.378 Q36.4456 785.12 36.7999 785.12 Q37.7017 785.12 37.9271 785.539 Q38.1203 785.925 38.1203 787.084 L38.1203 792.753 L59.0219 796.714 Q59.6338 796.811 61.5662 797.229 Q63.4663 797.616 66.5903 798.55 Q69.7465 799.484 71.6144 800.418 Q72.6772 800.933 73.6756 801.609 Q74.7062 802.253 75.7368 803.187 Q76.7674 804.121 77.3793 805.345 Q78.0234 806.569 78.0234 807.857 Q78.0234 810.047 76.7996 811.754 Q75.5757 813.461 73.4824 813.461 Q71.711 813.461 70.616 812.366 Q69.521 811.239 69.521 809.854 Q69.521 808.856 70.133 808.147 Q70.7449 807.406 71.8077 807.406 Q72.2585 807.406 72.7738 807.567 Q73.2891 807.728 73.8688 808.083 Q74.4807 808.437 74.8994 809.21 Q75.3181 809.983 75.3825 811.046 Q76.5741 809.79 76.5741 807.857 Q76.5741 807.245 76.3165 806.698 Q76.091 806.15 75.5113 805.699 Q74.9316 805.216 74.3519 804.862 Q73.8044 804.508 72.7416 804.154 Q71.711 803.799 70.9381 803.574 Q70.1652 803.348 68.7803 803.059 Q67.3955 802.737 66.5581 802.576 Q65.753 802.414 64.1749 802.125 L38.1203 797.197 L38.1203 801.545 Q38.1203 802.318 38.0881 802.64 Q38.0559 802.93 37.8949 803.155 Q37.7017 803.381 37.3152 803.381 Q36.7033 803.381 36.4456 803.123 Q36.1558 802.833 36.1236 802.511 Q36.0592 802.189 36.0592 801.416 L36.0592 796.843 Q27.9111 795.297 25.7211 794.685 Q23.4022 793.977 21.792 792.882 Q20.1495 791.787 19.3765 790.563 Q18.6036 789.339 18.3137 788.341 Q17.9917 787.31 17.9917 786.312 Q17.9917 784.057 19.2155 782.318 Q20.4071 780.579 22.5327 780.579 Z\" fill=\"#000000\" fill-rule=\"evenodd\" fill-opacity=\"1\" /><path clip-path=\"url(#clip330)\" d=\"M 0 0 M48.0075 772.751 Q36.8643 772.751 27.8789 768.597 Q24.1108 766.825 20.9546 764.345 Q17.7984 761.866 16.4136 760.223 Q15.0287 758.581 15.0287 758.13 Q15.0287 757.486 15.6728 757.453 Q15.9949 757.453 16.8 758.323 Q27.6212 768.951 48.0075 768.919 Q68.4582 768.919 78.8607 758.581 Q79.9879 757.453 80.3422 757.453 Q80.9863 757.453 80.9863 758.13 Q80.9863 758.581 79.6659 760.159 Q78.3454 761.737 75.3181 764.184 Q72.2907 766.632 68.5871 768.403 Q59.6016 772.751 48.0075 772.751 Z\" fill=\"#000000\" fill-rule=\"evenodd\" fill-opacity=\"1\" /><path clip-path=\"url(#clip330)\" d=\"M 0 0 M39.6984 714.574 Q41.5019 714.574 42.5325 715.701 Q43.5309 716.828 43.5309 718.116 Q43.5309 719.34 42.8224 719.984 Q42.1139 720.629 41.2121 720.629 Q39.9883 720.629 38.9255 719.727 Q37.8627 718.825 37.6372 717.472 Q36.7999 718.793 36.7999 720.757 Q36.7999 722.046 37.4762 723.173 Q38.1525 724.268 39.0221 724.944 Q39.8917 725.588 41.1477 726.168 Q42.3715 726.715 43.1122 726.941 Q43.8208 727.134 44.5937 727.295 L53.6113 729.55 Q57.8947 730.645 59.4084 730.645 Q61.2763 730.645 62.5324 729.743 Q63.7562 728.841 63.7562 727.037 Q63.7562 726.329 63.563 725.524 Q63.3375 724.719 62.7578 723.688 Q62.1459 722.625 61.2441 721.691 Q60.3102 720.725 58.7321 719.791 Q57.154 718.857 55.125 718.245 Q54.4165 718.052 54.4165 717.408 Q54.4165 716.603 55.0606 716.603 Q55.6081 716.603 56.7675 717.054 Q57.8947 717.472 59.3762 718.406 Q60.8255 719.308 62.1459 720.5 Q63.4341 721.691 64.3359 723.463 Q65.2377 725.234 65.2377 727.166 Q65.2377 729.936 63.7562 731.772 Q62.2747 733.607 60.2135 734.284 Q60.5034 734.445 60.8899 734.67 Q61.2763 734.896 62.1459 735.572 Q62.9833 736.216 63.6274 736.957 Q64.2393 737.698 64.7224 738.857 Q65.2377 739.984 65.2377 741.208 Q65.2377 742.754 64.7868 744.139 Q64.3359 745.491 63.3053 746.458 Q62.2747 747.424 60.8577 747.424 Q59.2796 747.424 58.1846 746.361 Q57.0574 745.266 57.0574 743.785 Q57.0574 742.851 57.6049 742.11 Q58.1524 741.337 59.344 741.337 Q60.6644 741.337 61.6628 742.239 Q62.6612 743.14 62.9188 744.429 Q63.7562 743.108 63.7562 741.144 Q63.7562 739.018 61.8883 737.343 Q60.0203 735.669 56.8963 734.864 Q49.3924 732.867 46.043 732.094 Q42.6614 731.321 41.2121 731.321 Q39.8594 731.321 38.9255 731.675 Q37.9915 732.029 37.5728 732.641 Q37.1219 733.221 36.9609 733.769 Q36.7999 734.284 36.7999 734.864 Q36.7999 735.83 37.1864 736.925 Q37.5728 737.987 38.4746 739.276 Q39.3442 740.532 41.1477 741.723 Q42.9512 742.915 45.4311 743.72 Q46.1718 743.881 46.1718 744.59 Q46.1396 745.363 45.4955 745.363 Q44.948 745.363 43.8208 744.944 Q42.6614 744.493 41.2121 743.591 Q39.7628 742.657 38.4746 741.466 Q37.1542 740.242 36.2524 738.471 Q35.3506 736.667 35.3506 734.735 Q35.3506 733.865 35.5439 733.028 Q35.7049 732.158 36.188 731.128 Q36.6711 730.065 37.7339 729.131 Q38.7967 728.197 40.3425 727.617 Q39.6018 727.231 38.8933 726.715 Q38.1847 726.168 37.3152 725.331 Q36.4134 724.461 35.8981 723.269 Q35.3506 722.046 35.3506 720.693 Q35.3506 719.372 35.7049 718.084 Q36.0269 716.796 37.0897 715.701 Q38.1203 714.574 39.6984 714.574 Z\" fill=\"#000000\" fill-rule=\"evenodd\" fill-opacity=\"1\" /><path clip-path=\"url(#clip330)\" d=\"M 0 0 M80.3422 710.071 Q80.0202 710.071 79.215 709.233 Q68.3938 698.605 48.0075 698.605 Q27.5568 698.605 17.2187 708.815 Q16.0271 710.071 15.6728 710.071 Q15.0287 710.071 15.0287 709.427 Q15.0287 708.976 16.3492 707.398 Q17.6696 705.787 20.697 703.372 Q23.7243 700.924 27.428 699.121 Q36.4134 694.773 48.0075 694.773 Q59.1508 694.773 68.1362 698.927 Q71.9043 700.699 75.0605 703.179 Q78.2166 705.658 79.6015 707.301 Q80.9863 708.943 80.9863 709.427 Q80.9863 710.071 80.3422 710.071 Z\" fill=\"#000000\" fill-rule=\"evenodd\" fill-opacity=\"1\" /><polyline clip-path=\"url(#clip333)\" style=\"stroke:#009af9; stroke-width:8; stroke-opacity:1; fill:none\" points=\"\n",
       "  233.212,1411.23 336.102,1408.24 438.993,1398.64 541.883,1382.43 644.774,1359.63 747.664,1330.24 850.555,1294.27 953.445,1251.75 1056.34,1202.69 1159.23,1147.15 \n",
       "  1262.12,1085.2 1365.01,1017 1467.9,943.013 1570.79,865.817 1673.68,773.36 1776.57,673.343 1879.46,568.541 1982.35,457.731 2085.24,340.607 2188.13,217.042 \n",
       "  2291.02,86.9719 \n",
       "  \"/>\n",
       "</svg>\n"
      ]
     },
     "execution_count": 33,
     "metadata": {},
     "output_type": "execute_result"
    }
   ],
   "source": [
    "# Kahan's example\n",
    "f(x) = (1/80) * log(abs(3*(1 - x) + 1)) + x.^2 + 1\n",
    "x = range(0, 2, step = 0.1)\n",
    "y = f.(x)\n",
    "\n",
    "println(f(1.0..1.2))\n",
    "println(f(1.3..1.4))\n",
    "plot(x, y, xlabel=\"\\$x\\$\", ylabel=\"\\$f\\\\,(x)\\$\", linewidth =2, legend = false)"
   ]
  },
  {
   "cell_type": "code",
   "execution_count": 34,
   "metadata": {},
   "outputs": [
    {
     "data": {
      "image/svg+xml": [
       "<?xml version=\"1.0\" encoding=\"utf-8\"?>\n",
       "<svg xmlns=\"http://www.w3.org/2000/svg\" xmlns:xlink=\"http://www.w3.org/1999/xlink\" width=\"600\" height=\"400\" viewBox=\"0 0 2400 1600\">\n",
       "<defs>\n",
       "  <clipPath id=\"clip370\">\n",
       "    <rect x=\"0\" y=\"0\" width=\"2400\" height=\"1600\"/>\n",
       "  </clipPath>\n",
       "</defs>\n",
       "<path clip-path=\"url(#clip370)\" d=\"\n",
       "M0 1600 L2400 1600 L2400 0 L0 0  Z\n",
       "  \" fill=\"#ffffff\" fill-rule=\"evenodd\" fill-opacity=\"1\"/>\n",
       "<defs>\n",
       "  <clipPath id=\"clip371\">\n",
       "    <rect x=\"480\" y=\"0\" width=\"1681\" height=\"1600\"/>\n",
       "  </clipPath>\n",
       "</defs>\n",
       "<defs>\n",
       "  <clipPath id=\"clip372\">\n",
       "    <rect x=\"171\" y=\"47\" width=\"2182\" height=\"1405\"/>\n",
       "  </clipPath>\n",
       "</defs>\n",
       "<path clip-path=\"url(#clip370)\" d=\"\n",
       "M215.227 1450.96 L2352.76 1450.96 L2352.76 47.2441 L215.227 47.2441  Z\n",
       "  \" fill=\"#ffffff\" fill-rule=\"evenodd\" fill-opacity=\"1\"/>\n",
       "<defs>\n",
       "  <clipPath id=\"clip373\">\n",
       "    <rect x=\"215\" y=\"47\" width=\"2139\" height=\"1405\"/>\n",
       "  </clipPath>\n",
       "</defs>\n",
       "<polyline clip-path=\"url(#clip373)\" style=\"stroke:#000000; stroke-width:2; stroke-opacity:0.1; fill:none\" points=\"\n",
       "  275.723,1450.96 275.723,47.2441 \n",
       "  \"/>\n",
       "<polyline clip-path=\"url(#clip373)\" style=\"stroke:#000000; stroke-width:2; stroke-opacity:0.1; fill:none\" points=\"\n",
       "  779.857,1450.96 779.857,47.2441 \n",
       "  \"/>\n",
       "<polyline clip-path=\"url(#clip373)\" style=\"stroke:#000000; stroke-width:2; stroke-opacity:0.1; fill:none\" points=\"\n",
       "  1283.99,1450.96 1283.99,47.2441 \n",
       "  \"/>\n",
       "<polyline clip-path=\"url(#clip373)\" style=\"stroke:#000000; stroke-width:2; stroke-opacity:0.1; fill:none\" points=\"\n",
       "  1788.13,1450.96 1788.13,47.2441 \n",
       "  \"/>\n",
       "<polyline clip-path=\"url(#clip373)\" style=\"stroke:#000000; stroke-width:2; stroke-opacity:0.1; fill:none\" points=\"\n",
       "  2292.26,1450.96 2292.26,47.2441 \n",
       "  \"/>\n",
       "<polyline clip-path=\"url(#clip370)\" style=\"stroke:#000000; stroke-width:4; stroke-opacity:1; fill:none\" points=\"\n",
       "  215.227,1450.96 2352.76,1450.96 \n",
       "  \"/>\n",
       "<polyline clip-path=\"url(#clip370)\" style=\"stroke:#000000; stroke-width:4; stroke-opacity:1; fill:none\" points=\"\n",
       "  275.723,1450.96 275.723,1434.12 \n",
       "  \"/>\n",
       "<polyline clip-path=\"url(#clip370)\" style=\"stroke:#000000; stroke-width:4; stroke-opacity:1; fill:none\" points=\"\n",
       "  779.857,1450.96 779.857,1434.12 \n",
       "  \"/>\n",
       "<polyline clip-path=\"url(#clip370)\" style=\"stroke:#000000; stroke-width:4; stroke-opacity:1; fill:none\" points=\"\n",
       "  1283.99,1450.96 1283.99,1434.12 \n",
       "  \"/>\n",
       "<polyline clip-path=\"url(#clip370)\" style=\"stroke:#000000; stroke-width:4; stroke-opacity:1; fill:none\" points=\"\n",
       "  1788.13,1450.96 1788.13,1434.12 \n",
       "  \"/>\n",
       "<polyline clip-path=\"url(#clip370)\" style=\"stroke:#000000; stroke-width:4; stroke-opacity:1; fill:none\" points=\"\n",
       "  2292.26,1450.96 2292.26,1434.12 \n",
       "  \"/>\n",
       "<path clip-path=\"url(#clip370)\" d=\"M 0 0 M212.714 1507.7 L220.353 1507.7 L220.353 1481.33 L212.043 1483 L212.043 1478.74 L220.307 1477.07 L224.983 1477.07 L224.983 1507.7 L232.622 1507.7 L232.622 1511.63 L212.714 1511.63 L212.714 1507.7 Z\" fill=\"#000000\" fill-rule=\"evenodd\" fill-opacity=\"1\" /><path clip-path=\"url(#clip370)\" d=\"M 0 0 M242.066 1505.75 L246.95 1505.75 L246.95 1511.63 L242.066 1511.63 L242.066 1505.75 Z\" fill=\"#000000\" fill-rule=\"evenodd\" fill-opacity=\"1\" /><path clip-path=\"url(#clip370)\" d=\"M 0 0 M271.302 1493 Q274.658 1493.72 276.533 1495.98 Q278.431 1498.25 278.431 1501.59 Q278.431 1506.7 274.913 1509.5 Q271.394 1512.3 264.913 1512.3 Q262.737 1512.3 260.422 1511.86 Q258.131 1511.45 255.677 1510.59 L255.677 1506.08 Q257.621 1507.21 259.936 1507.79 Q262.251 1508.37 264.774 1508.37 Q269.172 1508.37 271.464 1506.63 Q273.779 1504.9 273.779 1501.59 Q273.779 1498.53 271.626 1496.82 Q269.496 1495.08 265.677 1495.08 L261.649 1495.08 L261.649 1491.24 L265.862 1491.24 Q269.311 1491.24 271.14 1489.87 Q272.969 1488.48 272.969 1485.89 Q272.969 1483.23 271.07 1481.82 Q269.195 1480.38 265.677 1480.38 Q263.756 1480.38 261.557 1480.8 Q259.358 1481.22 256.719 1482.1 L256.719 1477.93 Q259.381 1477.19 261.695 1476.82 Q264.033 1476.45 266.094 1476.45 Q271.418 1476.45 274.519 1478.88 Q277.621 1481.29 277.621 1485.41 Q277.621 1488.28 275.978 1490.27 Q274.334 1492.23 271.302 1493 Z\" fill=\"#000000\" fill-rule=\"evenodd\" fill-opacity=\"1\" /><path clip-path=\"url(#clip370)\" d=\"M 0 0 M297.297 1480.15 Q293.686 1480.15 291.857 1483.72 Q290.052 1487.26 290.052 1494.39 Q290.052 1501.49 291.857 1505.06 Q293.686 1508.6 297.297 1508.6 Q300.931 1508.6 302.737 1505.06 Q304.566 1501.49 304.566 1494.39 Q304.566 1487.26 302.737 1483.72 Q300.931 1480.15 297.297 1480.15 M297.297 1476.45 Q303.107 1476.45 306.163 1481.05 Q309.241 1485.64 309.241 1494.39 Q309.241 1503.11 306.163 1507.72 Q303.107 1512.3 297.297 1512.3 Q291.487 1512.3 288.408 1507.72 Q285.353 1503.11 285.353 1494.39 Q285.353 1485.64 288.408 1481.05 Q291.487 1476.45 297.297 1476.45 Z\" fill=\"#000000\" fill-rule=\"evenodd\" fill-opacity=\"1\" /><path clip-path=\"url(#clip370)\" d=\"M 0 0 M327.459 1480.15 Q323.848 1480.15 322.019 1483.72 Q320.214 1487.26 320.214 1494.39 Q320.214 1501.49 322.019 1505.06 Q323.848 1508.6 327.459 1508.6 Q331.093 1508.6 332.899 1505.06 Q334.727 1501.49 334.727 1494.39 Q334.727 1487.26 332.899 1483.72 Q331.093 1480.15 327.459 1480.15 M327.459 1476.45 Q333.269 1476.45 336.325 1481.05 Q339.403 1485.64 339.403 1494.39 Q339.403 1503.11 336.325 1507.72 Q333.269 1512.3 327.459 1512.3 Q321.649 1512.3 318.57 1507.72 Q315.515 1503.11 315.515 1494.39 Q315.515 1485.64 318.57 1481.05 Q321.649 1476.45 327.459 1476.45 Z\" fill=\"#000000\" fill-rule=\"evenodd\" fill-opacity=\"1\" /><path clip-path=\"url(#clip370)\" d=\"M 0 0 M717.346 1507.7 L724.985 1507.7 L724.985 1481.33 L716.675 1483 L716.675 1478.74 L724.939 1477.07 L729.615 1477.07 L729.615 1507.7 L737.253 1507.7 L737.253 1511.63 L717.346 1511.63 L717.346 1507.7 Z\" fill=\"#000000\" fill-rule=\"evenodd\" fill-opacity=\"1\" /><path clip-path=\"url(#clip370)\" d=\"M 0 0 M746.698 1505.75 L751.582 1505.75 L751.582 1511.63 L746.698 1511.63 L746.698 1505.75 Z\" fill=\"#000000\" fill-rule=\"evenodd\" fill-opacity=\"1\" /><path clip-path=\"url(#clip370)\" d=\"M 0 0 M775.934 1493 Q779.29 1493.72 781.165 1495.98 Q783.063 1498.25 783.063 1501.59 Q783.063 1506.7 779.545 1509.5 Q776.026 1512.3 769.545 1512.3 Q767.369 1512.3 765.054 1511.86 Q762.763 1511.45 760.309 1510.59 L760.309 1506.08 Q762.253 1507.21 764.568 1507.79 Q766.883 1508.37 769.406 1508.37 Q773.804 1508.37 776.096 1506.63 Q778.411 1504.9 778.411 1501.59 Q778.411 1498.53 776.258 1496.82 Q774.128 1495.08 770.309 1495.08 L766.281 1495.08 L766.281 1491.24 L770.494 1491.24 Q773.943 1491.24 775.772 1489.87 Q777.6 1488.48 777.6 1485.89 Q777.6 1483.23 775.702 1481.82 Q773.827 1480.38 770.309 1480.38 Q768.387 1480.38 766.188 1480.8 Q763.989 1481.22 761.35 1482.1 L761.35 1477.93 Q764.012 1477.19 766.327 1476.82 Q768.665 1476.45 770.725 1476.45 Q776.049 1476.45 779.151 1478.88 Q782.253 1481.29 782.253 1485.41 Q782.253 1488.28 780.61 1490.27 Q778.966 1492.23 775.934 1493 Z\" fill=\"#000000\" fill-rule=\"evenodd\" fill-opacity=\"1\" /><path clip-path=\"url(#clip370)\" d=\"M 0 0 M795.957 1507.7 L812.276 1507.7 L812.276 1511.63 L790.332 1511.63 L790.332 1507.7 Q792.994 1504.94 797.577 1500.31 Q802.184 1495.66 803.364 1494.32 Q805.609 1491.79 806.489 1490.06 Q807.392 1488.3 807.392 1486.61 Q807.392 1483.85 805.447 1482.12 Q803.526 1480.38 800.424 1480.38 Q798.225 1480.38 795.772 1481.15 Q793.341 1481.91 790.563 1483.46 L790.563 1478.74 Q793.387 1477.6 795.841 1477.03 Q798.295 1476.45 800.332 1476.45 Q805.702 1476.45 808.897 1479.13 Q812.091 1481.82 812.091 1486.31 Q812.091 1488.44 811.281 1490.36 Q810.494 1492.26 808.387 1494.85 Q807.809 1495.52 804.707 1498.74 Q801.605 1501.93 795.957 1507.7 Z\" fill=\"#000000\" fill-rule=\"evenodd\" fill-opacity=\"1\" /><path clip-path=\"url(#clip370)\" d=\"M 0 0 M822.137 1477.07 L840.494 1477.07 L840.494 1481.01 L826.42 1481.01 L826.42 1489.48 Q827.438 1489.13 828.457 1488.97 Q829.475 1488.79 830.494 1488.79 Q836.281 1488.79 839.66 1491.96 Q843.04 1495.13 843.04 1500.54 Q843.04 1506.12 839.568 1509.22 Q836.095 1512.3 829.776 1512.3 Q827.6 1512.3 825.332 1511.93 Q823.086 1511.56 820.679 1510.82 L820.679 1506.12 Q822.762 1507.26 824.984 1507.81 Q827.207 1508.37 829.683 1508.37 Q833.688 1508.37 836.026 1506.26 Q838.364 1504.16 838.364 1500.54 Q838.364 1496.93 836.026 1494.83 Q833.688 1492.72 829.683 1492.72 Q827.808 1492.72 825.933 1493.14 Q824.082 1493.55 822.137 1494.43 L822.137 1477.07 Z\" fill=\"#000000\" fill-rule=\"evenodd\" fill-opacity=\"1\" /><path clip-path=\"url(#clip370)\" d=\"M 0 0 M1220.98 1507.7 L1228.62 1507.7 L1228.62 1481.33 L1220.31 1483 L1220.31 1478.74 L1228.58 1477.07 L1233.25 1477.07 L1233.25 1507.7 L1240.89 1507.7 L1240.89 1511.63 L1220.98 1511.63 L1220.98 1507.7 Z\" fill=\"#000000\" fill-rule=\"evenodd\" fill-opacity=\"1\" /><path clip-path=\"url(#clip370)\" d=\"M 0 0 M1250.33 1505.75 L1255.22 1505.75 L1255.22 1511.63 L1250.33 1511.63 L1250.33 1505.75 Z\" fill=\"#000000\" fill-rule=\"evenodd\" fill-opacity=\"1\" /><path clip-path=\"url(#clip370)\" d=\"M 0 0 M1279.57 1493 Q1282.93 1493.72 1284.8 1495.98 Q1286.7 1498.25 1286.7 1501.59 Q1286.7 1506.7 1283.18 1509.5 Q1279.66 1512.3 1273.18 1512.3 Q1271.01 1512.3 1268.69 1511.86 Q1266.4 1511.45 1263.95 1510.59 L1263.95 1506.08 Q1265.89 1507.21 1268.2 1507.79 Q1270.52 1508.37 1273.04 1508.37 Q1277.44 1508.37 1279.73 1506.63 Q1282.05 1504.9 1282.05 1501.59 Q1282.05 1498.53 1279.89 1496.82 Q1277.76 1495.08 1273.95 1495.08 L1269.92 1495.08 L1269.92 1491.24 L1274.13 1491.24 Q1277.58 1491.24 1279.41 1489.87 Q1281.24 1488.48 1281.24 1485.89 Q1281.24 1483.23 1279.34 1481.82 Q1277.46 1480.38 1273.95 1480.38 Q1272.02 1480.38 1269.82 1480.8 Q1267.63 1481.22 1264.99 1482.1 L1264.99 1477.93 Q1267.65 1477.19 1269.96 1476.82 Q1272.3 1476.45 1274.36 1476.45 Q1279.69 1476.45 1282.79 1478.88 Q1285.89 1481.29 1285.89 1485.41 Q1285.89 1488.28 1284.25 1490.27 Q1282.6 1492.23 1279.57 1493 Z\" fill=\"#000000\" fill-rule=\"evenodd\" fill-opacity=\"1\" /><path clip-path=\"url(#clip370)\" d=\"M 0 0 M1295.61 1477.07 L1313.97 1477.07 L1313.97 1481.01 L1299.89 1481.01 L1299.89 1489.48 Q1300.91 1489.13 1301.93 1488.97 Q1302.95 1488.79 1303.97 1488.79 Q1309.76 1488.79 1313.13 1491.96 Q1316.51 1495.13 1316.51 1500.54 Q1316.51 1506.12 1313.04 1509.22 Q1309.57 1512.3 1303.25 1512.3 Q1301.07 1512.3 1298.81 1511.93 Q1296.56 1511.56 1294.15 1510.82 L1294.15 1506.12 Q1296.24 1507.26 1298.46 1507.81 Q1300.68 1508.37 1303.16 1508.37 Q1307.16 1508.37 1309.5 1506.26 Q1311.84 1504.16 1311.84 1500.54 Q1311.84 1496.93 1309.5 1494.83 Q1307.16 1492.72 1303.16 1492.72 Q1301.28 1492.72 1299.41 1493.14 Q1297.56 1493.55 1295.61 1494.43 L1295.61 1477.07 Z\" fill=\"#000000\" fill-rule=\"evenodd\" fill-opacity=\"1\" /><path clip-path=\"url(#clip370)\" d=\"M 0 0 M1335.73 1480.15 Q1332.12 1480.15 1330.29 1483.72 Q1328.48 1487.26 1328.48 1494.39 Q1328.48 1501.49 1330.29 1505.06 Q1332.12 1508.6 1335.73 1508.6 Q1339.36 1508.6 1341.17 1505.06 Q1343 1501.49 1343 1494.39 Q1343 1487.26 1341.17 1483.72 Q1339.36 1480.15 1335.73 1480.15 M1335.73 1476.45 Q1341.54 1476.45 1344.59 1481.05 Q1347.67 1485.64 1347.67 1494.39 Q1347.67 1503.11 1344.59 1507.72 Q1341.54 1512.3 1335.73 1512.3 Q1329.92 1512.3 1326.84 1507.72 Q1323.78 1503.11 1323.78 1494.39 Q1323.78 1485.64 1326.84 1481.05 Q1329.92 1476.45 1335.73 1476.45 Z\" fill=\"#000000\" fill-rule=\"evenodd\" fill-opacity=\"1\" /><path clip-path=\"url(#clip370)\" d=\"M 0 0 M1725.61 1507.7 L1733.25 1507.7 L1733.25 1481.33 L1724.94 1483 L1724.94 1478.74 L1733.21 1477.07 L1737.88 1477.07 L1737.88 1507.7 L1745.52 1507.7 L1745.52 1511.63 L1725.61 1511.63 L1725.61 1507.7 Z\" fill=\"#000000\" fill-rule=\"evenodd\" fill-opacity=\"1\" /><path clip-path=\"url(#clip370)\" d=\"M 0 0 M1754.97 1505.75 L1759.85 1505.75 L1759.85 1511.63 L1754.97 1511.63 L1754.97 1505.75 Z\" fill=\"#000000\" fill-rule=\"evenodd\" fill-opacity=\"1\" /><path clip-path=\"url(#clip370)\" d=\"M 0 0 M1784.2 1493 Q1787.56 1493.72 1789.43 1495.98 Q1791.33 1498.25 1791.33 1501.59 Q1791.33 1506.7 1787.81 1509.5 Q1784.29 1512.3 1777.81 1512.3 Q1775.64 1512.3 1773.32 1511.86 Q1771.03 1511.45 1768.58 1510.59 L1768.58 1506.08 Q1770.52 1507.21 1772.84 1507.79 Q1775.15 1508.37 1777.67 1508.37 Q1782.07 1508.37 1784.36 1506.63 Q1786.68 1504.9 1786.68 1501.59 Q1786.68 1498.53 1784.53 1496.82 Q1782.4 1495.08 1778.58 1495.08 L1774.55 1495.08 L1774.55 1491.24 L1778.76 1491.24 Q1782.21 1491.24 1784.04 1489.87 Q1785.87 1488.48 1785.87 1485.89 Q1785.87 1483.23 1783.97 1481.82 Q1782.1 1480.38 1778.58 1480.38 Q1776.66 1480.38 1774.46 1480.8 Q1772.26 1481.22 1769.62 1482.1 L1769.62 1477.93 Q1772.28 1477.19 1774.6 1476.82 Q1776.93 1476.45 1778.99 1476.45 Q1784.32 1476.45 1787.42 1478.88 Q1790.52 1481.29 1790.52 1485.41 Q1790.52 1488.28 1788.88 1490.27 Q1787.23 1492.23 1784.2 1493 Z\" fill=\"#000000\" fill-rule=\"evenodd\" fill-opacity=\"1\" /><path clip-path=\"url(#clip370)\" d=\"M 0 0 M1799.02 1477.07 L1821.24 1477.07 L1821.24 1479.06 L1808.69 1511.63 L1803.81 1511.63 L1815.61 1481.01 L1799.02 1481.01 L1799.02 1477.07 Z\" fill=\"#000000\" fill-rule=\"evenodd\" fill-opacity=\"1\" /><path clip-path=\"url(#clip370)\" d=\"M 0 0 M1830.41 1477.07 L1848.76 1477.07 L1848.76 1481.01 L1834.69 1481.01 L1834.69 1489.48 Q1835.71 1489.13 1836.72 1488.97 Q1837.74 1488.79 1838.76 1488.79 Q1844.55 1488.79 1847.93 1491.96 Q1851.31 1495.13 1851.31 1500.54 Q1851.31 1506.12 1847.84 1509.22 Q1844.36 1512.3 1838.04 1512.3 Q1835.87 1512.3 1833.6 1511.93 Q1831.35 1511.56 1828.95 1510.82 L1828.95 1506.12 Q1831.03 1507.26 1833.25 1507.81 Q1835.47 1508.37 1837.95 1508.37 Q1841.96 1508.37 1844.29 1506.26 Q1846.63 1504.16 1846.63 1500.54 Q1846.63 1496.93 1844.29 1494.83 Q1841.96 1492.72 1837.95 1492.72 Q1836.08 1492.72 1834.2 1493.14 Q1832.35 1493.55 1830.41 1494.43 L1830.41 1477.07 Z\" fill=\"#000000\" fill-rule=\"evenodd\" fill-opacity=\"1\" /><path clip-path=\"url(#clip370)\" d=\"M 0 0 M2229.25 1507.7 L2236.89 1507.7 L2236.89 1481.33 L2228.58 1483 L2228.58 1478.74 L2236.84 1477.07 L2241.52 1477.07 L2241.52 1507.7 L2249.16 1507.7 L2249.16 1511.63 L2229.25 1511.63 L2229.25 1507.7 Z\" fill=\"#000000\" fill-rule=\"evenodd\" fill-opacity=\"1\" /><path clip-path=\"url(#clip370)\" d=\"M 0 0 M2258.6 1505.75 L2263.49 1505.75 L2263.49 1511.63 L2258.6 1511.63 L2258.6 1505.75 Z\" fill=\"#000000\" fill-rule=\"evenodd\" fill-opacity=\"1\" /><path clip-path=\"url(#clip370)\" d=\"M 0 0 M2286.52 1481.15 L2274.71 1499.6 L2286.52 1499.6 L2286.52 1481.15 M2285.29 1477.07 L2291.17 1477.07 L2291.17 1499.6 L2296.1 1499.6 L2296.1 1503.48 L2291.17 1503.48 L2291.17 1511.63 L2286.52 1511.63 L2286.52 1503.48 L2270.92 1503.48 L2270.92 1498.97 L2285.29 1477.07 Z\" fill=\"#000000\" fill-rule=\"evenodd\" fill-opacity=\"1\" /><path clip-path=\"url(#clip370)\" d=\"M 0 0 M2313.83 1480.15 Q2310.22 1480.15 2308.39 1483.72 Q2306.59 1487.26 2306.59 1494.39 Q2306.59 1501.49 2308.39 1505.06 Q2310.22 1508.6 2313.83 1508.6 Q2317.47 1508.6 2319.27 1505.06 Q2321.1 1501.49 2321.1 1494.39 Q2321.1 1487.26 2319.27 1483.72 Q2317.47 1480.15 2313.83 1480.15 M2313.83 1476.45 Q2319.64 1476.45 2322.7 1481.05 Q2325.78 1485.64 2325.78 1494.39 Q2325.78 1503.11 2322.7 1507.72 Q2319.64 1512.3 2313.83 1512.3 Q2308.02 1512.3 2304.94 1507.72 Q2301.89 1503.11 2301.89 1494.39 Q2301.89 1485.64 2304.94 1481.05 Q2308.02 1476.45 2313.83 1476.45 Z\" fill=\"#000000\" fill-rule=\"evenodd\" fill-opacity=\"1\" /><path clip-path=\"url(#clip370)\" d=\"M 0 0 M2344 1480.15 Q2340.38 1480.15 2338.56 1483.72 Q2336.75 1487.26 2336.75 1494.39 Q2336.75 1501.49 2338.56 1505.06 Q2340.38 1508.6 2344 1508.6 Q2347.63 1508.6 2349.44 1505.06 Q2351.26 1501.49 2351.26 1494.39 Q2351.26 1487.26 2349.44 1483.72 Q2347.63 1480.15 2344 1480.15 M2344 1476.45 Q2349.81 1476.45 2352.86 1481.05 Q2355.94 1485.64 2355.94 1494.39 Q2355.94 1503.11 2352.86 1507.72 Q2349.81 1512.3 2344 1512.3 Q2338.19 1512.3 2335.11 1507.72 Q2332.05 1503.11 2332.05 1494.39 Q2332.05 1485.64 2335.11 1481.05 Q2338.19 1476.45 2344 1476.45 Z\" fill=\"#000000\" fill-rule=\"evenodd\" fill-opacity=\"1\" /><path clip-path=\"url(#clip370)\" d=\"M 0 0 M1298.16 1539.92 Q1298.16 1541.72 1297.04 1542.75 Q1295.91 1543.75 1294.62 1543.75 Q1293.4 1543.75 1292.75 1543.04 Q1292.11 1542.33 1292.11 1541.43 Q1292.11 1540.21 1293.01 1539.14 Q1293.91 1538.08 1295.27 1537.85 Q1293.95 1537.02 1291.98 1537.02 Q1290.69 1537.02 1289.57 1537.69 Q1288.47 1538.37 1287.79 1539.24 Q1287.15 1540.11 1286.57 1541.37 Q1286.02 1542.59 1285.8 1543.33 Q1285.6 1544.04 1285.44 1544.81 L1283.19 1553.83 Q1282.09 1558.11 1282.09 1559.63 Q1282.09 1561.49 1283 1562.75 Q1283.9 1563.97 1285.7 1563.97 Q1286.41 1563.97 1287.21 1563.78 Q1288.02 1563.55 1289.05 1562.98 Q1290.11 1562.36 1291.05 1561.46 Q1292.01 1560.53 1292.95 1558.95 Q1293.88 1557.37 1294.49 1555.34 Q1294.69 1554.63 1295.33 1554.63 Q1296.14 1554.63 1296.14 1555.28 Q1296.14 1555.83 1295.69 1556.98 Q1295.27 1558.11 1294.33 1559.59 Q1293.43 1561.04 1292.24 1562.36 Q1291.05 1563.65 1289.28 1564.55 Q1287.5 1565.46 1285.57 1565.46 Q1282.8 1565.46 1280.97 1563.97 Q1279.13 1562.49 1278.45 1560.43 Q1278.29 1560.72 1278.07 1561.11 Q1277.84 1561.49 1277.17 1562.36 Q1276.52 1563.2 1275.78 1563.84 Q1275.04 1564.46 1273.88 1564.94 Q1272.75 1565.46 1271.53 1565.46 Q1269.98 1565.46 1268.6 1565 Q1267.25 1564.55 1266.28 1563.52 Q1265.31 1562.49 1265.31 1561.08 Q1265.31 1559.5 1266.38 1558.4 Q1267.47 1557.27 1268.95 1557.27 Q1269.89 1557.27 1270.63 1557.82 Q1271.4 1558.37 1271.4 1559.56 Q1271.4 1560.88 1270.5 1561.88 Q1269.6 1562.88 1268.31 1563.14 Q1269.63 1563.97 1271.6 1563.97 Q1273.72 1563.97 1275.4 1562.11 Q1277.07 1560.24 1277.88 1557.11 Q1279.87 1549.61 1280.64 1546.26 Q1281.42 1542.88 1281.42 1541.43 Q1281.42 1540.08 1281.06 1539.14 Q1280.71 1538.21 1280.1 1537.79 Q1279.52 1537.34 1278.97 1537.18 Q1278.45 1537.02 1277.88 1537.02 Q1276.91 1537.02 1275.81 1537.4 Q1274.75 1537.79 1273.46 1538.69 Q1272.21 1539.56 1271.02 1541.37 Q1269.82 1543.17 1269.02 1545.65 Q1268.86 1546.39 1268.15 1546.39 Q1267.38 1546.36 1267.38 1545.71 Q1267.38 1545.17 1267.79 1544.04 Q1268.25 1542.88 1269.15 1541.43 Q1270.08 1539.98 1271.27 1538.69 Q1272.5 1537.37 1274.27 1536.47 Q1276.07 1535.57 1278 1535.57 Q1278.87 1535.57 1279.71 1535.76 Q1280.58 1535.92 1281.61 1536.41 Q1282.67 1536.89 1283.61 1537.95 Q1284.54 1539.01 1285.12 1540.56 Q1285.51 1539.82 1286.02 1539.11 Q1286.57 1538.4 1287.41 1537.53 Q1288.28 1536.63 1289.47 1536.12 Q1290.69 1535.57 1292.05 1535.57 Q1293.37 1535.57 1294.65 1535.92 Q1295.94 1536.24 1297.04 1537.31 Q1298.16 1538.34 1298.16 1539.92 Z\" fill=\"#000000\" fill-rule=\"evenodd\" fill-opacity=\"1\" /><polyline clip-path=\"url(#clip373)\" style=\"stroke:#000000; stroke-width:2; stroke-opacity:0.1; fill:none\" points=\"\n",
       "  215.227,1422.56 2352.76,1422.56 \n",
       "  \"/>\n",
       "<polyline clip-path=\"url(#clip373)\" style=\"stroke:#000000; stroke-width:2; stroke-opacity:0.1; fill:none\" points=\"\n",
       "  215.227,1029.61 2352.76,1029.61 \n",
       "  \"/>\n",
       "<polyline clip-path=\"url(#clip373)\" style=\"stroke:#000000; stroke-width:2; stroke-opacity:0.1; fill:none\" points=\"\n",
       "  215.227,636.649 2352.76,636.649 \n",
       "  \"/>\n",
       "<polyline clip-path=\"url(#clip373)\" style=\"stroke:#000000; stroke-width:2; stroke-opacity:0.1; fill:none\" points=\"\n",
       "  215.227,243.691 2352.76,243.691 \n",
       "  \"/>\n",
       "<polyline clip-path=\"url(#clip370)\" style=\"stroke:#000000; stroke-width:4; stroke-opacity:1; fill:none\" points=\"\n",
       "  215.227,1450.96 215.227,47.2441 \n",
       "  \"/>\n",
       "<polyline clip-path=\"url(#clip370)\" style=\"stroke:#000000; stroke-width:4; stroke-opacity:1; fill:none\" points=\"\n",
       "  215.227,1422.56 240.877,1422.56 \n",
       "  \"/>\n",
       "<polyline clip-path=\"url(#clip370)\" style=\"stroke:#000000; stroke-width:4; stroke-opacity:1; fill:none\" points=\"\n",
       "  215.227,1029.61 240.877,1029.61 \n",
       "  \"/>\n",
       "<polyline clip-path=\"url(#clip370)\" style=\"stroke:#000000; stroke-width:4; stroke-opacity:1; fill:none\" points=\"\n",
       "  215.227,636.649 240.877,636.649 \n",
       "  \"/>\n",
       "<polyline clip-path=\"url(#clip370)\" style=\"stroke:#000000; stroke-width:4; stroke-opacity:1; fill:none\" points=\"\n",
       "  215.227,243.691 240.877,243.691 \n",
       "  \"/>\n",
       "<path clip-path=\"url(#clip370)\" d=\"M 0 0 M115.917 1435.91 L132.237 1435.91 L132.237 1439.84 L110.292 1439.84 L110.292 1435.91 Q112.954 1433.15 117.538 1428.52 Q122.144 1423.87 123.325 1422.53 Q125.57 1420.01 126.45 1418.27 Q127.352 1416.51 127.352 1414.82 Q127.352 1412.07 125.408 1410.33 Q123.487 1408.59 120.385 1408.59 Q118.186 1408.59 115.732 1409.36 Q113.301 1410.12 110.524 1411.67 L110.524 1406.95 Q113.348 1405.82 115.801 1405.24 Q118.255 1404.66 120.292 1404.66 Q125.663 1404.66 128.857 1407.34 Q132.051 1410.03 132.051 1414.52 Q132.051 1416.65 131.241 1418.57 Q130.454 1420.47 128.348 1423.06 Q127.769 1423.73 124.667 1426.95 Q121.565 1430.14 115.917 1435.91 Z\" fill=\"#000000\" fill-rule=\"evenodd\" fill-opacity=\"1\" /><path clip-path=\"url(#clip370)\" d=\"M 0 0 M142.051 1433.96 L146.936 1433.96 L146.936 1439.84 L142.051 1439.84 L142.051 1433.96 Z\" fill=\"#000000\" fill-rule=\"evenodd\" fill-opacity=\"1\" /><path clip-path=\"url(#clip370)\" d=\"M 0 0 M167.699 1420.7 Q164.551 1420.7 162.699 1422.85 Q160.871 1425.01 160.871 1428.76 Q160.871 1432.48 162.699 1434.66 Q164.551 1436.81 167.699 1436.81 Q170.847 1436.81 172.676 1434.66 Q174.528 1432.48 174.528 1428.76 Q174.528 1425.01 172.676 1422.85 Q170.847 1420.7 167.699 1420.7 M176.982 1406.05 L176.982 1410.31 Q175.222 1409.47 173.417 1409.03 Q171.635 1408.59 169.875 1408.59 Q165.246 1408.59 162.792 1411.72 Q160.361 1414.84 160.014 1421.16 Q161.38 1419.15 163.44 1418.08 Q165.5 1417 167.977 1417 Q173.185 1417 176.195 1420.17 Q179.227 1423.32 179.227 1428.76 Q179.227 1434.08 176.079 1437.3 Q172.931 1440.52 167.699 1440.52 Q161.704 1440.52 158.533 1435.93 Q155.361 1431.33 155.361 1422.6 Q155.361 1414.4 159.25 1409.54 Q163.139 1404.66 169.69 1404.66 Q171.449 1404.66 173.232 1405.01 Q175.037 1405.35 176.982 1406.05 Z\" fill=\"#000000\" fill-rule=\"evenodd\" fill-opacity=\"1\" /><path clip-path=\"url(#clip370)\" d=\"M 0 0 M116.982 1042.95 L133.301 1042.95 L133.301 1046.89 L111.357 1046.89 L111.357 1042.95 Q114.019 1040.2 118.602 1035.57 Q123.209 1030.91 124.389 1029.57 Q126.635 1027.05 127.514 1025.31 Q128.417 1023.55 128.417 1021.86 Q128.417 1019.11 126.473 1017.37 Q124.551 1015.64 121.45 1015.64 Q119.251 1015.64 116.797 1016.4 Q114.366 1017.16 111.589 1018.72 L111.589 1013.99 Q114.413 1012.86 116.866 1012.28 Q119.32 1011.7 121.357 1011.7 Q126.727 1011.7 129.922 1014.39 Q133.116 1017.07 133.116 1021.56 Q133.116 1023.69 132.306 1025.61 Q131.519 1027.51 129.413 1030.1 Q128.834 1030.78 125.732 1033.99 Q122.63 1037.19 116.982 1042.95 Z\" fill=\"#000000\" fill-rule=\"evenodd\" fill-opacity=\"1\" /><path clip-path=\"url(#clip370)\" d=\"M 0 0 M143.116 1041.01 L148 1041.01 L148 1046.89 L143.116 1046.89 L143.116 1041.01 Z\" fill=\"#000000\" fill-rule=\"evenodd\" fill-opacity=\"1\" /><path clip-path=\"url(#clip370)\" d=\"M 0 0 M157.005 1012.33 L179.227 1012.33 L179.227 1014.32 L166.681 1046.89 L161.797 1046.89 L173.602 1016.26 L157.005 1016.26 L157.005 1012.33 Z\" fill=\"#000000\" fill-rule=\"evenodd\" fill-opacity=\"1\" /><path clip-path=\"url(#clip370)\" d=\"M 0 0 M116.172 649.994 L132.491 649.994 L132.491 653.929 L110.547 653.929 L110.547 649.994 Q113.209 647.239 117.792 642.609 Q122.399 637.957 123.579 636.614 Q125.825 634.091 126.704 632.355 Q127.607 630.596 127.607 628.906 Q127.607 626.151 125.663 624.415 Q123.741 622.679 120.639 622.679 Q118.44 622.679 115.987 623.443 Q113.556 624.207 110.778 625.758 L110.778 621.036 Q113.602 619.901 116.056 619.323 Q118.51 618.744 120.547 618.744 Q125.917 618.744 129.112 621.429 Q132.306 624.114 132.306 628.605 Q132.306 630.735 131.496 632.656 Q130.709 634.554 128.602 637.147 Q128.024 637.818 124.922 641.035 Q121.82 644.23 116.172 649.994 Z\" fill=\"#000000\" fill-rule=\"evenodd\" fill-opacity=\"1\" /><path clip-path=\"url(#clip370)\" d=\"M 0 0 M142.306 648.049 L147.19 648.049 L147.19 653.929 L142.306 653.929 L142.306 648.049 Z\" fill=\"#000000\" fill-rule=\"evenodd\" fill-opacity=\"1\" /><path clip-path=\"url(#clip370)\" d=\"M 0 0 M167.375 637.517 Q164.042 637.517 162.121 639.299 Q160.223 641.082 160.223 644.207 Q160.223 647.332 162.121 649.114 Q164.042 650.896 167.375 650.896 Q170.709 650.896 172.63 649.114 Q174.551 647.309 174.551 644.207 Q174.551 641.082 172.63 639.299 Q170.732 637.517 167.375 637.517 M162.699 635.526 Q159.69 634.785 158 632.725 Q156.334 630.665 156.334 627.702 Q156.334 623.559 159.273 621.151 Q162.236 618.744 167.375 618.744 Q172.537 618.744 175.477 621.151 Q178.417 623.559 178.417 627.702 Q178.417 630.665 176.727 632.725 Q175.06 634.785 172.074 635.526 Q175.454 636.313 177.329 638.605 Q179.227 640.897 179.227 644.207 Q179.227 649.23 176.148 651.915 Q173.093 654.6 167.375 654.6 Q161.658 654.6 158.579 651.915 Q155.523 649.23 155.523 644.207 Q155.523 640.897 157.422 638.605 Q159.32 636.313 162.699 635.526 M160.986 628.142 Q160.986 630.827 162.653 632.332 Q164.343 633.836 167.375 633.836 Q170.385 633.836 172.074 632.332 Q173.787 630.827 173.787 628.142 Q173.787 625.457 172.074 623.952 Q170.385 622.448 167.375 622.448 Q164.343 622.448 162.653 623.952 Q160.986 625.457 160.986 628.142 Z\" fill=\"#000000\" fill-rule=\"evenodd\" fill-opacity=\"1\" /><path clip-path=\"url(#clip370)\" d=\"M 0 0 M116.264 257.036 L132.584 257.036 L132.584 260.971 L110.639 260.971 L110.639 257.036 Q113.301 254.282 117.885 249.652 Q122.491 244.999 123.672 243.657 Q125.917 241.133 126.797 239.397 Q127.7 237.638 127.7 235.948 Q127.7 233.194 125.755 231.458 Q123.834 229.722 120.732 229.722 Q118.533 229.722 116.079 230.485 Q113.649 231.249 110.871 232.8 L110.871 228.078 Q113.695 226.944 116.149 226.365 Q118.602 225.786 120.639 225.786 Q126.01 225.786 129.204 228.472 Q132.399 231.157 132.399 235.647 Q132.399 237.777 131.588 239.698 Q130.801 241.596 128.695 244.189 Q128.116 244.86 125.014 248.078 Q121.913 251.272 116.264 257.036 Z\" fill=\"#000000\" fill-rule=\"evenodd\" fill-opacity=\"1\" /><path clip-path=\"url(#clip370)\" d=\"M 0 0 M142.399 255.092 L147.283 255.092 L147.283 260.971 L142.399 260.971 L142.399 255.092 Z\" fill=\"#000000\" fill-rule=\"evenodd\" fill-opacity=\"1\" /><path clip-path=\"url(#clip370)\" d=\"M 0 0 M157.607 260.254 L157.607 255.995 Q159.366 256.828 161.172 257.268 Q162.977 257.707 164.713 257.707 Q169.343 257.707 171.773 254.606 Q174.227 251.481 174.574 245.138 Q173.232 247.129 171.172 248.194 Q169.111 249.258 166.611 249.258 Q161.426 249.258 158.394 246.133 Q155.385 242.985 155.385 237.546 Q155.385 232.221 158.533 229.004 Q161.681 225.786 166.912 225.786 Q172.908 225.786 176.056 230.393 Q179.227 234.976 179.227 243.726 Q179.227 251.897 175.338 256.782 Q171.472 261.643 164.922 261.643 Q163.162 261.643 161.357 261.295 Q159.551 260.948 157.607 260.254 M166.912 245.601 Q170.06 245.601 171.889 243.448 Q173.741 241.296 173.741 237.546 Q173.741 233.819 171.889 231.666 Q170.06 229.49 166.912 229.49 Q163.764 229.49 161.912 231.666 Q160.084 233.819 160.084 237.546 Q160.084 241.296 161.912 243.448 Q163.764 245.601 166.912 245.601 Z\" fill=\"#000000\" fill-rule=\"evenodd\" fill-opacity=\"1\" /><path clip-path=\"url(#clip370)\" d=\"M 0 0 M22.5327 780.579 Q24.304 780.579 25.399 781.706 Q26.494 782.801 26.494 784.186 Q26.494 785.184 25.8821 785.925 Q25.2702 786.634 24.2074 786.634 Q23.1124 786.634 21.953 785.796 Q20.7936 784.959 20.6325 783.059 Q19.4409 784.315 19.4409 786.312 Q19.4409 787.31 20.085 788.147 Q20.697 788.952 21.6953 789.403 Q22.7259 789.886 28.5552 790.981 Q30.4553 791.336 32.2911 791.658 Q34.1268 791.98 36.0592 792.366 L36.0592 786.891 Q36.0592 786.183 36.0914 785.893 Q36.1236 785.603 36.2846 785.378 Q36.4456 785.12 36.7999 785.12 Q37.7017 785.12 37.9271 785.539 Q38.1203 785.925 38.1203 787.084 L38.1203 792.753 L59.0219 796.714 Q59.6338 796.811 61.5662 797.229 Q63.4663 797.616 66.5903 798.55 Q69.7465 799.484 71.6144 800.418 Q72.6772 800.933 73.6756 801.609 Q74.7062 802.253 75.7368 803.187 Q76.7674 804.121 77.3793 805.345 Q78.0234 806.569 78.0234 807.857 Q78.0234 810.047 76.7996 811.754 Q75.5757 813.461 73.4824 813.461 Q71.711 813.461 70.616 812.366 Q69.521 811.239 69.521 809.854 Q69.521 808.856 70.133 808.147 Q70.7449 807.406 71.8077 807.406 Q72.2585 807.406 72.7738 807.567 Q73.2891 807.728 73.8688 808.083 Q74.4807 808.437 74.8994 809.21 Q75.3181 809.983 75.3825 811.046 Q76.5741 809.79 76.5741 807.857 Q76.5741 807.245 76.3165 806.698 Q76.091 806.15 75.5113 805.699 Q74.9316 805.216 74.3519 804.862 Q73.8044 804.508 72.7416 804.154 Q71.711 803.799 70.9381 803.574 Q70.1652 803.348 68.7803 803.059 Q67.3955 802.737 66.5581 802.576 Q65.753 802.414 64.1749 802.125 L38.1203 797.197 L38.1203 801.545 Q38.1203 802.318 38.0881 802.64 Q38.0559 802.93 37.8949 803.155 Q37.7017 803.381 37.3152 803.381 Q36.7033 803.381 36.4456 803.123 Q36.1558 802.833 36.1236 802.511 Q36.0592 802.189 36.0592 801.416 L36.0592 796.843 Q27.9111 795.297 25.7211 794.685 Q23.4022 793.977 21.792 792.882 Q20.1495 791.787 19.3765 790.563 Q18.6036 789.339 18.3137 788.341 Q17.9917 787.31 17.9917 786.312 Q17.9917 784.057 19.2155 782.318 Q20.4071 780.579 22.5327 780.579 Z\" fill=\"#000000\" fill-rule=\"evenodd\" fill-opacity=\"1\" /><path clip-path=\"url(#clip370)\" d=\"M 0 0 M48.0075 772.751 Q36.8643 772.751 27.8789 768.597 Q24.1108 766.825 20.9546 764.345 Q17.7984 761.866 16.4136 760.223 Q15.0287 758.581 15.0287 758.13 Q15.0287 757.486 15.6728 757.453 Q15.9949 757.453 16.8 758.323 Q27.6212 768.951 48.0075 768.919 Q68.4582 768.919 78.8607 758.581 Q79.9879 757.453 80.3422 757.453 Q80.9863 757.453 80.9863 758.13 Q80.9863 758.581 79.6659 760.159 Q78.3454 761.737 75.3181 764.184 Q72.2907 766.632 68.5871 768.403 Q59.6016 772.751 48.0075 772.751 Z\" fill=\"#000000\" fill-rule=\"evenodd\" fill-opacity=\"1\" /><path clip-path=\"url(#clip370)\" d=\"M 0 0 M39.6984 714.574 Q41.5019 714.574 42.5325 715.701 Q43.5309 716.828 43.5309 718.116 Q43.5309 719.34 42.8224 719.984 Q42.1139 720.629 41.2121 720.629 Q39.9883 720.629 38.9255 719.727 Q37.8627 718.825 37.6372 717.472 Q36.7999 718.793 36.7999 720.757 Q36.7999 722.046 37.4762 723.173 Q38.1525 724.268 39.0221 724.944 Q39.8917 725.588 41.1477 726.168 Q42.3715 726.715 43.1122 726.941 Q43.8208 727.134 44.5937 727.295 L53.6113 729.55 Q57.8947 730.645 59.4084 730.645 Q61.2763 730.645 62.5324 729.743 Q63.7562 728.841 63.7562 727.037 Q63.7562 726.329 63.563 725.524 Q63.3375 724.719 62.7578 723.688 Q62.1459 722.625 61.2441 721.691 Q60.3102 720.725 58.7321 719.791 Q57.154 718.857 55.125 718.245 Q54.4165 718.052 54.4165 717.408 Q54.4165 716.603 55.0606 716.603 Q55.6081 716.603 56.7675 717.054 Q57.8947 717.472 59.3762 718.406 Q60.8255 719.308 62.1459 720.5 Q63.4341 721.691 64.3359 723.463 Q65.2377 725.234 65.2377 727.166 Q65.2377 729.936 63.7562 731.772 Q62.2747 733.607 60.2135 734.284 Q60.5034 734.445 60.8899 734.67 Q61.2763 734.896 62.1459 735.572 Q62.9833 736.216 63.6274 736.957 Q64.2393 737.698 64.7224 738.857 Q65.2377 739.984 65.2377 741.208 Q65.2377 742.754 64.7868 744.139 Q64.3359 745.491 63.3053 746.458 Q62.2747 747.424 60.8577 747.424 Q59.2796 747.424 58.1846 746.361 Q57.0574 745.266 57.0574 743.785 Q57.0574 742.851 57.6049 742.11 Q58.1524 741.337 59.344 741.337 Q60.6644 741.337 61.6628 742.239 Q62.6612 743.14 62.9188 744.429 Q63.7562 743.108 63.7562 741.144 Q63.7562 739.018 61.8883 737.343 Q60.0203 735.669 56.8963 734.864 Q49.3924 732.867 46.043 732.094 Q42.6614 731.321 41.2121 731.321 Q39.8594 731.321 38.9255 731.675 Q37.9915 732.029 37.5728 732.641 Q37.1219 733.221 36.9609 733.769 Q36.7999 734.284 36.7999 734.864 Q36.7999 735.83 37.1864 736.925 Q37.5728 737.987 38.4746 739.276 Q39.3442 740.532 41.1477 741.723 Q42.9512 742.915 45.4311 743.72 Q46.1718 743.881 46.1718 744.59 Q46.1396 745.363 45.4955 745.363 Q44.948 745.363 43.8208 744.944 Q42.6614 744.493 41.2121 743.591 Q39.7628 742.657 38.4746 741.466 Q37.1542 740.242 36.2524 738.471 Q35.3506 736.667 35.3506 734.735 Q35.3506 733.865 35.5439 733.028 Q35.7049 732.158 36.188 731.128 Q36.6711 730.065 37.7339 729.131 Q38.7967 728.197 40.3425 727.617 Q39.6018 727.231 38.8933 726.715 Q38.1847 726.168 37.3152 725.331 Q36.4134 724.461 35.8981 723.269 Q35.3506 722.046 35.3506 720.693 Q35.3506 719.372 35.7049 718.084 Q36.0269 716.796 37.0897 715.701 Q38.1203 714.574 39.6984 714.574 Z\" fill=\"#000000\" fill-rule=\"evenodd\" fill-opacity=\"1\" /><path clip-path=\"url(#clip370)\" d=\"M 0 0 M80.3422 710.071 Q80.0202 710.071 79.215 709.233 Q68.3938 698.605 48.0075 698.605 Q27.5568 698.605 17.2187 708.815 Q16.0271 710.071 15.6728 710.071 Q15.0287 710.071 15.0287 709.427 Q15.0287 708.976 16.3492 707.398 Q17.6696 705.787 20.697 703.372 Q23.7243 700.924 27.428 699.121 Q36.4134 694.773 48.0075 694.773 Q59.1508 694.773 68.1362 698.927 Q71.9043 700.699 75.0605 703.179 Q78.2166 705.658 79.6015 707.301 Q80.9863 708.943 80.9863 709.427 Q80.9863 710.071 80.3422 710.071 Z\" fill=\"#000000\" fill-rule=\"evenodd\" fill-opacity=\"1\" /><polyline clip-path=\"url(#clip373)\" style=\"stroke:#009af9; stroke-width:8; stroke-opacity:1; fill:none\" points=\"\n",
       "  275.723,1182 295.416,1173.48 477.508,1096.91 586.937,1053.93 679.458,1020.96 729.71,1005.26 779.962,992.197 826.29,984.107 872.618,983.677 885.035,986.095 \n",
       "  897.452,990.464 909.869,997.9 922.286,1010.87 928.495,1021.28 934.703,1036.99 937.808,1048.55 940.912,1064.99 942.464,1076.51 944.016,1092.22 944.792,1102.76 \n",
       "  945.568,1116.45 946.344,1135.91 947.12,1169.37 947.896,1411.23 948.672,1169.28 949.449,1134.65 950.225,1114.27 951.777,1088.33 953.329,1070.97 956.433,1047.14 \n",
       "  959.537,1030.28 965.746,1006.05 971.955,988.153 986.341,957.64 1000.73,934.535 1015.11,915.212 1029.5,898.188 1058.27,868.347 1087.05,841.947 1138.19,799.834 \n",
       "  1189.33,761.354 1234.17,729.453 1279.02,698.734 1376.8,634.491 1475.17,572.323 1583.93,505.374 1687.41,442.82 1795,378.587 1885.57,324.97 1996.15,259.91 \n",
       "  2100.1,199.04 2266.63,101.895 2292.26,86.9719 \n",
       "  \"/>\n",
       "</svg>\n"
      ]
     },
     "execution_count": 34,
     "metadata": {},
     "output_type": "execute_result"
    }
   ],
   "source": [
    "plot(f, 1.3, 1.4, xlabel=\"\\$x\\$\", ylabel=\"\\$f\\\\,(x)\\$\", linewidth =2, legend = false)"
   ]
  },
  {
   "cell_type": "markdown",
   "metadata": {},
   "source": [
    "### 区間幅の抑制のための工夫\n",
    "\n",
    "1. **区間分割**\n",
    "$$\n",
    "\t\\boldsymbol{I}=\\boldsymbol{I}_1\\cup\\boldsymbol{I}_2\n",
    "$$\n",
    "と考えて，$f_{[\\,]}(\\boldsymbol{I}_1)\\cup f_{[\\,]}(\\boldsymbol{I}_2)$を計算する．\n",
    "\n",
    "1. **平均値形式**  \n",
    "区間拡張$f_{[\\,]}(\\boldsymbol{I})$を\n",
    "$$\n",
    "\tf_{[\\,]}(\\boldsymbol{I})=f(c)+f'_{[\\,]}(\\boldsymbol{I})(\\boldsymbol{I}-c),~c=\\mathrm{mid}(\\boldsymbol{I})\n",
    "$$\n",
    "によって得る．ただし$f'_{[\\,]}(\\boldsymbol{I})$は区間$\\boldsymbol{I}$における$f$の1階微分の区間拡張．\n",
    "\n"
   ]
  },
  {
   "cell_type": "markdown",
   "metadata": {
    "collapsed": true
   },
   "source": [
    "## 機械区間演算\n",
    "\n",
    "区間演算をコンピュータで実現するには$\\mathbb{R}$の代わりに$\\mathbb{F}$を使った区間が必要．そのような区間全体を\n",
    "\n",
    "$$\n",
    "\t\\mathbb{IF}:=\\{\\boldsymbol{x}\\in\\mathbb{IR}: \\underline{x},~\\overline{x}\\in\\mathbb{F}\\}\n",
    "$$\n",
    "\n",
    "と定義する．IEEE754規格に準拠したシステム上では演算後の丸めの向きを制御することができる．\n",
    "演算結果が浮動小数点数でない場合，丸めの向きを制御して計算する．\n",
    "いま$a,b\\in\\mathbb{F}$に対して，$\\circ\\in\\{+,-,\\times,\\div\\}$として\n",
    "\n",
    "\\begin{align*}\n",
    "\t\\mathtt{fl}_{\\bigtriangledown}\\!\\left(a\\circ b\\right)&:=\\max\\{x\\in\\mathbb{F}:x\\le a\\circ b\\}\\mbox{（下向き丸め）}\\\\\n",
    "\t\\mathtt{fl}_{\\bigtriangleup}\\!\\left(a\\circ b\\right)&:=\\min\\{x\\in\\mathbb{F}:x\\ge a\\circ b\\}\\mbox{（上向き丸め）}\n",
    "\\end{align*}\n",
    "\n",
    "とすると\n",
    "\n",
    "$$\n",
    "\t\\mathtt{fl}_{\\bigtriangledown}\\!\\left(a\\circ b\\right)\\le a\\circ b\\le\\mathtt{fl}_{\\bigtriangleup}\\!\\left(a\\circ b\\right)\n",
    "$$\n",
    "\n",
    "が成立する．\n",
    "\n",
    "$\\boldsymbol{X}=[a,b]$, $\\boldsymbol{Y}=[c,d]$ ($a,b,c,d\\in\\mathbb{F}$)に対して，機械区間演算は次のように実現できる．\n",
    "\n",
    "\\begin{align*}\n",
    "\t\\boldsymbol{X}+\\boldsymbol{Y}&=[\\mathtt{fl}_{\\bigtriangledown}\\!\\left(a+c\\right),\\mathtt{fl}_{\\bigtriangleup}\\!\\left(b+d\\right)]\\\\\n",
    "\t\\boldsymbol{X}-\\boldsymbol{Y}&=[\\mathtt{fl}_{\\bigtriangledown}\\!\\left(a-d\\right),\\mathtt{fl}_{\\bigtriangleup}\\!\\left(b-c\\right)]\\\\\n",
    "\t\\boldsymbol{X}\\times\\boldsymbol{Y}&=[\\mathtt{fl}_{\\bigtriangledown}\\!\\left(\\min\\{ac,ad,bc,bd\\}\\right),\\mathtt{fl}_{\\bigtriangleup}\\!\\left(\\max\\{ac,ad,bc,bd\\}\\right)]\\\\\n",
    "\t\\boldsymbol{X}\\div\\boldsymbol{Y}&=[\\mathtt{fl}_{\\bigtriangledown}\\!\\left(\\min\\{a/c,a/d,b/c,b/d\\}\\right),\\mathtt{fl}_{\\bigtriangleup}\\!\\left(\\max\\{a/c,a/d,b/c,b/d\\}\\right)]\n",
    "\\end{align*}\n",
    "\n",
    "\n",
    "|$\\boldsymbol{X}\\times\\boldsymbol{Y}$|$c>0$|$0\\in\\boldsymbol{Y}$|$d<0$|\n",
    "|:-------------:|:-------------:|:-------------:|:-------------:|\n",
    "|$a>0$|$[\\mathtt{fl}_{\\bigtriangledown}\\!\\left(ac\\right),\\mathtt{fl}_{\\bigtriangleup}\\!\\left(bd\\right)]$|$[\\mathtt{fl}_{\\bigtriangledown}\\!\\left(bc\\right),\\mathtt{fl}_{\\bigtriangleup}\\!\\left(bd\\right)]$|$[\\mathtt{fl}_{\\bigtriangledown}\\!\\left(bc\\right),\\mathtt{fl}_{\\bigtriangleup}\\!\\left(ad\\right)]$|\n",
    "|$0\\in\\boldsymbol{X}$|$[\\mathtt{fl}_{\\bigtriangledown}\\!\\left(ad\\right),\\mathtt{fl}_{\\bigtriangleup}\\!\\left(bd\\right)]$|$B$|$[\\mathtt{fl}_{\\bigtriangledown}\\!\\left(bc\\right),\\mathtt{fl}_{\\bigtriangleup}\\!\\left(ac\\right)]$|\n",
    "|$b<0$|$[\\mathtt{fl}_{\\bigtriangledown}\\!\\left(ad\\right),\\mathtt{fl}_{\\bigtriangleup}\\!\\left(bc\\right)]$|$[\\mathtt{fl}_{\\bigtriangledown}\\!\\left(ad\\right),\\mathtt{fl}_{\\bigtriangleup}\\!\\left(ad\\right)]$|$[\\mathtt{fl}_{\\bigtriangledown}\\!\\left(bd\\right),\\mathtt{fl}_{\\bigtriangleup}\\!\\left(ac\\right)]$|\n",
    "\n",
    "ただし $B=[\\min\\{\\mathtt{fl}_{\\bigtriangledown}\\!\\left(ad\\right),\\mathtt{fl}_{\\bigtriangledown}\\!\\left(bc\\right)\\},\\max\\{\\mathtt{fl}_{\\bigtriangleup}\\!\\left(ad\\right),\\mathtt{fl}_{\\bigtriangleup}\\!\\left(bc\\right)\\}].$"
   ]
  },
  {
   "cell_type": "markdown",
   "metadata": {},
   "source": [
    "## ベクトル・行列の区間演算\n",
    "\n",
    "上で述べた丸めの向きを制御することにより，ベクトル $x,y\\in\\mathbb{F}^n$ の内積 $x^Ty$，行列 $A, B\\in\\mathbb{F}^n$ の積，あるいは，ベクトル行列積 $Ax$ の結果を区間で厳密に包含することができる．\n",
    "\n",
    "$$\n",
    "\t\\mathtt{fl}_{\\bigtriangledown}\\!\\left(x^Ty\\right)\\le x^Ty\\le\\mathtt{fl}_{\\bigtriangleup}\\!\\left(x^Ty\\right)\n",
    "$$\n",
    "\n",
    "$$\n",
    "\t\\mathtt{fl}_{\\bigtriangledown}\\!\\left(Ax\\right)\\le Ax\\le\\mathtt{fl}_{\\bigtriangleup}\\!\\left(Ax\\right)\n",
    "$$\n",
    "\n",
    "$$\n",
    "\t\\mathtt{fl}_{\\bigtriangledown}\\!\\left(AB\\right)\\le AB\\le\\mathtt{fl}_{\\bigtriangleup}\\!\\left(AB\\right)\n",
    "$$\n",
    "\n",
    "このようにすると丸め方向の制御で区間演算が容易にできる．しかし，行列ベクトル積，行列積を高速に実装することは職人芸のレベルの難しさである（例えば，キャシュサイズをみて最適なブロック分割などを行う）．そのため通常は数値計算ライブラリを利用するのが主流である．\n",
    "\n",
    "**注意**　Juliaでは現状、丸め方向の制御ができない。従って、上で紹介しているような区間演算ができない（と思う）。丸め方向を指定してBLASを使った区間演算とかはできない模様（本当？）。現状は各演算を区間演算にした演算が以下のようにできている。"
   ]
  },
  {
   "cell_type": "markdown",
   "metadata": {},
   "source": [
    "### 謝辞\n",
    "\n",
    "本資料は教員が学生の頃に精度保証付き数値計算の諸論を教えて下さった[柏木雅英](http://www.kashi.info.waseda.ac.jp/~kashi/)先生の「数値解析特論」の講義資料が基になっています.\n",
    "また, 以下のような文献・Web ページ等を参考にこの文章は書いています.\n",
    "\n",
    "### 参考文献\n",
    "\n",
    "1. 伊理正夫, 藤野和建, 数値計算の常識, 共立出版, 1985.<br>\n",
    "(Twitterとかでも度々話題に上がる名著. IEEE754 の制定の年にすでに浮動小数点数に対する注意が詰まっている書籍が出版されている. 桁落ち, 情報落ちなどの誤差に詳しい)\n",
    "1. 齊藤宣一, 数値解析入門, 東京大学出版会, 2012.<br>\n",
    "(数値解析学の現在最も詳しい教科書)\n",
    "1. 大石進一編著, 精度保証付き数値計算の基礎, コロナ社, 2018.<br>\n",
    "(精度保証付き数値計算の教科書. 浮動小数点数および区間演算に詳しい. この1章が読めたら大したもの)\n",
    "1. [ushiostarfish, IEEE 754 浮動小数点入門.](https://ushiostarfish.hatenablog.com/entry/2019/08/12/210023)<br>\n",
    "(IEEE 754 浮動小数点数を細かく紹介し, 丸め誤差の詳細, および区間演算について触れている)\n",
    "1. Nick Higham, [What Is Floating-Point Arithmetic](https://nhigham.com/2020/05/04/what-is-floating-point-arithmetic/)/[IEEE Standard Arithmetic](https://nhigham.com/2020/05/07/what-is-ieee-standard-arithmetic/).<br>\n",
    "(数値解析の超有名人によるブログ記事, (IEEE754/854)浮動小数点数について端的にまとめられている)\n",
    "1. Nick Higham, [What Is Rounding?](https://nhigham.com/2020/04/28/what-is-rounding/).<br>\n",
    "    (数値解析の超有名人によるブログ記事, 丸めについて端的にまとめられている)\n",
    "1. [Calculating with sets: Interval methods in Julia](https://github.com/dpsanders/IntervalsJuliaCon2020).<br>\n",
    "(Juliaで区間演算をするJuliaCon2020のチュートリアル資料、[動画](https://youtu.be/LAuRCy9jUU8)も公開されている)\n",
    "1. [IntervalArithmetic.jl: Basic usage](https://github.com/JuliaIntervals/IntervalArithmetic.jl/blob/master/docs/src/usage.md).<br>\n",
    "(IntervalArithmetic.jlの区間演算の説明ページ)\n",
    "1. matsueushi, [デフォルトの丸めモードで上付き丸め、下付き丸めをエミュレートする(Julia)](https://matsueushi.github.io/posts/rounding-emulator/).<br>\n",
    "(IntervalArithmetic.jlの丸め変更はこれを使用しているようです)\n",
    "1. matsueushi, [Juliaで丸めモードを指定して浮動小数点数の計算をする(したい)](https://matsueushi.github.io/posts/julia-rounding/).<br>\n",
    "(丸めモードの指定ができない！？最近点丸めだけで区間演算しないといけないのか...)"
   ]
  }
 ],
 "metadata": {
  "kernelspec": {
   "display_name": "Julia 1.6.0",
   "language": "julia",
   "name": "julia-1.6"
  },
  "language_info": {
   "file_extension": ".jl",
   "mimetype": "application/julia",
   "name": "julia",
   "version": "1.6.0"
  }
 },
 "nbformat": 4,
 "nbformat_minor": 1
}
